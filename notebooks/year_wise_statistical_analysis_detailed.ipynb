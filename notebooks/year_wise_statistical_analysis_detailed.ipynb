{
 "cells": [
  {
   "cell_type": "markdown",
   "metadata": {},
   "source": [
    "# Understanding Year-by-Year Changes in Student Performance\n",
    "## A Visual and Statistical Journey Through FC Implementation (2021-2023)\n",
    "\n",
    "### 📚 What is this notebook about?\n",
    "\n",
    "This notebook examines how student performance in IT Service Management changed over three years of Flipped Classroom (FC) implementation. We'll use statistical tests to determine if changes are real or just random variation.\n",
    "\n",
    "### 🎯 Key Questions We're Answering:\n",
    "1. Did student performance improve over the years?\n",
    "2. Which aspects of learning showed the most significant changes?\n",
    "3. Are the improvements statistically meaningful or just coincidence?"
   ]
  },
  {
   "cell_type": "code",
   "execution_count": 1,
   "metadata": {},
   "outputs": [
    {
     "name": "stdout",
     "output_type": "stream",
     "text": [
      "✅ Libraries loaded successfully!\n"
     ]
    }
   ],
   "source": [
    "# Import necessary libraries\n",
    "import pandas as pd\n",
    "import numpy as np\n",
    "import matplotlib.pyplot as plt\n",
    "import seaborn as sns\n",
    "import plotly.express as px\n",
    "import plotly.graph_objects as go\n",
    "from plotly.subplots import make_subplots\n",
    "import scipy.stats as stats\n",
    "from scipy.stats import f_oneway, kruskal, mannwhitneyu, ttest_ind\n",
    "import warnings\n",
    "from pathlib import Path\n",
    "\n",
    "# Set display options\n",
    "pd.set_option('display.max_columns', None)\n",
    "warnings.filterwarnings('ignore')\n",
    "\n",
    "# Set style for better-looking plots\n",
    "sns.set_style('whitegrid')\n",
    "plt.rcParams['figure.figsize'] = (14, 8)\n",
    "plt.rcParams['font.size'] = 12\n",
    "\n",
    "print(\"✅ Libraries loaded successfully!\")"
   ]
  },
  {
   "cell_type": "markdown",
   "metadata": {},
   "source": [
    "## 1. Loading and Preparing the Data\n",
    "\n",
    "First, we'll load the student performance data from three academic years (2021, 2022, 2023)."
   ]
  },
  {
   "cell_type": "code",
   "execution_count": 2,
   "metadata": {},
   "outputs": [
    {
     "name": "stdout",
     "output_type": "stream",
     "text": [
      "✅ Data loaded successfully!\n",
      "📊 Dataset contains 147 students from 3 academic years\n",
      "\n",
      "Years included: [np.int64(2021), np.int64(2022), np.int64(2023)]\n",
      "\n",
      "📈 Students per year:\n",
      "  • 2021: 45 students\n",
      "  • 2022: 49 students\n",
      "  • 2023: 53 students\n"
     ]
    }
   ],
   "source": [
    "# Load the cleaned data\n",
    "data_dir = Path('../data')\n",
    "cleaned_file = data_dir / '2025_09_02_FC_K_A_cleaned.csv'\n",
    "\n",
    "# Check if cleaned data exists\n",
    "if not cleaned_file.exists():\n",
    "    print(f\"❌ Cleaned data file not found at {cleaned_file}\")\n",
    "    print(\"Please run the data cleaning notebook first.\")\n",
    "else:\n",
    "    df = pd.read_csv(cleaned_file)\n",
    "    print(f\"✅ Data loaded successfully!\")\n",
    "    print(f\"📊 Dataset contains {len(df)} students from {df['academic_year'].nunique()} academic years\")\n",
    "    print(f\"\\nYears included: {sorted(df['academic_year'].unique())}\")\n",
    "    \n",
    "    # Basic data overview\n",
    "    print(f\"\\n📈 Students per year:\")\n",
    "    for year in sorted(df['academic_year'].unique()):\n",
    "        count = len(df[df['academic_year'] == year])\n",
    "        print(f\"  • {year}: {count} students\")"
   ]
  },
  {
   "cell_type": "markdown",
   "metadata": {},
   "source": [
    "## 2. Understanding Statistical Tests\n",
    "\n",
    "### 🤔 What are Statistical Tests?\n",
    "\n",
    "Statistical tests help us determine if differences we see in data are **real** or just **random chance**.\n",
    "\n",
    "Think of it like this:\n",
    "- If you flip a coin 10 times and get 6 heads, is the coin unfair? Probably not - that's just random variation.\n",
    "- If you flip it 1000 times and get 600 heads, is the coin unfair? Much more likely!\n",
    "\n",
    "### 📊 Tests We'll Use:\n",
    "\n",
    "1. **ANOVA (Analysis of Variance)**\n",
    "   - **What it does**: Compares averages across multiple groups (our 3 years)\n",
    "   - **When to use**: When data follows a normal bell curve\n",
    "   - **Real-world analogy**: Like comparing average heights of students from different schools\n",
    "\n",
    "2. **Kruskal-Wallis Test**\n",
    "   - **What it does**: Same as ANOVA but doesn't require normal distribution\n",
    "   - **When to use**: When data is skewed or has outliers\n",
    "   - **Real-world analogy**: Like comparing median house prices across neighborhoods\n",
    "\n",
    "### 🎯 What is \"Statistical Significance\"?\n",
    "\n",
    "- **p-value < 0.05**: The difference is probably real (less than 5% chance it's random)\n",
    "- **p-value ≥ 0.05**: The difference might just be random variation\n",
    "\n",
    "Think of p-value as the probability that we're wrong when we say \"there's a difference.\"\n",
    "- p = 0.01 means 1% chance we're wrong (very confident!)\n",
    "- p = 0.40 means 40% chance we're wrong (not confident at all!)"
   ]
  },
  {
   "cell_type": "code",
   "execution_count": 3,
   "metadata": {},
   "outputs": [
    {
     "name": "stdout",
     "output_type": "stream",
     "text": [
      "📚 Variables We're Analyzing:\n",
      "\n",
      "\n",
      "🎯 Student Engagement:\n",
      "  ✓ test_completion_rate: How many tests students attempted\n",
      "  ✓ avg_success_rate_per_test: Average score on attempted tests\n",
      "\n",
      "🎯 Academic Performance:\n",
      "  ✓ final_grade: Final course grade (1-5 scale)\n",
      "  ✓ fc_total_points: Total points earned (0-100 scale)\n",
      "  ✓ percentage_points: Percentage of maximum points\n",
      "\n",
      "🎯 Assessment Components:\n",
      "  ✓ presentation_points: Presentation score (max 10)\n",
      "  ✓ defense_points: Defense score (max 30)\n",
      "  ✓ exam_k2: Midterm exam score (max 25)\n",
      "  ✓ exam_k3: Final exam score (max 25)\n"
     ]
    }
   ],
   "source": [
    "# Define the key variables we'll analyze\n",
    "key_variables = {\n",
    "    'Student Engagement': [\n",
    "        ('test_completion_rate', 'How many tests students attempted'),\n",
    "        ('avg_success_rate_per_test', 'Average score on attempted tests')\n",
    "    ],\n",
    "    'Academic Performance': [\n",
    "        ('final_grade', 'Final course grade (1-5 scale)'),\n",
    "        ('fc_total_points', 'Total points earned (0-100 scale)'),\n",
    "        ('percentage_points', 'Percentage of maximum points')\n",
    "    ],\n",
    "    'Assessment Components': [\n",
    "        ('presentation_points', 'Presentation score (max 10)'),\n",
    "        ('defense_points', 'Defense score (max 30)'),\n",
    "        ('exam_k2', 'Midterm exam score (max 25)'),\n",
    "        ('exam_k3', 'Final exam score (max 25)')\n",
    "    ]\n",
    "}\n",
    "\n",
    "# Create a simple visualization of what we're analyzing\n",
    "print(\"📚 Variables We're Analyzing:\\n\")\n",
    "for category, variables in key_variables.items():\n",
    "    print(f\"\\n🎯 {category}:\")\n",
    "    for var_name, description in variables:\n",
    "        if var_name in df.columns:\n",
    "            print(f\"  ✓ {var_name}: {description}\")\n",
    "        else:\n",
    "            print(f\"  ✗ {var_name}: {description} [NOT AVAILABLE]\")"
   ]
  },
  {
   "cell_type": "markdown",
   "metadata": {},
   "source": [
    "## 3. Visual Overview: How Did Performance Change Over Years?\n",
    "\n",
    "Let's start with simple visualizations to see the trends before diving into statistical tests."
   ]
  },
  {
   "cell_type": "code",
   "execution_count": 4,
   "metadata": {},
   "outputs": [
    {
     "name": "stdout",
     "output_type": "stream",
     "text": [
      "================================================================================\n",
      "📊 VISUAL ANALYSIS OF YEAR-WISE PERFORMANCE CHANGES\n",
      "================================================================================\n",
      "\n",
      "Each plot shows the same data in different ways:\n",
      "• Box Plot: Shows the median (middle line), quartiles (box), and outliers\n",
      "• Violin Plot: Shows how data is distributed (wider = more students at that score)\n",
      "• Mean Plot: Shows average trend over years with variability\n",
      "\n",
      "Let's examine each variable:\n",
      "\n"
     ]
    },
    {
     "data": {
      "application/vnd.plotly.v1+json": {
       "config": {
        "plotlyServerURL": "https://plot.ly"
       },
       "data": [
        {
         "boxmean": "sd",
         "boxpoints": "outliers",
         "hovertemplate": "Year 2021<br>Value: %{y:.2f}<extra></extra>",
         "jitter": 0.3,
         "legendgroup": "2021",
         "marker": {
          "color": "#FF6B6B"
         },
         "name": "Year 2021",
         "pointpos": -1.8,
         "showlegend": true,
         "type": "box",
         "xaxis": "x",
         "y": {
          "bdata": "mpmZmZmZ6T8zMzMzMzPjP83MzMzMzOw/AAAAAAAA4D8AAAAAAADwP5qZmZmZmek/MzMzMzMz4z+amZmZmZnJP5qZmZmZmek/MzMzMzMz0z+amZmZmZnpP5qZmZmZmek/zczMzMzM7D8AAAAAAAAAAJqZmZmZmek/mpmZmZmZ2T+amZmZmZnpPwAAAAAAAOA/MzMzMzMz0z9mZmZmZmbmPzMzMzMzM9M/ZmZmZmZm5j8AAAAAAADwPzMzMzMzM+M/ZmZmZmZm5j8zMzMzMzPTP2ZmZmZmZuY/mpmZmZmZyT8AAAAAAAAAAJqZmZmZmck/AAAAAAAA8D+amZmZmZnpP5qZmZmZmek/AAAAAAAA8D8AAAAAAADgPwAAAAAAAPA/MzMzMzMz4z+amZmZmZm5P5qZmZmZmck/ZmZmZmZm5j8AAAAAAAAAADMzMzMzM+M/zczMzMzM7D+amZmZmZnpPwAAAAAAAPA/",
          "dtype": "f8"
         },
         "yaxis": "y"
        },
        {
         "boxmean": "sd",
         "boxpoints": "outliers",
         "hovertemplate": "Year 2022<br>Value: %{y:.2f}<extra></extra>",
         "jitter": 0.3,
         "legendgroup": "2022",
         "marker": {
          "color": "#4ECDC4"
         },
         "name": "Year 2022",
         "pointpos": -1.8,
         "showlegend": true,
         "type": "box",
         "xaxis": "x",
         "y": {
          "bdata": "MzMzMzMz0z8AAAAAAADwPwAAAAAAAPA/AAAAAAAA8D8AAAAAAADwP2ZmZmZmZuY/AAAAAAAA8D8AAAAAAADwP5qZmZmZmbk/AAAAAAAA8D8AAAAAAADwPwAAAAAAAPA/AAAAAAAA8D8AAAAAAADwP5qZmZmZmek/AAAAAAAA8D8AAAAAAADwPzMzMzMzM9M/ZmZmZmZm5j8AAAAAAADwPwAAAAAAAPA/zczMzMzM7D/NzMzMzMzsPwAAAAAAAPA/mpmZmZmZ6T/NzMzMzMzsPwAAAAAAAPA/mpmZmZmZ6T8AAAAAAADwPwAAAAAAAPA/zczMzMzM7D+amZmZmZnpP2ZmZmZmZuY/AAAAAAAA8D8zMzMzMzPjPzMzMzMzM9M/zczMzMzM7D8AAAAAAADgP83MzMzMzOw/zczMzMzM7D/NzMzMzMzsPwAAAAAAAPA/mpmZmZmZ6T8AAAAAAADwP5qZmZmZmck/ZmZmZmZm5j/NzMzMzMzsP5qZmZmZmdk/mpmZmZmZ6T8=",
          "dtype": "f8"
         },
         "yaxis": "y"
        },
        {
         "boxmean": "sd",
         "boxpoints": "outliers",
         "hovertemplate": "Year 2023<br>Value: %{y:.2f}<extra></extra>",
         "jitter": 0.3,
         "legendgroup": "2023",
         "marker": {
          "color": "#45B7D1"
         },
         "name": "Year 2023",
         "pointpos": -1.8,
         "showlegend": true,
         "type": "box",
         "xaxis": "x",
         "y": {
          "bdata": "mpmZmZmZ6T8AAAAAAADwPwAAAAAAAPA/mpmZmZmZ6T8AAAAAAADwP83MzMzMzOw/zczMzMzM7D/NzMzMzMzsP83MzMzMzOw/zczMzMzM7D9mZmZmZmbmP2ZmZmZmZuY/zczMzMzM7D+amZmZmZnZPwAAAAAAAPA/AAAAAAAA8D/NzMzMzMzsP5qZmZmZmek/AAAAAAAA8D+amZmZmZnpP83MzMzMzOw/AAAAAAAA8D8AAAAAAADwP83MzMzMzOw/mpmZmZmZ6T9mZmZmZmbmP5qZmZmZmek/AAAAAAAA8D+amZmZmZnpPwAAAAAAAPA/AAAAAAAA8D8AAAAAAADwP2ZmZmZmZuY/zczMzMzM7D8AAAAAAADwPwAAAAAAAPA/AAAAAAAA8D8zMzMzMzPjP5qZmZmZmek/AAAAAAAA8D8AAAAAAADwP83MzMzMzOw/mpmZmZmZ6T8AAAAAAADwP2ZmZmZmZuY/AAAAAAAA8D+amZmZmZnpPwAAAAAAAPA/AAAAAAAA8D8AAAAAAADwPzMzMzMzM+M/AAAAAAAA8D/NzMzMzMzsPw==",
          "dtype": "f8"
         },
         "yaxis": "y"
        },
        {
         "box": {
          "visible": true
         },
         "hovertemplate": "Year 2021<br>Value: %{y:.2f}<extra></extra>",
         "legendgroup": "2021",
         "marker": {
          "color": "#FF6B6B"
         },
         "meanline": {
          "visible": true
         },
         "name": "Year 2021",
         "opacity": 0.7,
         "showlegend": false,
         "type": "violin",
         "xaxis": "x2",
         "y": {
          "bdata": "mpmZmZmZ6T8zMzMzMzPjP83MzMzMzOw/AAAAAAAA4D8AAAAAAADwP5qZmZmZmek/MzMzMzMz4z+amZmZmZnJP5qZmZmZmek/MzMzMzMz0z+amZmZmZnpP5qZmZmZmek/zczMzMzM7D8AAAAAAAAAAJqZmZmZmek/mpmZmZmZ2T+amZmZmZnpPwAAAAAAAOA/MzMzMzMz0z9mZmZmZmbmPzMzMzMzM9M/ZmZmZmZm5j8AAAAAAADwPzMzMzMzM+M/ZmZmZmZm5j8zMzMzMzPTP2ZmZmZmZuY/mpmZmZmZyT8AAAAAAAAAAJqZmZmZmck/AAAAAAAA8D+amZmZmZnpP5qZmZmZmek/AAAAAAAA8D8AAAAAAADgPwAAAAAAAPA/MzMzMzMz4z+amZmZmZm5P5qZmZmZmck/ZmZmZmZm5j8AAAAAAAAAADMzMzMzM+M/zczMzMzM7D+amZmZmZnpPwAAAAAAAPA/",
          "dtype": "f8"
         },
         "yaxis": "y2"
        },
        {
         "box": {
          "visible": true
         },
         "hovertemplate": "Year 2022<br>Value: %{y:.2f}<extra></extra>",
         "legendgroup": "2022",
         "marker": {
          "color": "#4ECDC4"
         },
         "meanline": {
          "visible": true
         },
         "name": "Year 2022",
         "opacity": 0.7,
         "showlegend": false,
         "type": "violin",
         "xaxis": "x2",
         "y": {
          "bdata": "MzMzMzMz0z8AAAAAAADwPwAAAAAAAPA/AAAAAAAA8D8AAAAAAADwP2ZmZmZmZuY/AAAAAAAA8D8AAAAAAADwP5qZmZmZmbk/AAAAAAAA8D8AAAAAAADwPwAAAAAAAPA/AAAAAAAA8D8AAAAAAADwP5qZmZmZmek/AAAAAAAA8D8AAAAAAADwPzMzMzMzM9M/ZmZmZmZm5j8AAAAAAADwPwAAAAAAAPA/zczMzMzM7D/NzMzMzMzsPwAAAAAAAPA/mpmZmZmZ6T/NzMzMzMzsPwAAAAAAAPA/mpmZmZmZ6T8AAAAAAADwPwAAAAAAAPA/zczMzMzM7D+amZmZmZnpP2ZmZmZmZuY/AAAAAAAA8D8zMzMzMzPjPzMzMzMzM9M/zczMzMzM7D8AAAAAAADgP83MzMzMzOw/zczMzMzM7D/NzMzMzMzsPwAAAAAAAPA/mpmZmZmZ6T8AAAAAAADwP5qZmZmZmck/ZmZmZmZm5j/NzMzMzMzsP5qZmZmZmdk/mpmZmZmZ6T8=",
          "dtype": "f8"
         },
         "yaxis": "y2"
        },
        {
         "box": {
          "visible": true
         },
         "hovertemplate": "Year 2023<br>Value: %{y:.2f}<extra></extra>",
         "legendgroup": "2023",
         "marker": {
          "color": "#45B7D1"
         },
         "meanline": {
          "visible": true
         },
         "name": "Year 2023",
         "opacity": 0.7,
         "showlegend": false,
         "type": "violin",
         "xaxis": "x2",
         "y": {
          "bdata": "mpmZmZmZ6T8AAAAAAADwPwAAAAAAAPA/mpmZmZmZ6T8AAAAAAADwP83MzMzMzOw/zczMzMzM7D/NzMzMzMzsP83MzMzMzOw/zczMzMzM7D9mZmZmZmbmP2ZmZmZmZuY/zczMzMzM7D+amZmZmZnZPwAAAAAAAPA/AAAAAAAA8D/NzMzMzMzsP5qZmZmZmek/AAAAAAAA8D+amZmZmZnpP83MzMzMzOw/AAAAAAAA8D8AAAAAAADwP83MzMzMzOw/mpmZmZmZ6T9mZmZmZmbmP5qZmZmZmek/AAAAAAAA8D+amZmZmZnpPwAAAAAAAPA/AAAAAAAA8D8AAAAAAADwP2ZmZmZmZuY/zczMzMzM7D8AAAAAAADwPwAAAAAAAPA/AAAAAAAA8D8zMzMzMzPjP5qZmZmZmek/AAAAAAAA8D8AAAAAAADwP83MzMzMzOw/mpmZmZmZ6T8AAAAAAADwP2ZmZmZmZuY/AAAAAAAA8D+amZmZmZnpPwAAAAAAAPA/AAAAAAAA8D8AAAAAAADwPzMzMzMzM+M/AAAAAAAA8D/NzMzMzMzsPw==",
          "dtype": "f8"
         },
         "yaxis": "y2"
        },
        {
         "error_y": {
          "array": [
           0.3044783583558455,
           0.24454942602408103,
           0.13501599109720064
          ],
          "color": "rgba(0,0,0,0.3)",
          "type": "data",
          "visible": true
         },
         "hovertemplate": "Year: %{x}<br>Mean: %{y:.2f}<br>Std: %{error_y.array:.2f}<extra></extra>",
         "line": {
          "color": "#FF6B6B",
          "width": 2
         },
         "marker": {
          "color": "#FF6B6B",
          "size": 12
         },
         "mode": "lines+markers",
         "name": "Mean ± Std Dev",
         "showlegend": false,
         "type": "scatter",
         "x": [
          2021,
          2022,
          2023
         ],
         "xaxis": "x3",
         "y": [
          0.6044444444444445,
          0.8244897959183671,
          0.8849056603773585
         ],
         "yaxis": "y3"
        },
        {
         "hovertemplate": "Year 2021<br>Mean: 0.60<extra></extra>",
         "marker": {
          "color": "#FF6B6B",
          "size": 15
         },
         "mode": "markers+text",
         "showlegend": false,
         "text": [
          "0.60"
         ],
         "textfont": {
          "size": 12
         },
         "textposition": "top center",
         "type": "scatter",
         "x": [
          2021
         ],
         "xaxis": "x3",
         "y": [
          0.6044444444444445
         ],
         "yaxis": "y3"
        },
        {
         "hovertemplate": "Year 2022<br>Mean: 0.82<extra></extra>",
         "marker": {
          "color": "#4ECDC4",
          "size": 15
         },
         "mode": "markers+text",
         "showlegend": false,
         "text": [
          "0.82"
         ],
         "textfont": {
          "size": 12
         },
         "textposition": "top center",
         "type": "scatter",
         "x": [
          2022
         ],
         "xaxis": "x3",
         "y": [
          0.8244897959183671
         ],
         "yaxis": "y3"
        },
        {
         "hovertemplate": "Year 2023<br>Mean: 0.88<extra></extra>",
         "marker": {
          "color": "#45B7D1",
          "size": 15
         },
         "mode": "markers+text",
         "showlegend": false,
         "text": [
          "0.88"
         ],
         "textfont": {
          "size": 12
         },
         "textposition": "top center",
         "type": "scatter",
         "x": [
          2023
         ],
         "xaxis": "x3",
         "y": [
          0.8849056603773585
         ],
         "yaxis": "y3"
        }
       ],
       "layout": {
        "annotations": [
         {
          "font": {
           "size": 16
          },
          "showarrow": false,
          "text": "Box Plot (Shows Range & Average)",
          "x": 0.12666666666666668,
          "xanchor": "center",
          "xref": "paper",
          "y": 1,
          "yanchor": "bottom",
          "yref": "paper"
         },
         {
          "font": {
           "size": 16
          },
          "showarrow": false,
          "text": "Violin Plot (Shows Distribution Shape)",
          "x": 0.5,
          "xanchor": "center",
          "xref": "paper",
          "y": 1,
          "yanchor": "bottom",
          "yref": "paper"
         },
         {
          "font": {
           "size": 16
          },
          "showarrow": false,
          "text": "Mean Values with Error Bars",
          "x": 0.8733333333333333,
          "xanchor": "center",
          "xref": "paper",
          "y": 1,
          "yanchor": "bottom",
          "yref": "paper"
         }
        ],
        "font": {
         "size": 11
        },
        "height": 500,
        "hovermode": "closest",
        "legend": {
         "orientation": "h",
         "x": 1,
         "xanchor": "right",
         "y": 1.02,
         "yanchor": "bottom"
        },
        "showlegend": true,
        "template": {
         "data": {
          "bar": [
           {
            "error_x": {
             "color": "#2a3f5f"
            },
            "error_y": {
             "color": "#2a3f5f"
            },
            "marker": {
             "line": {
              "color": "#E5ECF6",
              "width": 0.5
             },
             "pattern": {
              "fillmode": "overlay",
              "size": 10,
              "solidity": 0.2
             }
            },
            "type": "bar"
           }
          ],
          "barpolar": [
           {
            "marker": {
             "line": {
              "color": "#E5ECF6",
              "width": 0.5
             },
             "pattern": {
              "fillmode": "overlay",
              "size": 10,
              "solidity": 0.2
             }
            },
            "type": "barpolar"
           }
          ],
          "carpet": [
           {
            "aaxis": {
             "endlinecolor": "#2a3f5f",
             "gridcolor": "white",
             "linecolor": "white",
             "minorgridcolor": "white",
             "startlinecolor": "#2a3f5f"
            },
            "baxis": {
             "endlinecolor": "#2a3f5f",
             "gridcolor": "white",
             "linecolor": "white",
             "minorgridcolor": "white",
             "startlinecolor": "#2a3f5f"
            },
            "type": "carpet"
           }
          ],
          "choropleth": [
           {
            "colorbar": {
             "outlinewidth": 0,
             "ticks": ""
            },
            "type": "choropleth"
           }
          ],
          "contour": [
           {
            "colorbar": {
             "outlinewidth": 0,
             "ticks": ""
            },
            "colorscale": [
             [
              0,
              "#0d0887"
             ],
             [
              0.1111111111111111,
              "#46039f"
             ],
             [
              0.2222222222222222,
              "#7201a8"
             ],
             [
              0.3333333333333333,
              "#9c179e"
             ],
             [
              0.4444444444444444,
              "#bd3786"
             ],
             [
              0.5555555555555556,
              "#d8576b"
             ],
             [
              0.6666666666666666,
              "#ed7953"
             ],
             [
              0.7777777777777778,
              "#fb9f3a"
             ],
             [
              0.8888888888888888,
              "#fdca26"
             ],
             [
              1,
              "#f0f921"
             ]
            ],
            "type": "contour"
           }
          ],
          "contourcarpet": [
           {
            "colorbar": {
             "outlinewidth": 0,
             "ticks": ""
            },
            "type": "contourcarpet"
           }
          ],
          "heatmap": [
           {
            "colorbar": {
             "outlinewidth": 0,
             "ticks": ""
            },
            "colorscale": [
             [
              0,
              "#0d0887"
             ],
             [
              0.1111111111111111,
              "#46039f"
             ],
             [
              0.2222222222222222,
              "#7201a8"
             ],
             [
              0.3333333333333333,
              "#9c179e"
             ],
             [
              0.4444444444444444,
              "#bd3786"
             ],
             [
              0.5555555555555556,
              "#d8576b"
             ],
             [
              0.6666666666666666,
              "#ed7953"
             ],
             [
              0.7777777777777778,
              "#fb9f3a"
             ],
             [
              0.8888888888888888,
              "#fdca26"
             ],
             [
              1,
              "#f0f921"
             ]
            ],
            "type": "heatmap"
           }
          ],
          "histogram": [
           {
            "marker": {
             "pattern": {
              "fillmode": "overlay",
              "size": 10,
              "solidity": 0.2
             }
            },
            "type": "histogram"
           }
          ],
          "histogram2d": [
           {
            "colorbar": {
             "outlinewidth": 0,
             "ticks": ""
            },
            "colorscale": [
             [
              0,
              "#0d0887"
             ],
             [
              0.1111111111111111,
              "#46039f"
             ],
             [
              0.2222222222222222,
              "#7201a8"
             ],
             [
              0.3333333333333333,
              "#9c179e"
             ],
             [
              0.4444444444444444,
              "#bd3786"
             ],
             [
              0.5555555555555556,
              "#d8576b"
             ],
             [
              0.6666666666666666,
              "#ed7953"
             ],
             [
              0.7777777777777778,
              "#fb9f3a"
             ],
             [
              0.8888888888888888,
              "#fdca26"
             ],
             [
              1,
              "#f0f921"
             ]
            ],
            "type": "histogram2d"
           }
          ],
          "histogram2dcontour": [
           {
            "colorbar": {
             "outlinewidth": 0,
             "ticks": ""
            },
            "colorscale": [
             [
              0,
              "#0d0887"
             ],
             [
              0.1111111111111111,
              "#46039f"
             ],
             [
              0.2222222222222222,
              "#7201a8"
             ],
             [
              0.3333333333333333,
              "#9c179e"
             ],
             [
              0.4444444444444444,
              "#bd3786"
             ],
             [
              0.5555555555555556,
              "#d8576b"
             ],
             [
              0.6666666666666666,
              "#ed7953"
             ],
             [
              0.7777777777777778,
              "#fb9f3a"
             ],
             [
              0.8888888888888888,
              "#fdca26"
             ],
             [
              1,
              "#f0f921"
             ]
            ],
            "type": "histogram2dcontour"
           }
          ],
          "mesh3d": [
           {
            "colorbar": {
             "outlinewidth": 0,
             "ticks": ""
            },
            "type": "mesh3d"
           }
          ],
          "parcoords": [
           {
            "line": {
             "colorbar": {
              "outlinewidth": 0,
              "ticks": ""
             }
            },
            "type": "parcoords"
           }
          ],
          "pie": [
           {
            "automargin": true,
            "type": "pie"
           }
          ],
          "scatter": [
           {
            "fillpattern": {
             "fillmode": "overlay",
             "size": 10,
             "solidity": 0.2
            },
            "type": "scatter"
           }
          ],
          "scatter3d": [
           {
            "line": {
             "colorbar": {
              "outlinewidth": 0,
              "ticks": ""
             }
            },
            "marker": {
             "colorbar": {
              "outlinewidth": 0,
              "ticks": ""
             }
            },
            "type": "scatter3d"
           }
          ],
          "scattercarpet": [
           {
            "marker": {
             "colorbar": {
              "outlinewidth": 0,
              "ticks": ""
             }
            },
            "type": "scattercarpet"
           }
          ],
          "scattergeo": [
           {
            "marker": {
             "colorbar": {
              "outlinewidth": 0,
              "ticks": ""
             }
            },
            "type": "scattergeo"
           }
          ],
          "scattergl": [
           {
            "marker": {
             "colorbar": {
              "outlinewidth": 0,
              "ticks": ""
             }
            },
            "type": "scattergl"
           }
          ],
          "scattermap": [
           {
            "marker": {
             "colorbar": {
              "outlinewidth": 0,
              "ticks": ""
             }
            },
            "type": "scattermap"
           }
          ],
          "scattermapbox": [
           {
            "marker": {
             "colorbar": {
              "outlinewidth": 0,
              "ticks": ""
             }
            },
            "type": "scattermapbox"
           }
          ],
          "scatterpolar": [
           {
            "marker": {
             "colorbar": {
              "outlinewidth": 0,
              "ticks": ""
             }
            },
            "type": "scatterpolar"
           }
          ],
          "scatterpolargl": [
           {
            "marker": {
             "colorbar": {
              "outlinewidth": 0,
              "ticks": ""
             }
            },
            "type": "scatterpolargl"
           }
          ],
          "scatterternary": [
           {
            "marker": {
             "colorbar": {
              "outlinewidth": 0,
              "ticks": ""
             }
            },
            "type": "scatterternary"
           }
          ],
          "surface": [
           {
            "colorbar": {
             "outlinewidth": 0,
             "ticks": ""
            },
            "colorscale": [
             [
              0,
              "#0d0887"
             ],
             [
              0.1111111111111111,
              "#46039f"
             ],
             [
              0.2222222222222222,
              "#7201a8"
             ],
             [
              0.3333333333333333,
              "#9c179e"
             ],
             [
              0.4444444444444444,
              "#bd3786"
             ],
             [
              0.5555555555555556,
              "#d8576b"
             ],
             [
              0.6666666666666666,
              "#ed7953"
             ],
             [
              0.7777777777777778,
              "#fb9f3a"
             ],
             [
              0.8888888888888888,
              "#fdca26"
             ],
             [
              1,
              "#f0f921"
             ]
            ],
            "type": "surface"
           }
          ],
          "table": [
           {
            "cells": {
             "fill": {
              "color": "#EBF0F8"
             },
             "line": {
              "color": "white"
             }
            },
            "header": {
             "fill": {
              "color": "#C8D4E3"
             },
             "line": {
              "color": "white"
             }
            },
            "type": "table"
           }
          ]
         },
         "layout": {
          "annotationdefaults": {
           "arrowcolor": "#2a3f5f",
           "arrowhead": 0,
           "arrowwidth": 1
          },
          "autotypenumbers": "strict",
          "coloraxis": {
           "colorbar": {
            "outlinewidth": 0,
            "ticks": ""
           }
          },
          "colorscale": {
           "diverging": [
            [
             0,
             "#8e0152"
            ],
            [
             0.1,
             "#c51b7d"
            ],
            [
             0.2,
             "#de77ae"
            ],
            [
             0.3,
             "#f1b6da"
            ],
            [
             0.4,
             "#fde0ef"
            ],
            [
             0.5,
             "#f7f7f7"
            ],
            [
             0.6,
             "#e6f5d0"
            ],
            [
             0.7,
             "#b8e186"
            ],
            [
             0.8,
             "#7fbc41"
            ],
            [
             0.9,
             "#4d9221"
            ],
            [
             1,
             "#276419"
            ]
           ],
           "sequential": [
            [
             0,
             "#0d0887"
            ],
            [
             0.1111111111111111,
             "#46039f"
            ],
            [
             0.2222222222222222,
             "#7201a8"
            ],
            [
             0.3333333333333333,
             "#9c179e"
            ],
            [
             0.4444444444444444,
             "#bd3786"
            ],
            [
             0.5555555555555556,
             "#d8576b"
            ],
            [
             0.6666666666666666,
             "#ed7953"
            ],
            [
             0.7777777777777778,
             "#fb9f3a"
            ],
            [
             0.8888888888888888,
             "#fdca26"
            ],
            [
             1,
             "#f0f921"
            ]
           ],
           "sequentialminus": [
            [
             0,
             "#0d0887"
            ],
            [
             0.1111111111111111,
             "#46039f"
            ],
            [
             0.2222222222222222,
             "#7201a8"
            ],
            [
             0.3333333333333333,
             "#9c179e"
            ],
            [
             0.4444444444444444,
             "#bd3786"
            ],
            [
             0.5555555555555556,
             "#d8576b"
            ],
            [
             0.6666666666666666,
             "#ed7953"
            ],
            [
             0.7777777777777778,
             "#fb9f3a"
            ],
            [
             0.8888888888888888,
             "#fdca26"
            ],
            [
             1,
             "#f0f921"
            ]
           ]
          },
          "colorway": [
           "#636efa",
           "#EF553B",
           "#00cc96",
           "#ab63fa",
           "#FFA15A",
           "#19d3f3",
           "#FF6692",
           "#B6E880",
           "#FF97FF",
           "#FECB52"
          ],
          "font": {
           "color": "#2a3f5f"
          },
          "geo": {
           "bgcolor": "white",
           "lakecolor": "white",
           "landcolor": "#E5ECF6",
           "showlakes": true,
           "showland": true,
           "subunitcolor": "white"
          },
          "hoverlabel": {
           "align": "left"
          },
          "hovermode": "closest",
          "mapbox": {
           "style": "light"
          },
          "paper_bgcolor": "white",
          "plot_bgcolor": "#E5ECF6",
          "polar": {
           "angularaxis": {
            "gridcolor": "white",
            "linecolor": "white",
            "ticks": ""
           },
           "bgcolor": "#E5ECF6",
           "radialaxis": {
            "gridcolor": "white",
            "linecolor": "white",
            "ticks": ""
           }
          },
          "scene": {
           "xaxis": {
            "backgroundcolor": "#E5ECF6",
            "gridcolor": "white",
            "gridwidth": 2,
            "linecolor": "white",
            "showbackground": true,
            "ticks": "",
            "zerolinecolor": "white"
           },
           "yaxis": {
            "backgroundcolor": "#E5ECF6",
            "gridcolor": "white",
            "gridwidth": 2,
            "linecolor": "white",
            "showbackground": true,
            "ticks": "",
            "zerolinecolor": "white"
           },
           "zaxis": {
            "backgroundcolor": "#E5ECF6",
            "gridcolor": "white",
            "gridwidth": 2,
            "linecolor": "white",
            "showbackground": true,
            "ticks": "",
            "zerolinecolor": "white"
           }
          },
          "shapedefaults": {
           "line": {
            "color": "#2a3f5f"
           }
          },
          "ternary": {
           "aaxis": {
            "gridcolor": "white",
            "linecolor": "white",
            "ticks": ""
           },
           "baxis": {
            "gridcolor": "white",
            "linecolor": "white",
            "ticks": ""
           },
           "bgcolor": "#E5ECF6",
           "caxis": {
            "gridcolor": "white",
            "linecolor": "white",
            "ticks": ""
           }
          },
          "title": {
           "x": 0.05
          },
          "xaxis": {
           "automargin": true,
           "gridcolor": "white",
           "linecolor": "white",
           "ticks": "",
           "title": {
            "standoff": 15
           },
           "zerolinecolor": "white",
           "zerolinewidth": 2
          },
          "yaxis": {
           "automargin": true,
           "gridcolor": "white",
           "linecolor": "white",
           "ticks": "",
           "title": {
            "standoff": 15
           },
           "zerolinecolor": "white",
           "zerolinewidth": 2
          }
         }
        },
        "title": {
         "font": {
          "size": 16
         },
         "text": "<b>How many tests students attempted</b><br><sub>Student Engagement - Comparing Years 2021-2023</sub>"
        },
        "xaxis": {
         "anchor": "y",
         "domain": [
          0,
          0.25333333333333335
         ],
         "title": {
          "text": ""
         }
        },
        "xaxis2": {
         "anchor": "y2",
         "domain": [
          0.37333333333333335,
          0.6266666666666667
         ],
         "title": {
          "text": ""
         }
        },
        "xaxis3": {
         "anchor": "y3",
         "domain": [
          0.7466666666666667,
          1
         ],
         "title": {
          "text": "Academic Year"
         }
        },
        "yaxis": {
         "anchor": "x",
         "domain": [
          0,
          1
         ],
         "range": [
          -0.1301792710173908,
          1.1301792710173908
         ],
         "title": {
          "text": "Score"
         }
        },
        "yaxis2": {
         "anchor": "x2",
         "domain": [
          0,
          1
         ],
         "range": [
          -0.1301792710173908,
          1.1301792710173908
         ],
         "title": {
          "text": "Score"
         }
        },
        "yaxis3": {
         "anchor": "x3",
         "domain": [
          0,
          1
         ],
         "range": [
          -0.1301792710173908,
          1.1301792710173908
         ],
         "title": {
          "text": "Score"
         }
        }
       }
      }
     },
     "metadata": {},
     "output_type": "display_data"
    },
    {
     "name": "stdout",
     "output_type": "stream",
     "text": [
      "\n",
      "📊 How many tests students attempted\n",
      "Variable: test_completion_rate\n",
      "------------------------------------------------------------\n",
      " Year  Count Mean Median Std Dev  Min  Max\n",
      " 2021     45 0.60   0.70    0.30 0.00 1.00\n",
      " 2022     49 0.82   0.90    0.24 0.10 1.00\n",
      " 2023     53 0.88   0.90    0.14 0.40 1.00\n",
      "\n",
      "📈 Trend: 2021 → 2023\n",
      "   ↑ Increased by 0.28 (46.4%)\n",
      "\n"
     ]
    },
    {
     "data": {
      "application/vnd.plotly.v1+json": {
       "config": {
        "plotlyServerURL": "https://plot.ly"
       },
       "data": [
        {
         "boxmean": "sd",
         "boxpoints": "outliers",
         "hovertemplate": "Year 2021<br>Value: %{y:.2f}<extra></extra>",
         "jitter": 0.3,
         "legendgroup": "2021",
         "marker": {
          "color": "#FF6B6B"
         },
         "name": "Year 2021",
         "pointpos": -1.8,
         "showlegend": true,
         "type": "box",
         "xaxis": "x",
         "y": {
          "bdata": "pHA9Ctej2j9Vq1cb6LTRP8D/XNlh6sI/TDeJQWDl0D99PzVeuknkP6RwPQrXo9o/tStMVVVV1T8AAAAAAADgP+F6FK5H4do/JepZVVVV5T+kcD0K16PaP6RwPQrXo9I/p2N2oNMG2j8AAAAAAAAAAKRwPQrXo9o/AAAAAAAA4D9cj8L1KFzVP5qZmZmZmck/AAAAAAAAAACX7bAxgoneP7UrTFVVVdU/d2rMMYKJzj91kxgEVg7hP3sUrkfhetw/ZZF127Zt2z+1K0xVVVXVP0W2ldXyxuA/uB6F61G46j8AAAAAAAAAAB+F61G4HsU/8tJNYhBY5T8AAAAAAADYPwAAAAAAANg/SgwCK4cW4T+gGi/dJAbRPwAAAAAAAOA/w/UoXI/C4T8fhetRuB7VP7gehetRuOo/UrgehetR2D8AAAAAAAAAAKD+B5020OE/rkfhehSu1z+kcD0K16PSP6AaL90kBtE/",
          "dtype": "f8"
         },
         "yaxis": "y"
        },
        {
         "boxmean": "sd",
         "boxpoints": "outliers",
         "hovertemplate": "Year 2022<br>Value: %{y:.2f}<extra></extra>",
         "jitter": 0.3,
         "legendgroup": "2022",
         "marker": {
          "color": "#4ECDC4"
         },
         "name": "Year 2022",
         "pointpos": -1.8,
         "showlegend": true,
         "type": "box",
         "xaxis": "x",
         "y": {
          "bdata": "KVyPwvUozD+amZmZmZnpP1g5tMh2vus/+n5qvHST6D8tsp3vp8brP043RZIkSeI/zczMzMzM7D9KDAIrhxbhPx+F61G4HtU/+n5qvHST6D+wcmiR7XznP30/NV66SeQ/fT81XrpJ5D/b+X5qvHTnP65H4XoUruY/x0s3iUFg5T9vEoPAyqHpP3sUrkfheuw/UrgehetR2D+TGARWDi3iP30/NV66SeQ/DE5zHMdx7D8yOM1xHMfhP+Olm8QgsOo/uB6F61G42j8QwKiJZ0XrP/LSTWIQWOU/UrgehetR7T8OLbKd76fqPw4tsp3vp+o/2J7W/iBD1T8AAAAAAADoP24SJZjo7+w/fT81XrpJ5D/AAvDFkl/cPylcj8L1KMw//wSaPumT5j9MN4lBYOXAPy3OxC+W/OI/m5T/WrAF4z+L1FbRSMDnP0Jg5dAi2+0/AAAAAAAA4D/NzMzMzMzsPwAAAAAAAAAAbhIlmOjv7D+Vq/pBhsreP6RwPQrXo+I/uB6F61G44j8=",
          "dtype": "f8"
         },
         "yaxis": "y"
        },
        {
         "boxmean": "sd",
         "boxpoints": "outliers",
         "hovertemplate": "Year 2023<br>Value: %{y:.2f}<extra></extra>",
         "jitter": 0.3,
         "legendgroup": "2023",
         "marker": {
          "color": "#45B7D1"
         },
         "name": "Year 2023",
         "pointpos": -1.8,
         "showlegend": true,
         "type": "box",
         "xaxis": "x",
         "y": {
          "bdata": "AAAAAAAA6D8tsp3vp8brP6JFtvP91Ow/SOF6FK5H3T9YObTIdr7rP5SwlIBvXuU/cjhwmLrc3j+L1FbRSMDnP4Tw6/YHGeo/i9RW0UjA5z/HdgJPVsvjP043RZIkSeI/x+PHs6KR4D+4HoXrUbjiP9v5fmq8dOc/WDm0yHa+6z8QwKiJZ0XrPwAAAAAAANg/+n5qvHST6D8K16NwPQroP4diIWSo7Og/46WbxCCw6j/y0k1iEFjlP5SwlIBvXuU/rkfhehSu4j9ZZN22bdvmP7gehetRuOY/O99PjZdu5j+kcD0K16PaP2ZmZmZmZuY/LbKd76fG2z/NzMzMzMzsP043RZIkSeI/vgeKBHzz4j9mZmZmZmbmP8dLN4lBYOU/ZmZmZmZm5j8YIH1OG+joP+xRuB6F69c/WDm0yHa+6z+wcmiR7XznP/wRYajsMNU/ZmZmZmZm5T++nxov3STiP0C2vwuITdU/LbKd76fG6z9SuB6F61HlP7ByaJHtfOc/46WbxCCw6j+cxCCwcmjlP1WrVxvotNE/kxgEVg4t4j8yOM1xHMfhPw==",
          "dtype": "f8"
         },
         "yaxis": "y"
        },
        {
         "box": {
          "visible": true
         },
         "hovertemplate": "Year 2021<br>Value: %{y:.2f}<extra></extra>",
         "legendgroup": "2021",
         "marker": {
          "color": "#FF6B6B"
         },
         "meanline": {
          "visible": true
         },
         "name": "Year 2021",
         "opacity": 0.7,
         "showlegend": false,
         "type": "violin",
         "xaxis": "x2",
         "y": {
          "bdata": "pHA9Ctej2j9Vq1cb6LTRP8D/XNlh6sI/TDeJQWDl0D99PzVeuknkP6RwPQrXo9o/tStMVVVV1T8AAAAAAADgP+F6FK5H4do/JepZVVVV5T+kcD0K16PaP6RwPQrXo9I/p2N2oNMG2j8AAAAAAAAAAKRwPQrXo9o/AAAAAAAA4D9cj8L1KFzVP5qZmZmZmck/AAAAAAAAAACX7bAxgoneP7UrTFVVVdU/d2rMMYKJzj91kxgEVg7hP3sUrkfhetw/ZZF127Zt2z+1K0xVVVXVP0W2ldXyxuA/uB6F61G46j8AAAAAAAAAAB+F61G4HsU/8tJNYhBY5T8AAAAAAADYPwAAAAAAANg/SgwCK4cW4T+gGi/dJAbRPwAAAAAAAOA/w/UoXI/C4T8fhetRuB7VP7gehetRuOo/UrgehetR2D8AAAAAAAAAAKD+B5020OE/rkfhehSu1z+kcD0K16PSP6AaL90kBtE/",
          "dtype": "f8"
         },
         "yaxis": "y2"
        },
        {
         "box": {
          "visible": true
         },
         "hovertemplate": "Year 2022<br>Value: %{y:.2f}<extra></extra>",
         "legendgroup": "2022",
         "marker": {
          "color": "#4ECDC4"
         },
         "meanline": {
          "visible": true
         },
         "name": "Year 2022",
         "opacity": 0.7,
         "showlegend": false,
         "type": "violin",
         "xaxis": "x2",
         "y": {
          "bdata": "KVyPwvUozD+amZmZmZnpP1g5tMh2vus/+n5qvHST6D8tsp3vp8brP043RZIkSeI/zczMzMzM7D9KDAIrhxbhPx+F61G4HtU/+n5qvHST6D+wcmiR7XznP30/NV66SeQ/fT81XrpJ5D/b+X5qvHTnP65H4XoUruY/x0s3iUFg5T9vEoPAyqHpP3sUrkfheuw/UrgehetR2D+TGARWDi3iP30/NV66SeQ/DE5zHMdx7D8yOM1xHMfhP+Olm8QgsOo/uB6F61G42j8QwKiJZ0XrP/LSTWIQWOU/UrgehetR7T8OLbKd76fqPw4tsp3vp+o/2J7W/iBD1T8AAAAAAADoP24SJZjo7+w/fT81XrpJ5D/AAvDFkl/cPylcj8L1KMw//wSaPumT5j9MN4lBYOXAPy3OxC+W/OI/m5T/WrAF4z+L1FbRSMDnP0Jg5dAi2+0/AAAAAAAA4D/NzMzMzMzsPwAAAAAAAAAAbhIlmOjv7D+Vq/pBhsreP6RwPQrXo+I/uB6F61G44j8=",
          "dtype": "f8"
         },
         "yaxis": "y2"
        },
        {
         "box": {
          "visible": true
         },
         "hovertemplate": "Year 2023<br>Value: %{y:.2f}<extra></extra>",
         "legendgroup": "2023",
         "marker": {
          "color": "#45B7D1"
         },
         "meanline": {
          "visible": true
         },
         "name": "Year 2023",
         "opacity": 0.7,
         "showlegend": false,
         "type": "violin",
         "xaxis": "x2",
         "y": {
          "bdata": "AAAAAAAA6D8tsp3vp8brP6JFtvP91Ow/SOF6FK5H3T9YObTIdr7rP5SwlIBvXuU/cjhwmLrc3j+L1FbRSMDnP4Tw6/YHGeo/i9RW0UjA5z/HdgJPVsvjP043RZIkSeI/x+PHs6KR4D+4HoXrUbjiP9v5fmq8dOc/WDm0yHa+6z8QwKiJZ0XrPwAAAAAAANg/+n5qvHST6D8K16NwPQroP4diIWSo7Og/46WbxCCw6j/y0k1iEFjlP5SwlIBvXuU/rkfhehSu4j9ZZN22bdvmP7gehetRuOY/O99PjZdu5j+kcD0K16PaP2ZmZmZmZuY/LbKd76fG2z/NzMzMzMzsP043RZIkSeI/vgeKBHzz4j9mZmZmZmbmP8dLN4lBYOU/ZmZmZmZm5j8YIH1OG+joP+xRuB6F69c/WDm0yHa+6z+wcmiR7XznP/wRYajsMNU/ZmZmZmZm5T++nxov3STiP0C2vwuITdU/LbKd76fG6z9SuB6F61HlP7ByaJHtfOc/46WbxCCw6j+cxCCwcmjlP1WrVxvotNE/kxgEVg4t4j8yOM1xHMfhPw==",
          "dtype": "f8"
         },
         "yaxis": "y2"
        },
        {
         "error_y": {
          "array": [
           0.1934444967463004,
           0.22383548139644485,
           0.16056864256508596
          ],
          "color": "rgba(0,0,0,0.3)",
          "type": "data",
          "visible": true
         },
         "hovertemplate": "Year: %{x}<br>Mean: %{y:.2f}<br>Std: %{error_y.array:.2f}<extra></extra>",
         "line": {
          "color": "#FF6B6B",
          "width": 2
         },
         "marker": {
          "color": "#FF6B6B",
          "size": 12
         },
         "mode": "lines+markers",
         "name": "Mean ± Std Dev",
         "showlegend": false,
         "type": "scatter",
         "x": [
          2021,
          2022,
          2023
         ],
         "xaxis": "x3",
         "y": [
          0.3834059082911111,
          0.647875283444898,
          0.6621816412113208
         ],
         "yaxis": "y3"
        },
        {
         "hovertemplate": "Year 2021<br>Mean: 0.38<extra></extra>",
         "marker": {
          "color": "#FF6B6B",
          "size": 15
         },
         "mode": "markers+text",
         "showlegend": false,
         "text": [
          "0.38"
         ],
         "textfont": {
          "size": 12
         },
         "textposition": "top center",
         "type": "scatter",
         "x": [
          2021
         ],
         "xaxis": "x3",
         "y": [
          0.3834059082911111
         ],
         "yaxis": "y3"
        },
        {
         "hovertemplate": "Year 2022<br>Mean: 0.65<extra></extra>",
         "marker": {
          "color": "#4ECDC4",
          "size": 15
         },
         "mode": "markers+text",
         "showlegend": false,
         "text": [
          "0.65"
         ],
         "textfont": {
          "size": 12
         },
         "textposition": "top center",
         "type": "scatter",
         "x": [
          2022
         ],
         "xaxis": "x3",
         "y": [
          0.647875283444898
         ],
         "yaxis": "y3"
        },
        {
         "hovertemplate": "Year 2023<br>Mean: 0.66<extra></extra>",
         "marker": {
          "color": "#45B7D1",
          "size": 15
         },
         "mode": "markers+text",
         "showlegend": false,
         "text": [
          "0.66"
         ],
         "textfont": {
          "size": 12
         },
         "textposition": "top center",
         "type": "scatter",
         "x": [
          2023
         ],
         "xaxis": "x3",
         "y": [
          0.6621816412113208
         ],
         "yaxis": "y3"
        }
       ],
       "layout": {
        "annotations": [
         {
          "font": {
           "size": 16
          },
          "showarrow": false,
          "text": "Box Plot (Shows Range & Average)",
          "x": 0.12666666666666668,
          "xanchor": "center",
          "xref": "paper",
          "y": 1,
          "yanchor": "bottom",
          "yref": "paper"
         },
         {
          "font": {
           "size": 16
          },
          "showarrow": false,
          "text": "Violin Plot (Shows Distribution Shape)",
          "x": 0.5,
          "xanchor": "center",
          "xref": "paper",
          "y": 1,
          "yanchor": "bottom",
          "yref": "paper"
         },
         {
          "font": {
           "size": 16
          },
          "showarrow": false,
          "text": "Mean Values with Error Bars",
          "x": 0.8733333333333333,
          "xanchor": "center",
          "xref": "paper",
          "y": 1,
          "yanchor": "bottom",
          "yref": "paper"
         }
        ],
        "font": {
         "size": 11
        },
        "height": 500,
        "hovermode": "closest",
        "legend": {
         "orientation": "h",
         "x": 1,
         "xanchor": "right",
         "y": 1.02,
         "yanchor": "bottom"
        },
        "showlegend": true,
        "template": {
         "data": {
          "bar": [
           {
            "error_x": {
             "color": "#2a3f5f"
            },
            "error_y": {
             "color": "#2a3f5f"
            },
            "marker": {
             "line": {
              "color": "#E5ECF6",
              "width": 0.5
             },
             "pattern": {
              "fillmode": "overlay",
              "size": 10,
              "solidity": 0.2
             }
            },
            "type": "bar"
           }
          ],
          "barpolar": [
           {
            "marker": {
             "line": {
              "color": "#E5ECF6",
              "width": 0.5
             },
             "pattern": {
              "fillmode": "overlay",
              "size": 10,
              "solidity": 0.2
             }
            },
            "type": "barpolar"
           }
          ],
          "carpet": [
           {
            "aaxis": {
             "endlinecolor": "#2a3f5f",
             "gridcolor": "white",
             "linecolor": "white",
             "minorgridcolor": "white",
             "startlinecolor": "#2a3f5f"
            },
            "baxis": {
             "endlinecolor": "#2a3f5f",
             "gridcolor": "white",
             "linecolor": "white",
             "minorgridcolor": "white",
             "startlinecolor": "#2a3f5f"
            },
            "type": "carpet"
           }
          ],
          "choropleth": [
           {
            "colorbar": {
             "outlinewidth": 0,
             "ticks": ""
            },
            "type": "choropleth"
           }
          ],
          "contour": [
           {
            "colorbar": {
             "outlinewidth": 0,
             "ticks": ""
            },
            "colorscale": [
             [
              0,
              "#0d0887"
             ],
             [
              0.1111111111111111,
              "#46039f"
             ],
             [
              0.2222222222222222,
              "#7201a8"
             ],
             [
              0.3333333333333333,
              "#9c179e"
             ],
             [
              0.4444444444444444,
              "#bd3786"
             ],
             [
              0.5555555555555556,
              "#d8576b"
             ],
             [
              0.6666666666666666,
              "#ed7953"
             ],
             [
              0.7777777777777778,
              "#fb9f3a"
             ],
             [
              0.8888888888888888,
              "#fdca26"
             ],
             [
              1,
              "#f0f921"
             ]
            ],
            "type": "contour"
           }
          ],
          "contourcarpet": [
           {
            "colorbar": {
             "outlinewidth": 0,
             "ticks": ""
            },
            "type": "contourcarpet"
           }
          ],
          "heatmap": [
           {
            "colorbar": {
             "outlinewidth": 0,
             "ticks": ""
            },
            "colorscale": [
             [
              0,
              "#0d0887"
             ],
             [
              0.1111111111111111,
              "#46039f"
             ],
             [
              0.2222222222222222,
              "#7201a8"
             ],
             [
              0.3333333333333333,
              "#9c179e"
             ],
             [
              0.4444444444444444,
              "#bd3786"
             ],
             [
              0.5555555555555556,
              "#d8576b"
             ],
             [
              0.6666666666666666,
              "#ed7953"
             ],
             [
              0.7777777777777778,
              "#fb9f3a"
             ],
             [
              0.8888888888888888,
              "#fdca26"
             ],
             [
              1,
              "#f0f921"
             ]
            ],
            "type": "heatmap"
           }
          ],
          "histogram": [
           {
            "marker": {
             "pattern": {
              "fillmode": "overlay",
              "size": 10,
              "solidity": 0.2
             }
            },
            "type": "histogram"
           }
          ],
          "histogram2d": [
           {
            "colorbar": {
             "outlinewidth": 0,
             "ticks": ""
            },
            "colorscale": [
             [
              0,
              "#0d0887"
             ],
             [
              0.1111111111111111,
              "#46039f"
             ],
             [
              0.2222222222222222,
              "#7201a8"
             ],
             [
              0.3333333333333333,
              "#9c179e"
             ],
             [
              0.4444444444444444,
              "#bd3786"
             ],
             [
              0.5555555555555556,
              "#d8576b"
             ],
             [
              0.6666666666666666,
              "#ed7953"
             ],
             [
              0.7777777777777778,
              "#fb9f3a"
             ],
             [
              0.8888888888888888,
              "#fdca26"
             ],
             [
              1,
              "#f0f921"
             ]
            ],
            "type": "histogram2d"
           }
          ],
          "histogram2dcontour": [
           {
            "colorbar": {
             "outlinewidth": 0,
             "ticks": ""
            },
            "colorscale": [
             [
              0,
              "#0d0887"
             ],
             [
              0.1111111111111111,
              "#46039f"
             ],
             [
              0.2222222222222222,
              "#7201a8"
             ],
             [
              0.3333333333333333,
              "#9c179e"
             ],
             [
              0.4444444444444444,
              "#bd3786"
             ],
             [
              0.5555555555555556,
              "#d8576b"
             ],
             [
              0.6666666666666666,
              "#ed7953"
             ],
             [
              0.7777777777777778,
              "#fb9f3a"
             ],
             [
              0.8888888888888888,
              "#fdca26"
             ],
             [
              1,
              "#f0f921"
             ]
            ],
            "type": "histogram2dcontour"
           }
          ],
          "mesh3d": [
           {
            "colorbar": {
             "outlinewidth": 0,
             "ticks": ""
            },
            "type": "mesh3d"
           }
          ],
          "parcoords": [
           {
            "line": {
             "colorbar": {
              "outlinewidth": 0,
              "ticks": ""
             }
            },
            "type": "parcoords"
           }
          ],
          "pie": [
           {
            "automargin": true,
            "type": "pie"
           }
          ],
          "scatter": [
           {
            "fillpattern": {
             "fillmode": "overlay",
             "size": 10,
             "solidity": 0.2
            },
            "type": "scatter"
           }
          ],
          "scatter3d": [
           {
            "line": {
             "colorbar": {
              "outlinewidth": 0,
              "ticks": ""
             }
            },
            "marker": {
             "colorbar": {
              "outlinewidth": 0,
              "ticks": ""
             }
            },
            "type": "scatter3d"
           }
          ],
          "scattercarpet": [
           {
            "marker": {
             "colorbar": {
              "outlinewidth": 0,
              "ticks": ""
             }
            },
            "type": "scattercarpet"
           }
          ],
          "scattergeo": [
           {
            "marker": {
             "colorbar": {
              "outlinewidth": 0,
              "ticks": ""
             }
            },
            "type": "scattergeo"
           }
          ],
          "scattergl": [
           {
            "marker": {
             "colorbar": {
              "outlinewidth": 0,
              "ticks": ""
             }
            },
            "type": "scattergl"
           }
          ],
          "scattermap": [
           {
            "marker": {
             "colorbar": {
              "outlinewidth": 0,
              "ticks": ""
             }
            },
            "type": "scattermap"
           }
          ],
          "scattermapbox": [
           {
            "marker": {
             "colorbar": {
              "outlinewidth": 0,
              "ticks": ""
             }
            },
            "type": "scattermapbox"
           }
          ],
          "scatterpolar": [
           {
            "marker": {
             "colorbar": {
              "outlinewidth": 0,
              "ticks": ""
             }
            },
            "type": "scatterpolar"
           }
          ],
          "scatterpolargl": [
           {
            "marker": {
             "colorbar": {
              "outlinewidth": 0,
              "ticks": ""
             }
            },
            "type": "scatterpolargl"
           }
          ],
          "scatterternary": [
           {
            "marker": {
             "colorbar": {
              "outlinewidth": 0,
              "ticks": ""
             }
            },
            "type": "scatterternary"
           }
          ],
          "surface": [
           {
            "colorbar": {
             "outlinewidth": 0,
             "ticks": ""
            },
            "colorscale": [
             [
              0,
              "#0d0887"
             ],
             [
              0.1111111111111111,
              "#46039f"
             ],
             [
              0.2222222222222222,
              "#7201a8"
             ],
             [
              0.3333333333333333,
              "#9c179e"
             ],
             [
              0.4444444444444444,
              "#bd3786"
             ],
             [
              0.5555555555555556,
              "#d8576b"
             ],
             [
              0.6666666666666666,
              "#ed7953"
             ],
             [
              0.7777777777777778,
              "#fb9f3a"
             ],
             [
              0.8888888888888888,
              "#fdca26"
             ],
             [
              1,
              "#f0f921"
             ]
            ],
            "type": "surface"
           }
          ],
          "table": [
           {
            "cells": {
             "fill": {
              "color": "#EBF0F8"
             },
             "line": {
              "color": "white"
             }
            },
            "header": {
             "fill": {
              "color": "#C8D4E3"
             },
             "line": {
              "color": "white"
             }
            },
            "type": "table"
           }
          ]
         },
         "layout": {
          "annotationdefaults": {
           "arrowcolor": "#2a3f5f",
           "arrowhead": 0,
           "arrowwidth": 1
          },
          "autotypenumbers": "strict",
          "coloraxis": {
           "colorbar": {
            "outlinewidth": 0,
            "ticks": ""
           }
          },
          "colorscale": {
           "diverging": [
            [
             0,
             "#8e0152"
            ],
            [
             0.1,
             "#c51b7d"
            ],
            [
             0.2,
             "#de77ae"
            ],
            [
             0.3,
             "#f1b6da"
            ],
            [
             0.4,
             "#fde0ef"
            ],
            [
             0.5,
             "#f7f7f7"
            ],
            [
             0.6,
             "#e6f5d0"
            ],
            [
             0.7,
             "#b8e186"
            ],
            [
             0.8,
             "#7fbc41"
            ],
            [
             0.9,
             "#4d9221"
            ],
            [
             1,
             "#276419"
            ]
           ],
           "sequential": [
            [
             0,
             "#0d0887"
            ],
            [
             0.1111111111111111,
             "#46039f"
            ],
            [
             0.2222222222222222,
             "#7201a8"
            ],
            [
             0.3333333333333333,
             "#9c179e"
            ],
            [
             0.4444444444444444,
             "#bd3786"
            ],
            [
             0.5555555555555556,
             "#d8576b"
            ],
            [
             0.6666666666666666,
             "#ed7953"
            ],
            [
             0.7777777777777778,
             "#fb9f3a"
            ],
            [
             0.8888888888888888,
             "#fdca26"
            ],
            [
             1,
             "#f0f921"
            ]
           ],
           "sequentialminus": [
            [
             0,
             "#0d0887"
            ],
            [
             0.1111111111111111,
             "#46039f"
            ],
            [
             0.2222222222222222,
             "#7201a8"
            ],
            [
             0.3333333333333333,
             "#9c179e"
            ],
            [
             0.4444444444444444,
             "#bd3786"
            ],
            [
             0.5555555555555556,
             "#d8576b"
            ],
            [
             0.6666666666666666,
             "#ed7953"
            ],
            [
             0.7777777777777778,
             "#fb9f3a"
            ],
            [
             0.8888888888888888,
             "#fdca26"
            ],
            [
             1,
             "#f0f921"
            ]
           ]
          },
          "colorway": [
           "#636efa",
           "#EF553B",
           "#00cc96",
           "#ab63fa",
           "#FFA15A",
           "#19d3f3",
           "#FF6692",
           "#B6E880",
           "#FF97FF",
           "#FECB52"
          ],
          "font": {
           "color": "#2a3f5f"
          },
          "geo": {
           "bgcolor": "white",
           "lakecolor": "white",
           "landcolor": "#E5ECF6",
           "showlakes": true,
           "showland": true,
           "subunitcolor": "white"
          },
          "hoverlabel": {
           "align": "left"
          },
          "hovermode": "closest",
          "mapbox": {
           "style": "light"
          },
          "paper_bgcolor": "white",
          "plot_bgcolor": "#E5ECF6",
          "polar": {
           "angularaxis": {
            "gridcolor": "white",
            "linecolor": "white",
            "ticks": ""
           },
           "bgcolor": "#E5ECF6",
           "radialaxis": {
            "gridcolor": "white",
            "linecolor": "white",
            "ticks": ""
           }
          },
          "scene": {
           "xaxis": {
            "backgroundcolor": "#E5ECF6",
            "gridcolor": "white",
            "gridwidth": 2,
            "linecolor": "white",
            "showbackground": true,
            "ticks": "",
            "zerolinecolor": "white"
           },
           "yaxis": {
            "backgroundcolor": "#E5ECF6",
            "gridcolor": "white",
            "gridwidth": 2,
            "linecolor": "white",
            "showbackground": true,
            "ticks": "",
            "zerolinecolor": "white"
           },
           "zaxis": {
            "backgroundcolor": "#E5ECF6",
            "gridcolor": "white",
            "gridwidth": 2,
            "linecolor": "white",
            "showbackground": true,
            "ticks": "",
            "zerolinecolor": "white"
           }
          },
          "shapedefaults": {
           "line": {
            "color": "#2a3f5f"
           }
          },
          "ternary": {
           "aaxis": {
            "gridcolor": "white",
            "linecolor": "white",
            "ticks": ""
           },
           "baxis": {
            "gridcolor": "white",
            "linecolor": "white",
            "ticks": ""
           },
           "bgcolor": "#E5ECF6",
           "caxis": {
            "gridcolor": "white",
            "linecolor": "white",
            "ticks": ""
           }
          },
          "title": {
           "x": 0.05
          },
          "xaxis": {
           "automargin": true,
           "gridcolor": "white",
           "linecolor": "white",
           "ticks": "",
           "title": {
            "standoff": 15
           },
           "zerolinecolor": "white",
           "zerolinewidth": 2
          },
          "yaxis": {
           "automargin": true,
           "gridcolor": "white",
           "linecolor": "white",
           "ticks": "",
           "title": {
            "standoff": 15
           },
           "zerolinecolor": "white",
           "zerolinewidth": 2
          }
         }
        },
        "title": {
         "font": {
          "size": 16
         },
         "text": "<b>Average score on attempted tests</b><br><sub>Student Engagement - Comparing Years 2021-2023</sub>"
        },
        "xaxis": {
         "anchor": "y",
         "domain": [
          0,
          0.25333333333333335
         ],
         "title": {
          "text": ""
         }
        },
        "xaxis2": {
         "anchor": "y2",
         "domain": [
          0.37333333333333335,
          0.6266666666666667
         ],
         "title": {
          "text": ""
         }
        },
        "xaxis3": {
         "anchor": "y3",
         "domain": [
          0.7466666666666667,
          1
         ],
         "title": {
          "text": "Academic Year"
         }
        },
        "yaxis": {
         "anchor": "x",
         "domain": [
          0,
          1
         ],
         "range": [
          -0.11447738500562875,
          1.0474773850056287
         ],
         "title": {
          "text": "Score"
         }
        },
        "yaxis2": {
         "anchor": "x2",
         "domain": [
          0,
          1
         ],
         "range": [
          -0.11447738500562875,
          1.0474773850056287
         ],
         "title": {
          "text": "Score"
         }
        },
        "yaxis3": {
         "anchor": "x3",
         "domain": [
          0,
          1
         ],
         "range": [
          -0.11447738500562875,
          1.0474773850056287
         ],
         "title": {
          "text": "Score"
         }
        }
       }
      }
     },
     "metadata": {},
     "output_type": "display_data"
    },
    {
     "name": "stdout",
     "output_type": "stream",
     "text": [
      "\n",
      "📊 Average score on attempted tests\n",
      "Variable: avg_success_rate_per_test\n",
      "------------------------------------------------------------\n",
      " Year  Count Mean Median Std Dev  Min  Max\n",
      " 2021     45 0.38   0.38    0.19 0.00 0.83\n",
      " 2022     49 0.65   0.67    0.22 0.00 0.93\n",
      " 2023     53 0.66   0.70    0.16 0.28 0.90\n",
      "\n",
      "📈 Trend: 2021 → 2023\n",
      "   ↑ Increased by 0.28 (72.7%)\n",
      "\n"
     ]
    },
    {
     "data": {
      "application/vnd.plotly.v1+json": {
       "config": {
        "plotlyServerURL": "https://plot.ly"
       },
       "data": [
        {
         "boxmean": "sd",
         "boxpoints": "outliers",
         "hovertemplate": "Year 2021<br>Value: %{y:.2f}<extra></extra>",
         "jitter": 0.3,
         "legendgroup": "2021",
         "marker": {
          "color": "#FF6B6B"
         },
         "name": "Year 2021",
         "pointpos": -1.8,
         "showlegend": true,
         "type": "box",
         "xaxis": "x",
         "y": {
          "bdata": "AAAAAAAAEEAAAAAAAADwPwAAAAAAAAhAAAAAAAAA8D8AAAAAAAAIQAAAAAAAAAhAAAAAAAAA8D8AAAAAAADwPwAAAAAAAPA/AAAAAAAA8D8AAAAAAADwPwAAAAAAAAhAAAAAAAAA8D8AAAAAAADwPwAAAAAAAABAAAAAAAAA8D8AAAAAAADwPwAAAAAAAABAAAAAAAAA8D8AAAAAAAAAQAAAAAAAAABAAAAAAAAACEAAAAAAAADwPwAAAAAAAAhAAAAAAAAA8D8AAAAAAADwPwAAAAAAABBAAAAAAAAA8D8AAAAAAADwPwAAAAAAAAhAAAAAAAAA8D8AAAAAAAAIQAAAAAAAAPA/AAAAAAAA8D8AAAAAAADwPwAAAAAAAAhAAAAAAAAACEAAAAAAAADwPwAAAAAAAABAAAAAAAAA8D8AAAAAAAAAQAAAAAAAAABAAAAAAAAA8D8AAAAAAADwPwAAAAAAAAhA",
          "dtype": "f8"
         },
         "yaxis": "y"
        },
        {
         "boxmean": "sd",
         "boxpoints": "outliers",
         "hovertemplate": "Year 2022<br>Value: %{y:.2f}<extra></extra>",
         "jitter": 0.3,
         "legendgroup": "2022",
         "marker": {
          "color": "#4ECDC4"
         },
         "name": "Year 2022",
         "pointpos": -1.8,
         "showlegend": true,
         "type": "box",
         "xaxis": "x",
         "y": {
          "bdata": "AAAAAAAA8D8AAAAAAAAIQAAAAAAAAAhAAAAAAAAACEAAAAAAAAAQQAAAAAAAAABAAAAAAAAACEAAAAAAAAAIQAAAAAAAAPA/AAAAAAAA8D8AAAAAAADwPwAAAAAAAAhAAAAAAAAA8D8AAAAAAAAQQAAAAAAAAPA/AAAAAAAA8D8AAAAAAAAQQAAAAAAAAPA/AAAAAAAAAEAAAAAAAADwPwAAAAAAABBAAAAAAAAACEAAAAAAAADwPwAAAAAAABBAAAAAAAAACEAAAAAAAAAIQAAAAAAAAAhAAAAAAAAACEAAAAAAAAAIQAAAAAAAAAhAAAAAAAAA8D8AAAAAAADwPwAAAAAAAPA/AAAAAAAA8D8AAAAAAADwPwAAAAAAAPA/AAAAAAAACEAAAAAAAAAAQAAAAAAAAPA/AAAAAAAACEAAAAAAAADwPwAAAAAAABRAAAAAAAAA8D8AAAAAAAAUQAAAAAAAAPA/AAAAAAAACEAAAAAAAAAIQAAAAAAAAPA/AAAAAAAAAEA=",
          "dtype": "f8"
         },
         "yaxis": "y"
        },
        {
         "boxmean": "sd",
         "boxpoints": "outliers",
         "hovertemplate": "Year 2023<br>Value: %{y:.2f}<extra></extra>",
         "jitter": 0.3,
         "legendgroup": "2023",
         "marker": {
          "color": "#45B7D1"
         },
         "name": "Year 2023",
         "pointpos": -1.8,
         "showlegend": true,
         "type": "box",
         "xaxis": "x",
         "y": {
          "bdata": "AAAAAAAAEEAAAAAAAAAIQAAAAAAAAAhAAAAAAAAA8D8AAAAAAAAIQAAAAAAAAAhAAAAAAAAA8D8AAAAAAAAIQAAAAAAAAAhAAAAAAAAA8D8AAAAAAADwPwAAAAAAAPA/AAAAAAAAAEAAAAAAAAAQQAAAAAAAAAhAAAAAAAAACEAAAAAAAADwPwAAAAAAAPA/AAAAAAAAEEAAAAAAAAAIQAAAAAAAAPA/AAAAAAAA8D8AAAAAAAAIQAAAAAAAAPA/AAAAAAAACEAAAAAAAAAIQAAAAAAAAAhAAAAAAAAAEEAAAAAAAADwPwAAAAAAAAhAAAAAAAAA8D8AAAAAAAAAQAAAAAAAAABAAAAAAAAA8D8AAAAAAAAIQAAAAAAAAAhAAAAAAAAA8D8AAAAAAAAQQAAAAAAAAAhAAAAAAAAACEAAAAAAAADwPwAAAAAAAAhAAAAAAAAA8D8AAAAAAAAIQAAAAAAAAAhAAAAAAAAACEAAAAAAAAAQQAAAAAAAAPA/AAAAAAAA8D8AAAAAAADwPwAAAAAAAAhA",
          "dtype": "f8"
         },
         "yaxis": "y"
        },
        {
         "box": {
          "visible": true
         },
         "hovertemplate": "Year 2021<br>Value: %{y:.2f}<extra></extra>",
         "legendgroup": "2021",
         "marker": {
          "color": "#FF6B6B"
         },
         "meanline": {
          "visible": true
         },
         "name": "Year 2021",
         "opacity": 0.7,
         "showlegend": false,
         "type": "violin",
         "xaxis": "x2",
         "y": {
          "bdata": "AAAAAAAAEEAAAAAAAADwPwAAAAAAAAhAAAAAAAAA8D8AAAAAAAAIQAAAAAAAAAhAAAAAAAAA8D8AAAAAAADwPwAAAAAAAPA/AAAAAAAA8D8AAAAAAADwPwAAAAAAAAhAAAAAAAAA8D8AAAAAAADwPwAAAAAAAABAAAAAAAAA8D8AAAAAAADwPwAAAAAAAABAAAAAAAAA8D8AAAAAAAAAQAAAAAAAAABAAAAAAAAACEAAAAAAAADwPwAAAAAAAAhAAAAAAAAA8D8AAAAAAADwPwAAAAAAABBAAAAAAAAA8D8AAAAAAADwPwAAAAAAAAhAAAAAAAAA8D8AAAAAAAAIQAAAAAAAAPA/AAAAAAAA8D8AAAAAAADwPwAAAAAAAAhAAAAAAAAACEAAAAAAAADwPwAAAAAAAABAAAAAAAAA8D8AAAAAAAAAQAAAAAAAAABAAAAAAAAA8D8AAAAAAADwPwAAAAAAAAhA",
          "dtype": "f8"
         },
         "yaxis": "y2"
        },
        {
         "box": {
          "visible": true
         },
         "hovertemplate": "Year 2022<br>Value: %{y:.2f}<extra></extra>",
         "legendgroup": "2022",
         "marker": {
          "color": "#4ECDC4"
         },
         "meanline": {
          "visible": true
         },
         "name": "Year 2022",
         "opacity": 0.7,
         "showlegend": false,
         "type": "violin",
         "xaxis": "x2",
         "y": {
          "bdata": "AAAAAAAA8D8AAAAAAAAIQAAAAAAAAAhAAAAAAAAACEAAAAAAAAAQQAAAAAAAAABAAAAAAAAACEAAAAAAAAAIQAAAAAAAAPA/AAAAAAAA8D8AAAAAAADwPwAAAAAAAAhAAAAAAAAA8D8AAAAAAAAQQAAAAAAAAPA/AAAAAAAA8D8AAAAAAAAQQAAAAAAAAPA/AAAAAAAAAEAAAAAAAADwPwAAAAAAABBAAAAAAAAACEAAAAAAAADwPwAAAAAAABBAAAAAAAAACEAAAAAAAAAIQAAAAAAAAAhAAAAAAAAACEAAAAAAAAAIQAAAAAAAAAhAAAAAAAAA8D8AAAAAAADwPwAAAAAAAPA/AAAAAAAA8D8AAAAAAADwPwAAAAAAAPA/AAAAAAAACEAAAAAAAAAAQAAAAAAAAPA/AAAAAAAACEAAAAAAAADwPwAAAAAAABRAAAAAAAAA8D8AAAAAAAAUQAAAAAAAAPA/AAAAAAAACEAAAAAAAAAIQAAAAAAAAPA/AAAAAAAAAEA=",
          "dtype": "f8"
         },
         "yaxis": "y2"
        },
        {
         "box": {
          "visible": true
         },
         "hovertemplate": "Year 2023<br>Value: %{y:.2f}<extra></extra>",
         "legendgroup": "2023",
         "marker": {
          "color": "#45B7D1"
         },
         "meanline": {
          "visible": true
         },
         "name": "Year 2023",
         "opacity": 0.7,
         "showlegend": false,
         "type": "violin",
         "xaxis": "x2",
         "y": {
          "bdata": "AAAAAAAAEEAAAAAAAAAIQAAAAAAAAAhAAAAAAAAA8D8AAAAAAAAIQAAAAAAAAAhAAAAAAAAA8D8AAAAAAAAIQAAAAAAAAAhAAAAAAAAA8D8AAAAAAADwPwAAAAAAAPA/AAAAAAAAAEAAAAAAAAAQQAAAAAAAAAhAAAAAAAAACEAAAAAAAADwPwAAAAAAAPA/AAAAAAAAEEAAAAAAAAAIQAAAAAAAAPA/AAAAAAAA8D8AAAAAAAAIQAAAAAAAAPA/AAAAAAAACEAAAAAAAAAIQAAAAAAAAAhAAAAAAAAAEEAAAAAAAADwPwAAAAAAAAhAAAAAAAAA8D8AAAAAAAAAQAAAAAAAAABAAAAAAAAA8D8AAAAAAAAIQAAAAAAAAAhAAAAAAAAA8D8AAAAAAAAQQAAAAAAAAAhAAAAAAAAACEAAAAAAAADwPwAAAAAAAAhAAAAAAAAA8D8AAAAAAAAIQAAAAAAAAAhAAAAAAAAACEAAAAAAAAAQQAAAAAAAAPA/AAAAAAAA8D8AAAAAAADwPwAAAAAAAAhA",
          "dtype": "f8"
         },
         "yaxis": "y2"
        },
        {
         "error_y": {
          "array": [
           0.9744203145947592,
           1.2337377531458682,
           1.1043585663801658
          ],
          "color": "rgba(0,0,0,0.3)",
          "type": "data",
          "visible": true
         },
         "hovertemplate": "Year: %{x}<br>Mean: %{y:.2f}<br>Std: %{error_y.array:.2f}<extra></extra>",
         "line": {
          "color": "#FF6B6B",
          "width": 2
         },
         "marker": {
          "color": "#FF6B6B",
          "size": 12
         },
         "mode": "lines+markers",
         "name": "Mean ± Std Dev",
         "showlegend": false,
         "type": "scatter",
         "x": [
          2021,
          2022,
          2023
         ],
         "xaxis": "x3",
         "y": [
          1.7777777777777777,
          2.2448979591836733,
          2.3137254901960786
         ],
         "yaxis": "y3"
        },
        {
         "hovertemplate": "Year 2021<br>Mean: 1.78<extra></extra>",
         "marker": {
          "color": "#FF6B6B",
          "size": 15
         },
         "mode": "markers+text",
         "showlegend": false,
         "text": [
          "1.78"
         ],
         "textfont": {
          "size": 12
         },
         "textposition": "top center",
         "type": "scatter",
         "x": [
          2021
         ],
         "xaxis": "x3",
         "y": [
          1.7777777777777777
         ],
         "yaxis": "y3"
        },
        {
         "hovertemplate": "Year 2022<br>Mean: 2.24<extra></extra>",
         "marker": {
          "color": "#4ECDC4",
          "size": 15
         },
         "mode": "markers+text",
         "showlegend": false,
         "text": [
          "2.24"
         ],
         "textfont": {
          "size": 12
         },
         "textposition": "top center",
         "type": "scatter",
         "x": [
          2022
         ],
         "xaxis": "x3",
         "y": [
          2.2448979591836733
         ],
         "yaxis": "y3"
        },
        {
         "hovertemplate": "Year 2023<br>Mean: 2.31<extra></extra>",
         "marker": {
          "color": "#45B7D1",
          "size": 15
         },
         "mode": "markers+text",
         "showlegend": false,
         "text": [
          "2.31"
         ],
         "textfont": {
          "size": 12
         },
         "textposition": "top center",
         "type": "scatter",
         "x": [
          2023
         ],
         "xaxis": "x3",
         "y": [
          2.3137254901960786
         ],
         "yaxis": "y3"
        }
       ],
       "layout": {
        "annotations": [
         {
          "font": {
           "size": 16
          },
          "showarrow": false,
          "text": "Box Plot (Shows Range & Average)",
          "x": 0.12666666666666668,
          "xanchor": "center",
          "xref": "paper",
          "y": 1,
          "yanchor": "bottom",
          "yref": "paper"
         },
         {
          "font": {
           "size": 16
          },
          "showarrow": false,
          "text": "Violin Plot (Shows Distribution Shape)",
          "x": 0.5,
          "xanchor": "center",
          "xref": "paper",
          "y": 1,
          "yanchor": "bottom",
          "yref": "paper"
         },
         {
          "font": {
           "size": 16
          },
          "showarrow": false,
          "text": "Mean Values with Error Bars",
          "x": 0.8733333333333333,
          "xanchor": "center",
          "xref": "paper",
          "y": 1,
          "yanchor": "bottom",
          "yref": "paper"
         }
        ],
        "font": {
         "size": 11
        },
        "height": 500,
        "hovermode": "closest",
        "legend": {
         "orientation": "h",
         "x": 1,
         "xanchor": "right",
         "y": 1.02,
         "yanchor": "bottom"
        },
        "showlegend": true,
        "template": {
         "data": {
          "bar": [
           {
            "error_x": {
             "color": "#2a3f5f"
            },
            "error_y": {
             "color": "#2a3f5f"
            },
            "marker": {
             "line": {
              "color": "#E5ECF6",
              "width": 0.5
             },
             "pattern": {
              "fillmode": "overlay",
              "size": 10,
              "solidity": 0.2
             }
            },
            "type": "bar"
           }
          ],
          "barpolar": [
           {
            "marker": {
             "line": {
              "color": "#E5ECF6",
              "width": 0.5
             },
             "pattern": {
              "fillmode": "overlay",
              "size": 10,
              "solidity": 0.2
             }
            },
            "type": "barpolar"
           }
          ],
          "carpet": [
           {
            "aaxis": {
             "endlinecolor": "#2a3f5f",
             "gridcolor": "white",
             "linecolor": "white",
             "minorgridcolor": "white",
             "startlinecolor": "#2a3f5f"
            },
            "baxis": {
             "endlinecolor": "#2a3f5f",
             "gridcolor": "white",
             "linecolor": "white",
             "minorgridcolor": "white",
             "startlinecolor": "#2a3f5f"
            },
            "type": "carpet"
           }
          ],
          "choropleth": [
           {
            "colorbar": {
             "outlinewidth": 0,
             "ticks": ""
            },
            "type": "choropleth"
           }
          ],
          "contour": [
           {
            "colorbar": {
             "outlinewidth": 0,
             "ticks": ""
            },
            "colorscale": [
             [
              0,
              "#0d0887"
             ],
             [
              0.1111111111111111,
              "#46039f"
             ],
             [
              0.2222222222222222,
              "#7201a8"
             ],
             [
              0.3333333333333333,
              "#9c179e"
             ],
             [
              0.4444444444444444,
              "#bd3786"
             ],
             [
              0.5555555555555556,
              "#d8576b"
             ],
             [
              0.6666666666666666,
              "#ed7953"
             ],
             [
              0.7777777777777778,
              "#fb9f3a"
             ],
             [
              0.8888888888888888,
              "#fdca26"
             ],
             [
              1,
              "#f0f921"
             ]
            ],
            "type": "contour"
           }
          ],
          "contourcarpet": [
           {
            "colorbar": {
             "outlinewidth": 0,
             "ticks": ""
            },
            "type": "contourcarpet"
           }
          ],
          "heatmap": [
           {
            "colorbar": {
             "outlinewidth": 0,
             "ticks": ""
            },
            "colorscale": [
             [
              0,
              "#0d0887"
             ],
             [
              0.1111111111111111,
              "#46039f"
             ],
             [
              0.2222222222222222,
              "#7201a8"
             ],
             [
              0.3333333333333333,
              "#9c179e"
             ],
             [
              0.4444444444444444,
              "#bd3786"
             ],
             [
              0.5555555555555556,
              "#d8576b"
             ],
             [
              0.6666666666666666,
              "#ed7953"
             ],
             [
              0.7777777777777778,
              "#fb9f3a"
             ],
             [
              0.8888888888888888,
              "#fdca26"
             ],
             [
              1,
              "#f0f921"
             ]
            ],
            "type": "heatmap"
           }
          ],
          "histogram": [
           {
            "marker": {
             "pattern": {
              "fillmode": "overlay",
              "size": 10,
              "solidity": 0.2
             }
            },
            "type": "histogram"
           }
          ],
          "histogram2d": [
           {
            "colorbar": {
             "outlinewidth": 0,
             "ticks": ""
            },
            "colorscale": [
             [
              0,
              "#0d0887"
             ],
             [
              0.1111111111111111,
              "#46039f"
             ],
             [
              0.2222222222222222,
              "#7201a8"
             ],
             [
              0.3333333333333333,
              "#9c179e"
             ],
             [
              0.4444444444444444,
              "#bd3786"
             ],
             [
              0.5555555555555556,
              "#d8576b"
             ],
             [
              0.6666666666666666,
              "#ed7953"
             ],
             [
              0.7777777777777778,
              "#fb9f3a"
             ],
             [
              0.8888888888888888,
              "#fdca26"
             ],
             [
              1,
              "#f0f921"
             ]
            ],
            "type": "histogram2d"
           }
          ],
          "histogram2dcontour": [
           {
            "colorbar": {
             "outlinewidth": 0,
             "ticks": ""
            },
            "colorscale": [
             [
              0,
              "#0d0887"
             ],
             [
              0.1111111111111111,
              "#46039f"
             ],
             [
              0.2222222222222222,
              "#7201a8"
             ],
             [
              0.3333333333333333,
              "#9c179e"
             ],
             [
              0.4444444444444444,
              "#bd3786"
             ],
             [
              0.5555555555555556,
              "#d8576b"
             ],
             [
              0.6666666666666666,
              "#ed7953"
             ],
             [
              0.7777777777777778,
              "#fb9f3a"
             ],
             [
              0.8888888888888888,
              "#fdca26"
             ],
             [
              1,
              "#f0f921"
             ]
            ],
            "type": "histogram2dcontour"
           }
          ],
          "mesh3d": [
           {
            "colorbar": {
             "outlinewidth": 0,
             "ticks": ""
            },
            "type": "mesh3d"
           }
          ],
          "parcoords": [
           {
            "line": {
             "colorbar": {
              "outlinewidth": 0,
              "ticks": ""
             }
            },
            "type": "parcoords"
           }
          ],
          "pie": [
           {
            "automargin": true,
            "type": "pie"
           }
          ],
          "scatter": [
           {
            "fillpattern": {
             "fillmode": "overlay",
             "size": 10,
             "solidity": 0.2
            },
            "type": "scatter"
           }
          ],
          "scatter3d": [
           {
            "line": {
             "colorbar": {
              "outlinewidth": 0,
              "ticks": ""
             }
            },
            "marker": {
             "colorbar": {
              "outlinewidth": 0,
              "ticks": ""
             }
            },
            "type": "scatter3d"
           }
          ],
          "scattercarpet": [
           {
            "marker": {
             "colorbar": {
              "outlinewidth": 0,
              "ticks": ""
             }
            },
            "type": "scattercarpet"
           }
          ],
          "scattergeo": [
           {
            "marker": {
             "colorbar": {
              "outlinewidth": 0,
              "ticks": ""
             }
            },
            "type": "scattergeo"
           }
          ],
          "scattergl": [
           {
            "marker": {
             "colorbar": {
              "outlinewidth": 0,
              "ticks": ""
             }
            },
            "type": "scattergl"
           }
          ],
          "scattermap": [
           {
            "marker": {
             "colorbar": {
              "outlinewidth": 0,
              "ticks": ""
             }
            },
            "type": "scattermap"
           }
          ],
          "scattermapbox": [
           {
            "marker": {
             "colorbar": {
              "outlinewidth": 0,
              "ticks": ""
             }
            },
            "type": "scattermapbox"
           }
          ],
          "scatterpolar": [
           {
            "marker": {
             "colorbar": {
              "outlinewidth": 0,
              "ticks": ""
             }
            },
            "type": "scatterpolar"
           }
          ],
          "scatterpolargl": [
           {
            "marker": {
             "colorbar": {
              "outlinewidth": 0,
              "ticks": ""
             }
            },
            "type": "scatterpolargl"
           }
          ],
          "scatterternary": [
           {
            "marker": {
             "colorbar": {
              "outlinewidth": 0,
              "ticks": ""
             }
            },
            "type": "scatterternary"
           }
          ],
          "surface": [
           {
            "colorbar": {
             "outlinewidth": 0,
             "ticks": ""
            },
            "colorscale": [
             [
              0,
              "#0d0887"
             ],
             [
              0.1111111111111111,
              "#46039f"
             ],
             [
              0.2222222222222222,
              "#7201a8"
             ],
             [
              0.3333333333333333,
              "#9c179e"
             ],
             [
              0.4444444444444444,
              "#bd3786"
             ],
             [
              0.5555555555555556,
              "#d8576b"
             ],
             [
              0.6666666666666666,
              "#ed7953"
             ],
             [
              0.7777777777777778,
              "#fb9f3a"
             ],
             [
              0.8888888888888888,
              "#fdca26"
             ],
             [
              1,
              "#f0f921"
             ]
            ],
            "type": "surface"
           }
          ],
          "table": [
           {
            "cells": {
             "fill": {
              "color": "#EBF0F8"
             },
             "line": {
              "color": "white"
             }
            },
            "header": {
             "fill": {
              "color": "#C8D4E3"
             },
             "line": {
              "color": "white"
             }
            },
            "type": "table"
           }
          ]
         },
         "layout": {
          "annotationdefaults": {
           "arrowcolor": "#2a3f5f",
           "arrowhead": 0,
           "arrowwidth": 1
          },
          "autotypenumbers": "strict",
          "coloraxis": {
           "colorbar": {
            "outlinewidth": 0,
            "ticks": ""
           }
          },
          "colorscale": {
           "diverging": [
            [
             0,
             "#8e0152"
            ],
            [
             0.1,
             "#c51b7d"
            ],
            [
             0.2,
             "#de77ae"
            ],
            [
             0.3,
             "#f1b6da"
            ],
            [
             0.4,
             "#fde0ef"
            ],
            [
             0.5,
             "#f7f7f7"
            ],
            [
             0.6,
             "#e6f5d0"
            ],
            [
             0.7,
             "#b8e186"
            ],
            [
             0.8,
             "#7fbc41"
            ],
            [
             0.9,
             "#4d9221"
            ],
            [
             1,
             "#276419"
            ]
           ],
           "sequential": [
            [
             0,
             "#0d0887"
            ],
            [
             0.1111111111111111,
             "#46039f"
            ],
            [
             0.2222222222222222,
             "#7201a8"
            ],
            [
             0.3333333333333333,
             "#9c179e"
            ],
            [
             0.4444444444444444,
             "#bd3786"
            ],
            [
             0.5555555555555556,
             "#d8576b"
            ],
            [
             0.6666666666666666,
             "#ed7953"
            ],
            [
             0.7777777777777778,
             "#fb9f3a"
            ],
            [
             0.8888888888888888,
             "#fdca26"
            ],
            [
             1,
             "#f0f921"
            ]
           ],
           "sequentialminus": [
            [
             0,
             "#0d0887"
            ],
            [
             0.1111111111111111,
             "#46039f"
            ],
            [
             0.2222222222222222,
             "#7201a8"
            ],
            [
             0.3333333333333333,
             "#9c179e"
            ],
            [
             0.4444444444444444,
             "#bd3786"
            ],
            [
             0.5555555555555556,
             "#d8576b"
            ],
            [
             0.6666666666666666,
             "#ed7953"
            ],
            [
             0.7777777777777778,
             "#fb9f3a"
            ],
            [
             0.8888888888888888,
             "#fdca26"
            ],
            [
             1,
             "#f0f921"
            ]
           ]
          },
          "colorway": [
           "#636efa",
           "#EF553B",
           "#00cc96",
           "#ab63fa",
           "#FFA15A",
           "#19d3f3",
           "#FF6692",
           "#B6E880",
           "#FF97FF",
           "#FECB52"
          ],
          "font": {
           "color": "#2a3f5f"
          },
          "geo": {
           "bgcolor": "white",
           "lakecolor": "white",
           "landcolor": "#E5ECF6",
           "showlakes": true,
           "showland": true,
           "subunitcolor": "white"
          },
          "hoverlabel": {
           "align": "left"
          },
          "hovermode": "closest",
          "mapbox": {
           "style": "light"
          },
          "paper_bgcolor": "white",
          "plot_bgcolor": "#E5ECF6",
          "polar": {
           "angularaxis": {
            "gridcolor": "white",
            "linecolor": "white",
            "ticks": ""
           },
           "bgcolor": "#E5ECF6",
           "radialaxis": {
            "gridcolor": "white",
            "linecolor": "white",
            "ticks": ""
           }
          },
          "scene": {
           "xaxis": {
            "backgroundcolor": "#E5ECF6",
            "gridcolor": "white",
            "gridwidth": 2,
            "linecolor": "white",
            "showbackground": true,
            "ticks": "",
            "zerolinecolor": "white"
           },
           "yaxis": {
            "backgroundcolor": "#E5ECF6",
            "gridcolor": "white",
            "gridwidth": 2,
            "linecolor": "white",
            "showbackground": true,
            "ticks": "",
            "zerolinecolor": "white"
           },
           "zaxis": {
            "backgroundcolor": "#E5ECF6",
            "gridcolor": "white",
            "gridwidth": 2,
            "linecolor": "white",
            "showbackground": true,
            "ticks": "",
            "zerolinecolor": "white"
           }
          },
          "shapedefaults": {
           "line": {
            "color": "#2a3f5f"
           }
          },
          "ternary": {
           "aaxis": {
            "gridcolor": "white",
            "linecolor": "white",
            "ticks": ""
           },
           "baxis": {
            "gridcolor": "white",
            "linecolor": "white",
            "ticks": ""
           },
           "bgcolor": "#E5ECF6",
           "caxis": {
            "gridcolor": "white",
            "linecolor": "white",
            "ticks": ""
           }
          },
          "title": {
           "x": 0.05
          },
          "xaxis": {
           "automargin": true,
           "gridcolor": "white",
           "linecolor": "white",
           "ticks": "",
           "title": {
            "standoff": 15
           },
           "zerolinecolor": "white",
           "zerolinewidth": 2
          },
          "yaxis": {
           "automargin": true,
           "gridcolor": "white",
           "linecolor": "white",
           "ticks": "",
           "title": {
            "standoff": 15
           },
           "zerolinecolor": "white",
           "zerolinewidth": 2
          }
         }
        },
        "title": {
         "font": {
          "size": 16
         },
         "text": "<b>Final course grade (1-5 scale)</b><br><sub>Academic Performance - Comparing Years 2021-2023</sub>"
        },
        "xaxis": {
         "anchor": "y",
         "domain": [
          0,
          0.25333333333333335
         ],
         "title": {
          "text": ""
         }
        },
        "xaxis2": {
         "anchor": "y2",
         "domain": [
          0.37333333333333335,
          0.6266666666666667
         ],
         "title": {
          "text": ""
         }
        },
        "xaxis3": {
         "anchor": "y3",
         "domain": [
          0.7466666666666667,
          1
         ],
         "title": {
          "text": "Academic Year"
         }
        },
        "yaxis": {
         "anchor": "x",
         "domain": [
          0,
          1
         ],
         "range": [
          0.43711715367047,
          5.56288284632953
         ],
         "title": {
          "text": "Grade (1-5)"
         }
        },
        "yaxis2": {
         "anchor": "x2",
         "domain": [
          0,
          1
         ],
         "range": [
          0.43711715367047,
          5.56288284632953
         ],
         "title": {
          "text": "Grade (1-5)"
         }
        },
        "yaxis3": {
         "anchor": "x3",
         "domain": [
          0,
          1
         ],
         "range": [
          0.43711715367047,
          5.56288284632953
         ],
         "title": {
          "text": "Grade (1-5)"
         }
        }
       }
      }
     },
     "metadata": {},
     "output_type": "display_data"
    },
    {
     "name": "stdout",
     "output_type": "stream",
     "text": [
      "\n",
      "📊 Final course grade (1-5 scale)\n",
      "Variable: final_grade\n",
      "------------------------------------------------------------\n",
      " Year  Count Mean Median Std Dev  Min  Max\n",
      " 2021     45 1.78   1.00    0.97 1.00 4.00\n",
      " 2022     49 2.24   2.00    1.23 1.00 5.00\n",
      " 2023     51 2.31   3.00    1.10 1.00 4.00\n",
      "\n",
      "📈 Trend: 2021 → 2023\n",
      "   ↑ Increased by 0.54 (30.1%)\n",
      "\n"
     ]
    },
    {
     "data": {
      "application/vnd.plotly.v1+json": {
       "config": {
        "plotlyServerURL": "https://plot.ly"
       },
       "data": [
        {
         "boxmean": "sd",
         "boxpoints": "outliers",
         "hovertemplate": "Year 2021<br>Value: %{y:.2f}<extra></extra>",
         "jitter": 0.3,
         "legendgroup": "2021",
         "marker": {
          "color": "#FF6B6B"
         },
         "name": "Year 2021",
         "pointpos": -1.8,
         "showlegend": true,
         "type": "box",
         "xaxis": "x",
         "y": {
          "bdata": "pHA9CtejCkCPwvUoXI/6P0jhehSuR/U/H4XrUbge9T9cj8L1KFwZQKRwPQrXowpAAAAAAAAAAEAAAAAAAADwP+F6FK5H4QpAAAAAAAAAAECkcD0K16MKQKRwPQrXowJASOF6FK5HDUAAAAAAAAAAAKRwPQrXowpAAAAAAAAAAEBcj8L1KFwFQAAAAAAAAPA/AAAAAAAAAAC4HoXrUbgKQAAAAAAAAPA/uB6F61G4+j9SuB6F61EVQFyPwvUoXAVAAAAAAAAACEAAAAAAAADwP1yPwvUoXA1AuB6F61G4+j8AAAAAAAAAAB+F61G4HtU/rkfhehSuGkAAAAAAAAAIQAAAAAAAAAhAXI/C9ShcFUBI4XoUrkf1PwAAAAAAABRApHA9CtejCkAfhetRuB7VP7gehetRuPo/SOF6FK5HBUAAAAAAAAAAALgehetRuApApHA9CtejCkCkcD0K16MCQEjhehSuRwVA",
          "dtype": "f8"
         },
         "yaxis": "y"
        },
        {
         "boxmean": "sd",
         "boxpoints": "outliers",
         "hovertemplate": "Year 2022<br>Value: %{y:.2f}<extra></extra>",
         "jitter": 0.3,
         "legendgroup": "2022",
         "marker": {
          "color": "#4ECDC4"
         },
         "name": "Year 2022",
         "pointpos": -1.8,
         "showlegend": true,
         "type": "box",
         "xaxis": "x",
         "y": {
          "bdata": "H4XrUbge5T8AAAAAAAAgQNejcD0KVyFAuB6F61G4HkBcj8L1KFwhQAAAAAAAABBAAAAAAAAAIkBcj8L1KFwVQB+F61G4HtU/uB6F61G4HkBcj8L1KFwdQFyPwvUoXBlAXI/C9ShcGUBSuB6F61EdQK5H4XoUrhZAuB6F61G4GkCF61G4HgUgQFyPwvUoXAVASOF6FK5HBUC4HoXrUbgWQFyPwvUoXBlAAAAAAAAAIEAAAAAAAAAUQK5H4XoUriBAuB6F61G4CkCuR+F6FK4eQK5H4XoUrhpAUrgehetRHUApXI/C9aggQClcj8L1qCBA7FG4HoXrB0AAAAAAAAAYQFK4HoXrURlAXI/C9ShcGUBI4XoUrkcFQB+F61G4HuU/ZmZmZmZmGUAfhetRuB7lP1yPwvUoXBVAZmZmZmZmFUC4HoXrUbgaQClcj8L1qCJAAAAAAAAAEEAAAAAAAAAiQAAAAAAAAAAAUrgehetRGUBSuB6F61ERQKRwPQrXowJAuB6F61G4EkA=",
          "dtype": "f8"
         },
         "yaxis": "y"
        },
        {
         "boxmean": "sd",
         "boxpoints": "outliers",
         "hovertemplate": "Year 2023<br>Value: %{y:.2f}<extra></extra>",
         "jitter": 0.3,
         "legendgroup": "2023",
         "marker": {
          "color": "#45B7D1"
         },
         "name": "Year 2023",
         "pointpos": -1.8,
         "showlegend": true,
         "type": "box",
         "xaxis": "x",
         "y": {
          "bdata": "AAAAAAAAGEBcj8L1KFwhQIXrUbgeBSJASOF6FK5HDUDXo3A9ClchQArXo3A9ChhAXI/C9ShcEUC4HoXrUbgaQFyPwvUoXB1AuB6F61G4GkBSuB6F61ERQAAAAAAAABBApHA9CtejEkC4HoXrUbgCQFK4HoXrUR1A16NwPQpXIUCuR+F6FK4eQAAAAAAAAAhAuB6F61G4HkAK16NwPQoYQArXo3A9ChxArkfhehSuIECuR+F6FK4aQArXo3A9ChhArkfhehSuEkAAAAAAAAAUQLgehetRuBZACtejcD0KHECkcD0K16MKQAAAAAAAABxAXI/C9ShcEUAAAAAAAAAiQAAAAAAAABBAUrgehetRFUAAAAAAAAAcQLgehetRuBpAAAAAAAAAHECuR+F6FK4SQOxRuB6F6wdA16NwPQpXIUBcj8L1KFwdQNejcD0K1wdAZmZmZmZmFUCuR+F6FK4WQKRwPQrXowJAXI/C9ShcIUBSuB6F61EVQFyPwvUoXB1ArkfhehSuIEDD9Shcj8IaQI/C9Shcj/o/uB6F61G4FkAAAAAAAAAUQA==",
          "dtype": "f8"
         },
         "yaxis": "y"
        },
        {
         "box": {
          "visible": true
         },
         "hovertemplate": "Year 2021<br>Value: %{y:.2f}<extra></extra>",
         "legendgroup": "2021",
         "marker": {
          "color": "#FF6B6B"
         },
         "meanline": {
          "visible": true
         },
         "name": "Year 2021",
         "opacity": 0.7,
         "showlegend": false,
         "type": "violin",
         "xaxis": "x2",
         "y": {
          "bdata": "pHA9CtejCkCPwvUoXI/6P0jhehSuR/U/H4XrUbge9T9cj8L1KFwZQKRwPQrXowpAAAAAAAAAAEAAAAAAAADwP+F6FK5H4QpAAAAAAAAAAECkcD0K16MKQKRwPQrXowJASOF6FK5HDUAAAAAAAAAAAKRwPQrXowpAAAAAAAAAAEBcj8L1KFwFQAAAAAAAAPA/AAAAAAAAAAC4HoXrUbgKQAAAAAAAAPA/uB6F61G4+j9SuB6F61EVQFyPwvUoXAVAAAAAAAAACEAAAAAAAADwP1yPwvUoXA1AuB6F61G4+j8AAAAAAAAAAB+F61G4HtU/rkfhehSuGkAAAAAAAAAIQAAAAAAAAAhAXI/C9ShcFUBI4XoUrkf1PwAAAAAAABRApHA9CtejCkAfhetRuB7VP7gehetRuPo/SOF6FK5HBUAAAAAAAAAAALgehetRuApApHA9CtejCkCkcD0K16MCQEjhehSuRwVA",
          "dtype": "f8"
         },
         "yaxis": "y2"
        },
        {
         "box": {
          "visible": true
         },
         "hovertemplate": "Year 2022<br>Value: %{y:.2f}<extra></extra>",
         "legendgroup": "2022",
         "marker": {
          "color": "#4ECDC4"
         },
         "meanline": {
          "visible": true
         },
         "name": "Year 2022",
         "opacity": 0.7,
         "showlegend": false,
         "type": "violin",
         "xaxis": "x2",
         "y": {
          "bdata": "H4XrUbge5T8AAAAAAAAgQNejcD0KVyFAuB6F61G4HkBcj8L1KFwhQAAAAAAAABBAAAAAAAAAIkBcj8L1KFwVQB+F61G4HtU/uB6F61G4HkBcj8L1KFwdQFyPwvUoXBlAXI/C9ShcGUBSuB6F61EdQK5H4XoUrhZAuB6F61G4GkCF61G4HgUgQFyPwvUoXAVASOF6FK5HBUC4HoXrUbgWQFyPwvUoXBlAAAAAAAAAIEAAAAAAAAAUQK5H4XoUriBAuB6F61G4CkCuR+F6FK4eQK5H4XoUrhpAUrgehetRHUApXI/C9aggQClcj8L1qCBA7FG4HoXrB0AAAAAAAAAYQFK4HoXrURlAXI/C9ShcGUBI4XoUrkcFQB+F61G4HuU/ZmZmZmZmGUAfhetRuB7lP1yPwvUoXBVAZmZmZmZmFUC4HoXrUbgaQClcj8L1qCJAAAAAAAAAEEAAAAAAAAAiQAAAAAAAAAAAUrgehetRGUBSuB6F61ERQKRwPQrXowJAuB6F61G4EkA=",
          "dtype": "f8"
         },
         "yaxis": "y2"
        },
        {
         "box": {
          "visible": true
         },
         "hovertemplate": "Year 2023<br>Value: %{y:.2f}<extra></extra>",
         "legendgroup": "2023",
         "marker": {
          "color": "#45B7D1"
         },
         "meanline": {
          "visible": true
         },
         "name": "Year 2023",
         "opacity": 0.7,
         "showlegend": false,
         "type": "violin",
         "xaxis": "x2",
         "y": {
          "bdata": "AAAAAAAAGEBcj8L1KFwhQIXrUbgeBSJASOF6FK5HDUDXo3A9ClchQArXo3A9ChhAXI/C9ShcEUC4HoXrUbgaQFyPwvUoXB1AuB6F61G4GkBSuB6F61ERQAAAAAAAABBApHA9CtejEkC4HoXrUbgCQFK4HoXrUR1A16NwPQpXIUCuR+F6FK4eQAAAAAAAAAhAuB6F61G4HkAK16NwPQoYQArXo3A9ChxArkfhehSuIECuR+F6FK4aQArXo3A9ChhArkfhehSuEkAAAAAAAAAUQLgehetRuBZACtejcD0KHECkcD0K16MKQAAAAAAAABxAXI/C9ShcEUAAAAAAAAAiQAAAAAAAABBAUrgehetRFUAAAAAAAAAcQLgehetRuBpAAAAAAAAAHECuR+F6FK4SQOxRuB6F6wdA16NwPQpXIUBcj8L1KFwdQNejcD0K1wdAZmZmZmZmFUCuR+F6FK4WQKRwPQrXowJAXI/C9ShcIUBSuB6F61EVQFyPwvUoXB1ArkfhehSuIEDD9Shcj8IaQI/C9Shcj/o/uB6F61G4FkAAAAAAAAAUQA==",
          "dtype": "f8"
         },
         "yaxis": "y2"
        },
        {
         "error_y": {
          "array": [
           1.6196879609693622,
           2.5571694764509676,
           1.939081093253168
          ],
          "color": "rgba(0,0,0,0.3)",
          "type": "data",
          "visible": true
         },
         "hovertemplate": "Year: %{x}<br>Mean: %{y:.2f}<br>Std: %{error_y.array:.2f}<extra></extra>",
         "line": {
          "color": "#FF6B6B",
          "width": 2
         },
         "marker": {
          "color": "#FF6B6B",
          "size": 12
         },
         "mode": "lines+markers",
         "name": "Mean ± Std Dev",
         "showlegend": false,
         "type": "scatter",
         "x": [
          2021,
          2022,
          2023
         ],
         "xaxis": "x3",
         "y": [
          2.481333333333333,
          5.662653061224489,
          5.953773584905661
         ],
         "yaxis": "y3"
        },
        {
         "hovertemplate": "Year 2021<br>Mean: 2.48<extra></extra>",
         "marker": {
          "color": "#FF6B6B",
          "size": 15
         },
         "mode": "markers+text",
         "showlegend": false,
         "text": [
          "2.48"
         ],
         "textfont": {
          "size": 12
         },
         "textposition": "top center",
         "type": "scatter",
         "x": [
          2021
         ],
         "xaxis": "x3",
         "y": [
          2.481333333333333
         ],
         "yaxis": "y3"
        },
        {
         "hovertemplate": "Year 2022<br>Mean: 5.66<extra></extra>",
         "marker": {
          "color": "#4ECDC4",
          "size": 15
         },
         "mode": "markers+text",
         "showlegend": false,
         "text": [
          "5.66"
         ],
         "textfont": {
          "size": 12
         },
         "textposition": "top center",
         "type": "scatter",
         "x": [
          2022
         ],
         "xaxis": "x3",
         "y": [
          5.662653061224489
         ],
         "yaxis": "y3"
        },
        {
         "hovertemplate": "Year 2023<br>Mean: 5.95<extra></extra>",
         "marker": {
          "color": "#45B7D1",
          "size": 15
         },
         "mode": "markers+text",
         "showlegend": false,
         "text": [
          "5.95"
         ],
         "textfont": {
          "size": 12
         },
         "textposition": "top center",
         "type": "scatter",
         "x": [
          2023
         ],
         "xaxis": "x3",
         "y": [
          5.953773584905661
         ],
         "yaxis": "y3"
        }
       ],
       "layout": {
        "annotations": [
         {
          "font": {
           "size": 16
          },
          "showarrow": false,
          "text": "Box Plot (Shows Range & Average)",
          "x": 0.12666666666666668,
          "xanchor": "center",
          "xref": "paper",
          "y": 1,
          "yanchor": "bottom",
          "yref": "paper"
         },
         {
          "font": {
           "size": 16
          },
          "showarrow": false,
          "text": "Violin Plot (Shows Distribution Shape)",
          "x": 0.5,
          "xanchor": "center",
          "xref": "paper",
          "y": 1,
          "yanchor": "bottom",
          "yref": "paper"
         },
         {
          "font": {
           "size": 16
          },
          "showarrow": false,
          "text": "Mean Values with Error Bars",
          "x": 0.8733333333333333,
          "xanchor": "center",
          "xref": "paper",
          "y": 1,
          "yanchor": "bottom",
          "yref": "paper"
         }
        ],
        "font": {
         "size": 11
        },
        "height": 500,
        "hovermode": "closest",
        "legend": {
         "orientation": "h",
         "x": 1,
         "xanchor": "right",
         "y": 1.02,
         "yanchor": "bottom"
        },
        "showlegend": true,
        "template": {
         "data": {
          "bar": [
           {
            "error_x": {
             "color": "#2a3f5f"
            },
            "error_y": {
             "color": "#2a3f5f"
            },
            "marker": {
             "line": {
              "color": "#E5ECF6",
              "width": 0.5
             },
             "pattern": {
              "fillmode": "overlay",
              "size": 10,
              "solidity": 0.2
             }
            },
            "type": "bar"
           }
          ],
          "barpolar": [
           {
            "marker": {
             "line": {
              "color": "#E5ECF6",
              "width": 0.5
             },
             "pattern": {
              "fillmode": "overlay",
              "size": 10,
              "solidity": 0.2
             }
            },
            "type": "barpolar"
           }
          ],
          "carpet": [
           {
            "aaxis": {
             "endlinecolor": "#2a3f5f",
             "gridcolor": "white",
             "linecolor": "white",
             "minorgridcolor": "white",
             "startlinecolor": "#2a3f5f"
            },
            "baxis": {
             "endlinecolor": "#2a3f5f",
             "gridcolor": "white",
             "linecolor": "white",
             "minorgridcolor": "white",
             "startlinecolor": "#2a3f5f"
            },
            "type": "carpet"
           }
          ],
          "choropleth": [
           {
            "colorbar": {
             "outlinewidth": 0,
             "ticks": ""
            },
            "type": "choropleth"
           }
          ],
          "contour": [
           {
            "colorbar": {
             "outlinewidth": 0,
             "ticks": ""
            },
            "colorscale": [
             [
              0,
              "#0d0887"
             ],
             [
              0.1111111111111111,
              "#46039f"
             ],
             [
              0.2222222222222222,
              "#7201a8"
             ],
             [
              0.3333333333333333,
              "#9c179e"
             ],
             [
              0.4444444444444444,
              "#bd3786"
             ],
             [
              0.5555555555555556,
              "#d8576b"
             ],
             [
              0.6666666666666666,
              "#ed7953"
             ],
             [
              0.7777777777777778,
              "#fb9f3a"
             ],
             [
              0.8888888888888888,
              "#fdca26"
             ],
             [
              1,
              "#f0f921"
             ]
            ],
            "type": "contour"
           }
          ],
          "contourcarpet": [
           {
            "colorbar": {
             "outlinewidth": 0,
             "ticks": ""
            },
            "type": "contourcarpet"
           }
          ],
          "heatmap": [
           {
            "colorbar": {
             "outlinewidth": 0,
             "ticks": ""
            },
            "colorscale": [
             [
              0,
              "#0d0887"
             ],
             [
              0.1111111111111111,
              "#46039f"
             ],
             [
              0.2222222222222222,
              "#7201a8"
             ],
             [
              0.3333333333333333,
              "#9c179e"
             ],
             [
              0.4444444444444444,
              "#bd3786"
             ],
             [
              0.5555555555555556,
              "#d8576b"
             ],
             [
              0.6666666666666666,
              "#ed7953"
             ],
             [
              0.7777777777777778,
              "#fb9f3a"
             ],
             [
              0.8888888888888888,
              "#fdca26"
             ],
             [
              1,
              "#f0f921"
             ]
            ],
            "type": "heatmap"
           }
          ],
          "histogram": [
           {
            "marker": {
             "pattern": {
              "fillmode": "overlay",
              "size": 10,
              "solidity": 0.2
             }
            },
            "type": "histogram"
           }
          ],
          "histogram2d": [
           {
            "colorbar": {
             "outlinewidth": 0,
             "ticks": ""
            },
            "colorscale": [
             [
              0,
              "#0d0887"
             ],
             [
              0.1111111111111111,
              "#46039f"
             ],
             [
              0.2222222222222222,
              "#7201a8"
             ],
             [
              0.3333333333333333,
              "#9c179e"
             ],
             [
              0.4444444444444444,
              "#bd3786"
             ],
             [
              0.5555555555555556,
              "#d8576b"
             ],
             [
              0.6666666666666666,
              "#ed7953"
             ],
             [
              0.7777777777777778,
              "#fb9f3a"
             ],
             [
              0.8888888888888888,
              "#fdca26"
             ],
             [
              1,
              "#f0f921"
             ]
            ],
            "type": "histogram2d"
           }
          ],
          "histogram2dcontour": [
           {
            "colorbar": {
             "outlinewidth": 0,
             "ticks": ""
            },
            "colorscale": [
             [
              0,
              "#0d0887"
             ],
             [
              0.1111111111111111,
              "#46039f"
             ],
             [
              0.2222222222222222,
              "#7201a8"
             ],
             [
              0.3333333333333333,
              "#9c179e"
             ],
             [
              0.4444444444444444,
              "#bd3786"
             ],
             [
              0.5555555555555556,
              "#d8576b"
             ],
             [
              0.6666666666666666,
              "#ed7953"
             ],
             [
              0.7777777777777778,
              "#fb9f3a"
             ],
             [
              0.8888888888888888,
              "#fdca26"
             ],
             [
              1,
              "#f0f921"
             ]
            ],
            "type": "histogram2dcontour"
           }
          ],
          "mesh3d": [
           {
            "colorbar": {
             "outlinewidth": 0,
             "ticks": ""
            },
            "type": "mesh3d"
           }
          ],
          "parcoords": [
           {
            "line": {
             "colorbar": {
              "outlinewidth": 0,
              "ticks": ""
             }
            },
            "type": "parcoords"
           }
          ],
          "pie": [
           {
            "automargin": true,
            "type": "pie"
           }
          ],
          "scatter": [
           {
            "fillpattern": {
             "fillmode": "overlay",
             "size": 10,
             "solidity": 0.2
            },
            "type": "scatter"
           }
          ],
          "scatter3d": [
           {
            "line": {
             "colorbar": {
              "outlinewidth": 0,
              "ticks": ""
             }
            },
            "marker": {
             "colorbar": {
              "outlinewidth": 0,
              "ticks": ""
             }
            },
            "type": "scatter3d"
           }
          ],
          "scattercarpet": [
           {
            "marker": {
             "colorbar": {
              "outlinewidth": 0,
              "ticks": ""
             }
            },
            "type": "scattercarpet"
           }
          ],
          "scattergeo": [
           {
            "marker": {
             "colorbar": {
              "outlinewidth": 0,
              "ticks": ""
             }
            },
            "type": "scattergeo"
           }
          ],
          "scattergl": [
           {
            "marker": {
             "colorbar": {
              "outlinewidth": 0,
              "ticks": ""
             }
            },
            "type": "scattergl"
           }
          ],
          "scattermap": [
           {
            "marker": {
             "colorbar": {
              "outlinewidth": 0,
              "ticks": ""
             }
            },
            "type": "scattermap"
           }
          ],
          "scattermapbox": [
           {
            "marker": {
             "colorbar": {
              "outlinewidth": 0,
              "ticks": ""
             }
            },
            "type": "scattermapbox"
           }
          ],
          "scatterpolar": [
           {
            "marker": {
             "colorbar": {
              "outlinewidth": 0,
              "ticks": ""
             }
            },
            "type": "scatterpolar"
           }
          ],
          "scatterpolargl": [
           {
            "marker": {
             "colorbar": {
              "outlinewidth": 0,
              "ticks": ""
             }
            },
            "type": "scatterpolargl"
           }
          ],
          "scatterternary": [
           {
            "marker": {
             "colorbar": {
              "outlinewidth": 0,
              "ticks": ""
             }
            },
            "type": "scatterternary"
           }
          ],
          "surface": [
           {
            "colorbar": {
             "outlinewidth": 0,
             "ticks": ""
            },
            "colorscale": [
             [
              0,
              "#0d0887"
             ],
             [
              0.1111111111111111,
              "#46039f"
             ],
             [
              0.2222222222222222,
              "#7201a8"
             ],
             [
              0.3333333333333333,
              "#9c179e"
             ],
             [
              0.4444444444444444,
              "#bd3786"
             ],
             [
              0.5555555555555556,
              "#d8576b"
             ],
             [
              0.6666666666666666,
              "#ed7953"
             ],
             [
              0.7777777777777778,
              "#fb9f3a"
             ],
             [
              0.8888888888888888,
              "#fdca26"
             ],
             [
              1,
              "#f0f921"
             ]
            ],
            "type": "surface"
           }
          ],
          "table": [
           {
            "cells": {
             "fill": {
              "color": "#EBF0F8"
             },
             "line": {
              "color": "white"
             }
            },
            "header": {
             "fill": {
              "color": "#C8D4E3"
             },
             "line": {
              "color": "white"
             }
            },
            "type": "table"
           }
          ]
         },
         "layout": {
          "annotationdefaults": {
           "arrowcolor": "#2a3f5f",
           "arrowhead": 0,
           "arrowwidth": 1
          },
          "autotypenumbers": "strict",
          "coloraxis": {
           "colorbar": {
            "outlinewidth": 0,
            "ticks": ""
           }
          },
          "colorscale": {
           "diverging": [
            [
             0,
             "#8e0152"
            ],
            [
             0.1,
             "#c51b7d"
            ],
            [
             0.2,
             "#de77ae"
            ],
            [
             0.3,
             "#f1b6da"
            ],
            [
             0.4,
             "#fde0ef"
            ],
            [
             0.5,
             "#f7f7f7"
            ],
            [
             0.6,
             "#e6f5d0"
            ],
            [
             0.7,
             "#b8e186"
            ],
            [
             0.8,
             "#7fbc41"
            ],
            [
             0.9,
             "#4d9221"
            ],
            [
             1,
             "#276419"
            ]
           ],
           "sequential": [
            [
             0,
             "#0d0887"
            ],
            [
             0.1111111111111111,
             "#46039f"
            ],
            [
             0.2222222222222222,
             "#7201a8"
            ],
            [
             0.3333333333333333,
             "#9c179e"
            ],
            [
             0.4444444444444444,
             "#bd3786"
            ],
            [
             0.5555555555555556,
             "#d8576b"
            ],
            [
             0.6666666666666666,
             "#ed7953"
            ],
            [
             0.7777777777777778,
             "#fb9f3a"
            ],
            [
             0.8888888888888888,
             "#fdca26"
            ],
            [
             1,
             "#f0f921"
            ]
           ],
           "sequentialminus": [
            [
             0,
             "#0d0887"
            ],
            [
             0.1111111111111111,
             "#46039f"
            ],
            [
             0.2222222222222222,
             "#7201a8"
            ],
            [
             0.3333333333333333,
             "#9c179e"
            ],
            [
             0.4444444444444444,
             "#bd3786"
            ],
            [
             0.5555555555555556,
             "#d8576b"
            ],
            [
             0.6666666666666666,
             "#ed7953"
            ],
            [
             0.7777777777777778,
             "#fb9f3a"
            ],
            [
             0.8888888888888888,
             "#fdca26"
            ],
            [
             1,
             "#f0f921"
            ]
           ]
          },
          "colorway": [
           "#636efa",
           "#EF553B",
           "#00cc96",
           "#ab63fa",
           "#FFA15A",
           "#19d3f3",
           "#FF6692",
           "#B6E880",
           "#FF97FF",
           "#FECB52"
          ],
          "font": {
           "color": "#2a3f5f"
          },
          "geo": {
           "bgcolor": "white",
           "lakecolor": "white",
           "landcolor": "#E5ECF6",
           "showlakes": true,
           "showland": true,
           "subunitcolor": "white"
          },
          "hoverlabel": {
           "align": "left"
          },
          "hovermode": "closest",
          "mapbox": {
           "style": "light"
          },
          "paper_bgcolor": "white",
          "plot_bgcolor": "#E5ECF6",
          "polar": {
           "angularaxis": {
            "gridcolor": "white",
            "linecolor": "white",
            "ticks": ""
           },
           "bgcolor": "#E5ECF6",
           "radialaxis": {
            "gridcolor": "white",
            "linecolor": "white",
            "ticks": ""
           }
          },
          "scene": {
           "xaxis": {
            "backgroundcolor": "#E5ECF6",
            "gridcolor": "white",
            "gridwidth": 2,
            "linecolor": "white",
            "showbackground": true,
            "ticks": "",
            "zerolinecolor": "white"
           },
           "yaxis": {
            "backgroundcolor": "#E5ECF6",
            "gridcolor": "white",
            "gridwidth": 2,
            "linecolor": "white",
            "showbackground": true,
            "ticks": "",
            "zerolinecolor": "white"
           },
           "zaxis": {
            "backgroundcolor": "#E5ECF6",
            "gridcolor": "white",
            "gridwidth": 2,
            "linecolor": "white",
            "showbackground": true,
            "ticks": "",
            "zerolinecolor": "white"
           }
          },
          "shapedefaults": {
           "line": {
            "color": "#2a3f5f"
           }
          },
          "ternary": {
           "aaxis": {
            "gridcolor": "white",
            "linecolor": "white",
            "ticks": ""
           },
           "baxis": {
            "gridcolor": "white",
            "linecolor": "white",
            "ticks": ""
           },
           "bgcolor": "#E5ECF6",
           "caxis": {
            "gridcolor": "white",
            "linecolor": "white",
            "ticks": ""
           }
          },
          "title": {
           "x": 0.05
          },
          "xaxis": {
           "automargin": true,
           "gridcolor": "white",
           "linecolor": "white",
           "ticks": "",
           "title": {
            "standoff": 15
           },
           "zerolinecolor": "white",
           "zerolinewidth": 2
          },
          "yaxis": {
           "automargin": true,
           "gridcolor": "white",
           "linecolor": "white",
           "ticks": "",
           "title": {
            "standoff": 15
           },
           "zerolinecolor": "white",
           "zerolinewidth": 2
          }
         }
        },
        "title": {
         "font": {
          "size": 16
         },
         "text": "<b>Total points earned (0-100 scale)</b><br><sub>Academic Performance - Comparing Years 2021-2023</sub>"
        },
        "xaxis": {
         "anchor": "y",
         "domain": [
          0,
          0.25333333333333335
         ],
         "title": {
          "text": ""
         }
        },
        "xaxis2": {
         "anchor": "y2",
         "domain": [
          0.37333333333333335,
          0.6266666666666667
         ],
         "title": {
          "text": ""
         }
        },
        "xaxis3": {
         "anchor": "y3",
         "domain": [
          0.7466666666666667,
          1
         ],
         "title": {
          "text": "Academic Year"
         }
        },
        "yaxis": {
         "anchor": "x",
         "domain": [
          0,
          1
         ],
         "range": [
          -1.2868844160610542,
          10.616884416061055
         ],
         "title": {
          "text": "Points"
         }
        },
        "yaxis2": {
         "anchor": "x2",
         "domain": [
          0,
          1
         ],
         "range": [
          -1.2868844160610542,
          10.616884416061055
         ],
         "title": {
          "text": "Points"
         }
        },
        "yaxis3": {
         "anchor": "x3",
         "domain": [
          0,
          1
         ],
         "range": [
          -1.2868844160610542,
          10.616884416061055
         ],
         "title": {
          "text": "Points"
         }
        }
       }
      }
     },
     "metadata": {},
     "output_type": "display_data"
    },
    {
     "name": "stdout",
     "output_type": "stream",
     "text": [
      "\n",
      "📊 Total points earned (0-100 scale)\n",
      "Variable: fc_total_points\n",
      "------------------------------------------------------------\n",
      " Year  Count Mean Median Std Dev  Min  Max\n",
      " 2021     45 2.48   2.66    1.62 0.00 6.67\n",
      " 2022     49 5.66   6.34    2.56 0.00 9.33\n",
      " 2023     53 5.95   6.01    1.94 1.66 9.01\n",
      "\n",
      "📈 Trend: 2021 → 2023\n",
      "   ↑ Increased by 3.47 (139.9%)\n",
      "\n"
     ]
    },
    {
     "data": {
      "application/vnd.plotly.v1+json": {
       "config": {
        "plotlyServerURL": "https://plot.ly"
       },
       "data": [
        {
         "boxmean": "sd",
         "boxpoints": "outliers",
         "hovertemplate": "Year 2021<br>Value: %{y:.2f}<extra></extra>",
         "jitter": 0.3,
         "legendgroup": "2021",
         "marker": {
          "color": "#FF6B6B"
         },
         "name": "Year 2021",
         "pointpos": -1.8,
         "showlegend": true,
         "type": "box",
         "xaxis": "x",
         "y": {
          "bdata": "HVpkO99P1T9zaJHtfD/FP6AaL90kBsE/TDeJQWDlwD99PzVeuknkPx1aZDvfT9U/mpmZmZmZyT+amZmZmZm5Pxsv3SQGgdU/mpmZmZmZyT8dWmQ730/VP23n+6nx0s0/BoGVQ4ts1z8AAAAAAAAAAB1aZDvfT9U/mpmZmZmZyT9KDAIrhxbRP5qZmZmZmbk/AAAAAAAAAADHSzeJQWDVP5qZmZmZmbk/x0s3iUFgxT91kxgEVg7hP0oMAiuHFtE/MzMzMzMz0z+amZmZmZm5P7ByaJHtfNc/x0s3iUFgxT8AAAAAAAAAAEw3iUFg5aA/8tJNYhBY5T8zMzMzMzPTPzMzMzMzM9M/SgwCK4cW4T+gGi/dJAbBPwAAAAAAAOA/HVpkO99P1T9MN4lBYOWgP8dLN4lBYMU/oBov3SQG0T8AAAAAAAAAAMdLN4lBYNU/HVpkO99P1T9t5/up8dLNP6AaL90kBtE/",
          "dtype": "f8"
         },
         "yaxis": "y"
        },
        {
         "boxmean": "sd",
         "boxpoints": "outliers",
         "hovertemplate": "Year 2022<br>Value: %{y:.2f}<extra></extra>",
         "jitter": 0.3,
         "legendgroup": "2022",
         "marker": {
          "color": "#4ECDC4"
         },
         "name": "Year 2022",
         "pointpos": -1.8,
         "showlegend": true,
         "type": "box",
         "xaxis": "x",
         "y": {
          "bdata": "TDeJQWDlsD+amZmZmZnpP1g5tMh2vus/+n5qvHST6D8tsp3vp8brP5qZmZmZmdk/zczMzMzM7D9KDAIrhxbhP0w3iUFg5aA/+n5qvHST6D+wcmiR7XznP30/NV66SeQ/fT81XrpJ5D/b+X5qvHTnP76fGi/dJOI/x0s3iUFg5T9vEoPAyqHpP0oMAiuHFtE/oBov3SQG0T+TGARWDi3iP30/NV66SeQ/mpmZmZmZ6T8AAAAAAADgP+Olm8QgsOo/x0s3iUFg1T8lBoGVQ4voP/LSTWIQWOU/2/l+arx05z8OLbKd76fqPw4tsp3vp+o/iUFg5dAi0z8zMzMzMzPjP6jGSzeJQeQ/fT81XrpJ5D+gGi/dJAbRP0w3iUFg5bA/UrgehetR5D9MN4lBYOWwP0oMAiuHFuE/H4XrUbge4T/HSzeJQWDlP0Jg5dAi2+0/mpmZmZmZ2T/NzMzMzMzsPwAAAAAAAAAAqMZLN4lB5D+DwMqhRbbbP23n+6nx0s0/wcqhRbbz3T8=",
          "dtype": "f8"
         },
         "yaxis": "y"
        },
        {
         "boxmean": "sd",
         "boxpoints": "outliers",
         "hovertemplate": "Year 2023<br>Value: %{y:.2f}<extra></extra>",
         "jitter": 0.3,
         "legendgroup": "2023",
         "marker": {
          "color": "#45B7D1"
         },
         "name": "Year 2023",
         "pointpos": -1.8,
         "showlegend": true,
         "type": "box",
         "xaxis": "x",
         "y": {
          "bdata": "MzMzMzMz4z8tsp3vp8brP6JFtvP91Ow/BoGVQ4ts1z9YObTIdr7rPwisHFpkO+M/LbKd76fG2z/HSzeJQWDlP7ByaJHtfOc/x0s3iUFg5T+DwMqhRbbbP5qZmZmZmdk/bef7qfHS3T/ByqFFtvPNP9v5fmq8dOc/WDm0yHa+6z8lBoGVQ4voPzMzMzMzM9M/+n5qvHST6D8IrBxaZDvjPzvfT42XbuY/46WbxCCw6j/y0k1iEFjlPwisHFpkO+M/F9nO91Pj3T8AAAAAAADgP5MYBFYOLeI/O99PjZdu5j8dWmQ730/VP2ZmZmZmZuY/LbKd76fG2z/NzMzMzMzsP5qZmZmZmdk/dZMYBFYO4T9mZmZmZmbmP8dLN4lBYOU/ZmZmZmZm5j8X2c73U+PdP4lBYOXQItM/WDm0yHa+6z+wcmiR7XznP99PjZduEtM/H4XrUbge4T++nxov3STiP23n+6nx0s0/LbKd76fG6z91kxgEVg7hP7ByaJHtfOc/46WbxCCw6j+cxCCwcmjlP3Noke18P8U/kxgEVg4t4j8AAAAAAADgPw==",
          "dtype": "f8"
         },
         "yaxis": "y"
        },
        {
         "box": {
          "visible": true
         },
         "hovertemplate": "Year 2021<br>Value: %{y:.2f}<extra></extra>",
         "legendgroup": "2021",
         "marker": {
          "color": "#FF6B6B"
         },
         "meanline": {
          "visible": true
         },
         "name": "Year 2021",
         "opacity": 0.7,
         "showlegend": false,
         "type": "violin",
         "xaxis": "x2",
         "y": {
          "bdata": "HVpkO99P1T9zaJHtfD/FP6AaL90kBsE/TDeJQWDlwD99PzVeuknkPx1aZDvfT9U/mpmZmZmZyT+amZmZmZm5Pxsv3SQGgdU/mpmZmZmZyT8dWmQ730/VP23n+6nx0s0/BoGVQ4ts1z8AAAAAAAAAAB1aZDvfT9U/mpmZmZmZyT9KDAIrhxbRP5qZmZmZmbk/AAAAAAAAAADHSzeJQWDVP5qZmZmZmbk/x0s3iUFgxT91kxgEVg7hP0oMAiuHFtE/MzMzMzMz0z+amZmZmZm5P7ByaJHtfNc/x0s3iUFgxT8AAAAAAAAAAEw3iUFg5aA/8tJNYhBY5T8zMzMzMzPTPzMzMzMzM9M/SgwCK4cW4T+gGi/dJAbBPwAAAAAAAOA/HVpkO99P1T9MN4lBYOWgP8dLN4lBYMU/oBov3SQG0T8AAAAAAAAAAMdLN4lBYNU/HVpkO99P1T9t5/up8dLNP6AaL90kBtE/",
          "dtype": "f8"
         },
         "yaxis": "y2"
        },
        {
         "box": {
          "visible": true
         },
         "hovertemplate": "Year 2022<br>Value: %{y:.2f}<extra></extra>",
         "legendgroup": "2022",
         "marker": {
          "color": "#4ECDC4"
         },
         "meanline": {
          "visible": true
         },
         "name": "Year 2022",
         "opacity": 0.7,
         "showlegend": false,
         "type": "violin",
         "xaxis": "x2",
         "y": {
          "bdata": "TDeJQWDlsD+amZmZmZnpP1g5tMh2vus/+n5qvHST6D8tsp3vp8brP5qZmZmZmdk/zczMzMzM7D9KDAIrhxbhP0w3iUFg5aA/+n5qvHST6D+wcmiR7XznP30/NV66SeQ/fT81XrpJ5D/b+X5qvHTnP76fGi/dJOI/x0s3iUFg5T9vEoPAyqHpP0oMAiuHFtE/oBov3SQG0T+TGARWDi3iP30/NV66SeQ/mpmZmZmZ6T8AAAAAAADgP+Olm8QgsOo/x0s3iUFg1T8lBoGVQ4voP/LSTWIQWOU/2/l+arx05z8OLbKd76fqPw4tsp3vp+o/iUFg5dAi0z8zMzMzMzPjP6jGSzeJQeQ/fT81XrpJ5D+gGi/dJAbRP0w3iUFg5bA/UrgehetR5D9MN4lBYOWwP0oMAiuHFuE/H4XrUbge4T/HSzeJQWDlP0Jg5dAi2+0/mpmZmZmZ2T/NzMzMzMzsPwAAAAAAAAAAqMZLN4lB5D+DwMqhRbbbP23n+6nx0s0/wcqhRbbz3T8=",
          "dtype": "f8"
         },
         "yaxis": "y2"
        },
        {
         "box": {
          "visible": true
         },
         "hovertemplate": "Year 2023<br>Value: %{y:.2f}<extra></extra>",
         "legendgroup": "2023",
         "marker": {
          "color": "#45B7D1"
         },
         "meanline": {
          "visible": true
         },
         "name": "Year 2023",
         "opacity": 0.7,
         "showlegend": false,
         "type": "violin",
         "xaxis": "x2",
         "y": {
          "bdata": "MzMzMzMz4z8tsp3vp8brP6JFtvP91Ow/BoGVQ4ts1z9YObTIdr7rPwisHFpkO+M/LbKd76fG2z/HSzeJQWDlP7ByaJHtfOc/x0s3iUFg5T+DwMqhRbbbP5qZmZmZmdk/bef7qfHS3T/ByqFFtvPNP9v5fmq8dOc/WDm0yHa+6z8lBoGVQ4voPzMzMzMzM9M/+n5qvHST6D8IrBxaZDvjPzvfT42XbuY/46WbxCCw6j/y0k1iEFjlPwisHFpkO+M/F9nO91Pj3T8AAAAAAADgP5MYBFYOLeI/O99PjZdu5j8dWmQ730/VP2ZmZmZmZuY/LbKd76fG2z/NzMzMzMzsP5qZmZmZmdk/dZMYBFYO4T9mZmZmZmbmP8dLN4lBYOU/ZmZmZmZm5j8X2c73U+PdP4lBYOXQItM/WDm0yHa+6z+wcmiR7XznP99PjZduEtM/H4XrUbge4T++nxov3STiP23n+6nx0s0/LbKd76fG6z91kxgEVg7hP7ByaJHtfOc/46WbxCCw6j+cxCCwcmjlP3Noke18P8U/kxgEVg4t4j8AAAAAAADgPw==",
          "dtype": "f8"
         },
         "yaxis": "y2"
        },
        {
         "error_y": {
          "array": [
           0.16196879609693624,
           0.2557169476450968,
           0.1939081093253168
          ],
          "color": "rgba(0,0,0,0.3)",
          "type": "data",
          "visible": true
         },
         "hovertemplate": "Year: %{x}<br>Mean: %{y:.2f}<br>Std: %{error_y.array:.2f}<extra></extra>",
         "line": {
          "color": "#FF6B6B",
          "width": 2
         },
         "marker": {
          "color": "#FF6B6B",
          "size": 12
         },
         "mode": "lines+markers",
         "name": "Mean ± Std Dev",
         "showlegend": false,
         "type": "scatter",
         "x": [
          2021,
          2022,
          2023
         ],
         "xaxis": "x3",
         "y": [
          0.24813333333333334,
          0.566265306122449,
          0.595377358490566
         ],
         "yaxis": "y3"
        },
        {
         "hovertemplate": "Year 2021<br>Mean: 0.25<extra></extra>",
         "marker": {
          "color": "#FF6B6B",
          "size": 15
         },
         "mode": "markers+text",
         "showlegend": false,
         "text": [
          "0.25"
         ],
         "textfont": {
          "size": 12
         },
         "textposition": "top center",
         "type": "scatter",
         "x": [
          2021
         ],
         "xaxis": "x3",
         "y": [
          0.24813333333333334
         ],
         "yaxis": "y3"
        },
        {
         "hovertemplate": "Year 2022<br>Mean: 0.57<extra></extra>",
         "marker": {
          "color": "#4ECDC4",
          "size": 15
         },
         "mode": "markers+text",
         "showlegend": false,
         "text": [
          "0.57"
         ],
         "textfont": {
          "size": 12
         },
         "textposition": "top center",
         "type": "scatter",
         "x": [
          2022
         ],
         "xaxis": "x3",
         "y": [
          0.566265306122449
         ],
         "yaxis": "y3"
        },
        {
         "hovertemplate": "Year 2023<br>Mean: 0.60<extra></extra>",
         "marker": {
          "color": "#45B7D1",
          "size": 15
         },
         "mode": "markers+text",
         "showlegend": false,
         "text": [
          "0.60"
         ],
         "textfont": {
          "size": 12
         },
         "textposition": "top center",
         "type": "scatter",
         "x": [
          2023
         ],
         "xaxis": "x3",
         "y": [
          0.595377358490566
         ],
         "yaxis": "y3"
        }
       ],
       "layout": {
        "annotations": [
         {
          "font": {
           "size": 16
          },
          "showarrow": false,
          "text": "Box Plot (Shows Range & Average)",
          "x": 0.12666666666666668,
          "xanchor": "center",
          "xref": "paper",
          "y": 1,
          "yanchor": "bottom",
          "yref": "paper"
         },
         {
          "font": {
           "size": 16
          },
          "showarrow": false,
          "text": "Violin Plot (Shows Distribution Shape)",
          "x": 0.5,
          "xanchor": "center",
          "xref": "paper",
          "y": 1,
          "yanchor": "bottom",
          "yref": "paper"
         },
         {
          "font": {
           "size": 16
          },
          "showarrow": false,
          "text": "Mean Values with Error Bars",
          "x": 0.8733333333333333,
          "xanchor": "center",
          "xref": "paper",
          "y": 1,
          "yanchor": "bottom",
          "yref": "paper"
         }
        ],
        "font": {
         "size": 11
        },
        "height": 500,
        "hovermode": "closest",
        "legend": {
         "orientation": "h",
         "x": 1,
         "xanchor": "right",
         "y": 1.02,
         "yanchor": "bottom"
        },
        "showlegend": true,
        "template": {
         "data": {
          "bar": [
           {
            "error_x": {
             "color": "#2a3f5f"
            },
            "error_y": {
             "color": "#2a3f5f"
            },
            "marker": {
             "line": {
              "color": "#E5ECF6",
              "width": 0.5
             },
             "pattern": {
              "fillmode": "overlay",
              "size": 10,
              "solidity": 0.2
             }
            },
            "type": "bar"
           }
          ],
          "barpolar": [
           {
            "marker": {
             "line": {
              "color": "#E5ECF6",
              "width": 0.5
             },
             "pattern": {
              "fillmode": "overlay",
              "size": 10,
              "solidity": 0.2
             }
            },
            "type": "barpolar"
           }
          ],
          "carpet": [
           {
            "aaxis": {
             "endlinecolor": "#2a3f5f",
             "gridcolor": "white",
             "linecolor": "white",
             "minorgridcolor": "white",
             "startlinecolor": "#2a3f5f"
            },
            "baxis": {
             "endlinecolor": "#2a3f5f",
             "gridcolor": "white",
             "linecolor": "white",
             "minorgridcolor": "white",
             "startlinecolor": "#2a3f5f"
            },
            "type": "carpet"
           }
          ],
          "choropleth": [
           {
            "colorbar": {
             "outlinewidth": 0,
             "ticks": ""
            },
            "type": "choropleth"
           }
          ],
          "contour": [
           {
            "colorbar": {
             "outlinewidth": 0,
             "ticks": ""
            },
            "colorscale": [
             [
              0,
              "#0d0887"
             ],
             [
              0.1111111111111111,
              "#46039f"
             ],
             [
              0.2222222222222222,
              "#7201a8"
             ],
             [
              0.3333333333333333,
              "#9c179e"
             ],
             [
              0.4444444444444444,
              "#bd3786"
             ],
             [
              0.5555555555555556,
              "#d8576b"
             ],
             [
              0.6666666666666666,
              "#ed7953"
             ],
             [
              0.7777777777777778,
              "#fb9f3a"
             ],
             [
              0.8888888888888888,
              "#fdca26"
             ],
             [
              1,
              "#f0f921"
             ]
            ],
            "type": "contour"
           }
          ],
          "contourcarpet": [
           {
            "colorbar": {
             "outlinewidth": 0,
             "ticks": ""
            },
            "type": "contourcarpet"
           }
          ],
          "heatmap": [
           {
            "colorbar": {
             "outlinewidth": 0,
             "ticks": ""
            },
            "colorscale": [
             [
              0,
              "#0d0887"
             ],
             [
              0.1111111111111111,
              "#46039f"
             ],
             [
              0.2222222222222222,
              "#7201a8"
             ],
             [
              0.3333333333333333,
              "#9c179e"
             ],
             [
              0.4444444444444444,
              "#bd3786"
             ],
             [
              0.5555555555555556,
              "#d8576b"
             ],
             [
              0.6666666666666666,
              "#ed7953"
             ],
             [
              0.7777777777777778,
              "#fb9f3a"
             ],
             [
              0.8888888888888888,
              "#fdca26"
             ],
             [
              1,
              "#f0f921"
             ]
            ],
            "type": "heatmap"
           }
          ],
          "histogram": [
           {
            "marker": {
             "pattern": {
              "fillmode": "overlay",
              "size": 10,
              "solidity": 0.2
             }
            },
            "type": "histogram"
           }
          ],
          "histogram2d": [
           {
            "colorbar": {
             "outlinewidth": 0,
             "ticks": ""
            },
            "colorscale": [
             [
              0,
              "#0d0887"
             ],
             [
              0.1111111111111111,
              "#46039f"
             ],
             [
              0.2222222222222222,
              "#7201a8"
             ],
             [
              0.3333333333333333,
              "#9c179e"
             ],
             [
              0.4444444444444444,
              "#bd3786"
             ],
             [
              0.5555555555555556,
              "#d8576b"
             ],
             [
              0.6666666666666666,
              "#ed7953"
             ],
             [
              0.7777777777777778,
              "#fb9f3a"
             ],
             [
              0.8888888888888888,
              "#fdca26"
             ],
             [
              1,
              "#f0f921"
             ]
            ],
            "type": "histogram2d"
           }
          ],
          "histogram2dcontour": [
           {
            "colorbar": {
             "outlinewidth": 0,
             "ticks": ""
            },
            "colorscale": [
             [
              0,
              "#0d0887"
             ],
             [
              0.1111111111111111,
              "#46039f"
             ],
             [
              0.2222222222222222,
              "#7201a8"
             ],
             [
              0.3333333333333333,
              "#9c179e"
             ],
             [
              0.4444444444444444,
              "#bd3786"
             ],
             [
              0.5555555555555556,
              "#d8576b"
             ],
             [
              0.6666666666666666,
              "#ed7953"
             ],
             [
              0.7777777777777778,
              "#fb9f3a"
             ],
             [
              0.8888888888888888,
              "#fdca26"
             ],
             [
              1,
              "#f0f921"
             ]
            ],
            "type": "histogram2dcontour"
           }
          ],
          "mesh3d": [
           {
            "colorbar": {
             "outlinewidth": 0,
             "ticks": ""
            },
            "type": "mesh3d"
           }
          ],
          "parcoords": [
           {
            "line": {
             "colorbar": {
              "outlinewidth": 0,
              "ticks": ""
             }
            },
            "type": "parcoords"
           }
          ],
          "pie": [
           {
            "automargin": true,
            "type": "pie"
           }
          ],
          "scatter": [
           {
            "fillpattern": {
             "fillmode": "overlay",
             "size": 10,
             "solidity": 0.2
            },
            "type": "scatter"
           }
          ],
          "scatter3d": [
           {
            "line": {
             "colorbar": {
              "outlinewidth": 0,
              "ticks": ""
             }
            },
            "marker": {
             "colorbar": {
              "outlinewidth": 0,
              "ticks": ""
             }
            },
            "type": "scatter3d"
           }
          ],
          "scattercarpet": [
           {
            "marker": {
             "colorbar": {
              "outlinewidth": 0,
              "ticks": ""
             }
            },
            "type": "scattercarpet"
           }
          ],
          "scattergeo": [
           {
            "marker": {
             "colorbar": {
              "outlinewidth": 0,
              "ticks": ""
             }
            },
            "type": "scattergeo"
           }
          ],
          "scattergl": [
           {
            "marker": {
             "colorbar": {
              "outlinewidth": 0,
              "ticks": ""
             }
            },
            "type": "scattergl"
           }
          ],
          "scattermap": [
           {
            "marker": {
             "colorbar": {
              "outlinewidth": 0,
              "ticks": ""
             }
            },
            "type": "scattermap"
           }
          ],
          "scattermapbox": [
           {
            "marker": {
             "colorbar": {
              "outlinewidth": 0,
              "ticks": ""
             }
            },
            "type": "scattermapbox"
           }
          ],
          "scatterpolar": [
           {
            "marker": {
             "colorbar": {
              "outlinewidth": 0,
              "ticks": ""
             }
            },
            "type": "scatterpolar"
           }
          ],
          "scatterpolargl": [
           {
            "marker": {
             "colorbar": {
              "outlinewidth": 0,
              "ticks": ""
             }
            },
            "type": "scatterpolargl"
           }
          ],
          "scatterternary": [
           {
            "marker": {
             "colorbar": {
              "outlinewidth": 0,
              "ticks": ""
             }
            },
            "type": "scatterternary"
           }
          ],
          "surface": [
           {
            "colorbar": {
             "outlinewidth": 0,
             "ticks": ""
            },
            "colorscale": [
             [
              0,
              "#0d0887"
             ],
             [
              0.1111111111111111,
              "#46039f"
             ],
             [
              0.2222222222222222,
              "#7201a8"
             ],
             [
              0.3333333333333333,
              "#9c179e"
             ],
             [
              0.4444444444444444,
              "#bd3786"
             ],
             [
              0.5555555555555556,
              "#d8576b"
             ],
             [
              0.6666666666666666,
              "#ed7953"
             ],
             [
              0.7777777777777778,
              "#fb9f3a"
             ],
             [
              0.8888888888888888,
              "#fdca26"
             ],
             [
              1,
              "#f0f921"
             ]
            ],
            "type": "surface"
           }
          ],
          "table": [
           {
            "cells": {
             "fill": {
              "color": "#EBF0F8"
             },
             "line": {
              "color": "white"
             }
            },
            "header": {
             "fill": {
              "color": "#C8D4E3"
             },
             "line": {
              "color": "white"
             }
            },
            "type": "table"
           }
          ]
         },
         "layout": {
          "annotationdefaults": {
           "arrowcolor": "#2a3f5f",
           "arrowhead": 0,
           "arrowwidth": 1
          },
          "autotypenumbers": "strict",
          "coloraxis": {
           "colorbar": {
            "outlinewidth": 0,
            "ticks": ""
           }
          },
          "colorscale": {
           "diverging": [
            [
             0,
             "#8e0152"
            ],
            [
             0.1,
             "#c51b7d"
            ],
            [
             0.2,
             "#de77ae"
            ],
            [
             0.3,
             "#f1b6da"
            ],
            [
             0.4,
             "#fde0ef"
            ],
            [
             0.5,
             "#f7f7f7"
            ],
            [
             0.6,
             "#e6f5d0"
            ],
            [
             0.7,
             "#b8e186"
            ],
            [
             0.8,
             "#7fbc41"
            ],
            [
             0.9,
             "#4d9221"
            ],
            [
             1,
             "#276419"
            ]
           ],
           "sequential": [
            [
             0,
             "#0d0887"
            ],
            [
             0.1111111111111111,
             "#46039f"
            ],
            [
             0.2222222222222222,
             "#7201a8"
            ],
            [
             0.3333333333333333,
             "#9c179e"
            ],
            [
             0.4444444444444444,
             "#bd3786"
            ],
            [
             0.5555555555555556,
             "#d8576b"
            ],
            [
             0.6666666666666666,
             "#ed7953"
            ],
            [
             0.7777777777777778,
             "#fb9f3a"
            ],
            [
             0.8888888888888888,
             "#fdca26"
            ],
            [
             1,
             "#f0f921"
            ]
           ],
           "sequentialminus": [
            [
             0,
             "#0d0887"
            ],
            [
             0.1111111111111111,
             "#46039f"
            ],
            [
             0.2222222222222222,
             "#7201a8"
            ],
            [
             0.3333333333333333,
             "#9c179e"
            ],
            [
             0.4444444444444444,
             "#bd3786"
            ],
            [
             0.5555555555555556,
             "#d8576b"
            ],
            [
             0.6666666666666666,
             "#ed7953"
            ],
            [
             0.7777777777777778,
             "#fb9f3a"
            ],
            [
             0.8888888888888888,
             "#fdca26"
            ],
            [
             1,
             "#f0f921"
            ]
           ]
          },
          "colorway": [
           "#636efa",
           "#EF553B",
           "#00cc96",
           "#ab63fa",
           "#FFA15A",
           "#19d3f3",
           "#FF6692",
           "#B6E880",
           "#FF97FF",
           "#FECB52"
          ],
          "font": {
           "color": "#2a3f5f"
          },
          "geo": {
           "bgcolor": "white",
           "lakecolor": "white",
           "landcolor": "#E5ECF6",
           "showlakes": true,
           "showland": true,
           "subunitcolor": "white"
          },
          "hoverlabel": {
           "align": "left"
          },
          "hovermode": "closest",
          "mapbox": {
           "style": "light"
          },
          "paper_bgcolor": "white",
          "plot_bgcolor": "#E5ECF6",
          "polar": {
           "angularaxis": {
            "gridcolor": "white",
            "linecolor": "white",
            "ticks": ""
           },
           "bgcolor": "#E5ECF6",
           "radialaxis": {
            "gridcolor": "white",
            "linecolor": "white",
            "ticks": ""
           }
          },
          "scene": {
           "xaxis": {
            "backgroundcolor": "#E5ECF6",
            "gridcolor": "white",
            "gridwidth": 2,
            "linecolor": "white",
            "showbackground": true,
            "ticks": "",
            "zerolinecolor": "white"
           },
           "yaxis": {
            "backgroundcolor": "#E5ECF6",
            "gridcolor": "white",
            "gridwidth": 2,
            "linecolor": "white",
            "showbackground": true,
            "ticks": "",
            "zerolinecolor": "white"
           },
           "zaxis": {
            "backgroundcolor": "#E5ECF6",
            "gridcolor": "white",
            "gridwidth": 2,
            "linecolor": "white",
            "showbackground": true,
            "ticks": "",
            "zerolinecolor": "white"
           }
          },
          "shapedefaults": {
           "line": {
            "color": "#2a3f5f"
           }
          },
          "ternary": {
           "aaxis": {
            "gridcolor": "white",
            "linecolor": "white",
            "ticks": ""
           },
           "baxis": {
            "gridcolor": "white",
            "linecolor": "white",
            "ticks": ""
           },
           "bgcolor": "#E5ECF6",
           "caxis": {
            "gridcolor": "white",
            "linecolor": "white",
            "ticks": ""
           }
          },
          "title": {
           "x": 0.05
          },
          "xaxis": {
           "automargin": true,
           "gridcolor": "white",
           "linecolor": "white",
           "ticks": "",
           "title": {
            "standoff": 15
           },
           "zerolinecolor": "white",
           "zerolinewidth": 2
          },
          "yaxis": {
           "automargin": true,
           "gridcolor": "white",
           "linecolor": "white",
           "ticks": "",
           "title": {
            "standoff": 15
           },
           "zerolinecolor": "white",
           "zerolinewidth": 2
          }
         }
        },
        "title": {
         "font": {
          "size": 16
         },
         "text": "<b>Percentage of maximum points</b><br><sub>Academic Performance - Comparing Years 2021-2023</sub>"
        },
        "xaxis": {
         "anchor": "y",
         "domain": [
          0,
          0.25333333333333335
         ],
         "title": {
          "text": ""
         }
        },
        "xaxis2": {
         "anchor": "y2",
         "domain": [
          0.37333333333333335,
          0.6266666666666667
         ],
         "title": {
          "text": ""
         }
        },
        "xaxis3": {
         "anchor": "y3",
         "domain": [
          0.7466666666666667,
          1
         ],
         "title": {
          "text": "Academic Year"
         }
        },
        "yaxis": {
         "anchor": "x",
         "domain": [
          0,
          1
         ],
         "range": [
          -0.12868844160610543,
          1.0616884416061054
         ],
         "title": {
          "text": "Percentage (%)"
         }
        },
        "yaxis2": {
         "anchor": "x2",
         "domain": [
          0,
          1
         ],
         "range": [
          -0.12868844160610543,
          1.0616884416061054
         ],
         "title": {
          "text": "Percentage (%)"
         }
        },
        "yaxis3": {
         "anchor": "x3",
         "domain": [
          0,
          1
         ],
         "range": [
          -0.12868844160610543,
          1.0616884416061054
         ],
         "title": {
          "text": "Percentage (%)"
         }
        }
       }
      }
     },
     "metadata": {},
     "output_type": "display_data"
    },
    {
     "name": "stdout",
     "output_type": "stream",
     "text": [
      "\n",
      "📊 Percentage of maximum points\n",
      "Variable: percentage_points\n",
      "------------------------------------------------------------\n",
      " Year  Count Mean Median Std Dev  Min  Max\n",
      " 2021     45 0.25   0.27    0.16 0.00 0.67\n",
      " 2022     49 0.57   0.63    0.26 0.00 0.93\n",
      " 2023     53 0.60   0.60    0.19 0.17 0.90\n",
      "\n",
      "📈 Trend: 2021 → 2023\n",
      "   ↑ Increased by 0.35 (139.9%)\n",
      "\n"
     ]
    },
    {
     "data": {
      "application/vnd.plotly.v1+json": {
       "config": {
        "plotlyServerURL": "https://plot.ly"
       },
       "data": [
        {
         "boxmean": "sd",
         "boxpoints": "outliers",
         "hovertemplate": "Year 2021<br>Value: %{y:.2f}<extra></extra>",
         "jitter": 0.3,
         "legendgroup": "2021",
         "marker": {
          "color": "#FF6B6B"
         },
         "name": "Year 2021",
         "pointpos": -1.8,
         "showlegend": true,
         "type": "box",
         "xaxis": "x",
         "y": {
          "bdata": "AAAAAAAAIkAAAAAAAAAgQAAAAAAAACJAAAAAAAAAIkAAAAAAAAAcQAAAAAAAACBAAAAAAAAAJEAAAAAAAAAgQAAAAAAAAABAAAAAAAAAHEAAAAAAAAAYQAAAAAAAACRAAAAAAAAAHEAAAAAAAAAYQAAAAAAAAAhAAAAAAAAAIkAAAAAAAAAYQAAAAAAAABxAAAAAAAAAHEAAAAAAAAAYQAAAAAAAABxAAAAAAAAAHEAAAAAAAAAgQAAAAAAAACJAAAAAAAAAIkAAAAAAAAAgQAAAAAAAACJAAAAAAAAAIEAAAAAAAAAYQAAAAAAAABxAAAAAAAAAHEAAAAAAAAAgQAAAAAAAABhAAAAAAAAAIEAAAAAAAAAgQAAAAAAAACBAAAAAAAAAGEAAAAAAAAAYQAAAAAAAABRAAAAAAAAAHEAAAAAAAAAQQAAAAAAAABhAAAAAAAAAJEAAAAAAAAAkQAAAAAAAABxA",
          "dtype": "f8"
         },
         "yaxis": "y"
        },
        {
         "boxmean": "sd",
         "boxpoints": "outliers",
         "hovertemplate": "Year 2022<br>Value: %{y:.2f}<extra></extra>",
         "jitter": 0.3,
         "legendgroup": "2022",
         "marker": {
          "color": "#4ECDC4"
         },
         "name": "Year 2022",
         "pointpos": -1.8,
         "showlegend": true,
         "type": "box",
         "xaxis": "x",
         "y": {
          "bdata": "AAAAAAAAHEAAAAAAAAAgQAAAAAAAABxAAAAAAAAAHEAAAAAAAAAgQAAAAAAAABhAAAAAAAAAGEAAAAAAAAAiQAAAAAAAACJAAAAAAAAAHEAAAAAAAAAcQAAAAAAAABxAAAAAAAAAHEAAAAAAAAAcQAAAAAAAABhAAAAAAAAAIEAAAAAAAAAUQAAAAAAAABhAAAAAAAAAHEAAAAAAAAAcQAAAAAAAABxAAAAAAAAAIEAAAAAAAAAcQAAAAAAAACBAAAAAAAAAIkAAAAAAAAAcQAAAAAAAACJAAAAAAAAAHEAAAAAAAAAiQAAAAAAAACJAAAAAAAAAGEAAAAAAAAAUQAAAAAAAABxAAAAAAAAAHEAAAAAAAAAYQAAAAAAAABhAAAAAAAAAFEAAAAAAAAAcQAAAAAAAABxAAAAAAAAAGEAAAAAAAAAkQAAAAAAAABxAAAAAAAAAJEAAAAAAAAAYQAAAAAAAABhAAAAAAAAAGEAAAAAAAAAUQAAAAAAAABxA",
          "dtype": "f8"
         },
         "yaxis": "y"
        },
        {
         "boxmean": "sd",
         "boxpoints": "outliers",
         "hovertemplate": "Year 2023<br>Value: %{y:.2f}<extra></extra>",
         "jitter": 0.3,
         "legendgroup": "2023",
         "marker": {
          "color": "#45B7D1"
         },
         "name": "Year 2023",
         "pointpos": -1.8,
         "showlegend": true,
         "type": "box",
         "xaxis": "x",
         "y": {
          "bdata": "AAAAAAAAIkAAAAAAAAAcQAAAAAAAABhAAAAAAAAACEAAAAAAAAAYQAAAAAAAACBAAAAAAAAAEEAAAAAAAAAgQAAAAAAAABhAAAAAAAAAJEAAAAAAAAAQQAAAAAAAABxAAAAAAAAAIEAAAAAAAAAQQAAAAAAAACJAAAAAAAAAIkAAAAAAAAAcQAAAAAAAABhAAAAAAAAAFEAAAAAAAAAgQAAAAAAAAAhAAAAAAAAACEAAAAAAAAAQQAAAAAAAACRAAAAAAAAACEAAAAAAAAAkQAAAAAAAABxAAAAAAAAAHEAAAAAAAAAgQAAAAAAAABxAAAAAAAAAIkAAAAAAAAAcQAAAAAAAABRAAAAAAAAAHEAAAAAAAAAgQAAAAAAAABxAAAAAAAAAHEAAAAAAAAAcQAAAAAAAACBAAAAAAAAAIEAAAAAAAAAIQAAAAAAAABxAAAAAAAAAIEAAAAAAAAAAQAAAAAAAACRAAAAAAAAAGEAAAAAAAAAkQAAAAAAAACRAAAAAAAAAIEAAAAAAAAAUQAAAAAAAACRAAAAAAAAAHEA=",
          "dtype": "f8"
         },
         "yaxis": "y"
        },
        {
         "box": {
          "visible": true
         },
         "hovertemplate": "Year 2021<br>Value: %{y:.2f}<extra></extra>",
         "legendgroup": "2021",
         "marker": {
          "color": "#FF6B6B"
         },
         "meanline": {
          "visible": true
         },
         "name": "Year 2021",
         "opacity": 0.7,
         "showlegend": false,
         "type": "violin",
         "xaxis": "x2",
         "y": {
          "bdata": "AAAAAAAAIkAAAAAAAAAgQAAAAAAAACJAAAAAAAAAIkAAAAAAAAAcQAAAAAAAACBAAAAAAAAAJEAAAAAAAAAgQAAAAAAAAABAAAAAAAAAHEAAAAAAAAAYQAAAAAAAACRAAAAAAAAAHEAAAAAAAAAYQAAAAAAAAAhAAAAAAAAAIkAAAAAAAAAYQAAAAAAAABxAAAAAAAAAHEAAAAAAAAAYQAAAAAAAABxAAAAAAAAAHEAAAAAAAAAgQAAAAAAAACJAAAAAAAAAIkAAAAAAAAAgQAAAAAAAACJAAAAAAAAAIEAAAAAAAAAYQAAAAAAAABxAAAAAAAAAHEAAAAAAAAAgQAAAAAAAABhAAAAAAAAAIEAAAAAAAAAgQAAAAAAAACBAAAAAAAAAGEAAAAAAAAAYQAAAAAAAABRAAAAAAAAAHEAAAAAAAAAQQAAAAAAAABhAAAAAAAAAJEAAAAAAAAAkQAAAAAAAABxA",
          "dtype": "f8"
         },
         "yaxis": "y2"
        },
        {
         "box": {
          "visible": true
         },
         "hovertemplate": "Year 2022<br>Value: %{y:.2f}<extra></extra>",
         "legendgroup": "2022",
         "marker": {
          "color": "#4ECDC4"
         },
         "meanline": {
          "visible": true
         },
         "name": "Year 2022",
         "opacity": 0.7,
         "showlegend": false,
         "type": "violin",
         "xaxis": "x2",
         "y": {
          "bdata": "AAAAAAAAHEAAAAAAAAAgQAAAAAAAABxAAAAAAAAAHEAAAAAAAAAgQAAAAAAAABhAAAAAAAAAGEAAAAAAAAAiQAAAAAAAACJAAAAAAAAAHEAAAAAAAAAcQAAAAAAAABxAAAAAAAAAHEAAAAAAAAAcQAAAAAAAABhAAAAAAAAAIEAAAAAAAAAUQAAAAAAAABhAAAAAAAAAHEAAAAAAAAAcQAAAAAAAABxAAAAAAAAAIEAAAAAAAAAcQAAAAAAAACBAAAAAAAAAIkAAAAAAAAAcQAAAAAAAACJAAAAAAAAAHEAAAAAAAAAiQAAAAAAAACJAAAAAAAAAGEAAAAAAAAAUQAAAAAAAABxAAAAAAAAAHEAAAAAAAAAYQAAAAAAAABhAAAAAAAAAFEAAAAAAAAAcQAAAAAAAABxAAAAAAAAAGEAAAAAAAAAkQAAAAAAAABxAAAAAAAAAJEAAAAAAAAAYQAAAAAAAABhAAAAAAAAAGEAAAAAAAAAUQAAAAAAAABxA",
          "dtype": "f8"
         },
         "yaxis": "y2"
        },
        {
         "box": {
          "visible": true
         },
         "hovertemplate": "Year 2023<br>Value: %{y:.2f}<extra></extra>",
         "legendgroup": "2023",
         "marker": {
          "color": "#45B7D1"
         },
         "meanline": {
          "visible": true
         },
         "name": "Year 2023",
         "opacity": 0.7,
         "showlegend": false,
         "type": "violin",
         "xaxis": "x2",
         "y": {
          "bdata": "AAAAAAAAIkAAAAAAAAAcQAAAAAAAABhAAAAAAAAACEAAAAAAAAAYQAAAAAAAACBAAAAAAAAAEEAAAAAAAAAgQAAAAAAAABhAAAAAAAAAJEAAAAAAAAAQQAAAAAAAABxAAAAAAAAAIEAAAAAAAAAQQAAAAAAAACJAAAAAAAAAIkAAAAAAAAAcQAAAAAAAABhAAAAAAAAAFEAAAAAAAAAgQAAAAAAAAAhAAAAAAAAACEAAAAAAAAAQQAAAAAAAACRAAAAAAAAACEAAAAAAAAAkQAAAAAAAABxAAAAAAAAAHEAAAAAAAAAgQAAAAAAAABxAAAAAAAAAIkAAAAAAAAAcQAAAAAAAABRAAAAAAAAAHEAAAAAAAAAgQAAAAAAAABxAAAAAAAAAHEAAAAAAAAAcQAAAAAAAACBAAAAAAAAAIEAAAAAAAAAIQAAAAAAAABxAAAAAAAAAIEAAAAAAAAAAQAAAAAAAACRAAAAAAAAAGEAAAAAAAAAkQAAAAAAAACRAAAAAAAAAIEAAAAAAAAAUQAAAAAAAACRAAAAAAAAAHEA=",
          "dtype": "f8"
         },
         "yaxis": "y2"
        },
        {
         "error_y": {
          "array": [
           1.7401962039617336,
           1.251948835426122,
           2.1937625825226896
          ],
          "color": "rgba(0,0,0,0.3)",
          "type": "data",
          "visible": true
         },
         "hovertemplate": "Year: %{x}<br>Mean: %{y:.2f}<br>Std: %{error_y.array:.2f}<extra></extra>",
         "line": {
          "color": "#FF6B6B",
          "width": 2
         },
         "marker": {
          "color": "#FF6B6B",
          "size": 12
         },
         "mode": "lines+markers",
         "name": "Mean ± Std Dev",
         "showlegend": false,
         "type": "scatter",
         "x": [
          2021,
          2022,
          2023
         ],
         "xaxis": "x3",
         "y": [
          7.288888888888889,
          7.083333333333333,
          6.826923076923077
         ],
         "yaxis": "y3"
        },
        {
         "hovertemplate": "Year 2021<br>Mean: 7.29<extra></extra>",
         "marker": {
          "color": "#FF6B6B",
          "size": 15
         },
         "mode": "markers+text",
         "showlegend": false,
         "text": [
          "7.29"
         ],
         "textfont": {
          "size": 12
         },
         "textposition": "top center",
         "type": "scatter",
         "x": [
          2021
         ],
         "xaxis": "x3",
         "y": [
          7.288888888888889
         ],
         "yaxis": "y3"
        },
        {
         "hovertemplate": "Year 2022<br>Mean: 7.08<extra></extra>",
         "marker": {
          "color": "#4ECDC4",
          "size": 15
         },
         "mode": "markers+text",
         "showlegend": false,
         "text": [
          "7.08"
         ],
         "textfont": {
          "size": 12
         },
         "textposition": "top center",
         "type": "scatter",
         "x": [
          2022
         ],
         "xaxis": "x3",
         "y": [
          7.083333333333333
         ],
         "yaxis": "y3"
        },
        {
         "hovertemplate": "Year 2023<br>Mean: 6.83<extra></extra>",
         "marker": {
          "color": "#45B7D1",
          "size": 15
         },
         "mode": "markers+text",
         "showlegend": false,
         "text": [
          "6.83"
         ],
         "textfont": {
          "size": 12
         },
         "textposition": "top center",
         "type": "scatter",
         "x": [
          2023
         ],
         "xaxis": "x3",
         "y": [
          6.826923076923077
         ],
         "yaxis": "y3"
        }
       ],
       "layout": {
        "annotations": [
         {
          "font": {
           "size": 16
          },
          "showarrow": false,
          "text": "Box Plot (Shows Range & Average)",
          "x": 0.12666666666666668,
          "xanchor": "center",
          "xref": "paper",
          "y": 1,
          "yanchor": "bottom",
          "yref": "paper"
         },
         {
          "font": {
           "size": 16
          },
          "showarrow": false,
          "text": "Violin Plot (Shows Distribution Shape)",
          "x": 0.5,
          "xanchor": "center",
          "xref": "paper",
          "y": 1,
          "yanchor": "bottom",
          "yref": "paper"
         },
         {
          "font": {
           "size": 16
          },
          "showarrow": false,
          "text": "Mean Values with Error Bars",
          "x": 0.8733333333333333,
          "xanchor": "center",
          "xref": "paper",
          "y": 1,
          "yanchor": "bottom",
          "yref": "paper"
         }
        ],
        "font": {
         "size": 11
        },
        "height": 500,
        "hovermode": "closest",
        "legend": {
         "orientation": "h",
         "x": 1,
         "xanchor": "right",
         "y": 1.02,
         "yanchor": "bottom"
        },
        "showlegend": true,
        "template": {
         "data": {
          "bar": [
           {
            "error_x": {
             "color": "#2a3f5f"
            },
            "error_y": {
             "color": "#2a3f5f"
            },
            "marker": {
             "line": {
              "color": "#E5ECF6",
              "width": 0.5
             },
             "pattern": {
              "fillmode": "overlay",
              "size": 10,
              "solidity": 0.2
             }
            },
            "type": "bar"
           }
          ],
          "barpolar": [
           {
            "marker": {
             "line": {
              "color": "#E5ECF6",
              "width": 0.5
             },
             "pattern": {
              "fillmode": "overlay",
              "size": 10,
              "solidity": 0.2
             }
            },
            "type": "barpolar"
           }
          ],
          "carpet": [
           {
            "aaxis": {
             "endlinecolor": "#2a3f5f",
             "gridcolor": "white",
             "linecolor": "white",
             "minorgridcolor": "white",
             "startlinecolor": "#2a3f5f"
            },
            "baxis": {
             "endlinecolor": "#2a3f5f",
             "gridcolor": "white",
             "linecolor": "white",
             "minorgridcolor": "white",
             "startlinecolor": "#2a3f5f"
            },
            "type": "carpet"
           }
          ],
          "choropleth": [
           {
            "colorbar": {
             "outlinewidth": 0,
             "ticks": ""
            },
            "type": "choropleth"
           }
          ],
          "contour": [
           {
            "colorbar": {
             "outlinewidth": 0,
             "ticks": ""
            },
            "colorscale": [
             [
              0,
              "#0d0887"
             ],
             [
              0.1111111111111111,
              "#46039f"
             ],
             [
              0.2222222222222222,
              "#7201a8"
             ],
             [
              0.3333333333333333,
              "#9c179e"
             ],
             [
              0.4444444444444444,
              "#bd3786"
             ],
             [
              0.5555555555555556,
              "#d8576b"
             ],
             [
              0.6666666666666666,
              "#ed7953"
             ],
             [
              0.7777777777777778,
              "#fb9f3a"
             ],
             [
              0.8888888888888888,
              "#fdca26"
             ],
             [
              1,
              "#f0f921"
             ]
            ],
            "type": "contour"
           }
          ],
          "contourcarpet": [
           {
            "colorbar": {
             "outlinewidth": 0,
             "ticks": ""
            },
            "type": "contourcarpet"
           }
          ],
          "heatmap": [
           {
            "colorbar": {
             "outlinewidth": 0,
             "ticks": ""
            },
            "colorscale": [
             [
              0,
              "#0d0887"
             ],
             [
              0.1111111111111111,
              "#46039f"
             ],
             [
              0.2222222222222222,
              "#7201a8"
             ],
             [
              0.3333333333333333,
              "#9c179e"
             ],
             [
              0.4444444444444444,
              "#bd3786"
             ],
             [
              0.5555555555555556,
              "#d8576b"
             ],
             [
              0.6666666666666666,
              "#ed7953"
             ],
             [
              0.7777777777777778,
              "#fb9f3a"
             ],
             [
              0.8888888888888888,
              "#fdca26"
             ],
             [
              1,
              "#f0f921"
             ]
            ],
            "type": "heatmap"
           }
          ],
          "histogram": [
           {
            "marker": {
             "pattern": {
              "fillmode": "overlay",
              "size": 10,
              "solidity": 0.2
             }
            },
            "type": "histogram"
           }
          ],
          "histogram2d": [
           {
            "colorbar": {
             "outlinewidth": 0,
             "ticks": ""
            },
            "colorscale": [
             [
              0,
              "#0d0887"
             ],
             [
              0.1111111111111111,
              "#46039f"
             ],
             [
              0.2222222222222222,
              "#7201a8"
             ],
             [
              0.3333333333333333,
              "#9c179e"
             ],
             [
              0.4444444444444444,
              "#bd3786"
             ],
             [
              0.5555555555555556,
              "#d8576b"
             ],
             [
              0.6666666666666666,
              "#ed7953"
             ],
             [
              0.7777777777777778,
              "#fb9f3a"
             ],
             [
              0.8888888888888888,
              "#fdca26"
             ],
             [
              1,
              "#f0f921"
             ]
            ],
            "type": "histogram2d"
           }
          ],
          "histogram2dcontour": [
           {
            "colorbar": {
             "outlinewidth": 0,
             "ticks": ""
            },
            "colorscale": [
             [
              0,
              "#0d0887"
             ],
             [
              0.1111111111111111,
              "#46039f"
             ],
             [
              0.2222222222222222,
              "#7201a8"
             ],
             [
              0.3333333333333333,
              "#9c179e"
             ],
             [
              0.4444444444444444,
              "#bd3786"
             ],
             [
              0.5555555555555556,
              "#d8576b"
             ],
             [
              0.6666666666666666,
              "#ed7953"
             ],
             [
              0.7777777777777778,
              "#fb9f3a"
             ],
             [
              0.8888888888888888,
              "#fdca26"
             ],
             [
              1,
              "#f0f921"
             ]
            ],
            "type": "histogram2dcontour"
           }
          ],
          "mesh3d": [
           {
            "colorbar": {
             "outlinewidth": 0,
             "ticks": ""
            },
            "type": "mesh3d"
           }
          ],
          "parcoords": [
           {
            "line": {
             "colorbar": {
              "outlinewidth": 0,
              "ticks": ""
             }
            },
            "type": "parcoords"
           }
          ],
          "pie": [
           {
            "automargin": true,
            "type": "pie"
           }
          ],
          "scatter": [
           {
            "fillpattern": {
             "fillmode": "overlay",
             "size": 10,
             "solidity": 0.2
            },
            "type": "scatter"
           }
          ],
          "scatter3d": [
           {
            "line": {
             "colorbar": {
              "outlinewidth": 0,
              "ticks": ""
             }
            },
            "marker": {
             "colorbar": {
              "outlinewidth": 0,
              "ticks": ""
             }
            },
            "type": "scatter3d"
           }
          ],
          "scattercarpet": [
           {
            "marker": {
             "colorbar": {
              "outlinewidth": 0,
              "ticks": ""
             }
            },
            "type": "scattercarpet"
           }
          ],
          "scattergeo": [
           {
            "marker": {
             "colorbar": {
              "outlinewidth": 0,
              "ticks": ""
             }
            },
            "type": "scattergeo"
           }
          ],
          "scattergl": [
           {
            "marker": {
             "colorbar": {
              "outlinewidth": 0,
              "ticks": ""
             }
            },
            "type": "scattergl"
           }
          ],
          "scattermap": [
           {
            "marker": {
             "colorbar": {
              "outlinewidth": 0,
              "ticks": ""
             }
            },
            "type": "scattermap"
           }
          ],
          "scattermapbox": [
           {
            "marker": {
             "colorbar": {
              "outlinewidth": 0,
              "ticks": ""
             }
            },
            "type": "scattermapbox"
           }
          ],
          "scatterpolar": [
           {
            "marker": {
             "colorbar": {
              "outlinewidth": 0,
              "ticks": ""
             }
            },
            "type": "scatterpolar"
           }
          ],
          "scatterpolargl": [
           {
            "marker": {
             "colorbar": {
              "outlinewidth": 0,
              "ticks": ""
             }
            },
            "type": "scatterpolargl"
           }
          ],
          "scatterternary": [
           {
            "marker": {
             "colorbar": {
              "outlinewidth": 0,
              "ticks": ""
             }
            },
            "type": "scatterternary"
           }
          ],
          "surface": [
           {
            "colorbar": {
             "outlinewidth": 0,
             "ticks": ""
            },
            "colorscale": [
             [
              0,
              "#0d0887"
             ],
             [
              0.1111111111111111,
              "#46039f"
             ],
             [
              0.2222222222222222,
              "#7201a8"
             ],
             [
              0.3333333333333333,
              "#9c179e"
             ],
             [
              0.4444444444444444,
              "#bd3786"
             ],
             [
              0.5555555555555556,
              "#d8576b"
             ],
             [
              0.6666666666666666,
              "#ed7953"
             ],
             [
              0.7777777777777778,
              "#fb9f3a"
             ],
             [
              0.8888888888888888,
              "#fdca26"
             ],
             [
              1,
              "#f0f921"
             ]
            ],
            "type": "surface"
           }
          ],
          "table": [
           {
            "cells": {
             "fill": {
              "color": "#EBF0F8"
             },
             "line": {
              "color": "white"
             }
            },
            "header": {
             "fill": {
              "color": "#C8D4E3"
             },
             "line": {
              "color": "white"
             }
            },
            "type": "table"
           }
          ]
         },
         "layout": {
          "annotationdefaults": {
           "arrowcolor": "#2a3f5f",
           "arrowhead": 0,
           "arrowwidth": 1
          },
          "autotypenumbers": "strict",
          "coloraxis": {
           "colorbar": {
            "outlinewidth": 0,
            "ticks": ""
           }
          },
          "colorscale": {
           "diverging": [
            [
             0,
             "#8e0152"
            ],
            [
             0.1,
             "#c51b7d"
            ],
            [
             0.2,
             "#de77ae"
            ],
            [
             0.3,
             "#f1b6da"
            ],
            [
             0.4,
             "#fde0ef"
            ],
            [
             0.5,
             "#f7f7f7"
            ],
            [
             0.6,
             "#e6f5d0"
            ],
            [
             0.7,
             "#b8e186"
            ],
            [
             0.8,
             "#7fbc41"
            ],
            [
             0.9,
             "#4d9221"
            ],
            [
             1,
             "#276419"
            ]
           ],
           "sequential": [
            [
             0,
             "#0d0887"
            ],
            [
             0.1111111111111111,
             "#46039f"
            ],
            [
             0.2222222222222222,
             "#7201a8"
            ],
            [
             0.3333333333333333,
             "#9c179e"
            ],
            [
             0.4444444444444444,
             "#bd3786"
            ],
            [
             0.5555555555555556,
             "#d8576b"
            ],
            [
             0.6666666666666666,
             "#ed7953"
            ],
            [
             0.7777777777777778,
             "#fb9f3a"
            ],
            [
             0.8888888888888888,
             "#fdca26"
            ],
            [
             1,
             "#f0f921"
            ]
           ],
           "sequentialminus": [
            [
             0,
             "#0d0887"
            ],
            [
             0.1111111111111111,
             "#46039f"
            ],
            [
             0.2222222222222222,
             "#7201a8"
            ],
            [
             0.3333333333333333,
             "#9c179e"
            ],
            [
             0.4444444444444444,
             "#bd3786"
            ],
            [
             0.5555555555555556,
             "#d8576b"
            ],
            [
             0.6666666666666666,
             "#ed7953"
            ],
            [
             0.7777777777777778,
             "#fb9f3a"
            ],
            [
             0.8888888888888888,
             "#fdca26"
            ],
            [
             1,
             "#f0f921"
            ]
           ]
          },
          "colorway": [
           "#636efa",
           "#EF553B",
           "#00cc96",
           "#ab63fa",
           "#FFA15A",
           "#19d3f3",
           "#FF6692",
           "#B6E880",
           "#FF97FF",
           "#FECB52"
          ],
          "font": {
           "color": "#2a3f5f"
          },
          "geo": {
           "bgcolor": "white",
           "lakecolor": "white",
           "landcolor": "#E5ECF6",
           "showlakes": true,
           "showland": true,
           "subunitcolor": "white"
          },
          "hoverlabel": {
           "align": "left"
          },
          "hovermode": "closest",
          "mapbox": {
           "style": "light"
          },
          "paper_bgcolor": "white",
          "plot_bgcolor": "#E5ECF6",
          "polar": {
           "angularaxis": {
            "gridcolor": "white",
            "linecolor": "white",
            "ticks": ""
           },
           "bgcolor": "#E5ECF6",
           "radialaxis": {
            "gridcolor": "white",
            "linecolor": "white",
            "ticks": ""
           }
          },
          "scene": {
           "xaxis": {
            "backgroundcolor": "#E5ECF6",
            "gridcolor": "white",
            "gridwidth": 2,
            "linecolor": "white",
            "showbackground": true,
            "ticks": "",
            "zerolinecolor": "white"
           },
           "yaxis": {
            "backgroundcolor": "#E5ECF6",
            "gridcolor": "white",
            "gridwidth": 2,
            "linecolor": "white",
            "showbackground": true,
            "ticks": "",
            "zerolinecolor": "white"
           },
           "zaxis": {
            "backgroundcolor": "#E5ECF6",
            "gridcolor": "white",
            "gridwidth": 2,
            "linecolor": "white",
            "showbackground": true,
            "ticks": "",
            "zerolinecolor": "white"
           }
          },
          "shapedefaults": {
           "line": {
            "color": "#2a3f5f"
           }
          },
          "ternary": {
           "aaxis": {
            "gridcolor": "white",
            "linecolor": "white",
            "ticks": ""
           },
           "baxis": {
            "gridcolor": "white",
            "linecolor": "white",
            "ticks": ""
           },
           "bgcolor": "#E5ECF6",
           "caxis": {
            "gridcolor": "white",
            "linecolor": "white",
            "ticks": ""
           }
          },
          "title": {
           "x": 0.05
          },
          "xaxis": {
           "automargin": true,
           "gridcolor": "white",
           "linecolor": "white",
           "ticks": "",
           "title": {
            "standoff": 15
           },
           "zerolinecolor": "white",
           "zerolinewidth": 2
          },
          "yaxis": {
           "automargin": true,
           "gridcolor": "white",
           "linecolor": "white",
           "ticks": "",
           "title": {
            "standoff": 15
           },
           "zerolinecolor": "white",
           "zerolinewidth": 2
          }
         }
        },
        "title": {
         "font": {
          "size": 16
         },
         "text": "<b>Presentation score (max 10)</b><br><sub>Assessment Components - Comparing Years 2021-2023</sub>"
        },
        "xaxis": {
         "anchor": "y",
         "domain": [
          0,
          0.25333333333333335
         ],
         "title": {
          "text": ""
         }
        },
        "xaxis2": {
         "anchor": "y2",
         "domain": [
          0.37333333333333335,
          0.6266666666666667
         ],
         "title": {
          "text": ""
         }
        },
        "xaxis3": {
         "anchor": "y3",
         "domain": [
          0.7466666666666667,
          1
         ],
         "title": {
          "text": "Academic Year"
         }
        },
        "yaxis": {
         "anchor": "x",
         "domain": [
          0,
          1
         ],
         "range": [
          1.1118028520633194,
          10.88819714793668
         ],
         "title": {
          "text": "Points"
         }
        },
        "yaxis2": {
         "anchor": "x2",
         "domain": [
          0,
          1
         ],
         "range": [
          1.1118028520633194,
          10.88819714793668
         ],
         "title": {
          "text": "Points"
         }
        },
        "yaxis3": {
         "anchor": "x3",
         "domain": [
          0,
          1
         ],
         "range": [
          1.1118028520633194,
          10.88819714793668
         ],
         "title": {
          "text": "Points"
         }
        }
       }
      }
     },
     "metadata": {},
     "output_type": "display_data"
    },
    {
     "name": "stdout",
     "output_type": "stream",
     "text": [
      "\n",
      "📊 Presentation score (max 10)\n",
      "Variable: presentation_points\n",
      "------------------------------------------------------------\n",
      " Year  Count Mean Median Std Dev  Min   Max\n",
      " 2021     45 7.29   7.00    1.74 2.00 10.00\n",
      " 2022     48 7.08   7.00    1.25 5.00 10.00\n",
      " 2023     52 6.83   7.00    2.19 2.00 10.00\n",
      "\n",
      "📈 Trend: 2021 → 2023\n",
      "   ↓ Decreased by 0.46 (6.3%)\n",
      "\n"
     ]
    },
    {
     "data": {
      "application/vnd.plotly.v1+json": {
       "config": {
        "plotlyServerURL": "https://plot.ly"
       },
       "data": [
        {
         "boxmean": "sd",
         "boxpoints": "outliers",
         "hovertemplate": "Year 2021<br>Value: %{y:.2f}<extra></extra>",
         "jitter": 0.3,
         "legendgroup": "2021",
         "marker": {
          "color": "#FF6B6B"
         },
         "name": "Year 2021",
         "pointpos": -1.8,
         "showlegend": true,
         "type": "box",
         "xaxis": "x",
         "y": {
          "bdata": "AAAAAAAAP0AAAAAAAAA3QAAAAAAAADZAAAAAAAAAOUAAAAAAAAA5QAAAAAAAADRAAAAAAAAAPUAAAAAAAAA0QAAAAAAAADRAAAAAAAAAPUAAAAAAAAAwQAAAAAAAAD5AAAAAAAAAOUAAAAAAAAAyQAAAAAAAADZAAAAAAAAANkAAAAAAAAAwQAAAAAAAADdAAAAAAAAAOkAAAAAAAAAxQAAAAAAAADJAAAAAAAAAOEAAAAAAAAA8QAAAAAAAADdAAAAAAAAAOEAAAAAAAAA8QAAAAAAAAD9AAAAAAAAAPkAAAAAAAAAsQAAAAAAAADxAAAAAAAAAPEAAAAAAAAA+QAAAAAAAACxAAAAAAAAAOUAAAAAAAAA5QAAAAAAAADtAAAAAAAAANEAAAAAAAAAyQAAAAAAAADFAAAAAAAAANEAAAAAAAAAwQAAAAAAAADVAAAAAAAAAPEAAAAAAAAA9QAAAAAAAADtA",
          "dtype": "f8"
         },
         "yaxis": "y"
        },
        {
         "boxmean": "sd",
         "boxpoints": "outliers",
         "hovertemplate": "Year 2022<br>Value: %{y:.2f}<extra></extra>",
         "jitter": 0.3,
         "legendgroup": "2022",
         "marker": {
          "color": "#4ECDC4"
         },
         "name": "Year 2022",
         "pointpos": -1.8,
         "showlegend": true,
         "type": "box",
         "xaxis": "x",
         "y": {
          "bdata": "AAAAAAAAM0AAAAAAAAA5QAAAAAAAADlAAAAAAAAAOEAAAAAAAAA+QAAAAAAAADRAAAAAAAAANkAAAAAAAAA5QAAAAAAAADpAAAAAAAAAOUAAAAAAAAA9QAAAAAAAAD5AAAAAAAAAPUAAAAAAAAA8QAAAAAAAAD5AAAAAAAAAAAAAAAAAAAA7QAAAAAAAAAAAAAAAAAAAMkAAAAAAAAAuQAAAAAAAAD5AAAAAAAAAN0AAAAAAAAA5QAAAAAAAADtAAAAAAAAAN0AAAAAAAAA5QAAAAAAAADRAAAAAAAAAOUAAAAAAAAA4QAAAAAAAADZAAAAAAAAAOUAAAAAAAAA7QAAAAAAAAAAAAAAAAAAAOkAAAAAAAAA1QAAAAAAAAAAAAAAAAAAAO0AAAAAAAAA7QAAAAAAAADRAAAAAAAAAOUAAAAAAAAAyQAAAAAAAAD5AAAAAAAAAO0AAAAAAAAA+QAAAAAAAAC5AAAAAAAAAOUAAAAAAAAA5QAAAAAAAADFAAAAAAAAANEA=",
          "dtype": "f8"
         },
         "yaxis": "y"
        },
        {
         "boxmean": "sd",
         "boxpoints": "outliers",
         "hovertemplate": "Year 2023<br>Value: %{y:.2f}<extra></extra>",
         "jitter": 0.3,
         "legendgroup": "2023",
         "marker": {
          "color": "#45B7D1"
         },
         "name": "Year 2023",
         "pointpos": -1.8,
         "showlegend": true,
         "type": "box",
         "xaxis": "x",
         "y": {
          "bdata": "AAAAAAAAOEAAAAAAAAAyQAAAAAAAADVAAAAAAAAAO0AAAAAAAAA0QAAAAAAAADRAAAAAAAAANEAAAAAAAAA2QAAAAAAAACpAAAAAAAAAKEAAAAAAAAA1QAAAAAAAADlAAAAAAAAAMkAAAAAAAAA3QAAAAAAAADRAAAAAAAAAO0AAAAAAAAA3QAAAAAAAADFAAAAAAAAAOUAAAAAAAAA3QAAAAAAAADdAAAAAAAAAOEAAAAAAAAA5QAAAAAAAACpAAAAAAAAAOUAAAAAAAAAxQAAAAAAAADZAAAAAAAAAKkAAAAAAAAA5QAAAAAAAADVAAAAAAAAAN0AAAAAAAAAxQAAAAAAAADlAAAAAAAAAOEAAAAAAAAA4QAAAAAAAADZAAAAAAAAAMkAAAAAAAAA4QAAAAAAAADlAAAAAAAAAOUAAAAAAAAA1QAAAAAAAADdAAAAAAAAAMkAAAAAAAAAuQAAAAAAAADdAAAAAAAAANEA=",
          "dtype": "f8"
         },
         "yaxis": "y"
        },
        {
         "box": {
          "visible": true
         },
         "hovertemplate": "Year 2021<br>Value: %{y:.2f}<extra></extra>",
         "legendgroup": "2021",
         "marker": {
          "color": "#FF6B6B"
         },
         "meanline": {
          "visible": true
         },
         "name": "Year 2021",
         "opacity": 0.7,
         "showlegend": false,
         "type": "violin",
         "xaxis": "x2",
         "y": {
          "bdata": "AAAAAAAAP0AAAAAAAAA3QAAAAAAAADZAAAAAAAAAOUAAAAAAAAA5QAAAAAAAADRAAAAAAAAAPUAAAAAAAAA0QAAAAAAAADRAAAAAAAAAPUAAAAAAAAAwQAAAAAAAAD5AAAAAAAAAOUAAAAAAAAAyQAAAAAAAADZAAAAAAAAANkAAAAAAAAAwQAAAAAAAADdAAAAAAAAAOkAAAAAAAAAxQAAAAAAAADJAAAAAAAAAOEAAAAAAAAA8QAAAAAAAADdAAAAAAAAAOEAAAAAAAAA8QAAAAAAAAD9AAAAAAAAAPkAAAAAAAAAsQAAAAAAAADxAAAAAAAAAPEAAAAAAAAA+QAAAAAAAACxAAAAAAAAAOUAAAAAAAAA5QAAAAAAAADtAAAAAAAAANEAAAAAAAAAyQAAAAAAAADFAAAAAAAAANEAAAAAAAAAwQAAAAAAAADVAAAAAAAAAPEAAAAAAAAA9QAAAAAAAADtA",
          "dtype": "f8"
         },
         "yaxis": "y2"
        },
        {
         "box": {
          "visible": true
         },
         "hovertemplate": "Year 2022<br>Value: %{y:.2f}<extra></extra>",
         "legendgroup": "2022",
         "marker": {
          "color": "#4ECDC4"
         },
         "meanline": {
          "visible": true
         },
         "name": "Year 2022",
         "opacity": 0.7,
         "showlegend": false,
         "type": "violin",
         "xaxis": "x2",
         "y": {
          "bdata": "AAAAAAAAM0AAAAAAAAA5QAAAAAAAADlAAAAAAAAAOEAAAAAAAAA+QAAAAAAAADRAAAAAAAAANkAAAAAAAAA5QAAAAAAAADpAAAAAAAAAOUAAAAAAAAA9QAAAAAAAAD5AAAAAAAAAPUAAAAAAAAA8QAAAAAAAAD5AAAAAAAAAAAAAAAAAAAA7QAAAAAAAAAAAAAAAAAAAMkAAAAAAAAAuQAAAAAAAAD5AAAAAAAAAN0AAAAAAAAA5QAAAAAAAADtAAAAAAAAAN0AAAAAAAAA5QAAAAAAAADRAAAAAAAAAOUAAAAAAAAA4QAAAAAAAADZAAAAAAAAAOUAAAAAAAAA7QAAAAAAAAAAAAAAAAAAAOkAAAAAAAAA1QAAAAAAAAAAAAAAAAAAAO0AAAAAAAAA7QAAAAAAAADRAAAAAAAAAOUAAAAAAAAAyQAAAAAAAAD5AAAAAAAAAO0AAAAAAAAA+QAAAAAAAAC5AAAAAAAAAOUAAAAAAAAA5QAAAAAAAADFAAAAAAAAANEA=",
          "dtype": "f8"
         },
         "yaxis": "y2"
        },
        {
         "box": {
          "visible": true
         },
         "hovertemplate": "Year 2023<br>Value: %{y:.2f}<extra></extra>",
         "legendgroup": "2023",
         "marker": {
          "color": "#45B7D1"
         },
         "meanline": {
          "visible": true
         },
         "name": "Year 2023",
         "opacity": 0.7,
         "showlegend": false,
         "type": "violin",
         "xaxis": "x2",
         "y": {
          "bdata": "AAAAAAAAOEAAAAAAAAAyQAAAAAAAADVAAAAAAAAAO0AAAAAAAAA0QAAAAAAAADRAAAAAAAAANEAAAAAAAAA2QAAAAAAAACpAAAAAAAAAKEAAAAAAAAA1QAAAAAAAADlAAAAAAAAAMkAAAAAAAAA3QAAAAAAAADRAAAAAAAAAO0AAAAAAAAA3QAAAAAAAADFAAAAAAAAAOUAAAAAAAAA3QAAAAAAAADdAAAAAAAAAOEAAAAAAAAA5QAAAAAAAACpAAAAAAAAAOUAAAAAAAAAxQAAAAAAAADZAAAAAAAAAKkAAAAAAAAA5QAAAAAAAADVAAAAAAAAAN0AAAAAAAAAxQAAAAAAAADlAAAAAAAAAOEAAAAAAAAA4QAAAAAAAADZAAAAAAAAAMkAAAAAAAAA4QAAAAAAAADlAAAAAAAAAOUAAAAAAAAA1QAAAAAAAADdAAAAAAAAAMkAAAAAAAAAuQAAAAAAAADdAAAAAAAAANEA=",
          "dtype": "f8"
         },
         "yaxis": "y2"
        },
        {
         "error_y": {
          "array": [
           4.937283430872455,
           7.7987549154523705,
           3.866116902446386
          ],
          "color": "rgba(0,0,0,0.3)",
          "type": "data",
          "visible": true
         },
         "hovertemplate": "Year: %{x}<br>Mean: %{y:.2f}<br>Std: %{error_y.array:.2f}<extra></extra>",
         "line": {
          "color": "#FF6B6B",
          "width": 2
         },
         "marker": {
          "color": "#FF6B6B",
          "size": 12
         },
         "mode": "lines+markers",
         "name": "Mean ± Std Dev",
         "showlegend": false,
         "type": "scatter",
         "x": [
          2021,
          2022,
          2023
         ],
         "xaxis": "x3",
         "y": [
          23.377777777777776,
          22.367346938775512,
          21.17391304347826
         ],
         "yaxis": "y3"
        },
        {
         "hovertemplate": "Year 2021<br>Mean: 23.38<extra></extra>",
         "marker": {
          "color": "#FF6B6B",
          "size": 15
         },
         "mode": "markers+text",
         "showlegend": false,
         "text": [
          "23.38"
         ],
         "textfont": {
          "size": 12
         },
         "textposition": "top center",
         "type": "scatter",
         "x": [
          2021
         ],
         "xaxis": "x3",
         "y": [
          23.377777777777776
         ],
         "yaxis": "y3"
        },
        {
         "hovertemplate": "Year 2022<br>Mean: 22.37<extra></extra>",
         "marker": {
          "color": "#4ECDC4",
          "size": 15
         },
         "mode": "markers+text",
         "showlegend": false,
         "text": [
          "22.37"
         ],
         "textfont": {
          "size": 12
         },
         "textposition": "top center",
         "type": "scatter",
         "x": [
          2022
         ],
         "xaxis": "x3",
         "y": [
          22.367346938775512
         ],
         "yaxis": "y3"
        },
        {
         "hovertemplate": "Year 2023<br>Mean: 21.17<extra></extra>",
         "marker": {
          "color": "#45B7D1",
          "size": 15
         },
         "mode": "markers+text",
         "showlegend": false,
         "text": [
          "21.17"
         ],
         "textfont": {
          "size": 12
         },
         "textposition": "top center",
         "type": "scatter",
         "x": [
          2023
         ],
         "xaxis": "x3",
         "y": [
          21.17391304347826
         ],
         "yaxis": "y3"
        }
       ],
       "layout": {
        "annotations": [
         {
          "font": {
           "size": 16
          },
          "showarrow": false,
          "text": "Box Plot (Shows Range & Average)",
          "x": 0.12666666666666668,
          "xanchor": "center",
          "xref": "paper",
          "y": 1,
          "yanchor": "bottom",
          "yref": "paper"
         },
         {
          "font": {
           "size": 16
          },
          "showarrow": false,
          "text": "Violin Plot (Shows Distribution Shape)",
          "x": 0.5,
          "xanchor": "center",
          "xref": "paper",
          "y": 1,
          "yanchor": "bottom",
          "yref": "paper"
         },
         {
          "font": {
           "size": 16
          },
          "showarrow": false,
          "text": "Mean Values with Error Bars",
          "x": 0.8733333333333333,
          "xanchor": "center",
          "xref": "paper",
          "y": 1,
          "yanchor": "bottom",
          "yref": "paper"
         }
        ],
        "font": {
         "size": 11
        },
        "height": 500,
        "hovermode": "closest",
        "legend": {
         "orientation": "h",
         "x": 1,
         "xanchor": "right",
         "y": 1.02,
         "yanchor": "bottom"
        },
        "showlegend": true,
        "template": {
         "data": {
          "bar": [
           {
            "error_x": {
             "color": "#2a3f5f"
            },
            "error_y": {
             "color": "#2a3f5f"
            },
            "marker": {
             "line": {
              "color": "#E5ECF6",
              "width": 0.5
             },
             "pattern": {
              "fillmode": "overlay",
              "size": 10,
              "solidity": 0.2
             }
            },
            "type": "bar"
           }
          ],
          "barpolar": [
           {
            "marker": {
             "line": {
              "color": "#E5ECF6",
              "width": 0.5
             },
             "pattern": {
              "fillmode": "overlay",
              "size": 10,
              "solidity": 0.2
             }
            },
            "type": "barpolar"
           }
          ],
          "carpet": [
           {
            "aaxis": {
             "endlinecolor": "#2a3f5f",
             "gridcolor": "white",
             "linecolor": "white",
             "minorgridcolor": "white",
             "startlinecolor": "#2a3f5f"
            },
            "baxis": {
             "endlinecolor": "#2a3f5f",
             "gridcolor": "white",
             "linecolor": "white",
             "minorgridcolor": "white",
             "startlinecolor": "#2a3f5f"
            },
            "type": "carpet"
           }
          ],
          "choropleth": [
           {
            "colorbar": {
             "outlinewidth": 0,
             "ticks": ""
            },
            "type": "choropleth"
           }
          ],
          "contour": [
           {
            "colorbar": {
             "outlinewidth": 0,
             "ticks": ""
            },
            "colorscale": [
             [
              0,
              "#0d0887"
             ],
             [
              0.1111111111111111,
              "#46039f"
             ],
             [
              0.2222222222222222,
              "#7201a8"
             ],
             [
              0.3333333333333333,
              "#9c179e"
             ],
             [
              0.4444444444444444,
              "#bd3786"
             ],
             [
              0.5555555555555556,
              "#d8576b"
             ],
             [
              0.6666666666666666,
              "#ed7953"
             ],
             [
              0.7777777777777778,
              "#fb9f3a"
             ],
             [
              0.8888888888888888,
              "#fdca26"
             ],
             [
              1,
              "#f0f921"
             ]
            ],
            "type": "contour"
           }
          ],
          "contourcarpet": [
           {
            "colorbar": {
             "outlinewidth": 0,
             "ticks": ""
            },
            "type": "contourcarpet"
           }
          ],
          "heatmap": [
           {
            "colorbar": {
             "outlinewidth": 0,
             "ticks": ""
            },
            "colorscale": [
             [
              0,
              "#0d0887"
             ],
             [
              0.1111111111111111,
              "#46039f"
             ],
             [
              0.2222222222222222,
              "#7201a8"
             ],
             [
              0.3333333333333333,
              "#9c179e"
             ],
             [
              0.4444444444444444,
              "#bd3786"
             ],
             [
              0.5555555555555556,
              "#d8576b"
             ],
             [
              0.6666666666666666,
              "#ed7953"
             ],
             [
              0.7777777777777778,
              "#fb9f3a"
             ],
             [
              0.8888888888888888,
              "#fdca26"
             ],
             [
              1,
              "#f0f921"
             ]
            ],
            "type": "heatmap"
           }
          ],
          "histogram": [
           {
            "marker": {
             "pattern": {
              "fillmode": "overlay",
              "size": 10,
              "solidity": 0.2
             }
            },
            "type": "histogram"
           }
          ],
          "histogram2d": [
           {
            "colorbar": {
             "outlinewidth": 0,
             "ticks": ""
            },
            "colorscale": [
             [
              0,
              "#0d0887"
             ],
             [
              0.1111111111111111,
              "#46039f"
             ],
             [
              0.2222222222222222,
              "#7201a8"
             ],
             [
              0.3333333333333333,
              "#9c179e"
             ],
             [
              0.4444444444444444,
              "#bd3786"
             ],
             [
              0.5555555555555556,
              "#d8576b"
             ],
             [
              0.6666666666666666,
              "#ed7953"
             ],
             [
              0.7777777777777778,
              "#fb9f3a"
             ],
             [
              0.8888888888888888,
              "#fdca26"
             ],
             [
              1,
              "#f0f921"
             ]
            ],
            "type": "histogram2d"
           }
          ],
          "histogram2dcontour": [
           {
            "colorbar": {
             "outlinewidth": 0,
             "ticks": ""
            },
            "colorscale": [
             [
              0,
              "#0d0887"
             ],
             [
              0.1111111111111111,
              "#46039f"
             ],
             [
              0.2222222222222222,
              "#7201a8"
             ],
             [
              0.3333333333333333,
              "#9c179e"
             ],
             [
              0.4444444444444444,
              "#bd3786"
             ],
             [
              0.5555555555555556,
              "#d8576b"
             ],
             [
              0.6666666666666666,
              "#ed7953"
             ],
             [
              0.7777777777777778,
              "#fb9f3a"
             ],
             [
              0.8888888888888888,
              "#fdca26"
             ],
             [
              1,
              "#f0f921"
             ]
            ],
            "type": "histogram2dcontour"
           }
          ],
          "mesh3d": [
           {
            "colorbar": {
             "outlinewidth": 0,
             "ticks": ""
            },
            "type": "mesh3d"
           }
          ],
          "parcoords": [
           {
            "line": {
             "colorbar": {
              "outlinewidth": 0,
              "ticks": ""
             }
            },
            "type": "parcoords"
           }
          ],
          "pie": [
           {
            "automargin": true,
            "type": "pie"
           }
          ],
          "scatter": [
           {
            "fillpattern": {
             "fillmode": "overlay",
             "size": 10,
             "solidity": 0.2
            },
            "type": "scatter"
           }
          ],
          "scatter3d": [
           {
            "line": {
             "colorbar": {
              "outlinewidth": 0,
              "ticks": ""
             }
            },
            "marker": {
             "colorbar": {
              "outlinewidth": 0,
              "ticks": ""
             }
            },
            "type": "scatter3d"
           }
          ],
          "scattercarpet": [
           {
            "marker": {
             "colorbar": {
              "outlinewidth": 0,
              "ticks": ""
             }
            },
            "type": "scattercarpet"
           }
          ],
          "scattergeo": [
           {
            "marker": {
             "colorbar": {
              "outlinewidth": 0,
              "ticks": ""
             }
            },
            "type": "scattergeo"
           }
          ],
          "scattergl": [
           {
            "marker": {
             "colorbar": {
              "outlinewidth": 0,
              "ticks": ""
             }
            },
            "type": "scattergl"
           }
          ],
          "scattermap": [
           {
            "marker": {
             "colorbar": {
              "outlinewidth": 0,
              "ticks": ""
             }
            },
            "type": "scattermap"
           }
          ],
          "scattermapbox": [
           {
            "marker": {
             "colorbar": {
              "outlinewidth": 0,
              "ticks": ""
             }
            },
            "type": "scattermapbox"
           }
          ],
          "scatterpolar": [
           {
            "marker": {
             "colorbar": {
              "outlinewidth": 0,
              "ticks": ""
             }
            },
            "type": "scatterpolar"
           }
          ],
          "scatterpolargl": [
           {
            "marker": {
             "colorbar": {
              "outlinewidth": 0,
              "ticks": ""
             }
            },
            "type": "scatterpolargl"
           }
          ],
          "scatterternary": [
           {
            "marker": {
             "colorbar": {
              "outlinewidth": 0,
              "ticks": ""
             }
            },
            "type": "scatterternary"
           }
          ],
          "surface": [
           {
            "colorbar": {
             "outlinewidth": 0,
             "ticks": ""
            },
            "colorscale": [
             [
              0,
              "#0d0887"
             ],
             [
              0.1111111111111111,
              "#46039f"
             ],
             [
              0.2222222222222222,
              "#7201a8"
             ],
             [
              0.3333333333333333,
              "#9c179e"
             ],
             [
              0.4444444444444444,
              "#bd3786"
             ],
             [
              0.5555555555555556,
              "#d8576b"
             ],
             [
              0.6666666666666666,
              "#ed7953"
             ],
             [
              0.7777777777777778,
              "#fb9f3a"
             ],
             [
              0.8888888888888888,
              "#fdca26"
             ],
             [
              1,
              "#f0f921"
             ]
            ],
            "type": "surface"
           }
          ],
          "table": [
           {
            "cells": {
             "fill": {
              "color": "#EBF0F8"
             },
             "line": {
              "color": "white"
             }
            },
            "header": {
             "fill": {
              "color": "#C8D4E3"
             },
             "line": {
              "color": "white"
             }
            },
            "type": "table"
           }
          ]
         },
         "layout": {
          "annotationdefaults": {
           "arrowcolor": "#2a3f5f",
           "arrowhead": 0,
           "arrowwidth": 1
          },
          "autotypenumbers": "strict",
          "coloraxis": {
           "colorbar": {
            "outlinewidth": 0,
            "ticks": ""
           }
          },
          "colorscale": {
           "diverging": [
            [
             0,
             "#8e0152"
            ],
            [
             0.1,
             "#c51b7d"
            ],
            [
             0.2,
             "#de77ae"
            ],
            [
             0.3,
             "#f1b6da"
            ],
            [
             0.4,
             "#fde0ef"
            ],
            [
             0.5,
             "#f7f7f7"
            ],
            [
             0.6,
             "#e6f5d0"
            ],
            [
             0.7,
             "#b8e186"
            ],
            [
             0.8,
             "#7fbc41"
            ],
            [
             0.9,
             "#4d9221"
            ],
            [
             1,
             "#276419"
            ]
           ],
           "sequential": [
            [
             0,
             "#0d0887"
            ],
            [
             0.1111111111111111,
             "#46039f"
            ],
            [
             0.2222222222222222,
             "#7201a8"
            ],
            [
             0.3333333333333333,
             "#9c179e"
            ],
            [
             0.4444444444444444,
             "#bd3786"
            ],
            [
             0.5555555555555556,
             "#d8576b"
            ],
            [
             0.6666666666666666,
             "#ed7953"
            ],
            [
             0.7777777777777778,
             "#fb9f3a"
            ],
            [
             0.8888888888888888,
             "#fdca26"
            ],
            [
             1,
             "#f0f921"
            ]
           ],
           "sequentialminus": [
            [
             0,
             "#0d0887"
            ],
            [
             0.1111111111111111,
             "#46039f"
            ],
            [
             0.2222222222222222,
             "#7201a8"
            ],
            [
             0.3333333333333333,
             "#9c179e"
            ],
            [
             0.4444444444444444,
             "#bd3786"
            ],
            [
             0.5555555555555556,
             "#d8576b"
            ],
            [
             0.6666666666666666,
             "#ed7953"
            ],
            [
             0.7777777777777778,
             "#fb9f3a"
            ],
            [
             0.8888888888888888,
             "#fdca26"
            ],
            [
             1,
             "#f0f921"
            ]
           ]
          },
          "colorway": [
           "#636efa",
           "#EF553B",
           "#00cc96",
           "#ab63fa",
           "#FFA15A",
           "#19d3f3",
           "#FF6692",
           "#B6E880",
           "#FF97FF",
           "#FECB52"
          ],
          "font": {
           "color": "#2a3f5f"
          },
          "geo": {
           "bgcolor": "white",
           "lakecolor": "white",
           "landcolor": "#E5ECF6",
           "showlakes": true,
           "showland": true,
           "subunitcolor": "white"
          },
          "hoverlabel": {
           "align": "left"
          },
          "hovermode": "closest",
          "mapbox": {
           "style": "light"
          },
          "paper_bgcolor": "white",
          "plot_bgcolor": "#E5ECF6",
          "polar": {
           "angularaxis": {
            "gridcolor": "white",
            "linecolor": "white",
            "ticks": ""
           },
           "bgcolor": "#E5ECF6",
           "radialaxis": {
            "gridcolor": "white",
            "linecolor": "white",
            "ticks": ""
           }
          },
          "scene": {
           "xaxis": {
            "backgroundcolor": "#E5ECF6",
            "gridcolor": "white",
            "gridwidth": 2,
            "linecolor": "white",
            "showbackground": true,
            "ticks": "",
            "zerolinecolor": "white"
           },
           "yaxis": {
            "backgroundcolor": "#E5ECF6",
            "gridcolor": "white",
            "gridwidth": 2,
            "linecolor": "white",
            "showbackground": true,
            "ticks": "",
            "zerolinecolor": "white"
           },
           "zaxis": {
            "backgroundcolor": "#E5ECF6",
            "gridcolor": "white",
            "gridwidth": 2,
            "linecolor": "white",
            "showbackground": true,
            "ticks": "",
            "zerolinecolor": "white"
           }
          },
          "shapedefaults": {
           "line": {
            "color": "#2a3f5f"
           }
          },
          "ternary": {
           "aaxis": {
            "gridcolor": "white",
            "linecolor": "white",
            "ticks": ""
           },
           "baxis": {
            "gridcolor": "white",
            "linecolor": "white",
            "ticks": ""
           },
           "bgcolor": "#E5ECF6",
           "caxis": {
            "gridcolor": "white",
            "linecolor": "white",
            "ticks": ""
           }
          },
          "title": {
           "x": 0.05
          },
          "xaxis": {
           "automargin": true,
           "gridcolor": "white",
           "linecolor": "white",
           "ticks": "",
           "title": {
            "standoff": 15
           },
           "zerolinecolor": "white",
           "zerolinewidth": 2
          },
          "yaxis": {
           "automargin": true,
           "gridcolor": "white",
           "linecolor": "white",
           "ticks": "",
           "title": {
            "standoff": 15
           },
           "zerolinecolor": "white",
           "zerolinewidth": 2
          }
         }
        },
        "title": {
         "font": {
          "size": 16
         },
         "text": "<b>Defense score (max 30)</b><br><sub>Assessment Components - Comparing Years 2021-2023</sub>"
        },
        "xaxis": {
         "anchor": "y",
         "domain": [
          0,
          0.25333333333333335
         ],
         "title": {
          "text": ""
         }
        },
        "xaxis2": {
         "anchor": "y2",
         "domain": [
          0.37333333333333335,
          0.6266666666666667
         ],
         "title": {
          "text": ""
         }
        },
        "xaxis3": {
         "anchor": "y3",
         "domain": [
          0.7466666666666667,
          1
         ],
         "title": {
          "text": "Academic Year"
         }
        },
        "yaxis": {
         "anchor": "x",
         "domain": [
          0,
          1
         ],
         "range": [
          -2.920188350089768,
          33.92018835008977
         ],
         "title": {
          "text": "Points"
         }
        },
        "yaxis2": {
         "anchor": "x2",
         "domain": [
          0,
          1
         ],
         "range": [
          -2.920188350089768,
          33.92018835008977
         ],
         "title": {
          "text": "Points"
         }
        },
        "yaxis3": {
         "anchor": "x3",
         "domain": [
          0,
          1
         ],
         "range": [
          -2.920188350089768,
          33.92018835008977
         ],
         "title": {
          "text": "Points"
         }
        }
       }
      }
     },
     "metadata": {},
     "output_type": "display_data"
    },
    {
     "name": "stdout",
     "output_type": "stream",
     "text": [
      "\n",
      "📊 Defense score (max 30)\n",
      "Variable: defense_points\n",
      "------------------------------------------------------------\n",
      " Year  Count  Mean Median Std Dev   Min   Max\n",
      " 2021     45 23.38  24.00    4.94 14.00 31.00\n",
      " 2022     49 22.37  25.00    7.80  0.00 30.00\n",
      " 2023     46 21.17  22.00    3.87 12.00 27.00\n",
      "\n",
      "📈 Trend: 2021 → 2023\n",
      "   ↓ Decreased by 2.20 (9.4%)\n",
      "\n"
     ]
    },
    {
     "data": {
      "application/vnd.plotly.v1+json": {
       "config": {
        "plotlyServerURL": "https://plot.ly"
       },
       "data": [
        {
         "boxmean": "sd",
         "boxpoints": "outliers",
         "hovertemplate": "Year 2021<br>Value: %{y:.2f}<extra></extra>",
         "jitter": 0.3,
         "legendgroup": "2021",
         "marker": {
          "color": "#FF6B6B"
         },
         "name": "Year 2021",
         "pointpos": -1.8,
         "showlegend": true,
         "type": "box",
         "xaxis": "x",
         "y": {
          "bdata": "AAAAAAAAMkAAAAAAAAAmQAAAAAAAAC5AAAAAAAAAEEAAAAAAAAAmQAAAAAAAADBAAAAAAAAAHEAAAAAAAAAUQAAAAAAAACJAAAAAAAAAFEAAAAAAAAAUQAAAAAAAAC5AAAAAAAAAIEAAAAAAAAAUQAAAAAAAAC5AAAAAAAAAKkAAAAAAAAAgQAAAAAAAACxAAAAAAAAAM0AAAAAAAAAuQAAAAAAAADJAAAAAAAAALkAAAAAAAAAuQAAAAAAAACpAAAAAAAAACEAAAAAAAAAxQAAAAAAAABBAAAAAAAAAMkAAAAAAAAAiQAAAAAAAACZAAAAAAAAAIEAAAAAAAAAkQAAAAAAAACJAAAAAAAAALEAAAAAAAAAwQAAAAAAAABxAAAAAAAAAKkAAAAAAAAAQQAAAAAAAADFAAAAAAAAAIkAAAAAAAAAUQAAAAAAAABBAAAAAAAAALkA=",
          "dtype": "f8"
         },
         "yaxis": "y"
        },
        {
         "boxmean": "sd",
         "boxpoints": "outliers",
         "hovertemplate": "Year 2022<br>Value: %{y:.2f}<extra></extra>",
         "jitter": 0.3,
         "legendgroup": "2022",
         "marker": {
          "color": "#4ECDC4"
         },
         "name": "Year 2022",
         "pointpos": -1.8,
         "showlegend": true,
         "type": "box",
         "xaxis": "x",
         "y": {
          "bdata": "AAAAAAAAIkAAAAAAAAAsQAAAAAAAADFAAAAAAAAAKEAAAAAAAAAxQAAAAAAAACZAAAAAAAAAIEAAAAAAAAAsQAAAAAAAACJAAAAAAAAAGEAAAAAAAAAiQAAAAAAAACxAAAAAAAAAFEAAAAAAAAAwQAAAAAAAAChAAAAAAAAAKkAAAAAAAAA0QAAAAAAAACRAAAAAAAAAKEAAAAAAAAAiQAAAAAAAADNAAAAAAAAALkAAAAAAAAAYQAAAAAAAADBAAAAAAAAAM0AAAAAAAAAmQAAAAAAAAChAAAAAAAAAMEAAAAAAAAAoQAAAAAAAADFAAAAAAAAAJEAAAAAAAAAUQAAAAAAAACJAAAAAAAAAFEAAAAAAAAAcQAAAAAAAACBAAAAAAAAAM0AAAAAAAAAmQAAAAAAAABhAAAAAAAAAJEAAAAAAAAAgQAAAAAAAAC5AAAAAAAAAHEAAAAAAAAAwQAAAAAAAABBAAAAAAAAAKEAAAAAAAAAkQAAAAAAAABxAAAAAAAAAKEA=",
          "dtype": "f8"
         },
         "yaxis": "y"
        },
        {
         "boxmean": "sd",
         "boxpoints": "outliers",
         "hovertemplate": "Year 2023<br>Value: %{y:.2f}<extra></extra>",
         "jitter": 0.3,
         "legendgroup": "2023",
         "marker": {
          "color": "#45B7D1"
         },
         "name": "Year 2023",
         "pointpos": -1.8,
         "showlegend": true,
         "type": "box",
         "xaxis": "x",
         "y": {
          "bdata": "AAAAAAAAM0AAAAAAAAAwQAAAAAAAACxAAAAAAAAAFEAAAAAAAAAqQAAAAAAAACpAAAAAAAAAFEAAAAAAAAAmQAAAAAAAAC5AAAAAAAAAJkAAAAAAAAAgQAAAAAAAAAAAAAAAAAAAIkAAAAAAAAAuQAAAAAAAADZAAAAAAAAALkAAAAAAAAAzQAAAAAAAACZAAAAAAAAAIEAAAAAAAAAiQAAAAAAAADdAAAAAAAAAMEAAAAAAAAAIQAAAAAAAACRAAAAAAAAAMEAAAAAAAAAiQAAAAAAAACBAAAAAAAAAMkAAAAAAAAAoQAAAAAAAADJAAAAAAAAAIEAAAAAAAAAxQAAAAAAAABxAAAAAAAAAIkAAAAAAAAAgQAAAAAAAACBAAAAAAAAAMkAAAAAAAAAxQAAAAAAAACxAAAAAAAAAMkAAAAAAAAAxQAAAAAAAACpAAAAAAAAACEAAAAAAAAAzQAAAAAAAACBAAAAAAAAAJkAAAAAAAAAxQAAAAAAAADZAAAAAAAAAMkAAAAAAAAAcQAAAAAAAABRAAAAAAAAAIkAAAAAAAAAwQA==",
          "dtype": "f8"
         },
         "yaxis": "y"
        },
        {
         "box": {
          "visible": true
         },
         "hovertemplate": "Year 2021<br>Value: %{y:.2f}<extra></extra>",
         "legendgroup": "2021",
         "marker": {
          "color": "#FF6B6B"
         },
         "meanline": {
          "visible": true
         },
         "name": "Year 2021",
         "opacity": 0.7,
         "showlegend": false,
         "type": "violin",
         "xaxis": "x2",
         "y": {
          "bdata": "AAAAAAAAMkAAAAAAAAAmQAAAAAAAAC5AAAAAAAAAEEAAAAAAAAAmQAAAAAAAADBAAAAAAAAAHEAAAAAAAAAUQAAAAAAAACJAAAAAAAAAFEAAAAAAAAAUQAAAAAAAAC5AAAAAAAAAIEAAAAAAAAAUQAAAAAAAAC5AAAAAAAAAKkAAAAAAAAAgQAAAAAAAACxAAAAAAAAAM0AAAAAAAAAuQAAAAAAAADJAAAAAAAAALkAAAAAAAAAuQAAAAAAAACpAAAAAAAAACEAAAAAAAAAxQAAAAAAAABBAAAAAAAAAMkAAAAAAAAAiQAAAAAAAACZAAAAAAAAAIEAAAAAAAAAkQAAAAAAAACJAAAAAAAAALEAAAAAAAAAwQAAAAAAAABxAAAAAAAAAKkAAAAAAAAAQQAAAAAAAADFAAAAAAAAAIkAAAAAAAAAUQAAAAAAAABBAAAAAAAAALkA=",
          "dtype": "f8"
         },
         "yaxis": "y2"
        },
        {
         "box": {
          "visible": true
         },
         "hovertemplate": "Year 2022<br>Value: %{y:.2f}<extra></extra>",
         "legendgroup": "2022",
         "marker": {
          "color": "#4ECDC4"
         },
         "meanline": {
          "visible": true
         },
         "name": "Year 2022",
         "opacity": 0.7,
         "showlegend": false,
         "type": "violin",
         "xaxis": "x2",
         "y": {
          "bdata": "AAAAAAAAIkAAAAAAAAAsQAAAAAAAADFAAAAAAAAAKEAAAAAAAAAxQAAAAAAAACZAAAAAAAAAIEAAAAAAAAAsQAAAAAAAACJAAAAAAAAAGEAAAAAAAAAiQAAAAAAAACxAAAAAAAAAFEAAAAAAAAAwQAAAAAAAAChAAAAAAAAAKkAAAAAAAAA0QAAAAAAAACRAAAAAAAAAKEAAAAAAAAAiQAAAAAAAADNAAAAAAAAALkAAAAAAAAAYQAAAAAAAADBAAAAAAAAAM0AAAAAAAAAmQAAAAAAAAChAAAAAAAAAMEAAAAAAAAAoQAAAAAAAADFAAAAAAAAAJEAAAAAAAAAUQAAAAAAAACJAAAAAAAAAFEAAAAAAAAAcQAAAAAAAACBAAAAAAAAAM0AAAAAAAAAmQAAAAAAAABhAAAAAAAAAJEAAAAAAAAAgQAAAAAAAAC5AAAAAAAAAHEAAAAAAAAAwQAAAAAAAABBAAAAAAAAAKEAAAAAAAAAkQAAAAAAAABxAAAAAAAAAKEA=",
          "dtype": "f8"
         },
         "yaxis": "y2"
        },
        {
         "box": {
          "visible": true
         },
         "hovertemplate": "Year 2023<br>Value: %{y:.2f}<extra></extra>",
         "legendgroup": "2023",
         "marker": {
          "color": "#45B7D1"
         },
         "meanline": {
          "visible": true
         },
         "name": "Year 2023",
         "opacity": 0.7,
         "showlegend": false,
         "type": "violin",
         "xaxis": "x2",
         "y": {
          "bdata": "AAAAAAAAM0AAAAAAAAAwQAAAAAAAACxAAAAAAAAAFEAAAAAAAAAqQAAAAAAAACpAAAAAAAAAFEAAAAAAAAAmQAAAAAAAAC5AAAAAAAAAJkAAAAAAAAAgQAAAAAAAAAAAAAAAAAAAIkAAAAAAAAAuQAAAAAAAADZAAAAAAAAALkAAAAAAAAAzQAAAAAAAACZAAAAAAAAAIEAAAAAAAAAiQAAAAAAAADdAAAAAAAAAMEAAAAAAAAAIQAAAAAAAACRAAAAAAAAAMEAAAAAAAAAiQAAAAAAAACBAAAAAAAAAMkAAAAAAAAAoQAAAAAAAADJAAAAAAAAAIEAAAAAAAAAxQAAAAAAAABxAAAAAAAAAIkAAAAAAAAAgQAAAAAAAACBAAAAAAAAAMkAAAAAAAAAxQAAAAAAAACxAAAAAAAAAMkAAAAAAAAAxQAAAAAAAACpAAAAAAAAACEAAAAAAAAAzQAAAAAAAACBAAAAAAAAAJkAAAAAAAAAxQAAAAAAAADZAAAAAAAAAMkAAAAAAAAAcQAAAAAAAABRAAAAAAAAAIkAAAAAAAAAwQA==",
          "dtype": "f8"
         },
         "yaxis": "y2"
        },
        {
         "error_y": {
          "array": [
           4.857435988809535,
           4.262536532051641,
           5.383614876984283
          ],
          "color": "rgba(0,0,0,0.3)",
          "type": "data",
          "visible": true
         },
         "hovertemplate": "Year: %{x}<br>Mean: %{y:.2f}<br>Std: %{error_y.array:.2f}<extra></extra>",
         "line": {
          "color": "#FF6B6B",
          "width": 2
         },
         "marker": {
          "color": "#FF6B6B",
          "size": 12
         },
         "mode": "lines+markers",
         "name": "Mean ± Std Dev",
         "showlegend": false,
         "type": "scatter",
         "x": [
          2021,
          2022,
          2023
         ],
         "xaxis": "x3",
         "y": [
          10.976744186046512,
          11.448979591836734,
          12.452830188679245
         ],
         "yaxis": "y3"
        },
        {
         "hovertemplate": "Year 2021<br>Mean: 10.98<extra></extra>",
         "marker": {
          "color": "#FF6B6B",
          "size": 15
         },
         "mode": "markers+text",
         "showlegend": false,
         "text": [
          "10.98"
         ],
         "textfont": {
          "size": 12
         },
         "textposition": "top center",
         "type": "scatter",
         "x": [
          2021
         ],
         "xaxis": "x3",
         "y": [
          10.976744186046512
         ],
         "yaxis": "y3"
        },
        {
         "hovertemplate": "Year 2022<br>Mean: 11.45<extra></extra>",
         "marker": {
          "color": "#4ECDC4",
          "size": 15
         },
         "mode": "markers+text",
         "showlegend": false,
         "text": [
          "11.45"
         ],
         "textfont": {
          "size": 12
         },
         "textposition": "top center",
         "type": "scatter",
         "x": [
          2022
         ],
         "xaxis": "x3",
         "y": [
          11.448979591836734
         ],
         "yaxis": "y3"
        },
        {
         "hovertemplate": "Year 2023<br>Mean: 12.45<extra></extra>",
         "marker": {
          "color": "#45B7D1",
          "size": 15
         },
         "mode": "markers+text",
         "showlegend": false,
         "text": [
          "12.45"
         ],
         "textfont": {
          "size": 12
         },
         "textposition": "top center",
         "type": "scatter",
         "x": [
          2023
         ],
         "xaxis": "x3",
         "y": [
          12.452830188679245
         ],
         "yaxis": "y3"
        }
       ],
       "layout": {
        "annotations": [
         {
          "font": {
           "size": 16
          },
          "showarrow": false,
          "text": "Box Plot (Shows Range & Average)",
          "x": 0.12666666666666668,
          "xanchor": "center",
          "xref": "paper",
          "y": 1,
          "yanchor": "bottom",
          "yref": "paper"
         },
         {
          "font": {
           "size": 16
          },
          "showarrow": false,
          "text": "Violin Plot (Shows Distribution Shape)",
          "x": 0.5,
          "xanchor": "center",
          "xref": "paper",
          "y": 1,
          "yanchor": "bottom",
          "yref": "paper"
         },
         {
          "font": {
           "size": 16
          },
          "showarrow": false,
          "text": "Mean Values with Error Bars",
          "x": 0.8733333333333333,
          "xanchor": "center",
          "xref": "paper",
          "y": 1,
          "yanchor": "bottom",
          "yref": "paper"
         }
        ],
        "font": {
         "size": 11
        },
        "height": 500,
        "hovermode": "closest",
        "legend": {
         "orientation": "h",
         "x": 1,
         "xanchor": "right",
         "y": 1.02,
         "yanchor": "bottom"
        },
        "showlegend": true,
        "template": {
         "data": {
          "bar": [
           {
            "error_x": {
             "color": "#2a3f5f"
            },
            "error_y": {
             "color": "#2a3f5f"
            },
            "marker": {
             "line": {
              "color": "#E5ECF6",
              "width": 0.5
             },
             "pattern": {
              "fillmode": "overlay",
              "size": 10,
              "solidity": 0.2
             }
            },
            "type": "bar"
           }
          ],
          "barpolar": [
           {
            "marker": {
             "line": {
              "color": "#E5ECF6",
              "width": 0.5
             },
             "pattern": {
              "fillmode": "overlay",
              "size": 10,
              "solidity": 0.2
             }
            },
            "type": "barpolar"
           }
          ],
          "carpet": [
           {
            "aaxis": {
             "endlinecolor": "#2a3f5f",
             "gridcolor": "white",
             "linecolor": "white",
             "minorgridcolor": "white",
             "startlinecolor": "#2a3f5f"
            },
            "baxis": {
             "endlinecolor": "#2a3f5f",
             "gridcolor": "white",
             "linecolor": "white",
             "minorgridcolor": "white",
             "startlinecolor": "#2a3f5f"
            },
            "type": "carpet"
           }
          ],
          "choropleth": [
           {
            "colorbar": {
             "outlinewidth": 0,
             "ticks": ""
            },
            "type": "choropleth"
           }
          ],
          "contour": [
           {
            "colorbar": {
             "outlinewidth": 0,
             "ticks": ""
            },
            "colorscale": [
             [
              0,
              "#0d0887"
             ],
             [
              0.1111111111111111,
              "#46039f"
             ],
             [
              0.2222222222222222,
              "#7201a8"
             ],
             [
              0.3333333333333333,
              "#9c179e"
             ],
             [
              0.4444444444444444,
              "#bd3786"
             ],
             [
              0.5555555555555556,
              "#d8576b"
             ],
             [
              0.6666666666666666,
              "#ed7953"
             ],
             [
              0.7777777777777778,
              "#fb9f3a"
             ],
             [
              0.8888888888888888,
              "#fdca26"
             ],
             [
              1,
              "#f0f921"
             ]
            ],
            "type": "contour"
           }
          ],
          "contourcarpet": [
           {
            "colorbar": {
             "outlinewidth": 0,
             "ticks": ""
            },
            "type": "contourcarpet"
           }
          ],
          "heatmap": [
           {
            "colorbar": {
             "outlinewidth": 0,
             "ticks": ""
            },
            "colorscale": [
             [
              0,
              "#0d0887"
             ],
             [
              0.1111111111111111,
              "#46039f"
             ],
             [
              0.2222222222222222,
              "#7201a8"
             ],
             [
              0.3333333333333333,
              "#9c179e"
             ],
             [
              0.4444444444444444,
              "#bd3786"
             ],
             [
              0.5555555555555556,
              "#d8576b"
             ],
             [
              0.6666666666666666,
              "#ed7953"
             ],
             [
              0.7777777777777778,
              "#fb9f3a"
             ],
             [
              0.8888888888888888,
              "#fdca26"
             ],
             [
              1,
              "#f0f921"
             ]
            ],
            "type": "heatmap"
           }
          ],
          "histogram": [
           {
            "marker": {
             "pattern": {
              "fillmode": "overlay",
              "size": 10,
              "solidity": 0.2
             }
            },
            "type": "histogram"
           }
          ],
          "histogram2d": [
           {
            "colorbar": {
             "outlinewidth": 0,
             "ticks": ""
            },
            "colorscale": [
             [
              0,
              "#0d0887"
             ],
             [
              0.1111111111111111,
              "#46039f"
             ],
             [
              0.2222222222222222,
              "#7201a8"
             ],
             [
              0.3333333333333333,
              "#9c179e"
             ],
             [
              0.4444444444444444,
              "#bd3786"
             ],
             [
              0.5555555555555556,
              "#d8576b"
             ],
             [
              0.6666666666666666,
              "#ed7953"
             ],
             [
              0.7777777777777778,
              "#fb9f3a"
             ],
             [
              0.8888888888888888,
              "#fdca26"
             ],
             [
              1,
              "#f0f921"
             ]
            ],
            "type": "histogram2d"
           }
          ],
          "histogram2dcontour": [
           {
            "colorbar": {
             "outlinewidth": 0,
             "ticks": ""
            },
            "colorscale": [
             [
              0,
              "#0d0887"
             ],
             [
              0.1111111111111111,
              "#46039f"
             ],
             [
              0.2222222222222222,
              "#7201a8"
             ],
             [
              0.3333333333333333,
              "#9c179e"
             ],
             [
              0.4444444444444444,
              "#bd3786"
             ],
             [
              0.5555555555555556,
              "#d8576b"
             ],
             [
              0.6666666666666666,
              "#ed7953"
             ],
             [
              0.7777777777777778,
              "#fb9f3a"
             ],
             [
              0.8888888888888888,
              "#fdca26"
             ],
             [
              1,
              "#f0f921"
             ]
            ],
            "type": "histogram2dcontour"
           }
          ],
          "mesh3d": [
           {
            "colorbar": {
             "outlinewidth": 0,
             "ticks": ""
            },
            "type": "mesh3d"
           }
          ],
          "parcoords": [
           {
            "line": {
             "colorbar": {
              "outlinewidth": 0,
              "ticks": ""
             }
            },
            "type": "parcoords"
           }
          ],
          "pie": [
           {
            "automargin": true,
            "type": "pie"
           }
          ],
          "scatter": [
           {
            "fillpattern": {
             "fillmode": "overlay",
             "size": 10,
             "solidity": 0.2
            },
            "type": "scatter"
           }
          ],
          "scatter3d": [
           {
            "line": {
             "colorbar": {
              "outlinewidth": 0,
              "ticks": ""
             }
            },
            "marker": {
             "colorbar": {
              "outlinewidth": 0,
              "ticks": ""
             }
            },
            "type": "scatter3d"
           }
          ],
          "scattercarpet": [
           {
            "marker": {
             "colorbar": {
              "outlinewidth": 0,
              "ticks": ""
             }
            },
            "type": "scattercarpet"
           }
          ],
          "scattergeo": [
           {
            "marker": {
             "colorbar": {
              "outlinewidth": 0,
              "ticks": ""
             }
            },
            "type": "scattergeo"
           }
          ],
          "scattergl": [
           {
            "marker": {
             "colorbar": {
              "outlinewidth": 0,
              "ticks": ""
             }
            },
            "type": "scattergl"
           }
          ],
          "scattermap": [
           {
            "marker": {
             "colorbar": {
              "outlinewidth": 0,
              "ticks": ""
             }
            },
            "type": "scattermap"
           }
          ],
          "scattermapbox": [
           {
            "marker": {
             "colorbar": {
              "outlinewidth": 0,
              "ticks": ""
             }
            },
            "type": "scattermapbox"
           }
          ],
          "scatterpolar": [
           {
            "marker": {
             "colorbar": {
              "outlinewidth": 0,
              "ticks": ""
             }
            },
            "type": "scatterpolar"
           }
          ],
          "scatterpolargl": [
           {
            "marker": {
             "colorbar": {
              "outlinewidth": 0,
              "ticks": ""
             }
            },
            "type": "scatterpolargl"
           }
          ],
          "scatterternary": [
           {
            "marker": {
             "colorbar": {
              "outlinewidth": 0,
              "ticks": ""
             }
            },
            "type": "scatterternary"
           }
          ],
          "surface": [
           {
            "colorbar": {
             "outlinewidth": 0,
             "ticks": ""
            },
            "colorscale": [
             [
              0,
              "#0d0887"
             ],
             [
              0.1111111111111111,
              "#46039f"
             ],
             [
              0.2222222222222222,
              "#7201a8"
             ],
             [
              0.3333333333333333,
              "#9c179e"
             ],
             [
              0.4444444444444444,
              "#bd3786"
             ],
             [
              0.5555555555555556,
              "#d8576b"
             ],
             [
              0.6666666666666666,
              "#ed7953"
             ],
             [
              0.7777777777777778,
              "#fb9f3a"
             ],
             [
              0.8888888888888888,
              "#fdca26"
             ],
             [
              1,
              "#f0f921"
             ]
            ],
            "type": "surface"
           }
          ],
          "table": [
           {
            "cells": {
             "fill": {
              "color": "#EBF0F8"
             },
             "line": {
              "color": "white"
             }
            },
            "header": {
             "fill": {
              "color": "#C8D4E3"
             },
             "line": {
              "color": "white"
             }
            },
            "type": "table"
           }
          ]
         },
         "layout": {
          "annotationdefaults": {
           "arrowcolor": "#2a3f5f",
           "arrowhead": 0,
           "arrowwidth": 1
          },
          "autotypenumbers": "strict",
          "coloraxis": {
           "colorbar": {
            "outlinewidth": 0,
            "ticks": ""
           }
          },
          "colorscale": {
           "diverging": [
            [
             0,
             "#8e0152"
            ],
            [
             0.1,
             "#c51b7d"
            ],
            [
             0.2,
             "#de77ae"
            ],
            [
             0.3,
             "#f1b6da"
            ],
            [
             0.4,
             "#fde0ef"
            ],
            [
             0.5,
             "#f7f7f7"
            ],
            [
             0.6,
             "#e6f5d0"
            ],
            [
             0.7,
             "#b8e186"
            ],
            [
             0.8,
             "#7fbc41"
            ],
            [
             0.9,
             "#4d9221"
            ],
            [
             1,
             "#276419"
            ]
           ],
           "sequential": [
            [
             0,
             "#0d0887"
            ],
            [
             0.1111111111111111,
             "#46039f"
            ],
            [
             0.2222222222222222,
             "#7201a8"
            ],
            [
             0.3333333333333333,
             "#9c179e"
            ],
            [
             0.4444444444444444,
             "#bd3786"
            ],
            [
             0.5555555555555556,
             "#d8576b"
            ],
            [
             0.6666666666666666,
             "#ed7953"
            ],
            [
             0.7777777777777778,
             "#fb9f3a"
            ],
            [
             0.8888888888888888,
             "#fdca26"
            ],
            [
             1,
             "#f0f921"
            ]
           ],
           "sequentialminus": [
            [
             0,
             "#0d0887"
            ],
            [
             0.1111111111111111,
             "#46039f"
            ],
            [
             0.2222222222222222,
             "#7201a8"
            ],
            [
             0.3333333333333333,
             "#9c179e"
            ],
            [
             0.4444444444444444,
             "#bd3786"
            ],
            [
             0.5555555555555556,
             "#d8576b"
            ],
            [
             0.6666666666666666,
             "#ed7953"
            ],
            [
             0.7777777777777778,
             "#fb9f3a"
            ],
            [
             0.8888888888888888,
             "#fdca26"
            ],
            [
             1,
             "#f0f921"
            ]
           ]
          },
          "colorway": [
           "#636efa",
           "#EF553B",
           "#00cc96",
           "#ab63fa",
           "#FFA15A",
           "#19d3f3",
           "#FF6692",
           "#B6E880",
           "#FF97FF",
           "#FECB52"
          ],
          "font": {
           "color": "#2a3f5f"
          },
          "geo": {
           "bgcolor": "white",
           "lakecolor": "white",
           "landcolor": "#E5ECF6",
           "showlakes": true,
           "showland": true,
           "subunitcolor": "white"
          },
          "hoverlabel": {
           "align": "left"
          },
          "hovermode": "closest",
          "mapbox": {
           "style": "light"
          },
          "paper_bgcolor": "white",
          "plot_bgcolor": "#E5ECF6",
          "polar": {
           "angularaxis": {
            "gridcolor": "white",
            "linecolor": "white",
            "ticks": ""
           },
           "bgcolor": "#E5ECF6",
           "radialaxis": {
            "gridcolor": "white",
            "linecolor": "white",
            "ticks": ""
           }
          },
          "scene": {
           "xaxis": {
            "backgroundcolor": "#E5ECF6",
            "gridcolor": "white",
            "gridwidth": 2,
            "linecolor": "white",
            "showbackground": true,
            "ticks": "",
            "zerolinecolor": "white"
           },
           "yaxis": {
            "backgroundcolor": "#E5ECF6",
            "gridcolor": "white",
            "gridwidth": 2,
            "linecolor": "white",
            "showbackground": true,
            "ticks": "",
            "zerolinecolor": "white"
           },
           "zaxis": {
            "backgroundcolor": "#E5ECF6",
            "gridcolor": "white",
            "gridwidth": 2,
            "linecolor": "white",
            "showbackground": true,
            "ticks": "",
            "zerolinecolor": "white"
           }
          },
          "shapedefaults": {
           "line": {
            "color": "#2a3f5f"
           }
          },
          "ternary": {
           "aaxis": {
            "gridcolor": "white",
            "linecolor": "white",
            "ticks": ""
           },
           "baxis": {
            "gridcolor": "white",
            "linecolor": "white",
            "ticks": ""
           },
           "bgcolor": "#E5ECF6",
           "caxis": {
            "gridcolor": "white",
            "linecolor": "white",
            "ticks": ""
           }
          },
          "title": {
           "x": 0.05
          },
          "xaxis": {
           "automargin": true,
           "gridcolor": "white",
           "linecolor": "white",
           "ticks": "",
           "title": {
            "standoff": 15
           },
           "zerolinecolor": "white",
           "zerolinewidth": 2
          },
          "yaxis": {
           "automargin": true,
           "gridcolor": "white",
           "linecolor": "white",
           "ticks": "",
           "title": {
            "standoff": 15
           },
           "zerolinecolor": "white",
           "zerolinewidth": 2
          }
         }
        },
        "title": {
         "font": {
          "size": 16
         },
         "text": "<b>Midterm exam score (max 25)</b><br><sub>Assessment Components - Comparing Years 2021-2023</sub>"
        },
        "xaxis": {
         "anchor": "y",
         "domain": [
          0,
          0.25333333333333335
         ],
         "title": {
          "text": ""
         }
        },
        "xaxis2": {
         "anchor": "y2",
         "domain": [
          0.37333333333333335,
          0.6266666666666667
         ],
         "title": {
          "text": ""
         }
        },
        "xaxis3": {
         "anchor": "y3",
         "domain": [
          0.7466666666666667,
          1
         ],
         "title": {
          "text": "Academic Year"
         }
        },
        "yaxis": {
         "anchor": "x",
         "domain": [
          0,
          1
         ],
         "range": [
          -2.430327605716115,
          25.430327605716116
         ],
         "title": {
          "text": "Score"
         }
        },
        "yaxis2": {
         "anchor": "x2",
         "domain": [
          0,
          1
         ],
         "range": [
          -2.430327605716115,
          25.430327605716116
         ],
         "title": {
          "text": "Score"
         }
        },
        "yaxis3": {
         "anchor": "x3",
         "domain": [
          0,
          1
         ],
         "range": [
          -2.430327605716115,
          25.430327605716116
         ],
         "title": {
          "text": "Score"
         }
        }
       }
      }
     },
     "metadata": {},
     "output_type": "display_data"
    },
    {
     "name": "stdout",
     "output_type": "stream",
     "text": [
      "\n",
      "📊 Midterm exam score (max 25)\n",
      "Variable: exam_k2\n",
      "------------------------------------------------------------\n",
      " Year  Count  Mean Median Std Dev  Min   Max\n",
      " 2021     43 10.98  11.00    4.86 3.00 19.00\n",
      " 2022     49 11.45  11.00    4.26 4.00 20.00\n",
      " 2023     53 12.45  13.00    5.38 0.00 23.00\n",
      "\n",
      "📈 Trend: 2021 → 2023\n",
      "   ↑ Increased by 1.48 (13.4%)\n",
      "\n"
     ]
    },
    {
     "data": {
      "application/vnd.plotly.v1+json": {
       "config": {
        "plotlyServerURL": "https://plot.ly"
       },
       "data": [
        {
         "boxmean": "sd",
         "boxpoints": "outliers",
         "hovertemplate": "Year 2021<br>Value: %{y:.2f}<extra></extra>",
         "jitter": 0.3,
         "legendgroup": "2021",
         "marker": {
          "color": "#FF6B6B"
         },
         "name": "Year 2021",
         "pointpos": -1.8,
         "showlegend": true,
         "type": "box",
         "xaxis": "x",
         "y": {
          "bdata": "AAAAAAAAMEAAAAAAAAAqQAAAAAAAADBAAAAAAAAANEAAAAAAAAAzQAAAAAAAACBAAAAAAAAAEEAAAAAAAAAYQAAAAAAAABhAAAAAAAAACEAAAAAAAAAqQAAAAAAAACRAAAAAAAAAKEAAAAAAAAAkQAAAAAAAACRAAAAAAAAAKEAAAAAAAAAuQAAAAAAAACpAAAAAAAAAKkAAAAAAAAAYQAAAAAAAACxAAAAAAAAAJkAAAAAAAAAcQAAAAAAAADBAAAAAAAAAJkAAAAAAAAAxQAAAAAAAACRAAAAAAAAAMEAAAAAAAAAqQAAAAAAAACxAAAAAAAAAMkAAAAAAAAA0QAAAAAAAACJAAAAAAAAAM0AAAAAAAAAgQAAAAAAAADRAAAAAAAAAMEAAAAAAAAAcQAAAAAAAABhAAAAAAAAALEA=",
          "dtype": "f8"
         },
         "yaxis": "y"
        },
        {
         "boxmean": "sd",
         "boxpoints": "outliers",
         "hovertemplate": "Year 2022<br>Value: %{y:.2f}<extra></extra>",
         "jitter": 0.3,
         "legendgroup": "2022",
         "marker": {
          "color": "#4ECDC4"
         },
         "name": "Year 2022",
         "pointpos": -1.8,
         "showlegend": true,
         "type": "box",
         "xaxis": "x",
         "y": {
          "bdata": "AAAAAAAAKEAAAAAAAAAqQAAAAAAAAC5AAAAAAAAAKkAAAAAAAAAqQAAAAAAAADNAAAAAAAAAM0AAAAAAAAAuQAAAAAAAACpAAAAAAAAAIkAAAAAAAAAuQAAAAAAAADBAAAAAAAAAJEAAAAAAAAA2QAAAAAAAADJAAAAAAAAAMEAAAAAAAAAkQAAAAAAAADVAAAAAAAAALEAAAAAAAAAYQAAAAAAAADJAAAAAAAAANUAAAAAAAAAxQAAAAAAAADJAAAAAAAAAMEAAAAAAAAAyQAAAAAAAACZAAAAAAAAAHEAAAAAAAAAuQAAAAAAAACpAAAAAAAAAJkAAAAAAAAAsQAAAAAAAAC5AAAAAAAAAIkAAAAAAAAAzQAAAAAAAACRAAAAAAAAAN0AAAAAAAAAqQAAAAAAAADRAAAAAAAAALEAAAAAAAAA1QAAAAAAAABRAAAAAAAAAMEA=",
          "dtype": "f8"
         },
         "yaxis": "y"
        },
        {
         "boxmean": "sd",
         "boxpoints": "outliers",
         "hovertemplate": "Year 2023<br>Value: %{y:.2f}<extra></extra>",
         "jitter": 0.3,
         "legendgroup": "2023",
         "marker": {
          "color": "#45B7D1"
         },
         "name": "Year 2023",
         "pointpos": -1.8,
         "showlegend": true,
         "type": "box",
         "xaxis": "x",
         "y": {
          "bdata": "AAAAAAAAMUAAAAAAAAAuQAAAAAAAADBAAAAAAAAAMEAAAAAAAAAwQAAAAAAAACRAAAAAAAAALEAAAAAAAAA0QAAAAAAAACBAAAAAAAAAKkAAAAAAAAAzQAAAAAAAACxAAAAAAAAAMEAAAAAAAAAoQAAAAAAAACJAAAAAAAAANEAAAAAAAAAwQAAAAAAAADJAAAAAAAAAMUAAAAAAAAAwQAAAAAAAAC5AAAAAAAAAMkAAAAAAAAAqQAAAAAAAACRAAAAAAAAAMUAAAAAAAAA0QAAAAAAAAAAAAAAAAAAALkAAAAAAAAAxQAAAAAAAACZAAAAAAAAAM0AAAAAAAAAzQAAAAAAAADRAAAAAAAAAAAAAAAAAAAA1QAAAAAAAACpAAAAAAAAANUAAAAAAAAA0QAAAAAAAACJAAAAAAAAAMUAAAAAAAAAAAAAAAAAAAAAAAAAAAAAAKkAAAAAAAAAqQA==",
          "dtype": "f8"
         },
         "yaxis": "y"
        },
        {
         "box": {
          "visible": true
         },
         "hovertemplate": "Year 2021<br>Value: %{y:.2f}<extra></extra>",
         "legendgroup": "2021",
         "marker": {
          "color": "#FF6B6B"
         },
         "meanline": {
          "visible": true
         },
         "name": "Year 2021",
         "opacity": 0.7,
         "showlegend": false,
         "type": "violin",
         "xaxis": "x2",
         "y": {
          "bdata": "AAAAAAAAMEAAAAAAAAAqQAAAAAAAADBAAAAAAAAANEAAAAAAAAAzQAAAAAAAACBAAAAAAAAAEEAAAAAAAAAYQAAAAAAAABhAAAAAAAAACEAAAAAAAAAqQAAAAAAAACRAAAAAAAAAKEAAAAAAAAAkQAAAAAAAACRAAAAAAAAAKEAAAAAAAAAuQAAAAAAAACpAAAAAAAAAKkAAAAAAAAAYQAAAAAAAACxAAAAAAAAAJkAAAAAAAAAcQAAAAAAAADBAAAAAAAAAJkAAAAAAAAAxQAAAAAAAACRAAAAAAAAAMEAAAAAAAAAqQAAAAAAAACxAAAAAAAAAMkAAAAAAAAA0QAAAAAAAACJAAAAAAAAAM0AAAAAAAAAgQAAAAAAAADRAAAAAAAAAMEAAAAAAAAAcQAAAAAAAABhAAAAAAAAALEA=",
          "dtype": "f8"
         },
         "yaxis": "y2"
        },
        {
         "box": {
          "visible": true
         },
         "hovertemplate": "Year 2022<br>Value: %{y:.2f}<extra></extra>",
         "legendgroup": "2022",
         "marker": {
          "color": "#4ECDC4"
         },
         "meanline": {
          "visible": true
         },
         "name": "Year 2022",
         "opacity": 0.7,
         "showlegend": false,
         "type": "violin",
         "xaxis": "x2",
         "y": {
          "bdata": "AAAAAAAAKEAAAAAAAAAqQAAAAAAAAC5AAAAAAAAAKkAAAAAAAAAqQAAAAAAAADNAAAAAAAAAM0AAAAAAAAAuQAAAAAAAACpAAAAAAAAAIkAAAAAAAAAuQAAAAAAAADBAAAAAAAAAJEAAAAAAAAA2QAAAAAAAADJAAAAAAAAAMEAAAAAAAAAkQAAAAAAAADVAAAAAAAAALEAAAAAAAAAYQAAAAAAAADJAAAAAAAAANUAAAAAAAAAxQAAAAAAAADJAAAAAAAAAMEAAAAAAAAAyQAAAAAAAACZAAAAAAAAAHEAAAAAAAAAuQAAAAAAAACpAAAAAAAAAJkAAAAAAAAAsQAAAAAAAAC5AAAAAAAAAIkAAAAAAAAAzQAAAAAAAACRAAAAAAAAAN0AAAAAAAAAqQAAAAAAAADRAAAAAAAAALEAAAAAAAAA1QAAAAAAAABRAAAAAAAAAMEA=",
          "dtype": "f8"
         },
         "yaxis": "y2"
        },
        {
         "box": {
          "visible": true
         },
         "hovertemplate": "Year 2023<br>Value: %{y:.2f}<extra></extra>",
         "legendgroup": "2023",
         "marker": {
          "color": "#45B7D1"
         },
         "meanline": {
          "visible": true
         },
         "name": "Year 2023",
         "opacity": 0.7,
         "showlegend": false,
         "type": "violin",
         "xaxis": "x2",
         "y": {
          "bdata": "AAAAAAAAMUAAAAAAAAAuQAAAAAAAADBAAAAAAAAAMEAAAAAAAAAwQAAAAAAAACRAAAAAAAAALEAAAAAAAAA0QAAAAAAAACBAAAAAAAAAKkAAAAAAAAAzQAAAAAAAACxAAAAAAAAAMEAAAAAAAAAoQAAAAAAAACJAAAAAAAAANEAAAAAAAAAwQAAAAAAAADJAAAAAAAAAMUAAAAAAAAAwQAAAAAAAAC5AAAAAAAAAMkAAAAAAAAAqQAAAAAAAACRAAAAAAAAAMUAAAAAAAAA0QAAAAAAAAAAAAAAAAAAALkAAAAAAAAAxQAAAAAAAACZAAAAAAAAAM0AAAAAAAAAzQAAAAAAAADRAAAAAAAAAAAAAAAAAAAA1QAAAAAAAACpAAAAAAAAANUAAAAAAAAA0QAAAAAAAACJAAAAAAAAAMUAAAAAAAAAAAAAAAAAAAAAAAAAAAAAAKkAAAAAAAAAqQA==",
          "dtype": "f8"
         },
         "yaxis": "y2"
        },
        {
         "error_y": {
          "array": [
           4.673918358349108,
           4.349743185606582,
           5.656620660241318
          ],
          "color": "rgba(0,0,0,0.3)",
          "type": "data",
          "visible": true
         },
         "hovertemplate": "Year: %{x}<br>Mean: %{y:.2f}<br>Std: %{error_y.array:.2f}<extra></extra>",
         "line": {
          "color": "#FF6B6B",
          "width": 2
         },
         "marker": {
          "color": "#FF6B6B",
          "size": 12
         },
         "mode": "lines+markers",
         "name": "Mean ± Std Dev",
         "showlegend": false,
         "type": "scatter",
         "x": [
          2021,
          2022,
          2023
         ],
         "xaxis": "x3",
         "y": [
          12.275,
          14.720930232558139,
          14.159090909090908
         ],
         "yaxis": "y3"
        },
        {
         "hovertemplate": "Year 2021<br>Mean: 12.28<extra></extra>",
         "marker": {
          "color": "#FF6B6B",
          "size": 15
         },
         "mode": "markers+text",
         "showlegend": false,
         "text": [
          "12.28"
         ],
         "textfont": {
          "size": 12
         },
         "textposition": "top center",
         "type": "scatter",
         "x": [
          2021
         ],
         "xaxis": "x3",
         "y": [
          12.275
         ],
         "yaxis": "y3"
        },
        {
         "hovertemplate": "Year 2022<br>Mean: 14.72<extra></extra>",
         "marker": {
          "color": "#4ECDC4",
          "size": 15
         },
         "mode": "markers+text",
         "showlegend": false,
         "text": [
          "14.72"
         ],
         "textfont": {
          "size": 12
         },
         "textposition": "top center",
         "type": "scatter",
         "x": [
          2022
         ],
         "xaxis": "x3",
         "y": [
          14.720930232558139
         ],
         "yaxis": "y3"
        },
        {
         "hovertemplate": "Year 2023<br>Mean: 14.16<extra></extra>",
         "marker": {
          "color": "#45B7D1",
          "size": 15
         },
         "mode": "markers+text",
         "showlegend": false,
         "text": [
          "14.16"
         ],
         "textfont": {
          "size": 12
         },
         "textposition": "top center",
         "type": "scatter",
         "x": [
          2023
         ],
         "xaxis": "x3",
         "y": [
          14.159090909090908
         ],
         "yaxis": "y3"
        }
       ],
       "layout": {
        "annotations": [
         {
          "font": {
           "size": 16
          },
          "showarrow": false,
          "text": "Box Plot (Shows Range & Average)",
          "x": 0.12666666666666668,
          "xanchor": "center",
          "xref": "paper",
          "y": 1,
          "yanchor": "bottom",
          "yref": "paper"
         },
         {
          "font": {
           "size": 16
          },
          "showarrow": false,
          "text": "Violin Plot (Shows Distribution Shape)",
          "x": 0.5,
          "xanchor": "center",
          "xref": "paper",
          "y": 1,
          "yanchor": "bottom",
          "yref": "paper"
         },
         {
          "font": {
           "size": 16
          },
          "showarrow": false,
          "text": "Mean Values with Error Bars",
          "x": 0.8733333333333333,
          "xanchor": "center",
          "xref": "paper",
          "y": 1,
          "yanchor": "bottom",
          "yref": "paper"
         }
        ],
        "font": {
         "size": 11
        },
        "height": 500,
        "hovermode": "closest",
        "legend": {
         "orientation": "h",
         "x": 1,
         "xanchor": "right",
         "y": 1.02,
         "yanchor": "bottom"
        },
        "showlegend": true,
        "template": {
         "data": {
          "bar": [
           {
            "error_x": {
             "color": "#2a3f5f"
            },
            "error_y": {
             "color": "#2a3f5f"
            },
            "marker": {
             "line": {
              "color": "#E5ECF6",
              "width": 0.5
             },
             "pattern": {
              "fillmode": "overlay",
              "size": 10,
              "solidity": 0.2
             }
            },
            "type": "bar"
           }
          ],
          "barpolar": [
           {
            "marker": {
             "line": {
              "color": "#E5ECF6",
              "width": 0.5
             },
             "pattern": {
              "fillmode": "overlay",
              "size": 10,
              "solidity": 0.2
             }
            },
            "type": "barpolar"
           }
          ],
          "carpet": [
           {
            "aaxis": {
             "endlinecolor": "#2a3f5f",
             "gridcolor": "white",
             "linecolor": "white",
             "minorgridcolor": "white",
             "startlinecolor": "#2a3f5f"
            },
            "baxis": {
             "endlinecolor": "#2a3f5f",
             "gridcolor": "white",
             "linecolor": "white",
             "minorgridcolor": "white",
             "startlinecolor": "#2a3f5f"
            },
            "type": "carpet"
           }
          ],
          "choropleth": [
           {
            "colorbar": {
             "outlinewidth": 0,
             "ticks": ""
            },
            "type": "choropleth"
           }
          ],
          "contour": [
           {
            "colorbar": {
             "outlinewidth": 0,
             "ticks": ""
            },
            "colorscale": [
             [
              0,
              "#0d0887"
             ],
             [
              0.1111111111111111,
              "#46039f"
             ],
             [
              0.2222222222222222,
              "#7201a8"
             ],
             [
              0.3333333333333333,
              "#9c179e"
             ],
             [
              0.4444444444444444,
              "#bd3786"
             ],
             [
              0.5555555555555556,
              "#d8576b"
             ],
             [
              0.6666666666666666,
              "#ed7953"
             ],
             [
              0.7777777777777778,
              "#fb9f3a"
             ],
             [
              0.8888888888888888,
              "#fdca26"
             ],
             [
              1,
              "#f0f921"
             ]
            ],
            "type": "contour"
           }
          ],
          "contourcarpet": [
           {
            "colorbar": {
             "outlinewidth": 0,
             "ticks": ""
            },
            "type": "contourcarpet"
           }
          ],
          "heatmap": [
           {
            "colorbar": {
             "outlinewidth": 0,
             "ticks": ""
            },
            "colorscale": [
             [
              0,
              "#0d0887"
             ],
             [
              0.1111111111111111,
              "#46039f"
             ],
             [
              0.2222222222222222,
              "#7201a8"
             ],
             [
              0.3333333333333333,
              "#9c179e"
             ],
             [
              0.4444444444444444,
              "#bd3786"
             ],
             [
              0.5555555555555556,
              "#d8576b"
             ],
             [
              0.6666666666666666,
              "#ed7953"
             ],
             [
              0.7777777777777778,
              "#fb9f3a"
             ],
             [
              0.8888888888888888,
              "#fdca26"
             ],
             [
              1,
              "#f0f921"
             ]
            ],
            "type": "heatmap"
           }
          ],
          "histogram": [
           {
            "marker": {
             "pattern": {
              "fillmode": "overlay",
              "size": 10,
              "solidity": 0.2
             }
            },
            "type": "histogram"
           }
          ],
          "histogram2d": [
           {
            "colorbar": {
             "outlinewidth": 0,
             "ticks": ""
            },
            "colorscale": [
             [
              0,
              "#0d0887"
             ],
             [
              0.1111111111111111,
              "#46039f"
             ],
             [
              0.2222222222222222,
              "#7201a8"
             ],
             [
              0.3333333333333333,
              "#9c179e"
             ],
             [
              0.4444444444444444,
              "#bd3786"
             ],
             [
              0.5555555555555556,
              "#d8576b"
             ],
             [
              0.6666666666666666,
              "#ed7953"
             ],
             [
              0.7777777777777778,
              "#fb9f3a"
             ],
             [
              0.8888888888888888,
              "#fdca26"
             ],
             [
              1,
              "#f0f921"
             ]
            ],
            "type": "histogram2d"
           }
          ],
          "histogram2dcontour": [
           {
            "colorbar": {
             "outlinewidth": 0,
             "ticks": ""
            },
            "colorscale": [
             [
              0,
              "#0d0887"
             ],
             [
              0.1111111111111111,
              "#46039f"
             ],
             [
              0.2222222222222222,
              "#7201a8"
             ],
             [
              0.3333333333333333,
              "#9c179e"
             ],
             [
              0.4444444444444444,
              "#bd3786"
             ],
             [
              0.5555555555555556,
              "#d8576b"
             ],
             [
              0.6666666666666666,
              "#ed7953"
             ],
             [
              0.7777777777777778,
              "#fb9f3a"
             ],
             [
              0.8888888888888888,
              "#fdca26"
             ],
             [
              1,
              "#f0f921"
             ]
            ],
            "type": "histogram2dcontour"
           }
          ],
          "mesh3d": [
           {
            "colorbar": {
             "outlinewidth": 0,
             "ticks": ""
            },
            "type": "mesh3d"
           }
          ],
          "parcoords": [
           {
            "line": {
             "colorbar": {
              "outlinewidth": 0,
              "ticks": ""
             }
            },
            "type": "parcoords"
           }
          ],
          "pie": [
           {
            "automargin": true,
            "type": "pie"
           }
          ],
          "scatter": [
           {
            "fillpattern": {
             "fillmode": "overlay",
             "size": 10,
             "solidity": 0.2
            },
            "type": "scatter"
           }
          ],
          "scatter3d": [
           {
            "line": {
             "colorbar": {
              "outlinewidth": 0,
              "ticks": ""
             }
            },
            "marker": {
             "colorbar": {
              "outlinewidth": 0,
              "ticks": ""
             }
            },
            "type": "scatter3d"
           }
          ],
          "scattercarpet": [
           {
            "marker": {
             "colorbar": {
              "outlinewidth": 0,
              "ticks": ""
             }
            },
            "type": "scattercarpet"
           }
          ],
          "scattergeo": [
           {
            "marker": {
             "colorbar": {
              "outlinewidth": 0,
              "ticks": ""
             }
            },
            "type": "scattergeo"
           }
          ],
          "scattergl": [
           {
            "marker": {
             "colorbar": {
              "outlinewidth": 0,
              "ticks": ""
             }
            },
            "type": "scattergl"
           }
          ],
          "scattermap": [
           {
            "marker": {
             "colorbar": {
              "outlinewidth": 0,
              "ticks": ""
             }
            },
            "type": "scattermap"
           }
          ],
          "scattermapbox": [
           {
            "marker": {
             "colorbar": {
              "outlinewidth": 0,
              "ticks": ""
             }
            },
            "type": "scattermapbox"
           }
          ],
          "scatterpolar": [
           {
            "marker": {
             "colorbar": {
              "outlinewidth": 0,
              "ticks": ""
             }
            },
            "type": "scatterpolar"
           }
          ],
          "scatterpolargl": [
           {
            "marker": {
             "colorbar": {
              "outlinewidth": 0,
              "ticks": ""
             }
            },
            "type": "scatterpolargl"
           }
          ],
          "scatterternary": [
           {
            "marker": {
             "colorbar": {
              "outlinewidth": 0,
              "ticks": ""
             }
            },
            "type": "scatterternary"
           }
          ],
          "surface": [
           {
            "colorbar": {
             "outlinewidth": 0,
             "ticks": ""
            },
            "colorscale": [
             [
              0,
              "#0d0887"
             ],
             [
              0.1111111111111111,
              "#46039f"
             ],
             [
              0.2222222222222222,
              "#7201a8"
             ],
             [
              0.3333333333333333,
              "#9c179e"
             ],
             [
              0.4444444444444444,
              "#bd3786"
             ],
             [
              0.5555555555555556,
              "#d8576b"
             ],
             [
              0.6666666666666666,
              "#ed7953"
             ],
             [
              0.7777777777777778,
              "#fb9f3a"
             ],
             [
              0.8888888888888888,
              "#fdca26"
             ],
             [
              1,
              "#f0f921"
             ]
            ],
            "type": "surface"
           }
          ],
          "table": [
           {
            "cells": {
             "fill": {
              "color": "#EBF0F8"
             },
             "line": {
              "color": "white"
             }
            },
            "header": {
             "fill": {
              "color": "#C8D4E3"
             },
             "line": {
              "color": "white"
             }
            },
            "type": "table"
           }
          ]
         },
         "layout": {
          "annotationdefaults": {
           "arrowcolor": "#2a3f5f",
           "arrowhead": 0,
           "arrowwidth": 1
          },
          "autotypenumbers": "strict",
          "coloraxis": {
           "colorbar": {
            "outlinewidth": 0,
            "ticks": ""
           }
          },
          "colorscale": {
           "diverging": [
            [
             0,
             "#8e0152"
            ],
            [
             0.1,
             "#c51b7d"
            ],
            [
             0.2,
             "#de77ae"
            ],
            [
             0.3,
             "#f1b6da"
            ],
            [
             0.4,
             "#fde0ef"
            ],
            [
             0.5,
             "#f7f7f7"
            ],
            [
             0.6,
             "#e6f5d0"
            ],
            [
             0.7,
             "#b8e186"
            ],
            [
             0.8,
             "#7fbc41"
            ],
            [
             0.9,
             "#4d9221"
            ],
            [
             1,
             "#276419"
            ]
           ],
           "sequential": [
            [
             0,
             "#0d0887"
            ],
            [
             0.1111111111111111,
             "#46039f"
            ],
            [
             0.2222222222222222,
             "#7201a8"
            ],
            [
             0.3333333333333333,
             "#9c179e"
            ],
            [
             0.4444444444444444,
             "#bd3786"
            ],
            [
             0.5555555555555556,
             "#d8576b"
            ],
            [
             0.6666666666666666,
             "#ed7953"
            ],
            [
             0.7777777777777778,
             "#fb9f3a"
            ],
            [
             0.8888888888888888,
             "#fdca26"
            ],
            [
             1,
             "#f0f921"
            ]
           ],
           "sequentialminus": [
            [
             0,
             "#0d0887"
            ],
            [
             0.1111111111111111,
             "#46039f"
            ],
            [
             0.2222222222222222,
             "#7201a8"
            ],
            [
             0.3333333333333333,
             "#9c179e"
            ],
            [
             0.4444444444444444,
             "#bd3786"
            ],
            [
             0.5555555555555556,
             "#d8576b"
            ],
            [
             0.6666666666666666,
             "#ed7953"
            ],
            [
             0.7777777777777778,
             "#fb9f3a"
            ],
            [
             0.8888888888888888,
             "#fdca26"
            ],
            [
             1,
             "#f0f921"
            ]
           ]
          },
          "colorway": [
           "#636efa",
           "#EF553B",
           "#00cc96",
           "#ab63fa",
           "#FFA15A",
           "#19d3f3",
           "#FF6692",
           "#B6E880",
           "#FF97FF",
           "#FECB52"
          ],
          "font": {
           "color": "#2a3f5f"
          },
          "geo": {
           "bgcolor": "white",
           "lakecolor": "white",
           "landcolor": "#E5ECF6",
           "showlakes": true,
           "showland": true,
           "subunitcolor": "white"
          },
          "hoverlabel": {
           "align": "left"
          },
          "hovermode": "closest",
          "mapbox": {
           "style": "light"
          },
          "paper_bgcolor": "white",
          "plot_bgcolor": "#E5ECF6",
          "polar": {
           "angularaxis": {
            "gridcolor": "white",
            "linecolor": "white",
            "ticks": ""
           },
           "bgcolor": "#E5ECF6",
           "radialaxis": {
            "gridcolor": "white",
            "linecolor": "white",
            "ticks": ""
           }
          },
          "scene": {
           "xaxis": {
            "backgroundcolor": "#E5ECF6",
            "gridcolor": "white",
            "gridwidth": 2,
            "linecolor": "white",
            "showbackground": true,
            "ticks": "",
            "zerolinecolor": "white"
           },
           "yaxis": {
            "backgroundcolor": "#E5ECF6",
            "gridcolor": "white",
            "gridwidth": 2,
            "linecolor": "white",
            "showbackground": true,
            "ticks": "",
            "zerolinecolor": "white"
           },
           "zaxis": {
            "backgroundcolor": "#E5ECF6",
            "gridcolor": "white",
            "gridwidth": 2,
            "linecolor": "white",
            "showbackground": true,
            "ticks": "",
            "zerolinecolor": "white"
           }
          },
          "shapedefaults": {
           "line": {
            "color": "#2a3f5f"
           }
          },
          "ternary": {
           "aaxis": {
            "gridcolor": "white",
            "linecolor": "white",
            "ticks": ""
           },
           "baxis": {
            "gridcolor": "white",
            "linecolor": "white",
            "ticks": ""
           },
           "bgcolor": "#E5ECF6",
           "caxis": {
            "gridcolor": "white",
            "linecolor": "white",
            "ticks": ""
           }
          },
          "title": {
           "x": 0.05
          },
          "xaxis": {
           "automargin": true,
           "gridcolor": "white",
           "linecolor": "white",
           "ticks": "",
           "title": {
            "standoff": 15
           },
           "zerolinecolor": "white",
           "zerolinewidth": 2
          },
          "yaxis": {
           "automargin": true,
           "gridcolor": "white",
           "linecolor": "white",
           "ticks": "",
           "title": {
            "standoff": 15
           },
           "zerolinecolor": "white",
           "zerolinewidth": 2
          }
         }
        },
        "title": {
         "font": {
          "size": 16
         },
         "text": "<b>Final exam score (max 25)</b><br><sub>Assessment Components - Comparing Years 2021-2023</sub>"
        },
        "xaxis": {
         "anchor": "y",
         "domain": [
          0,
          0.25333333333333335
         ],
         "title": {
          "text": ""
         }
        },
        "xaxis2": {
         "anchor": "y2",
         "domain": [
          0.37333333333333335,
          0.6266666666666667
         ],
         "title": {
          "text": ""
         }
        },
        "xaxis3": {
         "anchor": "y3",
         "domain": [
          0.7466666666666667,
          1
         ],
         "title": {
          "text": "Academic Year"
         }
        },
        "yaxis": {
         "anchor": "x",
         "domain": [
          0,
          1
         ],
         "range": [
          -2.4930742930845167,
          25.49307429308452
         ],
         "title": {
          "text": "Score"
         }
        },
        "yaxis2": {
         "anchor": "x2",
         "domain": [
          0,
          1
         ],
         "range": [
          -2.4930742930845167,
          25.49307429308452
         ],
         "title": {
          "text": "Score"
         }
        },
        "yaxis3": {
         "anchor": "x3",
         "domain": [
          0,
          1
         ],
         "range": [
          -2.4930742930845167,
          25.49307429308452
         ],
         "title": {
          "text": "Score"
         }
        }
       }
      }
     },
     "metadata": {},
     "output_type": "display_data"
    },
    {
     "name": "stdout",
     "output_type": "stream",
     "text": [
      "\n",
      "📊 Final exam score (max 25)\n",
      "Variable: exam_k3\n",
      "------------------------------------------------------------\n",
      " Year  Count  Mean Median Std Dev  Min   Max\n",
      " 2021     40 12.28  13.00    4.67 3.00 20.00\n",
      " 2022     43 14.72  15.00    4.35 5.00 23.00\n",
      " 2023     44 14.16  16.00    5.66 0.00 21.00\n",
      "\n",
      "📈 Trend: 2021 → 2023\n",
      "   ↑ Increased by 1.88 (15.3%)\n",
      "\n"
     ]
    }
   ],
   "source": [
    "# Create comprehensive visualization of year-wise trends with improved clarity\n",
    "def create_year_comparison_plots(df, variables_dict):\n",
    "    \"\"\"Create detailed plots comparing variables across years with layman-friendly design\"\"\"\n",
    "    \n",
    "    for category, variables in variables_dict.items():\n",
    "        # Filter to available variables\n",
    "        available_vars = [(var, desc) for var, desc in variables if var in df.columns]\n",
    "        \n",
    "        if not available_vars:\n",
    "            continue\n",
    "        \n",
    "        # Create separate plots for each variable for better clarity\n",
    "        for var_name, description in available_vars:\n",
    "            years = sorted(df['academic_year'].unique())\n",
    "            colors = ['#FF6B6B', '#4ECDC4', '#45B7D1']  # Different color for each year\n",
    "            \n",
    "            # Create a figure with better spacing\n",
    "            fig = make_subplots(\n",
    "                rows=1, cols=3,\n",
    "                subplot_titles=[\n",
    "                    \"Box Plot (Shows Range & Average)\",\n",
    "                    \"Violin Plot (Shows Distribution Shape)\",\n",
    "                    \"Mean Values with Error Bars\"\n",
    "                ],\n",
    "                horizontal_spacing=0.12\n",
    "            )\n",
    "            \n",
    "            # Prepare data for all years\n",
    "            year_data_dict = {}\n",
    "            for year in years:\n",
    "                year_data_dict[year] = df[df['academic_year'] == year][var_name].dropna()\n",
    "            \n",
    "            # 1. Box plots with clear labels\n",
    "            for j, year in enumerate(years):\n",
    "                year_data = year_data_dict[year]\n",
    "                \n",
    "                fig.add_trace(\n",
    "                    go.Box(\n",
    "                        y=year_data,\n",
    "                        name=f\"Year {year}\",\n",
    "                        boxmean='sd',  # Show mean and standard deviation\n",
    "                        marker_color=colors[j],\n",
    "                        boxpoints='outliers',  # Show only outliers\n",
    "                        jitter=0.3,\n",
    "                        pointpos=-1.8,\n",
    "                        showlegend=True,\n",
    "                        legendgroup=str(year),\n",
    "                        hovertemplate=f\"Year {year}<br>Value: %{{y:.2f}}<extra></extra>\"\n",
    "                    ),\n",
    "                    row=1, col=1\n",
    "                )\n",
    "            \n",
    "            # 2. Violin plots with better visibility\n",
    "            for j, year in enumerate(years):\n",
    "                year_data = year_data_dict[year]\n",
    "                \n",
    "                fig.add_trace(\n",
    "                    go.Violin(\n",
    "                        y=year_data,\n",
    "                        name=f\"Year {year}\",\n",
    "                        box_visible=True,\n",
    "                        meanline_visible=True,\n",
    "                        marker_color=colors[j],\n",
    "                        opacity=0.7,\n",
    "                        showlegend=False,\n",
    "                        legendgroup=str(year),\n",
    "                        hovertemplate=f\"Year {year}<br>Value: %{{y:.2f}}<extra></extra>\"\n",
    "                    ),\n",
    "                    row=1, col=2\n",
    "                )\n",
    "            \n",
    "            # 3. Mean comparison with error bars\n",
    "            means = []\n",
    "            stds = []\n",
    "            for year in years:\n",
    "                year_data = year_data_dict[year]\n",
    "                means.append(year_data.mean())\n",
    "                stds.append(year_data.std())\n",
    "            \n",
    "            fig.add_trace(\n",
    "                go.Scatter(\n",
    "                    x=years,\n",
    "                    y=means,\n",
    "                    error_y=dict(\n",
    "                        type='data',\n",
    "                        array=stds,\n",
    "                        visible=True,\n",
    "                        color='rgba(0,0,0,0.3)'\n",
    "                    ),\n",
    "                    mode='lines+markers',\n",
    "                    marker=dict(size=12, color='#FF6B6B'),\n",
    "                    line=dict(width=2, color='#FF6B6B'),\n",
    "                    name='Mean ± Std Dev',\n",
    "                    showlegend=False,\n",
    "                    hovertemplate=\"Year: %{x}<br>Mean: %{y:.2f}<br>Std: %{error_y.array:.2f}<extra></extra>\"\n",
    "                ),\n",
    "                row=1, col=3\n",
    "            )\n",
    "            \n",
    "            # Add individual year points for reference\n",
    "            for j, year in enumerate(years):\n",
    "                fig.add_trace(\n",
    "                    go.Scatter(\n",
    "                        x=[year],\n",
    "                        y=[means[j]],\n",
    "                        mode='markers+text',\n",
    "                        marker=dict(size=15, color=colors[j]),\n",
    "                        text=[f\"{means[j]:.2f}\"],\n",
    "                        textposition=\"top center\",\n",
    "                        textfont=dict(size=12),\n",
    "                        showlegend=False,\n",
    "                        hovertemplate=f\"Year {year}<br>Mean: {means[j]:.2f}<extra></extra>\"\n",
    "                    ),\n",
    "                    row=1, col=3\n",
    "                )\n",
    "            \n",
    "            # Update layout for clarity\n",
    "            fig.update_layout(\n",
    "                title={\n",
    "                    'text': f\"<b>{description}</b><br><sub>{category} - Comparing Years 2021-2023</sub>\",\n",
    "                    'font': {'size': 16}\n",
    "                },\n",
    "                height=500,\n",
    "                showlegend=True,\n",
    "                hovermode='closest',\n",
    "                legend=dict(\n",
    "                    orientation=\"h\",\n",
    "                    yanchor=\"bottom\",\n",
    "                    y=1.02,\n",
    "                    xanchor=\"right\",\n",
    "                    x=1\n",
    "                ),\n",
    "                font=dict(size=11)\n",
    "            )\n",
    "            \n",
    "            # Update axes labels with clear descriptions\n",
    "            fig.update_xaxes(title_text=\"\", row=1, col=1)\n",
    "            fig.update_xaxes(title_text=\"\", row=1, col=2)\n",
    "            fig.update_xaxes(title_text=\"Academic Year\", row=1, col=3)\n",
    "            \n",
    "            # Add consistent y-axis labels\n",
    "            y_label = \"Score\"\n",
    "            if \"percentage\" in var_name.lower():\n",
    "                y_label = \"Percentage (%)\"\n",
    "            elif \"grade\" in var_name.lower():\n",
    "                y_label = \"Grade (1-5)\"\n",
    "            elif \"points\" in var_name.lower():\n",
    "                y_label = \"Points\"\n",
    "                \n",
    "            fig.update_yaxes(title_text=y_label, row=1, col=1)\n",
    "            fig.update_yaxes(title_text=y_label, row=1, col=2)\n",
    "            fig.update_yaxes(title_text=y_label, row=1, col=3)\n",
    "            \n",
    "            # Make sure all y-axes have the same range for easy comparison\n",
    "            all_values = np.concatenate([year_data_dict[year].values for year in years])\n",
    "            y_min = all_values.min() - (all_values.std() * 0.5)\n",
    "            y_max = all_values.max() + (all_values.std() * 0.5)\n",
    "            \n",
    "            fig.update_yaxes(range=[y_min, y_max])\n",
    "            \n",
    "            fig.show()\n",
    "            \n",
    "            # Print clear summary statistics\n",
    "            print(f\"\\n📊 {description}\")\n",
    "            print(f\"Variable: {var_name}\")\n",
    "            print(\"-\" * 60)\n",
    "            \n",
    "            # Create a clear summary table\n",
    "            summary_data = []\n",
    "            for year in years:\n",
    "                year_data = year_data_dict[year]\n",
    "                summary_data.append({\n",
    "                    'Year': year,\n",
    "                    'Count': len(year_data),\n",
    "                    'Mean': f\"{year_data.mean():.2f}\",\n",
    "                    'Median': f\"{year_data.median():.2f}\",\n",
    "                    'Std Dev': f\"{year_data.std():.2f}\",\n",
    "                    'Min': f\"{year_data.min():.2f}\",\n",
    "                    'Max': f\"{year_data.max():.2f}\"\n",
    "                })\n",
    "            \n",
    "            summary_df = pd.DataFrame(summary_data)\n",
    "            print(summary_df.to_string(index=False))\n",
    "            \n",
    "            # Add trend interpretation\n",
    "            first_mean = year_data_dict[years[0]].mean()\n",
    "            last_mean = year_data_dict[years[-1]].mean()\n",
    "            change = last_mean - first_mean\n",
    "            pct_change = (change / first_mean * 100) if first_mean != 0 else 0\n",
    "            \n",
    "            print(f\"\\n📈 Trend: {years[0]} → {years[-1]}\")\n",
    "            if change > 0:\n",
    "                print(f\"   ↑ Increased by {change:.2f} ({pct_change:.1f}%)\")\n",
    "            elif change < 0:\n",
    "                print(f\"   ↓ Decreased by {abs(change):.2f} ({abs(pct_change):.1f}%)\")\n",
    "            else:\n",
    "                print(f\"   → No change\")\n",
    "            print()\n",
    "\n",
    "# Create the visualizations\n",
    "print(\"=\"*80)\n",
    "print(\"📊 VISUAL ANALYSIS OF YEAR-WISE PERFORMANCE CHANGES\")\n",
    "print(\"=\"*80)\n",
    "print(\"\\nEach plot shows the same data in different ways:\")\n",
    "print(\"• Box Plot: Shows the median (middle line), quartiles (box), and outliers\")\n",
    "print(\"• Violin Plot: Shows how data is distributed (wider = more students at that score)\")\n",
    "print(\"• Mean Plot: Shows average trend over years with variability\")\n",
    "print(\"\\nLet's examine each variable:\\n\")\n",
    "\n",
    "create_year_comparison_plots(df, key_variables)"
   ]
  },
  {
   "cell_type": "markdown",
   "metadata": {},
   "source": [
    "## 4. Statistical Testing: Are the Differences Real?\n",
    "\n",
    "Now let's run statistical tests to determine if the differences we see are statistically significant."
   ]
  },
  {
   "cell_type": "code",
   "execution_count": 5,
   "metadata": {},
   "outputs": [
    {
     "name": "stdout",
     "output_type": "stream",
     "text": [
      "\n",
      "\n",
      "################################################################################\n",
      "# STUDENT ENGAGEMENT\n",
      "################################################################################\n",
      "\n",
      "================================================================================\n",
      "📊 ANALYZING: How many tests students attempted\n",
      "Variable: test_completion_rate\n",
      "================================================================================\n",
      "\n",
      "📈 Data Overview:\n",
      "  2021: n=45, mean=0.604, std=0.304\n",
      "  2022: n=49, mean=0.824, std=0.245\n",
      "  2023: n=53, mean=0.885, std=0.135\n",
      "\n",
      "🔬 STEP 1: Testing for Normal Distribution\n",
      "(Checking if data follows a bell curve)\n",
      "\n",
      "  2021: ✗ Not Normal (p=0.0029)\n",
      "  2022: ✗ Not Normal (p=0.0000)\n",
      "  2023: ✗ Not Normal (p=0.0000)\n",
      "\n",
      "🔍 STEP 2: ANOVA Test (Parametric)\n",
      "Tests if the AVERAGE values differ between years\n",
      "\n",
      "  F-statistic: 18.844\n",
      "  P-value: 0.0000\n",
      "  🎯 Result: SIGNIFICANT difference in averages between years!\n",
      "     → The changes over years are statistically meaningful\n",
      "\n",
      "🔍 STEP 3: Kruskal-Wallis Test (Non-parametric)\n",
      "Tests if the DISTRIBUTIONS differ between years\n",
      "(More robust when data isn't normally distributed)\n",
      "\n",
      "  H-statistic: 28.351\n",
      "  P-value: 0.0000\n",
      "  🎯 Result: SIGNIFICANT difference in distributions between years!\n",
      "     → The changes over years are statistically meaningful\n",
      "\n",
      "💡 WHICH TEST SHOULD WE TRUST?\n",
      "  ✗ Data is NOT normally distributed → Kruskal-Wallis is more appropriate\n",
      "\n",
      "📏 EFFECT SIZE (How big is the difference?)\n",
      "  Eta-squared: 0.207\n",
      "  Interpretation: Large effect\n",
      "  → 20.7% of variance is explained by year differences\n",
      "\n",
      "🎯 FINAL VERDICT:\n",
      "  ✅ Based on Kruskal-Wallis (p=0.0000):\n",
      "     There IS a statistically significant change over years!\n",
      "     Effect size: Large effect\n",
      "     2021 → 2022: ↑ 0.220 (36.4%)\n",
      "     2022 → 2023: ↑ 0.060 (7.3%)\n",
      "\n",
      "================================================================================\n",
      "📊 ANALYZING: Average score on attempted tests\n",
      "Variable: avg_success_rate_per_test\n",
      "================================================================================\n",
      "\n",
      "📈 Data Overview:\n",
      "  2021: n=45, mean=0.383, std=0.193\n",
      "  2022: n=49, mean=0.648, std=0.224\n",
      "  2023: n=53, mean=0.662, std=0.161\n",
      "\n",
      "🔬 STEP 1: Testing for Normal Distribution\n",
      "(Checking if data follows a bell curve)\n",
      "\n",
      "  2021: ✓ Normal (p=0.2001)\n",
      "  2022: ✗ Not Normal (p=0.0034)\n",
      "  2023: ✗ Not Normal (p=0.0192)\n",
      "\n",
      "🔍 STEP 2: ANOVA Test (Parametric)\n",
      "Tests if the AVERAGE values differ between years\n",
      "\n",
      "  F-statistic: 30.894\n",
      "  P-value: 0.0000\n",
      "  🎯 Result: SIGNIFICANT difference in averages between years!\n",
      "     → The changes over years are statistically meaningful\n",
      "\n",
      "🔍 STEP 3: Kruskal-Wallis Test (Non-parametric)\n",
      "Tests if the DISTRIBUTIONS differ between years\n",
      "(More robust when data isn't normally distributed)\n",
      "\n",
      "  H-statistic: 44.656\n",
      "  P-value: 0.0000\n",
      "  🎯 Result: SIGNIFICANT difference in distributions between years!\n",
      "     → The changes over years are statistically meaningful\n",
      "\n",
      "💡 WHICH TEST SHOULD WE TRUST?\n",
      "  ✗ Data is NOT normally distributed → Kruskal-Wallis is more appropriate\n",
      "\n",
      "📏 EFFECT SIZE (How big is the difference?)\n",
      "  Eta-squared: 0.300\n",
      "  Interpretation: Large effect\n",
      "  → 30.0% of variance is explained by year differences\n",
      "\n",
      "🎯 FINAL VERDICT:\n",
      "  ✅ Based on Kruskal-Wallis (p=0.0000):\n",
      "     There IS a statistically significant change over years!\n",
      "     Effect size: Large effect\n",
      "     2021 → 2022: ↑ 0.264 (69.0%)\n",
      "     2022 → 2023: ↑ 0.014 (2.2%)\n",
      "\n",
      "\n",
      "################################################################################\n",
      "# ACADEMIC PERFORMANCE\n",
      "################################################################################\n",
      "\n",
      "================================================================================\n",
      "📊 ANALYZING: Final course grade (1-5 scale)\n",
      "Variable: final_grade\n",
      "================================================================================\n",
      "\n",
      "📈 Data Overview:\n",
      "  2021: n=45, mean=1.778, std=0.974\n",
      "  2022: n=49, mean=2.245, std=1.234\n",
      "  2023: n=51, mean=2.314, std=1.104\n",
      "\n",
      "🔬 STEP 1: Testing for Normal Distribution\n",
      "(Checking if data follows a bell curve)\n",
      "\n",
      "  2021: ✗ Not Normal (p=0.0000)\n",
      "  2022: ✗ Not Normal (p=0.0000)\n",
      "  2023: ✗ Not Normal (p=0.0000)\n",
      "\n",
      "🔍 STEP 2: ANOVA Test (Parametric)\n",
      "Tests if the AVERAGE values differ between years\n",
      "\n",
      "  F-statistic: 3.209\n",
      "  P-value: 0.0434\n",
      "  🎯 Result: SIGNIFICANT difference in averages between years!\n",
      "     → The changes over years are statistically meaningful\n",
      "\n",
      "🔍 STEP 3: Kruskal-Wallis Test (Non-parametric)\n",
      "Tests if the DISTRIBUTIONS differ between years\n",
      "(More robust when data isn't normally distributed)\n",
      "\n",
      "  H-statistic: 6.008\n",
      "  P-value: 0.0496\n",
      "  🎯 Result: SIGNIFICANT difference in distributions between years!\n",
      "     → The changes over years are statistically meaningful\n",
      "\n",
      "💡 WHICH TEST SHOULD WE TRUST?\n",
      "  ✗ Data is NOT normally distributed → Kruskal-Wallis is more appropriate\n",
      "\n",
      "📏 EFFECT SIZE (How big is the difference?)\n",
      "  Eta-squared: 0.043\n",
      "  Interpretation: Small effect\n",
      "  → 4.3% of variance is explained by year differences\n",
      "\n",
      "🎯 FINAL VERDICT:\n",
      "  ✅ Based on Kruskal-Wallis (p=0.0496):\n",
      "     There IS a statistically significant change over years!\n",
      "     Effect size: Small effect\n",
      "     2021 → 2022: ↑ 0.467 (26.3%)\n",
      "     2022 → 2023: ↑ 0.069 (3.1%)\n",
      "\n",
      "================================================================================\n",
      "📊 ANALYZING: Total points earned (0-100 scale)\n",
      "Variable: fc_total_points\n",
      "================================================================================\n",
      "\n",
      "📈 Data Overview:\n",
      "  2021: n=45, mean=2.481, std=1.620\n",
      "  2022: n=49, mean=5.663, std=2.557\n",
      "  2023: n=53, mean=5.954, std=1.939\n",
      "\n",
      "🔬 STEP 1: Testing for Normal Distribution\n",
      "(Checking if data follows a bell curve)\n",
      "\n",
      "  2021: ✗ Not Normal (p=0.0381)\n",
      "  2022: ✗ Not Normal (p=0.0042)\n",
      "  2023: ✓ Normal (p=0.1244)\n",
      "\n",
      "🔍 STEP 2: ANOVA Test (Parametric)\n",
      "Tests if the AVERAGE values differ between years\n",
      "\n",
      "  F-statistic: 40.209\n",
      "  P-value: 0.0000\n",
      "  🎯 Result: SIGNIFICANT difference in averages between years!\n",
      "     → The changes over years are statistically meaningful\n",
      "\n",
      "🔍 STEP 3: Kruskal-Wallis Test (Non-parametric)\n",
      "Tests if the DISTRIBUTIONS differ between years\n",
      "(More robust when data isn't normally distributed)\n",
      "\n",
      "  H-statistic: 51.608\n",
      "  P-value: 0.0000\n",
      "  🎯 Result: SIGNIFICANT difference in distributions between years!\n",
      "     → The changes over years are statistically meaningful\n",
      "\n",
      "💡 WHICH TEST SHOULD WE TRUST?\n",
      "  ✗ Data is NOT normally distributed → Kruskal-Wallis is more appropriate\n",
      "\n",
      "📏 EFFECT SIZE (How big is the difference?)\n",
      "  Eta-squared: 0.358\n",
      "  Interpretation: Large effect\n",
      "  → 35.8% of variance is explained by year differences\n",
      "\n",
      "🎯 FINAL VERDICT:\n",
      "  ✅ Based on Kruskal-Wallis (p=0.0000):\n",
      "     There IS a statistically significant change over years!\n",
      "     Effect size: Large effect\n",
      "     2021 → 2022: ↑ 3.181 (128.2%)\n",
      "     2022 → 2023: ↑ 0.291 (5.1%)\n",
      "\n",
      "================================================================================\n",
      "📊 ANALYZING: Percentage of maximum points\n",
      "Variable: percentage_points\n",
      "================================================================================\n",
      "\n",
      "📈 Data Overview:\n",
      "  2021: n=45, mean=0.248, std=0.162\n",
      "  2022: n=49, mean=0.566, std=0.256\n",
      "  2023: n=53, mean=0.595, std=0.194\n",
      "\n",
      "🔬 STEP 1: Testing for Normal Distribution\n",
      "(Checking if data follows a bell curve)\n",
      "\n",
      "  2021: ✗ Not Normal (p=0.0381)\n",
      "  2022: ✗ Not Normal (p=0.0042)\n",
      "  2023: ✓ Normal (p=0.1244)\n",
      "\n",
      "🔍 STEP 2: ANOVA Test (Parametric)\n",
      "Tests if the AVERAGE values differ between years\n",
      "\n",
      "  F-statistic: 40.209\n",
      "  P-value: 0.0000\n",
      "  🎯 Result: SIGNIFICANT difference in averages between years!\n",
      "     → The changes over years are statistically meaningful\n",
      "\n",
      "🔍 STEP 3: Kruskal-Wallis Test (Non-parametric)\n",
      "Tests if the DISTRIBUTIONS differ between years\n",
      "(More robust when data isn't normally distributed)\n",
      "\n",
      "  H-statistic: 51.608\n",
      "  P-value: 0.0000\n",
      "  🎯 Result: SIGNIFICANT difference in distributions between years!\n",
      "     → The changes over years are statistically meaningful\n",
      "\n",
      "💡 WHICH TEST SHOULD WE TRUST?\n",
      "  ✗ Data is NOT normally distributed → Kruskal-Wallis is more appropriate\n",
      "\n",
      "📏 EFFECT SIZE (How big is the difference?)\n",
      "  Eta-squared: 0.358\n",
      "  Interpretation: Large effect\n",
      "  → 35.8% of variance is explained by year differences\n",
      "\n",
      "🎯 FINAL VERDICT:\n",
      "  ✅ Based on Kruskal-Wallis (p=0.0000):\n",
      "     There IS a statistically significant change over years!\n",
      "     Effect size: Large effect\n",
      "     2021 → 2022: ↑ 0.318 (128.2%)\n",
      "     2022 → 2023: ↑ 0.029 (5.1%)\n",
      "\n",
      "\n",
      "################################################################################\n",
      "# ASSESSMENT COMPONENTS\n",
      "################################################################################\n",
      "\n",
      "================================================================================\n",
      "📊 ANALYZING: Presentation score (max 10)\n",
      "Variable: presentation_points\n",
      "================================================================================\n",
      "\n",
      "📈 Data Overview:\n",
      "  2021: n=45, mean=7.289, std=1.740\n",
      "  2022: n=48, mean=7.083, std=1.252\n",
      "  2023: n=52, mean=6.827, std=2.194\n",
      "\n",
      "🔬 STEP 1: Testing for Normal Distribution\n",
      "(Checking if data follows a bell curve)\n",
      "\n",
      "  2021: ✗ Not Normal (p=0.0068)\n",
      "  2022: ✗ Not Normal (p=0.0010)\n",
      "  2023: ✗ Not Normal (p=0.0052)\n",
      "\n",
      "🔍 STEP 2: ANOVA Test (Parametric)\n",
      "Tests if the AVERAGE values differ between years\n",
      "\n",
      "  F-statistic: 0.817\n",
      "  P-value: 0.4438\n",
      "  ℹ️ Result: No significant difference in averages\n",
      "     → Changes might be due to random variation\n",
      "\n",
      "🔍 STEP 3: Kruskal-Wallis Test (Non-parametric)\n",
      "Tests if the DISTRIBUTIONS differ between years\n",
      "(More robust when data isn't normally distributed)\n",
      "\n",
      "  H-statistic: 1.343\n",
      "  P-value: 0.5108\n",
      "  ℹ️ Result: No significant difference in distributions\n",
      "     → Changes might be due to random variation\n",
      "\n",
      "💡 WHICH TEST SHOULD WE TRUST?\n",
      "  ✗ Data is NOT normally distributed → Kruskal-Wallis is more appropriate\n",
      "\n",
      "📏 EFFECT SIZE (How big is the difference?)\n",
      "  Eta-squared: 0.011\n",
      "  Interpretation: Small effect\n",
      "  → 1.1% of variance is explained by year differences\n",
      "\n",
      "🎯 FINAL VERDICT:\n",
      "  ℹ️ Based on Kruskal-Wallis (p=0.5108):\n",
      "     NO statistically significant change over years\n",
      "     The observed differences are likely due to random variation\n",
      "\n",
      "================================================================================\n",
      "📊 ANALYZING: Defense score (max 30)\n",
      "Variable: defense_points\n",
      "================================================================================\n",
      "\n",
      "📈 Data Overview:\n",
      "  2021: n=45, mean=23.378, std=4.937\n",
      "  2022: n=49, mean=22.367, std=7.799\n",
      "  2023: n=46, mean=21.174, std=3.866\n",
      "\n",
      "🔬 STEP 1: Testing for Normal Distribution\n",
      "(Checking if data follows a bell curve)\n",
      "\n",
      "  2021: ✓ Normal (p=0.0594)\n",
      "  2022: ✗ Not Normal (p=0.0000)\n",
      "  2023: ✗ Not Normal (p=0.0035)\n",
      "\n",
      "🔍 STEP 2: ANOVA Test (Parametric)\n",
      "Tests if the AVERAGE values differ between years\n",
      "\n",
      "  F-statistic: 1.627\n",
      "  P-value: 0.2002\n",
      "  ℹ️ Result: No significant difference in averages\n",
      "     → Changes might be due to random variation\n",
      "\n",
      "🔍 STEP 3: Kruskal-Wallis Test (Non-parametric)\n",
      "Tests if the DISTRIBUTIONS differ between years\n",
      "(More robust when data isn't normally distributed)\n",
      "\n",
      "  H-statistic: 8.421\n",
      "  P-value: 0.0148\n",
      "  🎯 Result: SIGNIFICANT difference in distributions between years!\n",
      "     → The changes over years are statistically meaningful\n",
      "\n",
      "💡 WHICH TEST SHOULD WE TRUST?\n",
      "  ✗ Data is NOT normally distributed → Kruskal-Wallis is more appropriate\n",
      "\n",
      "📏 EFFECT SIZE (How big is the difference?)\n",
      "  Eta-squared: 0.023\n",
      "  Interpretation: Small effect\n",
      "  → 2.3% of variance is explained by year differences\n",
      "\n",
      "🎯 FINAL VERDICT:\n",
      "  ✅ Based on Kruskal-Wallis (p=0.0148):\n",
      "     There IS a statistically significant change over years!\n",
      "     Effect size: Small effect\n",
      "     2021 → 2022: ↓ 1.010 (4.3%)\n",
      "     2022 → 2023: ↓ 1.193 (5.3%)\n",
      "\n",
      "================================================================================\n",
      "📊 ANALYZING: Midterm exam score (max 25)\n",
      "Variable: exam_k2\n",
      "================================================================================\n",
      "\n",
      "📈 Data Overview:\n",
      "  2021: n=43, mean=10.977, std=4.857\n",
      "  2022: n=49, mean=11.449, std=4.263\n",
      "  2023: n=53, mean=12.453, std=5.384\n",
      "\n",
      "🔬 STEP 1: Testing for Normal Distribution\n",
      "(Checking if data follows a bell curve)\n",
      "\n",
      "  2021: ✗ Not Normal (p=0.0108)\n",
      "  2022: ✓ Normal (p=0.1742)\n",
      "  2023: ✓ Normal (p=0.2465)\n",
      "\n",
      "🔍 STEP 2: ANOVA Test (Parametric)\n",
      "Tests if the AVERAGE values differ between years\n",
      "\n",
      "  F-statistic: 1.170\n",
      "  P-value: 0.3134\n",
      "  ℹ️ Result: No significant difference in averages\n",
      "     → Changes might be due to random variation\n",
      "\n",
      "🔍 STEP 3: Kruskal-Wallis Test (Non-parametric)\n",
      "Tests if the DISTRIBUTIONS differ between years\n",
      "(More robust when data isn't normally distributed)\n",
      "\n",
      "  H-statistic: 2.177\n",
      "  P-value: 0.3367\n",
      "  ℹ️ Result: No significant difference in distributions\n",
      "     → Changes might be due to random variation\n",
      "\n",
      "💡 WHICH TEST SHOULD WE TRUST?\n",
      "  ✗ Data is NOT normally distributed → Kruskal-Wallis is more appropriate\n",
      "\n",
      "📏 EFFECT SIZE (How big is the difference?)\n",
      "  Eta-squared: 0.016\n",
      "  Interpretation: Small effect\n",
      "  → 1.6% of variance is explained by year differences\n",
      "\n",
      "🎯 FINAL VERDICT:\n",
      "  ℹ️ Based on Kruskal-Wallis (p=0.3367):\n",
      "     NO statistically significant change over years\n",
      "     The observed differences are likely due to random variation\n",
      "\n",
      "================================================================================\n",
      "📊 ANALYZING: Final exam score (max 25)\n",
      "Variable: exam_k3\n",
      "================================================================================\n",
      "\n",
      "📈 Data Overview:\n",
      "  2021: n=40, mean=12.275, std=4.674\n",
      "  2022: n=43, mean=14.721, std=4.350\n",
      "  2023: n=44, mean=14.159, std=5.657\n",
      "\n",
      "🔬 STEP 1: Testing for Normal Distribution\n",
      "(Checking if data follows a bell curve)\n",
      "\n",
      "  2021: ✓ Normal (p=0.2977)\n",
      "  2022: ✓ Normal (p=0.7355)\n",
      "  2023: ✗ Not Normal (p=0.0001)\n",
      "\n",
      "🔍 STEP 2: ANOVA Test (Parametric)\n",
      "Tests if the AVERAGE values differ between years\n",
      "\n",
      "  F-statistic: 2.768\n",
      "  P-value: 0.0667\n",
      "  ℹ️ Result: No significant difference in averages\n",
      "     → Changes might be due to random variation\n",
      "\n",
      "🔍 STEP 3: Kruskal-Wallis Test (Non-parametric)\n",
      "Tests if the DISTRIBUTIONS differ between years\n",
      "(More robust when data isn't normally distributed)\n",
      "\n",
      "  H-statistic: 6.705\n",
      "  P-value: 0.0350\n",
      "  🎯 Result: SIGNIFICANT difference in distributions between years!\n",
      "     → The changes over years are statistically meaningful\n",
      "\n",
      "💡 WHICH TEST SHOULD WE TRUST?\n",
      "  ✗ Data is NOT normally distributed → Kruskal-Wallis is more appropriate\n",
      "\n",
      "📏 EFFECT SIZE (How big is the difference?)\n",
      "  Eta-squared: 0.043\n",
      "  Interpretation: Small effect\n",
      "  → 4.3% of variance is explained by year differences\n",
      "\n",
      "🎯 FINAL VERDICT:\n",
      "  ✅ Based on Kruskal-Wallis (p=0.0350):\n",
      "     There IS a statistically significant change over years!\n",
      "     Effect size: Small effect\n",
      "     2021 → 2022: ↑ 2.446 (19.9%)\n",
      "     2022 → 2023: ↓ 0.562 (3.8%)\n"
     ]
    }
   ],
   "source": [
    "def perform_statistical_tests(df, variable_name, variable_description):\n",
    "    \"\"\"Perform ANOVA and Kruskal-Wallis tests with detailed explanations\"\"\"\n",
    "    \n",
    "    print(f\"\\n{'='*80}\")\n",
    "    print(f\"📊 ANALYZING: {variable_description}\")\n",
    "    print(f\"Variable: {variable_name}\")\n",
    "    print(f\"{'='*80}\")\n",
    "    \n",
    "    # Get data for each year\n",
    "    years = sorted(df['academic_year'].unique())\n",
    "    year_groups = []\n",
    "    \n",
    "    print(\"\\n📈 Data Overview:\")\n",
    "    for year in years:\n",
    "        year_data = df[df['academic_year'] == year][variable_name].dropna()\n",
    "        year_groups.append(year_data)\n",
    "        print(f\"  {year}: n={len(year_data)}, mean={year_data.mean():.3f}, std={year_data.std():.3f}\")\n",
    "    \n",
    "    # Check if we have enough data\n",
    "    if any(len(group) < 3 for group in year_groups):\n",
    "        print(\"\\n⚠️ Insufficient data for statistical testing (need at least 3 observations per year)\")\n",
    "        return None\n",
    "    \n",
    "    results = {}\n",
    "    \n",
    "    # 1. NORMALITY TESTING\n",
    "    print(\"\\n🔬 STEP 1: Testing for Normal Distribution\")\n",
    "    print(\"(Checking if data follows a bell curve)\\n\")\n",
    "    \n",
    "    is_normal = True\n",
    "    for year, data in zip(years, year_groups):\n",
    "        if len(data) >= 8:  # Need at least 8 observations for Shapiro-Wilk\n",
    "            stat, p_value = stats.shapiro(data)\n",
    "            is_normal_year = p_value > 0.05\n",
    "            print(f\"  {year}: {'✓ Normal' if is_normal_year else '✗ Not Normal'} (p={p_value:.4f})\")\n",
    "            if not is_normal_year:\n",
    "                is_normal = False\n",
    "        else:\n",
    "            print(f\"  {year}: Too few samples for normality test\")\n",
    "            is_normal = False\n",
    "    \n",
    "    # 2. ANOVA TEST\n",
    "    print(\"\\n🔍 STEP 2: ANOVA Test (Parametric)\")\n",
    "    print(\"Tests if the AVERAGE values differ between years\\n\")\n",
    "    \n",
    "    f_stat, anova_p = f_oneway(*year_groups)\n",
    "    results['anova'] = {'statistic': f_stat, 'p_value': anova_p}\n",
    "    \n",
    "    print(f\"  F-statistic: {f_stat:.3f}\")\n",
    "    print(f\"  P-value: {anova_p:.4f}\")\n",
    "    \n",
    "    if anova_p < 0.05:\n",
    "        print(\"  🎯 Result: SIGNIFICANT difference in averages between years!\")\n",
    "        print(\"     → The changes over years are statistically meaningful\")\n",
    "    else:\n",
    "        print(\"  ℹ️ Result: No significant difference in averages\")\n",
    "        print(\"     → Changes might be due to random variation\")\n",
    "    \n",
    "    # 3. KRUSKAL-WALLIS TEST\n",
    "    print(\"\\n🔍 STEP 3: Kruskal-Wallis Test (Non-parametric)\")\n",
    "    print(\"Tests if the DISTRIBUTIONS differ between years\")\n",
    "    print(\"(More robust when data isn't normally distributed)\\n\")\n",
    "    \n",
    "    h_stat, kw_p = kruskal(*year_groups)\n",
    "    results['kruskal'] = {'statistic': h_stat, 'p_value': kw_p}\n",
    "    \n",
    "    print(f\"  H-statistic: {h_stat:.3f}\")\n",
    "    print(f\"  P-value: {kw_p:.4f}\")\n",
    "    \n",
    "    if kw_p < 0.05:\n",
    "        print(\"  🎯 Result: SIGNIFICANT difference in distributions between years!\")\n",
    "        print(\"     → The changes over years are statistically meaningful\")\n",
    "    else:\n",
    "        print(\"  ℹ️ Result: No significant difference in distributions\")\n",
    "        print(\"     → Changes might be due to random variation\")\n",
    "    \n",
    "    # 4. WHICH TEST TO TRUST?\n",
    "    print(\"\\n💡 WHICH TEST SHOULD WE TRUST?\")\n",
    "    if is_normal:\n",
    "        print(\"  ✓ Data is normally distributed → ANOVA is more appropriate\")\n",
    "        primary_test = 'ANOVA'\n",
    "        primary_p = anova_p\n",
    "    else:\n",
    "        print(\"  ✗ Data is NOT normally distributed → Kruskal-Wallis is more appropriate\")\n",
    "        primary_test = 'Kruskal-Wallis'\n",
    "        primary_p = kw_p\n",
    "    \n",
    "    # 5. EFFECT SIZE\n",
    "    print(\"\\n📏 EFFECT SIZE (How big is the difference?)\")\n",
    "    \n",
    "    # Calculate eta-squared for ANOVA\n",
    "    all_data = np.concatenate(year_groups)\n",
    "    grand_mean = all_data.mean()\n",
    "    ss_between = sum(len(group) * (group.mean() - grand_mean)**2 for group in year_groups)\n",
    "    ss_total = sum((val - grand_mean)**2 for val in all_data)\n",
    "    eta_squared = ss_between / ss_total if ss_total > 0 else 0\n",
    "    \n",
    "    print(f\"  Eta-squared: {eta_squared:.3f}\")\n",
    "    \n",
    "    if eta_squared < 0.01:\n",
    "        effect_interpretation = \"Negligible effect\"\n",
    "    elif eta_squared < 0.06:\n",
    "        effect_interpretation = \"Small effect\"\n",
    "    elif eta_squared < 0.14:\n",
    "        effect_interpretation = \"Medium effect\"\n",
    "    else:\n",
    "        effect_interpretation = \"Large effect\"\n",
    "    \n",
    "    print(f\"  Interpretation: {effect_interpretation}\")\n",
    "    print(f\"  → {eta_squared*100:.1f}% of variance is explained by year differences\")\n",
    "    \n",
    "    # 6. FINAL VERDICT\n",
    "    print(\"\\n🎯 FINAL VERDICT:\")\n",
    "    if primary_p < 0.05:\n",
    "        print(f\"  ✅ Based on {primary_test} (p={primary_p:.4f}):\")\n",
    "        print(f\"     There IS a statistically significant change over years!\")\n",
    "        print(f\"     Effect size: {effect_interpretation}\")\n",
    "        \n",
    "        # Calculate year-to-year changes\n",
    "        means = [group.mean() for group in year_groups]\n",
    "        for i in range(len(years)-1):\n",
    "            change = means[i+1] - means[i]\n",
    "            pct_change = (change / means[i] * 100) if means[i] != 0 else 0\n",
    "            print(f\"     {years[i]} → {years[i+1]}: {'↑' if change > 0 else '↓'} {abs(change):.3f} ({abs(pct_change):.1f}%)\")\n",
    "    else:\n",
    "        print(f\"  ℹ️ Based on {primary_test} (p={primary_p:.4f}):\")\n",
    "        print(f\"     NO statistically significant change over years\")\n",
    "        print(f\"     The observed differences are likely due to random variation\")\n",
    "    \n",
    "    return results\n",
    "\n",
    "# Run tests for all variables\n",
    "all_results = {}\n",
    "for category, variables in key_variables.items():\n",
    "    print(f\"\\n\\n{'#'*80}\")\n",
    "    print(f\"# {category.upper()}\")\n",
    "    print(f\"{'#'*80}\")\n",
    "    \n",
    "    for var_name, description in variables:\n",
    "        if var_name in df.columns:\n",
    "            results = perform_statistical_tests(df, var_name, description)\n",
    "            if results:\n",
    "                all_results[var_name] = results"
   ]
  },
  {
   "cell_type": "markdown",
   "metadata": {},
   "source": [
    "## 5. Post-Hoc Analysis: Which Years are Different?\n",
    "\n",
    "When we find significant differences, we need to determine WHICH specific years differ from each other."
   ]
  },
  {
   "cell_type": "code",
   "execution_count": 6,
   "metadata": {},
   "outputs": [
    {
     "name": "stdout",
     "output_type": "stream",
     "text": [
      "\n",
      "🎯 DETAILED YEAR-TO-YEAR COMPARISONS\n",
      "============================================================\n",
      "We'll now examine which specific years differ from each other\n",
      "\n",
      "\n",
      "================================================================================\n",
      "🔍 PAIRWISE COMPARISONS: How many tests students attempted\n",
      "================================================================================\n",
      "\n",
      "📊 Comparison Results:\n",
      " Year 1  Year 2  Mean 1  Mean 2  Difference  T-test p  Mann-Whitney p  Cohen's d Significant\n",
      "   2021    2022  0.6044  0.8245      0.2200    0.0002          0.0001     0.8006         Yes\n",
      "   2021    2023  0.6044  0.8849      0.2805    0.0000          0.0000     1.2256         Yes\n",
      "   2022    2023  0.8245  0.8849      0.0604    0.1219          0.6439     0.3092          No\n"
     ]
    },
    {
     "data": {
      "application/vnd.plotly.v1+json": {
       "config": {
        "plotlyServerURL": "https://plot.ly"
       },
       "data": [
        {
         "hovertemplate": "%{text}",
         "line": {
          "color": "green",
          "width": 2
         },
         "marker": {
          "size": 10,
          "symbol": "star"
         },
         "mode": "lines+markers",
         "name": "2021 vs 2022",
         "text": [
          "Mean: 0.604",
          "Mean: 0.825"
         ],
         "type": "scatter",
         "x": [
          2021,
          2022
         ],
         "y": [
          0.6044,
          0.8245
         ]
        },
        {
         "hovertemplate": "%{text}",
         "line": {
          "color": "green",
          "width": 2
         },
         "marker": {
          "size": 10,
          "symbol": "star"
         },
         "mode": "lines+markers",
         "name": "2021 vs 2023",
         "text": [
          "Mean: 0.604",
          "Mean: 0.885"
         ],
         "type": "scatter",
         "x": [
          2021,
          2023
         ],
         "y": [
          0.6044,
          0.8849
         ]
        },
        {
         "hovertemplate": "%{text}",
         "line": {
          "color": "gray",
          "width": 2
         },
         "marker": {
          "size": 10,
          "symbol": "circle"
         },
         "mode": "lines+markers",
         "name": "2022 vs 2023",
         "text": [
          "Mean: 0.825",
          "Mean: 0.885"
         ],
         "type": "scatter",
         "x": [
          2022,
          2023
         ],
         "y": [
          0.8245,
          0.8849
         ]
        }
       ],
       "layout": {
        "hovermode": "closest",
        "showlegend": true,
        "template": {
         "data": {
          "bar": [
           {
            "error_x": {
             "color": "#2a3f5f"
            },
            "error_y": {
             "color": "#2a3f5f"
            },
            "marker": {
             "line": {
              "color": "#E5ECF6",
              "width": 0.5
             },
             "pattern": {
              "fillmode": "overlay",
              "size": 10,
              "solidity": 0.2
             }
            },
            "type": "bar"
           }
          ],
          "barpolar": [
           {
            "marker": {
             "line": {
              "color": "#E5ECF6",
              "width": 0.5
             },
             "pattern": {
              "fillmode": "overlay",
              "size": 10,
              "solidity": 0.2
             }
            },
            "type": "barpolar"
           }
          ],
          "carpet": [
           {
            "aaxis": {
             "endlinecolor": "#2a3f5f",
             "gridcolor": "white",
             "linecolor": "white",
             "minorgridcolor": "white",
             "startlinecolor": "#2a3f5f"
            },
            "baxis": {
             "endlinecolor": "#2a3f5f",
             "gridcolor": "white",
             "linecolor": "white",
             "minorgridcolor": "white",
             "startlinecolor": "#2a3f5f"
            },
            "type": "carpet"
           }
          ],
          "choropleth": [
           {
            "colorbar": {
             "outlinewidth": 0,
             "ticks": ""
            },
            "type": "choropleth"
           }
          ],
          "contour": [
           {
            "colorbar": {
             "outlinewidth": 0,
             "ticks": ""
            },
            "colorscale": [
             [
              0,
              "#0d0887"
             ],
             [
              0.1111111111111111,
              "#46039f"
             ],
             [
              0.2222222222222222,
              "#7201a8"
             ],
             [
              0.3333333333333333,
              "#9c179e"
             ],
             [
              0.4444444444444444,
              "#bd3786"
             ],
             [
              0.5555555555555556,
              "#d8576b"
             ],
             [
              0.6666666666666666,
              "#ed7953"
             ],
             [
              0.7777777777777778,
              "#fb9f3a"
             ],
             [
              0.8888888888888888,
              "#fdca26"
             ],
             [
              1,
              "#f0f921"
             ]
            ],
            "type": "contour"
           }
          ],
          "contourcarpet": [
           {
            "colorbar": {
             "outlinewidth": 0,
             "ticks": ""
            },
            "type": "contourcarpet"
           }
          ],
          "heatmap": [
           {
            "colorbar": {
             "outlinewidth": 0,
             "ticks": ""
            },
            "colorscale": [
             [
              0,
              "#0d0887"
             ],
             [
              0.1111111111111111,
              "#46039f"
             ],
             [
              0.2222222222222222,
              "#7201a8"
             ],
             [
              0.3333333333333333,
              "#9c179e"
             ],
             [
              0.4444444444444444,
              "#bd3786"
             ],
             [
              0.5555555555555556,
              "#d8576b"
             ],
             [
              0.6666666666666666,
              "#ed7953"
             ],
             [
              0.7777777777777778,
              "#fb9f3a"
             ],
             [
              0.8888888888888888,
              "#fdca26"
             ],
             [
              1,
              "#f0f921"
             ]
            ],
            "type": "heatmap"
           }
          ],
          "histogram": [
           {
            "marker": {
             "pattern": {
              "fillmode": "overlay",
              "size": 10,
              "solidity": 0.2
             }
            },
            "type": "histogram"
           }
          ],
          "histogram2d": [
           {
            "colorbar": {
             "outlinewidth": 0,
             "ticks": ""
            },
            "colorscale": [
             [
              0,
              "#0d0887"
             ],
             [
              0.1111111111111111,
              "#46039f"
             ],
             [
              0.2222222222222222,
              "#7201a8"
             ],
             [
              0.3333333333333333,
              "#9c179e"
             ],
             [
              0.4444444444444444,
              "#bd3786"
             ],
             [
              0.5555555555555556,
              "#d8576b"
             ],
             [
              0.6666666666666666,
              "#ed7953"
             ],
             [
              0.7777777777777778,
              "#fb9f3a"
             ],
             [
              0.8888888888888888,
              "#fdca26"
             ],
             [
              1,
              "#f0f921"
             ]
            ],
            "type": "histogram2d"
           }
          ],
          "histogram2dcontour": [
           {
            "colorbar": {
             "outlinewidth": 0,
             "ticks": ""
            },
            "colorscale": [
             [
              0,
              "#0d0887"
             ],
             [
              0.1111111111111111,
              "#46039f"
             ],
             [
              0.2222222222222222,
              "#7201a8"
             ],
             [
              0.3333333333333333,
              "#9c179e"
             ],
             [
              0.4444444444444444,
              "#bd3786"
             ],
             [
              0.5555555555555556,
              "#d8576b"
             ],
             [
              0.6666666666666666,
              "#ed7953"
             ],
             [
              0.7777777777777778,
              "#fb9f3a"
             ],
             [
              0.8888888888888888,
              "#fdca26"
             ],
             [
              1,
              "#f0f921"
             ]
            ],
            "type": "histogram2dcontour"
           }
          ],
          "mesh3d": [
           {
            "colorbar": {
             "outlinewidth": 0,
             "ticks": ""
            },
            "type": "mesh3d"
           }
          ],
          "parcoords": [
           {
            "line": {
             "colorbar": {
              "outlinewidth": 0,
              "ticks": ""
             }
            },
            "type": "parcoords"
           }
          ],
          "pie": [
           {
            "automargin": true,
            "type": "pie"
           }
          ],
          "scatter": [
           {
            "fillpattern": {
             "fillmode": "overlay",
             "size": 10,
             "solidity": 0.2
            },
            "type": "scatter"
           }
          ],
          "scatter3d": [
           {
            "line": {
             "colorbar": {
              "outlinewidth": 0,
              "ticks": ""
             }
            },
            "marker": {
             "colorbar": {
              "outlinewidth": 0,
              "ticks": ""
             }
            },
            "type": "scatter3d"
           }
          ],
          "scattercarpet": [
           {
            "marker": {
             "colorbar": {
              "outlinewidth": 0,
              "ticks": ""
             }
            },
            "type": "scattercarpet"
           }
          ],
          "scattergeo": [
           {
            "marker": {
             "colorbar": {
              "outlinewidth": 0,
              "ticks": ""
             }
            },
            "type": "scattergeo"
           }
          ],
          "scattergl": [
           {
            "marker": {
             "colorbar": {
              "outlinewidth": 0,
              "ticks": ""
             }
            },
            "type": "scattergl"
           }
          ],
          "scattermap": [
           {
            "marker": {
             "colorbar": {
              "outlinewidth": 0,
              "ticks": ""
             }
            },
            "type": "scattermap"
           }
          ],
          "scattermapbox": [
           {
            "marker": {
             "colorbar": {
              "outlinewidth": 0,
              "ticks": ""
             }
            },
            "type": "scattermapbox"
           }
          ],
          "scatterpolar": [
           {
            "marker": {
             "colorbar": {
              "outlinewidth": 0,
              "ticks": ""
             }
            },
            "type": "scatterpolar"
           }
          ],
          "scatterpolargl": [
           {
            "marker": {
             "colorbar": {
              "outlinewidth": 0,
              "ticks": ""
             }
            },
            "type": "scatterpolargl"
           }
          ],
          "scatterternary": [
           {
            "marker": {
             "colorbar": {
              "outlinewidth": 0,
              "ticks": ""
             }
            },
            "type": "scatterternary"
           }
          ],
          "surface": [
           {
            "colorbar": {
             "outlinewidth": 0,
             "ticks": ""
            },
            "colorscale": [
             [
              0,
              "#0d0887"
             ],
             [
              0.1111111111111111,
              "#46039f"
             ],
             [
              0.2222222222222222,
              "#7201a8"
             ],
             [
              0.3333333333333333,
              "#9c179e"
             ],
             [
              0.4444444444444444,
              "#bd3786"
             ],
             [
              0.5555555555555556,
              "#d8576b"
             ],
             [
              0.6666666666666666,
              "#ed7953"
             ],
             [
              0.7777777777777778,
              "#fb9f3a"
             ],
             [
              0.8888888888888888,
              "#fdca26"
             ],
             [
              1,
              "#f0f921"
             ]
            ],
            "type": "surface"
           }
          ],
          "table": [
           {
            "cells": {
             "fill": {
              "color": "#EBF0F8"
             },
             "line": {
              "color": "white"
             }
            },
            "header": {
             "fill": {
              "color": "#C8D4E3"
             },
             "line": {
              "color": "white"
             }
            },
            "type": "table"
           }
          ]
         },
         "layout": {
          "annotationdefaults": {
           "arrowcolor": "#2a3f5f",
           "arrowhead": 0,
           "arrowwidth": 1
          },
          "autotypenumbers": "strict",
          "coloraxis": {
           "colorbar": {
            "outlinewidth": 0,
            "ticks": ""
           }
          },
          "colorscale": {
           "diverging": [
            [
             0,
             "#8e0152"
            ],
            [
             0.1,
             "#c51b7d"
            ],
            [
             0.2,
             "#de77ae"
            ],
            [
             0.3,
             "#f1b6da"
            ],
            [
             0.4,
             "#fde0ef"
            ],
            [
             0.5,
             "#f7f7f7"
            ],
            [
             0.6,
             "#e6f5d0"
            ],
            [
             0.7,
             "#b8e186"
            ],
            [
             0.8,
             "#7fbc41"
            ],
            [
             0.9,
             "#4d9221"
            ],
            [
             1,
             "#276419"
            ]
           ],
           "sequential": [
            [
             0,
             "#0d0887"
            ],
            [
             0.1111111111111111,
             "#46039f"
            ],
            [
             0.2222222222222222,
             "#7201a8"
            ],
            [
             0.3333333333333333,
             "#9c179e"
            ],
            [
             0.4444444444444444,
             "#bd3786"
            ],
            [
             0.5555555555555556,
             "#d8576b"
            ],
            [
             0.6666666666666666,
             "#ed7953"
            ],
            [
             0.7777777777777778,
             "#fb9f3a"
            ],
            [
             0.8888888888888888,
             "#fdca26"
            ],
            [
             1,
             "#f0f921"
            ]
           ],
           "sequentialminus": [
            [
             0,
             "#0d0887"
            ],
            [
             0.1111111111111111,
             "#46039f"
            ],
            [
             0.2222222222222222,
             "#7201a8"
            ],
            [
             0.3333333333333333,
             "#9c179e"
            ],
            [
             0.4444444444444444,
             "#bd3786"
            ],
            [
             0.5555555555555556,
             "#d8576b"
            ],
            [
             0.6666666666666666,
             "#ed7953"
            ],
            [
             0.7777777777777778,
             "#fb9f3a"
            ],
            [
             0.8888888888888888,
             "#fdca26"
            ],
            [
             1,
             "#f0f921"
            ]
           ]
          },
          "colorway": [
           "#636efa",
           "#EF553B",
           "#00cc96",
           "#ab63fa",
           "#FFA15A",
           "#19d3f3",
           "#FF6692",
           "#B6E880",
           "#FF97FF",
           "#FECB52"
          ],
          "font": {
           "color": "#2a3f5f"
          },
          "geo": {
           "bgcolor": "white",
           "lakecolor": "white",
           "landcolor": "#E5ECF6",
           "showlakes": true,
           "showland": true,
           "subunitcolor": "white"
          },
          "hoverlabel": {
           "align": "left"
          },
          "hovermode": "closest",
          "mapbox": {
           "style": "light"
          },
          "paper_bgcolor": "white",
          "plot_bgcolor": "#E5ECF6",
          "polar": {
           "angularaxis": {
            "gridcolor": "white",
            "linecolor": "white",
            "ticks": ""
           },
           "bgcolor": "#E5ECF6",
           "radialaxis": {
            "gridcolor": "white",
            "linecolor": "white",
            "ticks": ""
           }
          },
          "scene": {
           "xaxis": {
            "backgroundcolor": "#E5ECF6",
            "gridcolor": "white",
            "gridwidth": 2,
            "linecolor": "white",
            "showbackground": true,
            "ticks": "",
            "zerolinecolor": "white"
           },
           "yaxis": {
            "backgroundcolor": "#E5ECF6",
            "gridcolor": "white",
            "gridwidth": 2,
            "linecolor": "white",
            "showbackground": true,
            "ticks": "",
            "zerolinecolor": "white"
           },
           "zaxis": {
            "backgroundcolor": "#E5ECF6",
            "gridcolor": "white",
            "gridwidth": 2,
            "linecolor": "white",
            "showbackground": true,
            "ticks": "",
            "zerolinecolor": "white"
           }
          },
          "shapedefaults": {
           "line": {
            "color": "#2a3f5f"
           }
          },
          "ternary": {
           "aaxis": {
            "gridcolor": "white",
            "linecolor": "white",
            "ticks": ""
           },
           "baxis": {
            "gridcolor": "white",
            "linecolor": "white",
            "ticks": ""
           },
           "bgcolor": "#E5ECF6",
           "caxis": {
            "gridcolor": "white",
            "linecolor": "white",
            "ticks": ""
           }
          },
          "title": {
           "x": 0.05
          },
          "xaxis": {
           "automargin": true,
           "gridcolor": "white",
           "linecolor": "white",
           "ticks": "",
           "title": {
            "standoff": 15
           },
           "zerolinecolor": "white",
           "zerolinewidth": 2
          },
          "yaxis": {
           "automargin": true,
           "gridcolor": "white",
           "linecolor": "white",
           "ticks": "",
           "title": {
            "standoff": 15
           },
           "zerolinecolor": "white",
           "zerolinewidth": 2
          }
         }
        },
        "title": {
         "text": "Year-to-Year Changes: How many tests students attempted"
        },
        "xaxis": {
         "title": {
          "text": "Academic Year"
         }
        },
        "yaxis": {
         "title": {
          "text": "Mean Value"
         }
        }
       }
      }
     },
     "metadata": {},
     "output_type": "display_data"
    },
    {
     "name": "stdout",
     "output_type": "stream",
     "text": [
      "\n",
      "💡 INTERPRETATION:\n",
      "  Significant differences found between:\n",
      "  • 2021 → 2022: increased by 0.220\n",
      "    Effect size: large (d=0.801)\n",
      "  • 2021 → 2023: increased by 0.281\n",
      "    Effect size: large (d=1.226)\n",
      "\n",
      "================================================================================\n",
      "🔍 PAIRWISE COMPARISONS: Average score on attempted tests\n",
      "================================================================================\n",
      "\n",
      "📊 Comparison Results:\n",
      " Year 1  Year 2  Mean 1  Mean 2  Difference  T-test p  Mann-Whitney p  Cohen's d Significant\n",
      "   2021    2022  0.3834  0.6479      0.2645    0.0000          0.0000     1.2603         Yes\n",
      "   2021    2023  0.3834  0.6622      0.2788    0.0000          0.0000     1.5804         Yes\n",
      "   2022    2023  0.6479  0.6622      0.0143    0.7099          0.8591     0.0739          No\n"
     ]
    },
    {
     "data": {
      "application/vnd.plotly.v1+json": {
       "config": {
        "plotlyServerURL": "https://plot.ly"
       },
       "data": [
        {
         "hovertemplate": "%{text}",
         "line": {
          "color": "green",
          "width": 2
         },
         "marker": {
          "size": 10,
          "symbol": "star"
         },
         "mode": "lines+markers",
         "name": "2021 vs 2022",
         "text": [
          "Mean: 0.383",
          "Mean: 0.648"
         ],
         "type": "scatter",
         "x": [
          2021,
          2022
         ],
         "y": [
          0.3834,
          0.6479
         ]
        },
        {
         "hovertemplate": "%{text}",
         "line": {
          "color": "green",
          "width": 2
         },
         "marker": {
          "size": 10,
          "symbol": "star"
         },
         "mode": "lines+markers",
         "name": "2021 vs 2023",
         "text": [
          "Mean: 0.383",
          "Mean: 0.662"
         ],
         "type": "scatter",
         "x": [
          2021,
          2023
         ],
         "y": [
          0.3834,
          0.6622
         ]
        },
        {
         "hovertemplate": "%{text}",
         "line": {
          "color": "gray",
          "width": 2
         },
         "marker": {
          "size": 10,
          "symbol": "circle"
         },
         "mode": "lines+markers",
         "name": "2022 vs 2023",
         "text": [
          "Mean: 0.648",
          "Mean: 0.662"
         ],
         "type": "scatter",
         "x": [
          2022,
          2023
         ],
         "y": [
          0.6479,
          0.6622
         ]
        }
       ],
       "layout": {
        "hovermode": "closest",
        "showlegend": true,
        "template": {
         "data": {
          "bar": [
           {
            "error_x": {
             "color": "#2a3f5f"
            },
            "error_y": {
             "color": "#2a3f5f"
            },
            "marker": {
             "line": {
              "color": "#E5ECF6",
              "width": 0.5
             },
             "pattern": {
              "fillmode": "overlay",
              "size": 10,
              "solidity": 0.2
             }
            },
            "type": "bar"
           }
          ],
          "barpolar": [
           {
            "marker": {
             "line": {
              "color": "#E5ECF6",
              "width": 0.5
             },
             "pattern": {
              "fillmode": "overlay",
              "size": 10,
              "solidity": 0.2
             }
            },
            "type": "barpolar"
           }
          ],
          "carpet": [
           {
            "aaxis": {
             "endlinecolor": "#2a3f5f",
             "gridcolor": "white",
             "linecolor": "white",
             "minorgridcolor": "white",
             "startlinecolor": "#2a3f5f"
            },
            "baxis": {
             "endlinecolor": "#2a3f5f",
             "gridcolor": "white",
             "linecolor": "white",
             "minorgridcolor": "white",
             "startlinecolor": "#2a3f5f"
            },
            "type": "carpet"
           }
          ],
          "choropleth": [
           {
            "colorbar": {
             "outlinewidth": 0,
             "ticks": ""
            },
            "type": "choropleth"
           }
          ],
          "contour": [
           {
            "colorbar": {
             "outlinewidth": 0,
             "ticks": ""
            },
            "colorscale": [
             [
              0,
              "#0d0887"
             ],
             [
              0.1111111111111111,
              "#46039f"
             ],
             [
              0.2222222222222222,
              "#7201a8"
             ],
             [
              0.3333333333333333,
              "#9c179e"
             ],
             [
              0.4444444444444444,
              "#bd3786"
             ],
             [
              0.5555555555555556,
              "#d8576b"
             ],
             [
              0.6666666666666666,
              "#ed7953"
             ],
             [
              0.7777777777777778,
              "#fb9f3a"
             ],
             [
              0.8888888888888888,
              "#fdca26"
             ],
             [
              1,
              "#f0f921"
             ]
            ],
            "type": "contour"
           }
          ],
          "contourcarpet": [
           {
            "colorbar": {
             "outlinewidth": 0,
             "ticks": ""
            },
            "type": "contourcarpet"
           }
          ],
          "heatmap": [
           {
            "colorbar": {
             "outlinewidth": 0,
             "ticks": ""
            },
            "colorscale": [
             [
              0,
              "#0d0887"
             ],
             [
              0.1111111111111111,
              "#46039f"
             ],
             [
              0.2222222222222222,
              "#7201a8"
             ],
             [
              0.3333333333333333,
              "#9c179e"
             ],
             [
              0.4444444444444444,
              "#bd3786"
             ],
             [
              0.5555555555555556,
              "#d8576b"
             ],
             [
              0.6666666666666666,
              "#ed7953"
             ],
             [
              0.7777777777777778,
              "#fb9f3a"
             ],
             [
              0.8888888888888888,
              "#fdca26"
             ],
             [
              1,
              "#f0f921"
             ]
            ],
            "type": "heatmap"
           }
          ],
          "histogram": [
           {
            "marker": {
             "pattern": {
              "fillmode": "overlay",
              "size": 10,
              "solidity": 0.2
             }
            },
            "type": "histogram"
           }
          ],
          "histogram2d": [
           {
            "colorbar": {
             "outlinewidth": 0,
             "ticks": ""
            },
            "colorscale": [
             [
              0,
              "#0d0887"
             ],
             [
              0.1111111111111111,
              "#46039f"
             ],
             [
              0.2222222222222222,
              "#7201a8"
             ],
             [
              0.3333333333333333,
              "#9c179e"
             ],
             [
              0.4444444444444444,
              "#bd3786"
             ],
             [
              0.5555555555555556,
              "#d8576b"
             ],
             [
              0.6666666666666666,
              "#ed7953"
             ],
             [
              0.7777777777777778,
              "#fb9f3a"
             ],
             [
              0.8888888888888888,
              "#fdca26"
             ],
             [
              1,
              "#f0f921"
             ]
            ],
            "type": "histogram2d"
           }
          ],
          "histogram2dcontour": [
           {
            "colorbar": {
             "outlinewidth": 0,
             "ticks": ""
            },
            "colorscale": [
             [
              0,
              "#0d0887"
             ],
             [
              0.1111111111111111,
              "#46039f"
             ],
             [
              0.2222222222222222,
              "#7201a8"
             ],
             [
              0.3333333333333333,
              "#9c179e"
             ],
             [
              0.4444444444444444,
              "#bd3786"
             ],
             [
              0.5555555555555556,
              "#d8576b"
             ],
             [
              0.6666666666666666,
              "#ed7953"
             ],
             [
              0.7777777777777778,
              "#fb9f3a"
             ],
             [
              0.8888888888888888,
              "#fdca26"
             ],
             [
              1,
              "#f0f921"
             ]
            ],
            "type": "histogram2dcontour"
           }
          ],
          "mesh3d": [
           {
            "colorbar": {
             "outlinewidth": 0,
             "ticks": ""
            },
            "type": "mesh3d"
           }
          ],
          "parcoords": [
           {
            "line": {
             "colorbar": {
              "outlinewidth": 0,
              "ticks": ""
             }
            },
            "type": "parcoords"
           }
          ],
          "pie": [
           {
            "automargin": true,
            "type": "pie"
           }
          ],
          "scatter": [
           {
            "fillpattern": {
             "fillmode": "overlay",
             "size": 10,
             "solidity": 0.2
            },
            "type": "scatter"
           }
          ],
          "scatter3d": [
           {
            "line": {
             "colorbar": {
              "outlinewidth": 0,
              "ticks": ""
             }
            },
            "marker": {
             "colorbar": {
              "outlinewidth": 0,
              "ticks": ""
             }
            },
            "type": "scatter3d"
           }
          ],
          "scattercarpet": [
           {
            "marker": {
             "colorbar": {
              "outlinewidth": 0,
              "ticks": ""
             }
            },
            "type": "scattercarpet"
           }
          ],
          "scattergeo": [
           {
            "marker": {
             "colorbar": {
              "outlinewidth": 0,
              "ticks": ""
             }
            },
            "type": "scattergeo"
           }
          ],
          "scattergl": [
           {
            "marker": {
             "colorbar": {
              "outlinewidth": 0,
              "ticks": ""
             }
            },
            "type": "scattergl"
           }
          ],
          "scattermap": [
           {
            "marker": {
             "colorbar": {
              "outlinewidth": 0,
              "ticks": ""
             }
            },
            "type": "scattermap"
           }
          ],
          "scattermapbox": [
           {
            "marker": {
             "colorbar": {
              "outlinewidth": 0,
              "ticks": ""
             }
            },
            "type": "scattermapbox"
           }
          ],
          "scatterpolar": [
           {
            "marker": {
             "colorbar": {
              "outlinewidth": 0,
              "ticks": ""
             }
            },
            "type": "scatterpolar"
           }
          ],
          "scatterpolargl": [
           {
            "marker": {
             "colorbar": {
              "outlinewidth": 0,
              "ticks": ""
             }
            },
            "type": "scatterpolargl"
           }
          ],
          "scatterternary": [
           {
            "marker": {
             "colorbar": {
              "outlinewidth": 0,
              "ticks": ""
             }
            },
            "type": "scatterternary"
           }
          ],
          "surface": [
           {
            "colorbar": {
             "outlinewidth": 0,
             "ticks": ""
            },
            "colorscale": [
             [
              0,
              "#0d0887"
             ],
             [
              0.1111111111111111,
              "#46039f"
             ],
             [
              0.2222222222222222,
              "#7201a8"
             ],
             [
              0.3333333333333333,
              "#9c179e"
             ],
             [
              0.4444444444444444,
              "#bd3786"
             ],
             [
              0.5555555555555556,
              "#d8576b"
             ],
             [
              0.6666666666666666,
              "#ed7953"
             ],
             [
              0.7777777777777778,
              "#fb9f3a"
             ],
             [
              0.8888888888888888,
              "#fdca26"
             ],
             [
              1,
              "#f0f921"
             ]
            ],
            "type": "surface"
           }
          ],
          "table": [
           {
            "cells": {
             "fill": {
              "color": "#EBF0F8"
             },
             "line": {
              "color": "white"
             }
            },
            "header": {
             "fill": {
              "color": "#C8D4E3"
             },
             "line": {
              "color": "white"
             }
            },
            "type": "table"
           }
          ]
         },
         "layout": {
          "annotationdefaults": {
           "arrowcolor": "#2a3f5f",
           "arrowhead": 0,
           "arrowwidth": 1
          },
          "autotypenumbers": "strict",
          "coloraxis": {
           "colorbar": {
            "outlinewidth": 0,
            "ticks": ""
           }
          },
          "colorscale": {
           "diverging": [
            [
             0,
             "#8e0152"
            ],
            [
             0.1,
             "#c51b7d"
            ],
            [
             0.2,
             "#de77ae"
            ],
            [
             0.3,
             "#f1b6da"
            ],
            [
             0.4,
             "#fde0ef"
            ],
            [
             0.5,
             "#f7f7f7"
            ],
            [
             0.6,
             "#e6f5d0"
            ],
            [
             0.7,
             "#b8e186"
            ],
            [
             0.8,
             "#7fbc41"
            ],
            [
             0.9,
             "#4d9221"
            ],
            [
             1,
             "#276419"
            ]
           ],
           "sequential": [
            [
             0,
             "#0d0887"
            ],
            [
             0.1111111111111111,
             "#46039f"
            ],
            [
             0.2222222222222222,
             "#7201a8"
            ],
            [
             0.3333333333333333,
             "#9c179e"
            ],
            [
             0.4444444444444444,
             "#bd3786"
            ],
            [
             0.5555555555555556,
             "#d8576b"
            ],
            [
             0.6666666666666666,
             "#ed7953"
            ],
            [
             0.7777777777777778,
             "#fb9f3a"
            ],
            [
             0.8888888888888888,
             "#fdca26"
            ],
            [
             1,
             "#f0f921"
            ]
           ],
           "sequentialminus": [
            [
             0,
             "#0d0887"
            ],
            [
             0.1111111111111111,
             "#46039f"
            ],
            [
             0.2222222222222222,
             "#7201a8"
            ],
            [
             0.3333333333333333,
             "#9c179e"
            ],
            [
             0.4444444444444444,
             "#bd3786"
            ],
            [
             0.5555555555555556,
             "#d8576b"
            ],
            [
             0.6666666666666666,
             "#ed7953"
            ],
            [
             0.7777777777777778,
             "#fb9f3a"
            ],
            [
             0.8888888888888888,
             "#fdca26"
            ],
            [
             1,
             "#f0f921"
            ]
           ]
          },
          "colorway": [
           "#636efa",
           "#EF553B",
           "#00cc96",
           "#ab63fa",
           "#FFA15A",
           "#19d3f3",
           "#FF6692",
           "#B6E880",
           "#FF97FF",
           "#FECB52"
          ],
          "font": {
           "color": "#2a3f5f"
          },
          "geo": {
           "bgcolor": "white",
           "lakecolor": "white",
           "landcolor": "#E5ECF6",
           "showlakes": true,
           "showland": true,
           "subunitcolor": "white"
          },
          "hoverlabel": {
           "align": "left"
          },
          "hovermode": "closest",
          "mapbox": {
           "style": "light"
          },
          "paper_bgcolor": "white",
          "plot_bgcolor": "#E5ECF6",
          "polar": {
           "angularaxis": {
            "gridcolor": "white",
            "linecolor": "white",
            "ticks": ""
           },
           "bgcolor": "#E5ECF6",
           "radialaxis": {
            "gridcolor": "white",
            "linecolor": "white",
            "ticks": ""
           }
          },
          "scene": {
           "xaxis": {
            "backgroundcolor": "#E5ECF6",
            "gridcolor": "white",
            "gridwidth": 2,
            "linecolor": "white",
            "showbackground": true,
            "ticks": "",
            "zerolinecolor": "white"
           },
           "yaxis": {
            "backgroundcolor": "#E5ECF6",
            "gridcolor": "white",
            "gridwidth": 2,
            "linecolor": "white",
            "showbackground": true,
            "ticks": "",
            "zerolinecolor": "white"
           },
           "zaxis": {
            "backgroundcolor": "#E5ECF6",
            "gridcolor": "white",
            "gridwidth": 2,
            "linecolor": "white",
            "showbackground": true,
            "ticks": "",
            "zerolinecolor": "white"
           }
          },
          "shapedefaults": {
           "line": {
            "color": "#2a3f5f"
           }
          },
          "ternary": {
           "aaxis": {
            "gridcolor": "white",
            "linecolor": "white",
            "ticks": ""
           },
           "baxis": {
            "gridcolor": "white",
            "linecolor": "white",
            "ticks": ""
           },
           "bgcolor": "#E5ECF6",
           "caxis": {
            "gridcolor": "white",
            "linecolor": "white",
            "ticks": ""
           }
          },
          "title": {
           "x": 0.05
          },
          "xaxis": {
           "automargin": true,
           "gridcolor": "white",
           "linecolor": "white",
           "ticks": "",
           "title": {
            "standoff": 15
           },
           "zerolinecolor": "white",
           "zerolinewidth": 2
          },
          "yaxis": {
           "automargin": true,
           "gridcolor": "white",
           "linecolor": "white",
           "ticks": "",
           "title": {
            "standoff": 15
           },
           "zerolinecolor": "white",
           "zerolinewidth": 2
          }
         }
        },
        "title": {
         "text": "Year-to-Year Changes: Average score on attempted tests"
        },
        "xaxis": {
         "title": {
          "text": "Academic Year"
         }
        },
        "yaxis": {
         "title": {
          "text": "Mean Value"
         }
        }
       }
      }
     },
     "metadata": {},
     "output_type": "display_data"
    },
    {
     "name": "stdout",
     "output_type": "stream",
     "text": [
      "\n",
      "💡 INTERPRETATION:\n",
      "  Significant differences found between:\n",
      "  • 2021 → 2022: increased by 0.265\n",
      "    Effect size: large (d=1.260)\n",
      "  • 2021 → 2023: increased by 0.279\n",
      "    Effect size: large (d=1.580)\n",
      "\n",
      "================================================================================\n",
      "🔍 PAIRWISE COMPARISONS: Final course grade (1-5 scale)\n",
      "================================================================================\n",
      "\n",
      "📊 Comparison Results:\n",
      " Year 1  Year 2  Mean 1  Mean 2  Difference  T-test p  Mann-Whitney p  Cohen's d Significant\n",
      "   2021    2022  1.7778  2.2449      0.4671    0.0458          0.0704     0.4181         Yes\n",
      "   2021    2023  1.7778  2.3137      0.5359    0.0139          0.0168     0.5126         Yes\n",
      "   2022    2023  2.2449  2.3137      0.0688    0.7692          0.6790     0.0589          No\n"
     ]
    },
    {
     "data": {
      "application/vnd.plotly.v1+json": {
       "config": {
        "plotlyServerURL": "https://plot.ly"
       },
       "data": [
        {
         "hovertemplate": "%{text}",
         "line": {
          "color": "green",
          "width": 2
         },
         "marker": {
          "size": 10,
          "symbol": "star"
         },
         "mode": "lines+markers",
         "name": "2021 vs 2022",
         "text": [
          "Mean: 1.778",
          "Mean: 2.245"
         ],
         "type": "scatter",
         "x": [
          2021,
          2022
         ],
         "y": [
          1.7778,
          2.2449
         ]
        },
        {
         "hovertemplate": "%{text}",
         "line": {
          "color": "green",
          "width": 2
         },
         "marker": {
          "size": 10,
          "symbol": "star"
         },
         "mode": "lines+markers",
         "name": "2021 vs 2023",
         "text": [
          "Mean: 1.778",
          "Mean: 2.314"
         ],
         "type": "scatter",
         "x": [
          2021,
          2023
         ],
         "y": [
          1.7778,
          2.3137
         ]
        },
        {
         "hovertemplate": "%{text}",
         "line": {
          "color": "gray",
          "width": 2
         },
         "marker": {
          "size": 10,
          "symbol": "circle"
         },
         "mode": "lines+markers",
         "name": "2022 vs 2023",
         "text": [
          "Mean: 2.245",
          "Mean: 2.314"
         ],
         "type": "scatter",
         "x": [
          2022,
          2023
         ],
         "y": [
          2.2449,
          2.3137
         ]
        }
       ],
       "layout": {
        "hovermode": "closest",
        "showlegend": true,
        "template": {
         "data": {
          "bar": [
           {
            "error_x": {
             "color": "#2a3f5f"
            },
            "error_y": {
             "color": "#2a3f5f"
            },
            "marker": {
             "line": {
              "color": "#E5ECF6",
              "width": 0.5
             },
             "pattern": {
              "fillmode": "overlay",
              "size": 10,
              "solidity": 0.2
             }
            },
            "type": "bar"
           }
          ],
          "barpolar": [
           {
            "marker": {
             "line": {
              "color": "#E5ECF6",
              "width": 0.5
             },
             "pattern": {
              "fillmode": "overlay",
              "size": 10,
              "solidity": 0.2
             }
            },
            "type": "barpolar"
           }
          ],
          "carpet": [
           {
            "aaxis": {
             "endlinecolor": "#2a3f5f",
             "gridcolor": "white",
             "linecolor": "white",
             "minorgridcolor": "white",
             "startlinecolor": "#2a3f5f"
            },
            "baxis": {
             "endlinecolor": "#2a3f5f",
             "gridcolor": "white",
             "linecolor": "white",
             "minorgridcolor": "white",
             "startlinecolor": "#2a3f5f"
            },
            "type": "carpet"
           }
          ],
          "choropleth": [
           {
            "colorbar": {
             "outlinewidth": 0,
             "ticks": ""
            },
            "type": "choropleth"
           }
          ],
          "contour": [
           {
            "colorbar": {
             "outlinewidth": 0,
             "ticks": ""
            },
            "colorscale": [
             [
              0,
              "#0d0887"
             ],
             [
              0.1111111111111111,
              "#46039f"
             ],
             [
              0.2222222222222222,
              "#7201a8"
             ],
             [
              0.3333333333333333,
              "#9c179e"
             ],
             [
              0.4444444444444444,
              "#bd3786"
             ],
             [
              0.5555555555555556,
              "#d8576b"
             ],
             [
              0.6666666666666666,
              "#ed7953"
             ],
             [
              0.7777777777777778,
              "#fb9f3a"
             ],
             [
              0.8888888888888888,
              "#fdca26"
             ],
             [
              1,
              "#f0f921"
             ]
            ],
            "type": "contour"
           }
          ],
          "contourcarpet": [
           {
            "colorbar": {
             "outlinewidth": 0,
             "ticks": ""
            },
            "type": "contourcarpet"
           }
          ],
          "heatmap": [
           {
            "colorbar": {
             "outlinewidth": 0,
             "ticks": ""
            },
            "colorscale": [
             [
              0,
              "#0d0887"
             ],
             [
              0.1111111111111111,
              "#46039f"
             ],
             [
              0.2222222222222222,
              "#7201a8"
             ],
             [
              0.3333333333333333,
              "#9c179e"
             ],
             [
              0.4444444444444444,
              "#bd3786"
             ],
             [
              0.5555555555555556,
              "#d8576b"
             ],
             [
              0.6666666666666666,
              "#ed7953"
             ],
             [
              0.7777777777777778,
              "#fb9f3a"
             ],
             [
              0.8888888888888888,
              "#fdca26"
             ],
             [
              1,
              "#f0f921"
             ]
            ],
            "type": "heatmap"
           }
          ],
          "histogram": [
           {
            "marker": {
             "pattern": {
              "fillmode": "overlay",
              "size": 10,
              "solidity": 0.2
             }
            },
            "type": "histogram"
           }
          ],
          "histogram2d": [
           {
            "colorbar": {
             "outlinewidth": 0,
             "ticks": ""
            },
            "colorscale": [
             [
              0,
              "#0d0887"
             ],
             [
              0.1111111111111111,
              "#46039f"
             ],
             [
              0.2222222222222222,
              "#7201a8"
             ],
             [
              0.3333333333333333,
              "#9c179e"
             ],
             [
              0.4444444444444444,
              "#bd3786"
             ],
             [
              0.5555555555555556,
              "#d8576b"
             ],
             [
              0.6666666666666666,
              "#ed7953"
             ],
             [
              0.7777777777777778,
              "#fb9f3a"
             ],
             [
              0.8888888888888888,
              "#fdca26"
             ],
             [
              1,
              "#f0f921"
             ]
            ],
            "type": "histogram2d"
           }
          ],
          "histogram2dcontour": [
           {
            "colorbar": {
             "outlinewidth": 0,
             "ticks": ""
            },
            "colorscale": [
             [
              0,
              "#0d0887"
             ],
             [
              0.1111111111111111,
              "#46039f"
             ],
             [
              0.2222222222222222,
              "#7201a8"
             ],
             [
              0.3333333333333333,
              "#9c179e"
             ],
             [
              0.4444444444444444,
              "#bd3786"
             ],
             [
              0.5555555555555556,
              "#d8576b"
             ],
             [
              0.6666666666666666,
              "#ed7953"
             ],
             [
              0.7777777777777778,
              "#fb9f3a"
             ],
             [
              0.8888888888888888,
              "#fdca26"
             ],
             [
              1,
              "#f0f921"
             ]
            ],
            "type": "histogram2dcontour"
           }
          ],
          "mesh3d": [
           {
            "colorbar": {
             "outlinewidth": 0,
             "ticks": ""
            },
            "type": "mesh3d"
           }
          ],
          "parcoords": [
           {
            "line": {
             "colorbar": {
              "outlinewidth": 0,
              "ticks": ""
             }
            },
            "type": "parcoords"
           }
          ],
          "pie": [
           {
            "automargin": true,
            "type": "pie"
           }
          ],
          "scatter": [
           {
            "fillpattern": {
             "fillmode": "overlay",
             "size": 10,
             "solidity": 0.2
            },
            "type": "scatter"
           }
          ],
          "scatter3d": [
           {
            "line": {
             "colorbar": {
              "outlinewidth": 0,
              "ticks": ""
             }
            },
            "marker": {
             "colorbar": {
              "outlinewidth": 0,
              "ticks": ""
             }
            },
            "type": "scatter3d"
           }
          ],
          "scattercarpet": [
           {
            "marker": {
             "colorbar": {
              "outlinewidth": 0,
              "ticks": ""
             }
            },
            "type": "scattercarpet"
           }
          ],
          "scattergeo": [
           {
            "marker": {
             "colorbar": {
              "outlinewidth": 0,
              "ticks": ""
             }
            },
            "type": "scattergeo"
           }
          ],
          "scattergl": [
           {
            "marker": {
             "colorbar": {
              "outlinewidth": 0,
              "ticks": ""
             }
            },
            "type": "scattergl"
           }
          ],
          "scattermap": [
           {
            "marker": {
             "colorbar": {
              "outlinewidth": 0,
              "ticks": ""
             }
            },
            "type": "scattermap"
           }
          ],
          "scattermapbox": [
           {
            "marker": {
             "colorbar": {
              "outlinewidth": 0,
              "ticks": ""
             }
            },
            "type": "scattermapbox"
           }
          ],
          "scatterpolar": [
           {
            "marker": {
             "colorbar": {
              "outlinewidth": 0,
              "ticks": ""
             }
            },
            "type": "scatterpolar"
           }
          ],
          "scatterpolargl": [
           {
            "marker": {
             "colorbar": {
              "outlinewidth": 0,
              "ticks": ""
             }
            },
            "type": "scatterpolargl"
           }
          ],
          "scatterternary": [
           {
            "marker": {
             "colorbar": {
              "outlinewidth": 0,
              "ticks": ""
             }
            },
            "type": "scatterternary"
           }
          ],
          "surface": [
           {
            "colorbar": {
             "outlinewidth": 0,
             "ticks": ""
            },
            "colorscale": [
             [
              0,
              "#0d0887"
             ],
             [
              0.1111111111111111,
              "#46039f"
             ],
             [
              0.2222222222222222,
              "#7201a8"
             ],
             [
              0.3333333333333333,
              "#9c179e"
             ],
             [
              0.4444444444444444,
              "#bd3786"
             ],
             [
              0.5555555555555556,
              "#d8576b"
             ],
             [
              0.6666666666666666,
              "#ed7953"
             ],
             [
              0.7777777777777778,
              "#fb9f3a"
             ],
             [
              0.8888888888888888,
              "#fdca26"
             ],
             [
              1,
              "#f0f921"
             ]
            ],
            "type": "surface"
           }
          ],
          "table": [
           {
            "cells": {
             "fill": {
              "color": "#EBF0F8"
             },
             "line": {
              "color": "white"
             }
            },
            "header": {
             "fill": {
              "color": "#C8D4E3"
             },
             "line": {
              "color": "white"
             }
            },
            "type": "table"
           }
          ]
         },
         "layout": {
          "annotationdefaults": {
           "arrowcolor": "#2a3f5f",
           "arrowhead": 0,
           "arrowwidth": 1
          },
          "autotypenumbers": "strict",
          "coloraxis": {
           "colorbar": {
            "outlinewidth": 0,
            "ticks": ""
           }
          },
          "colorscale": {
           "diverging": [
            [
             0,
             "#8e0152"
            ],
            [
             0.1,
             "#c51b7d"
            ],
            [
             0.2,
             "#de77ae"
            ],
            [
             0.3,
             "#f1b6da"
            ],
            [
             0.4,
             "#fde0ef"
            ],
            [
             0.5,
             "#f7f7f7"
            ],
            [
             0.6,
             "#e6f5d0"
            ],
            [
             0.7,
             "#b8e186"
            ],
            [
             0.8,
             "#7fbc41"
            ],
            [
             0.9,
             "#4d9221"
            ],
            [
             1,
             "#276419"
            ]
           ],
           "sequential": [
            [
             0,
             "#0d0887"
            ],
            [
             0.1111111111111111,
             "#46039f"
            ],
            [
             0.2222222222222222,
             "#7201a8"
            ],
            [
             0.3333333333333333,
             "#9c179e"
            ],
            [
             0.4444444444444444,
             "#bd3786"
            ],
            [
             0.5555555555555556,
             "#d8576b"
            ],
            [
             0.6666666666666666,
             "#ed7953"
            ],
            [
             0.7777777777777778,
             "#fb9f3a"
            ],
            [
             0.8888888888888888,
             "#fdca26"
            ],
            [
             1,
             "#f0f921"
            ]
           ],
           "sequentialminus": [
            [
             0,
             "#0d0887"
            ],
            [
             0.1111111111111111,
             "#46039f"
            ],
            [
             0.2222222222222222,
             "#7201a8"
            ],
            [
             0.3333333333333333,
             "#9c179e"
            ],
            [
             0.4444444444444444,
             "#bd3786"
            ],
            [
             0.5555555555555556,
             "#d8576b"
            ],
            [
             0.6666666666666666,
             "#ed7953"
            ],
            [
             0.7777777777777778,
             "#fb9f3a"
            ],
            [
             0.8888888888888888,
             "#fdca26"
            ],
            [
             1,
             "#f0f921"
            ]
           ]
          },
          "colorway": [
           "#636efa",
           "#EF553B",
           "#00cc96",
           "#ab63fa",
           "#FFA15A",
           "#19d3f3",
           "#FF6692",
           "#B6E880",
           "#FF97FF",
           "#FECB52"
          ],
          "font": {
           "color": "#2a3f5f"
          },
          "geo": {
           "bgcolor": "white",
           "lakecolor": "white",
           "landcolor": "#E5ECF6",
           "showlakes": true,
           "showland": true,
           "subunitcolor": "white"
          },
          "hoverlabel": {
           "align": "left"
          },
          "hovermode": "closest",
          "mapbox": {
           "style": "light"
          },
          "paper_bgcolor": "white",
          "plot_bgcolor": "#E5ECF6",
          "polar": {
           "angularaxis": {
            "gridcolor": "white",
            "linecolor": "white",
            "ticks": ""
           },
           "bgcolor": "#E5ECF6",
           "radialaxis": {
            "gridcolor": "white",
            "linecolor": "white",
            "ticks": ""
           }
          },
          "scene": {
           "xaxis": {
            "backgroundcolor": "#E5ECF6",
            "gridcolor": "white",
            "gridwidth": 2,
            "linecolor": "white",
            "showbackground": true,
            "ticks": "",
            "zerolinecolor": "white"
           },
           "yaxis": {
            "backgroundcolor": "#E5ECF6",
            "gridcolor": "white",
            "gridwidth": 2,
            "linecolor": "white",
            "showbackground": true,
            "ticks": "",
            "zerolinecolor": "white"
           },
           "zaxis": {
            "backgroundcolor": "#E5ECF6",
            "gridcolor": "white",
            "gridwidth": 2,
            "linecolor": "white",
            "showbackground": true,
            "ticks": "",
            "zerolinecolor": "white"
           }
          },
          "shapedefaults": {
           "line": {
            "color": "#2a3f5f"
           }
          },
          "ternary": {
           "aaxis": {
            "gridcolor": "white",
            "linecolor": "white",
            "ticks": ""
           },
           "baxis": {
            "gridcolor": "white",
            "linecolor": "white",
            "ticks": ""
           },
           "bgcolor": "#E5ECF6",
           "caxis": {
            "gridcolor": "white",
            "linecolor": "white",
            "ticks": ""
           }
          },
          "title": {
           "x": 0.05
          },
          "xaxis": {
           "automargin": true,
           "gridcolor": "white",
           "linecolor": "white",
           "ticks": "",
           "title": {
            "standoff": 15
           },
           "zerolinecolor": "white",
           "zerolinewidth": 2
          },
          "yaxis": {
           "automargin": true,
           "gridcolor": "white",
           "linecolor": "white",
           "ticks": "",
           "title": {
            "standoff": 15
           },
           "zerolinecolor": "white",
           "zerolinewidth": 2
          }
         }
        },
        "title": {
         "text": "Year-to-Year Changes: Final course grade (1-5 scale)"
        },
        "xaxis": {
         "title": {
          "text": "Academic Year"
         }
        },
        "yaxis": {
         "title": {
          "text": "Mean Value"
         }
        }
       }
      }
     },
     "metadata": {},
     "output_type": "display_data"
    },
    {
     "name": "stdout",
     "output_type": "stream",
     "text": [
      "\n",
      "💡 INTERPRETATION:\n",
      "  Significant differences found between:\n",
      "  • 2021 → 2022: increased by 0.467\n",
      "    Effect size: small (d=0.418)\n",
      "  • 2021 → 2023: increased by 0.536\n",
      "    Effect size: medium (d=0.513)\n",
      "\n",
      "================================================================================\n",
      "🔍 PAIRWISE COMPARISONS: Total points earned (0-100 scale)\n",
      "================================================================================\n",
      "\n",
      "📊 Comparison Results:\n",
      " Year 1  Year 2  Mean 1  Mean 2  Difference  T-test p  Mann-Whitney p  Cohen's d Significant\n",
      "   2021    2022  2.4813  5.6627      3.1813    0.0000          0.0000     1.4727         Yes\n",
      "   2021    2023  2.4813  5.9538      3.4724    0.0000          0.0000     1.9294         Yes\n",
      "   2022    2023  5.6627  5.9538      0.2911    0.5166          0.8198     0.1290          No\n"
     ]
    },
    {
     "data": {
      "application/vnd.plotly.v1+json": {
       "config": {
        "plotlyServerURL": "https://plot.ly"
       },
       "data": [
        {
         "hovertemplate": "%{text}",
         "line": {
          "color": "green",
          "width": 2
         },
         "marker": {
          "size": 10,
          "symbol": "star"
         },
         "mode": "lines+markers",
         "name": "2021 vs 2022",
         "text": [
          "Mean: 2.481",
          "Mean: 5.663"
         ],
         "type": "scatter",
         "x": [
          2021,
          2022
         ],
         "y": [
          2.4813,
          5.6627
         ]
        },
        {
         "hovertemplate": "%{text}",
         "line": {
          "color": "green",
          "width": 2
         },
         "marker": {
          "size": 10,
          "symbol": "star"
         },
         "mode": "lines+markers",
         "name": "2021 vs 2023",
         "text": [
          "Mean: 2.481",
          "Mean: 5.954"
         ],
         "type": "scatter",
         "x": [
          2021,
          2023
         ],
         "y": [
          2.4813,
          5.9538
         ]
        },
        {
         "hovertemplate": "%{text}",
         "line": {
          "color": "gray",
          "width": 2
         },
         "marker": {
          "size": 10,
          "symbol": "circle"
         },
         "mode": "lines+markers",
         "name": "2022 vs 2023",
         "text": [
          "Mean: 5.663",
          "Mean: 5.954"
         ],
         "type": "scatter",
         "x": [
          2022,
          2023
         ],
         "y": [
          5.6627,
          5.9538
         ]
        }
       ],
       "layout": {
        "hovermode": "closest",
        "showlegend": true,
        "template": {
         "data": {
          "bar": [
           {
            "error_x": {
             "color": "#2a3f5f"
            },
            "error_y": {
             "color": "#2a3f5f"
            },
            "marker": {
             "line": {
              "color": "#E5ECF6",
              "width": 0.5
             },
             "pattern": {
              "fillmode": "overlay",
              "size": 10,
              "solidity": 0.2
             }
            },
            "type": "bar"
           }
          ],
          "barpolar": [
           {
            "marker": {
             "line": {
              "color": "#E5ECF6",
              "width": 0.5
             },
             "pattern": {
              "fillmode": "overlay",
              "size": 10,
              "solidity": 0.2
             }
            },
            "type": "barpolar"
           }
          ],
          "carpet": [
           {
            "aaxis": {
             "endlinecolor": "#2a3f5f",
             "gridcolor": "white",
             "linecolor": "white",
             "minorgridcolor": "white",
             "startlinecolor": "#2a3f5f"
            },
            "baxis": {
             "endlinecolor": "#2a3f5f",
             "gridcolor": "white",
             "linecolor": "white",
             "minorgridcolor": "white",
             "startlinecolor": "#2a3f5f"
            },
            "type": "carpet"
           }
          ],
          "choropleth": [
           {
            "colorbar": {
             "outlinewidth": 0,
             "ticks": ""
            },
            "type": "choropleth"
           }
          ],
          "contour": [
           {
            "colorbar": {
             "outlinewidth": 0,
             "ticks": ""
            },
            "colorscale": [
             [
              0,
              "#0d0887"
             ],
             [
              0.1111111111111111,
              "#46039f"
             ],
             [
              0.2222222222222222,
              "#7201a8"
             ],
             [
              0.3333333333333333,
              "#9c179e"
             ],
             [
              0.4444444444444444,
              "#bd3786"
             ],
             [
              0.5555555555555556,
              "#d8576b"
             ],
             [
              0.6666666666666666,
              "#ed7953"
             ],
             [
              0.7777777777777778,
              "#fb9f3a"
             ],
             [
              0.8888888888888888,
              "#fdca26"
             ],
             [
              1,
              "#f0f921"
             ]
            ],
            "type": "contour"
           }
          ],
          "contourcarpet": [
           {
            "colorbar": {
             "outlinewidth": 0,
             "ticks": ""
            },
            "type": "contourcarpet"
           }
          ],
          "heatmap": [
           {
            "colorbar": {
             "outlinewidth": 0,
             "ticks": ""
            },
            "colorscale": [
             [
              0,
              "#0d0887"
             ],
             [
              0.1111111111111111,
              "#46039f"
             ],
             [
              0.2222222222222222,
              "#7201a8"
             ],
             [
              0.3333333333333333,
              "#9c179e"
             ],
             [
              0.4444444444444444,
              "#bd3786"
             ],
             [
              0.5555555555555556,
              "#d8576b"
             ],
             [
              0.6666666666666666,
              "#ed7953"
             ],
             [
              0.7777777777777778,
              "#fb9f3a"
             ],
             [
              0.8888888888888888,
              "#fdca26"
             ],
             [
              1,
              "#f0f921"
             ]
            ],
            "type": "heatmap"
           }
          ],
          "histogram": [
           {
            "marker": {
             "pattern": {
              "fillmode": "overlay",
              "size": 10,
              "solidity": 0.2
             }
            },
            "type": "histogram"
           }
          ],
          "histogram2d": [
           {
            "colorbar": {
             "outlinewidth": 0,
             "ticks": ""
            },
            "colorscale": [
             [
              0,
              "#0d0887"
             ],
             [
              0.1111111111111111,
              "#46039f"
             ],
             [
              0.2222222222222222,
              "#7201a8"
             ],
             [
              0.3333333333333333,
              "#9c179e"
             ],
             [
              0.4444444444444444,
              "#bd3786"
             ],
             [
              0.5555555555555556,
              "#d8576b"
             ],
             [
              0.6666666666666666,
              "#ed7953"
             ],
             [
              0.7777777777777778,
              "#fb9f3a"
             ],
             [
              0.8888888888888888,
              "#fdca26"
             ],
             [
              1,
              "#f0f921"
             ]
            ],
            "type": "histogram2d"
           }
          ],
          "histogram2dcontour": [
           {
            "colorbar": {
             "outlinewidth": 0,
             "ticks": ""
            },
            "colorscale": [
             [
              0,
              "#0d0887"
             ],
             [
              0.1111111111111111,
              "#46039f"
             ],
             [
              0.2222222222222222,
              "#7201a8"
             ],
             [
              0.3333333333333333,
              "#9c179e"
             ],
             [
              0.4444444444444444,
              "#bd3786"
             ],
             [
              0.5555555555555556,
              "#d8576b"
             ],
             [
              0.6666666666666666,
              "#ed7953"
             ],
             [
              0.7777777777777778,
              "#fb9f3a"
             ],
             [
              0.8888888888888888,
              "#fdca26"
             ],
             [
              1,
              "#f0f921"
             ]
            ],
            "type": "histogram2dcontour"
           }
          ],
          "mesh3d": [
           {
            "colorbar": {
             "outlinewidth": 0,
             "ticks": ""
            },
            "type": "mesh3d"
           }
          ],
          "parcoords": [
           {
            "line": {
             "colorbar": {
              "outlinewidth": 0,
              "ticks": ""
             }
            },
            "type": "parcoords"
           }
          ],
          "pie": [
           {
            "automargin": true,
            "type": "pie"
           }
          ],
          "scatter": [
           {
            "fillpattern": {
             "fillmode": "overlay",
             "size": 10,
             "solidity": 0.2
            },
            "type": "scatter"
           }
          ],
          "scatter3d": [
           {
            "line": {
             "colorbar": {
              "outlinewidth": 0,
              "ticks": ""
             }
            },
            "marker": {
             "colorbar": {
              "outlinewidth": 0,
              "ticks": ""
             }
            },
            "type": "scatter3d"
           }
          ],
          "scattercarpet": [
           {
            "marker": {
             "colorbar": {
              "outlinewidth": 0,
              "ticks": ""
             }
            },
            "type": "scattercarpet"
           }
          ],
          "scattergeo": [
           {
            "marker": {
             "colorbar": {
              "outlinewidth": 0,
              "ticks": ""
             }
            },
            "type": "scattergeo"
           }
          ],
          "scattergl": [
           {
            "marker": {
             "colorbar": {
              "outlinewidth": 0,
              "ticks": ""
             }
            },
            "type": "scattergl"
           }
          ],
          "scattermap": [
           {
            "marker": {
             "colorbar": {
              "outlinewidth": 0,
              "ticks": ""
             }
            },
            "type": "scattermap"
           }
          ],
          "scattermapbox": [
           {
            "marker": {
             "colorbar": {
              "outlinewidth": 0,
              "ticks": ""
             }
            },
            "type": "scattermapbox"
           }
          ],
          "scatterpolar": [
           {
            "marker": {
             "colorbar": {
              "outlinewidth": 0,
              "ticks": ""
             }
            },
            "type": "scatterpolar"
           }
          ],
          "scatterpolargl": [
           {
            "marker": {
             "colorbar": {
              "outlinewidth": 0,
              "ticks": ""
             }
            },
            "type": "scatterpolargl"
           }
          ],
          "scatterternary": [
           {
            "marker": {
             "colorbar": {
              "outlinewidth": 0,
              "ticks": ""
             }
            },
            "type": "scatterternary"
           }
          ],
          "surface": [
           {
            "colorbar": {
             "outlinewidth": 0,
             "ticks": ""
            },
            "colorscale": [
             [
              0,
              "#0d0887"
             ],
             [
              0.1111111111111111,
              "#46039f"
             ],
             [
              0.2222222222222222,
              "#7201a8"
             ],
             [
              0.3333333333333333,
              "#9c179e"
             ],
             [
              0.4444444444444444,
              "#bd3786"
             ],
             [
              0.5555555555555556,
              "#d8576b"
             ],
             [
              0.6666666666666666,
              "#ed7953"
             ],
             [
              0.7777777777777778,
              "#fb9f3a"
             ],
             [
              0.8888888888888888,
              "#fdca26"
             ],
             [
              1,
              "#f0f921"
             ]
            ],
            "type": "surface"
           }
          ],
          "table": [
           {
            "cells": {
             "fill": {
              "color": "#EBF0F8"
             },
             "line": {
              "color": "white"
             }
            },
            "header": {
             "fill": {
              "color": "#C8D4E3"
             },
             "line": {
              "color": "white"
             }
            },
            "type": "table"
           }
          ]
         },
         "layout": {
          "annotationdefaults": {
           "arrowcolor": "#2a3f5f",
           "arrowhead": 0,
           "arrowwidth": 1
          },
          "autotypenumbers": "strict",
          "coloraxis": {
           "colorbar": {
            "outlinewidth": 0,
            "ticks": ""
           }
          },
          "colorscale": {
           "diverging": [
            [
             0,
             "#8e0152"
            ],
            [
             0.1,
             "#c51b7d"
            ],
            [
             0.2,
             "#de77ae"
            ],
            [
             0.3,
             "#f1b6da"
            ],
            [
             0.4,
             "#fde0ef"
            ],
            [
             0.5,
             "#f7f7f7"
            ],
            [
             0.6,
             "#e6f5d0"
            ],
            [
             0.7,
             "#b8e186"
            ],
            [
             0.8,
             "#7fbc41"
            ],
            [
             0.9,
             "#4d9221"
            ],
            [
             1,
             "#276419"
            ]
           ],
           "sequential": [
            [
             0,
             "#0d0887"
            ],
            [
             0.1111111111111111,
             "#46039f"
            ],
            [
             0.2222222222222222,
             "#7201a8"
            ],
            [
             0.3333333333333333,
             "#9c179e"
            ],
            [
             0.4444444444444444,
             "#bd3786"
            ],
            [
             0.5555555555555556,
             "#d8576b"
            ],
            [
             0.6666666666666666,
             "#ed7953"
            ],
            [
             0.7777777777777778,
             "#fb9f3a"
            ],
            [
             0.8888888888888888,
             "#fdca26"
            ],
            [
             1,
             "#f0f921"
            ]
           ],
           "sequentialminus": [
            [
             0,
             "#0d0887"
            ],
            [
             0.1111111111111111,
             "#46039f"
            ],
            [
             0.2222222222222222,
             "#7201a8"
            ],
            [
             0.3333333333333333,
             "#9c179e"
            ],
            [
             0.4444444444444444,
             "#bd3786"
            ],
            [
             0.5555555555555556,
             "#d8576b"
            ],
            [
             0.6666666666666666,
             "#ed7953"
            ],
            [
             0.7777777777777778,
             "#fb9f3a"
            ],
            [
             0.8888888888888888,
             "#fdca26"
            ],
            [
             1,
             "#f0f921"
            ]
           ]
          },
          "colorway": [
           "#636efa",
           "#EF553B",
           "#00cc96",
           "#ab63fa",
           "#FFA15A",
           "#19d3f3",
           "#FF6692",
           "#B6E880",
           "#FF97FF",
           "#FECB52"
          ],
          "font": {
           "color": "#2a3f5f"
          },
          "geo": {
           "bgcolor": "white",
           "lakecolor": "white",
           "landcolor": "#E5ECF6",
           "showlakes": true,
           "showland": true,
           "subunitcolor": "white"
          },
          "hoverlabel": {
           "align": "left"
          },
          "hovermode": "closest",
          "mapbox": {
           "style": "light"
          },
          "paper_bgcolor": "white",
          "plot_bgcolor": "#E5ECF6",
          "polar": {
           "angularaxis": {
            "gridcolor": "white",
            "linecolor": "white",
            "ticks": ""
           },
           "bgcolor": "#E5ECF6",
           "radialaxis": {
            "gridcolor": "white",
            "linecolor": "white",
            "ticks": ""
           }
          },
          "scene": {
           "xaxis": {
            "backgroundcolor": "#E5ECF6",
            "gridcolor": "white",
            "gridwidth": 2,
            "linecolor": "white",
            "showbackground": true,
            "ticks": "",
            "zerolinecolor": "white"
           },
           "yaxis": {
            "backgroundcolor": "#E5ECF6",
            "gridcolor": "white",
            "gridwidth": 2,
            "linecolor": "white",
            "showbackground": true,
            "ticks": "",
            "zerolinecolor": "white"
           },
           "zaxis": {
            "backgroundcolor": "#E5ECF6",
            "gridcolor": "white",
            "gridwidth": 2,
            "linecolor": "white",
            "showbackground": true,
            "ticks": "",
            "zerolinecolor": "white"
           }
          },
          "shapedefaults": {
           "line": {
            "color": "#2a3f5f"
           }
          },
          "ternary": {
           "aaxis": {
            "gridcolor": "white",
            "linecolor": "white",
            "ticks": ""
           },
           "baxis": {
            "gridcolor": "white",
            "linecolor": "white",
            "ticks": ""
           },
           "bgcolor": "#E5ECF6",
           "caxis": {
            "gridcolor": "white",
            "linecolor": "white",
            "ticks": ""
           }
          },
          "title": {
           "x": 0.05
          },
          "xaxis": {
           "automargin": true,
           "gridcolor": "white",
           "linecolor": "white",
           "ticks": "",
           "title": {
            "standoff": 15
           },
           "zerolinecolor": "white",
           "zerolinewidth": 2
          },
          "yaxis": {
           "automargin": true,
           "gridcolor": "white",
           "linecolor": "white",
           "ticks": "",
           "title": {
            "standoff": 15
           },
           "zerolinecolor": "white",
           "zerolinewidth": 2
          }
         }
        },
        "title": {
         "text": "Year-to-Year Changes: Total points earned (0-100 scale)"
        },
        "xaxis": {
         "title": {
          "text": "Academic Year"
         }
        },
        "yaxis": {
         "title": {
          "text": "Mean Value"
         }
        }
       }
      }
     },
     "metadata": {},
     "output_type": "display_data"
    },
    {
     "name": "stdout",
     "output_type": "stream",
     "text": [
      "\n",
      "💡 INTERPRETATION:\n",
      "  Significant differences found between:\n",
      "  • 2021 → 2022: increased by 3.181\n",
      "    Effect size: large (d=1.473)\n",
      "  • 2021 → 2023: increased by 3.472\n",
      "    Effect size: large (d=1.929)\n",
      "\n",
      "================================================================================\n",
      "🔍 PAIRWISE COMPARISONS: Percentage of maximum points\n",
      "================================================================================\n",
      "\n",
      "📊 Comparison Results:\n",
      " Year 1  Year 2  Mean 1  Mean 2  Difference  T-test p  Mann-Whitney p  Cohen's d Significant\n",
      "   2021    2022  0.2481  0.5663      0.3181    0.0000          0.0000     1.4727         Yes\n",
      "   2021    2023  0.2481  0.5954      0.3472    0.0000          0.0000     1.9294         Yes\n",
      "   2022    2023  0.5663  0.5954      0.0291    0.5166          0.8198     0.1290          No\n"
     ]
    },
    {
     "data": {
      "application/vnd.plotly.v1+json": {
       "config": {
        "plotlyServerURL": "https://plot.ly"
       },
       "data": [
        {
         "hovertemplate": "%{text}",
         "line": {
          "color": "green",
          "width": 2
         },
         "marker": {
          "size": 10,
          "symbol": "star"
         },
         "mode": "lines+markers",
         "name": "2021 vs 2022",
         "text": [
          "Mean: 0.248",
          "Mean: 0.566"
         ],
         "type": "scatter",
         "x": [
          2021,
          2022
         ],
         "y": [
          0.2481,
          0.5663
         ]
        },
        {
         "hovertemplate": "%{text}",
         "line": {
          "color": "green",
          "width": 2
         },
         "marker": {
          "size": 10,
          "symbol": "star"
         },
         "mode": "lines+markers",
         "name": "2021 vs 2023",
         "text": [
          "Mean: 0.248",
          "Mean: 0.595"
         ],
         "type": "scatter",
         "x": [
          2021,
          2023
         ],
         "y": [
          0.2481,
          0.5954
         ]
        },
        {
         "hovertemplate": "%{text}",
         "line": {
          "color": "gray",
          "width": 2
         },
         "marker": {
          "size": 10,
          "symbol": "circle"
         },
         "mode": "lines+markers",
         "name": "2022 vs 2023",
         "text": [
          "Mean: 0.566",
          "Mean: 0.595"
         ],
         "type": "scatter",
         "x": [
          2022,
          2023
         ],
         "y": [
          0.5663,
          0.5954
         ]
        }
       ],
       "layout": {
        "hovermode": "closest",
        "showlegend": true,
        "template": {
         "data": {
          "bar": [
           {
            "error_x": {
             "color": "#2a3f5f"
            },
            "error_y": {
             "color": "#2a3f5f"
            },
            "marker": {
             "line": {
              "color": "#E5ECF6",
              "width": 0.5
             },
             "pattern": {
              "fillmode": "overlay",
              "size": 10,
              "solidity": 0.2
             }
            },
            "type": "bar"
           }
          ],
          "barpolar": [
           {
            "marker": {
             "line": {
              "color": "#E5ECF6",
              "width": 0.5
             },
             "pattern": {
              "fillmode": "overlay",
              "size": 10,
              "solidity": 0.2
             }
            },
            "type": "barpolar"
           }
          ],
          "carpet": [
           {
            "aaxis": {
             "endlinecolor": "#2a3f5f",
             "gridcolor": "white",
             "linecolor": "white",
             "minorgridcolor": "white",
             "startlinecolor": "#2a3f5f"
            },
            "baxis": {
             "endlinecolor": "#2a3f5f",
             "gridcolor": "white",
             "linecolor": "white",
             "minorgridcolor": "white",
             "startlinecolor": "#2a3f5f"
            },
            "type": "carpet"
           }
          ],
          "choropleth": [
           {
            "colorbar": {
             "outlinewidth": 0,
             "ticks": ""
            },
            "type": "choropleth"
           }
          ],
          "contour": [
           {
            "colorbar": {
             "outlinewidth": 0,
             "ticks": ""
            },
            "colorscale": [
             [
              0,
              "#0d0887"
             ],
             [
              0.1111111111111111,
              "#46039f"
             ],
             [
              0.2222222222222222,
              "#7201a8"
             ],
             [
              0.3333333333333333,
              "#9c179e"
             ],
             [
              0.4444444444444444,
              "#bd3786"
             ],
             [
              0.5555555555555556,
              "#d8576b"
             ],
             [
              0.6666666666666666,
              "#ed7953"
             ],
             [
              0.7777777777777778,
              "#fb9f3a"
             ],
             [
              0.8888888888888888,
              "#fdca26"
             ],
             [
              1,
              "#f0f921"
             ]
            ],
            "type": "contour"
           }
          ],
          "contourcarpet": [
           {
            "colorbar": {
             "outlinewidth": 0,
             "ticks": ""
            },
            "type": "contourcarpet"
           }
          ],
          "heatmap": [
           {
            "colorbar": {
             "outlinewidth": 0,
             "ticks": ""
            },
            "colorscale": [
             [
              0,
              "#0d0887"
             ],
             [
              0.1111111111111111,
              "#46039f"
             ],
             [
              0.2222222222222222,
              "#7201a8"
             ],
             [
              0.3333333333333333,
              "#9c179e"
             ],
             [
              0.4444444444444444,
              "#bd3786"
             ],
             [
              0.5555555555555556,
              "#d8576b"
             ],
             [
              0.6666666666666666,
              "#ed7953"
             ],
             [
              0.7777777777777778,
              "#fb9f3a"
             ],
             [
              0.8888888888888888,
              "#fdca26"
             ],
             [
              1,
              "#f0f921"
             ]
            ],
            "type": "heatmap"
           }
          ],
          "histogram": [
           {
            "marker": {
             "pattern": {
              "fillmode": "overlay",
              "size": 10,
              "solidity": 0.2
             }
            },
            "type": "histogram"
           }
          ],
          "histogram2d": [
           {
            "colorbar": {
             "outlinewidth": 0,
             "ticks": ""
            },
            "colorscale": [
             [
              0,
              "#0d0887"
             ],
             [
              0.1111111111111111,
              "#46039f"
             ],
             [
              0.2222222222222222,
              "#7201a8"
             ],
             [
              0.3333333333333333,
              "#9c179e"
             ],
             [
              0.4444444444444444,
              "#bd3786"
             ],
             [
              0.5555555555555556,
              "#d8576b"
             ],
             [
              0.6666666666666666,
              "#ed7953"
             ],
             [
              0.7777777777777778,
              "#fb9f3a"
             ],
             [
              0.8888888888888888,
              "#fdca26"
             ],
             [
              1,
              "#f0f921"
             ]
            ],
            "type": "histogram2d"
           }
          ],
          "histogram2dcontour": [
           {
            "colorbar": {
             "outlinewidth": 0,
             "ticks": ""
            },
            "colorscale": [
             [
              0,
              "#0d0887"
             ],
             [
              0.1111111111111111,
              "#46039f"
             ],
             [
              0.2222222222222222,
              "#7201a8"
             ],
             [
              0.3333333333333333,
              "#9c179e"
             ],
             [
              0.4444444444444444,
              "#bd3786"
             ],
             [
              0.5555555555555556,
              "#d8576b"
             ],
             [
              0.6666666666666666,
              "#ed7953"
             ],
             [
              0.7777777777777778,
              "#fb9f3a"
             ],
             [
              0.8888888888888888,
              "#fdca26"
             ],
             [
              1,
              "#f0f921"
             ]
            ],
            "type": "histogram2dcontour"
           }
          ],
          "mesh3d": [
           {
            "colorbar": {
             "outlinewidth": 0,
             "ticks": ""
            },
            "type": "mesh3d"
           }
          ],
          "parcoords": [
           {
            "line": {
             "colorbar": {
              "outlinewidth": 0,
              "ticks": ""
             }
            },
            "type": "parcoords"
           }
          ],
          "pie": [
           {
            "automargin": true,
            "type": "pie"
           }
          ],
          "scatter": [
           {
            "fillpattern": {
             "fillmode": "overlay",
             "size": 10,
             "solidity": 0.2
            },
            "type": "scatter"
           }
          ],
          "scatter3d": [
           {
            "line": {
             "colorbar": {
              "outlinewidth": 0,
              "ticks": ""
             }
            },
            "marker": {
             "colorbar": {
              "outlinewidth": 0,
              "ticks": ""
             }
            },
            "type": "scatter3d"
           }
          ],
          "scattercarpet": [
           {
            "marker": {
             "colorbar": {
              "outlinewidth": 0,
              "ticks": ""
             }
            },
            "type": "scattercarpet"
           }
          ],
          "scattergeo": [
           {
            "marker": {
             "colorbar": {
              "outlinewidth": 0,
              "ticks": ""
             }
            },
            "type": "scattergeo"
           }
          ],
          "scattergl": [
           {
            "marker": {
             "colorbar": {
              "outlinewidth": 0,
              "ticks": ""
             }
            },
            "type": "scattergl"
           }
          ],
          "scattermap": [
           {
            "marker": {
             "colorbar": {
              "outlinewidth": 0,
              "ticks": ""
             }
            },
            "type": "scattermap"
           }
          ],
          "scattermapbox": [
           {
            "marker": {
             "colorbar": {
              "outlinewidth": 0,
              "ticks": ""
             }
            },
            "type": "scattermapbox"
           }
          ],
          "scatterpolar": [
           {
            "marker": {
             "colorbar": {
              "outlinewidth": 0,
              "ticks": ""
             }
            },
            "type": "scatterpolar"
           }
          ],
          "scatterpolargl": [
           {
            "marker": {
             "colorbar": {
              "outlinewidth": 0,
              "ticks": ""
             }
            },
            "type": "scatterpolargl"
           }
          ],
          "scatterternary": [
           {
            "marker": {
             "colorbar": {
              "outlinewidth": 0,
              "ticks": ""
             }
            },
            "type": "scatterternary"
           }
          ],
          "surface": [
           {
            "colorbar": {
             "outlinewidth": 0,
             "ticks": ""
            },
            "colorscale": [
             [
              0,
              "#0d0887"
             ],
             [
              0.1111111111111111,
              "#46039f"
             ],
             [
              0.2222222222222222,
              "#7201a8"
             ],
             [
              0.3333333333333333,
              "#9c179e"
             ],
             [
              0.4444444444444444,
              "#bd3786"
             ],
             [
              0.5555555555555556,
              "#d8576b"
             ],
             [
              0.6666666666666666,
              "#ed7953"
             ],
             [
              0.7777777777777778,
              "#fb9f3a"
             ],
             [
              0.8888888888888888,
              "#fdca26"
             ],
             [
              1,
              "#f0f921"
             ]
            ],
            "type": "surface"
           }
          ],
          "table": [
           {
            "cells": {
             "fill": {
              "color": "#EBF0F8"
             },
             "line": {
              "color": "white"
             }
            },
            "header": {
             "fill": {
              "color": "#C8D4E3"
             },
             "line": {
              "color": "white"
             }
            },
            "type": "table"
           }
          ]
         },
         "layout": {
          "annotationdefaults": {
           "arrowcolor": "#2a3f5f",
           "arrowhead": 0,
           "arrowwidth": 1
          },
          "autotypenumbers": "strict",
          "coloraxis": {
           "colorbar": {
            "outlinewidth": 0,
            "ticks": ""
           }
          },
          "colorscale": {
           "diverging": [
            [
             0,
             "#8e0152"
            ],
            [
             0.1,
             "#c51b7d"
            ],
            [
             0.2,
             "#de77ae"
            ],
            [
             0.3,
             "#f1b6da"
            ],
            [
             0.4,
             "#fde0ef"
            ],
            [
             0.5,
             "#f7f7f7"
            ],
            [
             0.6,
             "#e6f5d0"
            ],
            [
             0.7,
             "#b8e186"
            ],
            [
             0.8,
             "#7fbc41"
            ],
            [
             0.9,
             "#4d9221"
            ],
            [
             1,
             "#276419"
            ]
           ],
           "sequential": [
            [
             0,
             "#0d0887"
            ],
            [
             0.1111111111111111,
             "#46039f"
            ],
            [
             0.2222222222222222,
             "#7201a8"
            ],
            [
             0.3333333333333333,
             "#9c179e"
            ],
            [
             0.4444444444444444,
             "#bd3786"
            ],
            [
             0.5555555555555556,
             "#d8576b"
            ],
            [
             0.6666666666666666,
             "#ed7953"
            ],
            [
             0.7777777777777778,
             "#fb9f3a"
            ],
            [
             0.8888888888888888,
             "#fdca26"
            ],
            [
             1,
             "#f0f921"
            ]
           ],
           "sequentialminus": [
            [
             0,
             "#0d0887"
            ],
            [
             0.1111111111111111,
             "#46039f"
            ],
            [
             0.2222222222222222,
             "#7201a8"
            ],
            [
             0.3333333333333333,
             "#9c179e"
            ],
            [
             0.4444444444444444,
             "#bd3786"
            ],
            [
             0.5555555555555556,
             "#d8576b"
            ],
            [
             0.6666666666666666,
             "#ed7953"
            ],
            [
             0.7777777777777778,
             "#fb9f3a"
            ],
            [
             0.8888888888888888,
             "#fdca26"
            ],
            [
             1,
             "#f0f921"
            ]
           ]
          },
          "colorway": [
           "#636efa",
           "#EF553B",
           "#00cc96",
           "#ab63fa",
           "#FFA15A",
           "#19d3f3",
           "#FF6692",
           "#B6E880",
           "#FF97FF",
           "#FECB52"
          ],
          "font": {
           "color": "#2a3f5f"
          },
          "geo": {
           "bgcolor": "white",
           "lakecolor": "white",
           "landcolor": "#E5ECF6",
           "showlakes": true,
           "showland": true,
           "subunitcolor": "white"
          },
          "hoverlabel": {
           "align": "left"
          },
          "hovermode": "closest",
          "mapbox": {
           "style": "light"
          },
          "paper_bgcolor": "white",
          "plot_bgcolor": "#E5ECF6",
          "polar": {
           "angularaxis": {
            "gridcolor": "white",
            "linecolor": "white",
            "ticks": ""
           },
           "bgcolor": "#E5ECF6",
           "radialaxis": {
            "gridcolor": "white",
            "linecolor": "white",
            "ticks": ""
           }
          },
          "scene": {
           "xaxis": {
            "backgroundcolor": "#E5ECF6",
            "gridcolor": "white",
            "gridwidth": 2,
            "linecolor": "white",
            "showbackground": true,
            "ticks": "",
            "zerolinecolor": "white"
           },
           "yaxis": {
            "backgroundcolor": "#E5ECF6",
            "gridcolor": "white",
            "gridwidth": 2,
            "linecolor": "white",
            "showbackground": true,
            "ticks": "",
            "zerolinecolor": "white"
           },
           "zaxis": {
            "backgroundcolor": "#E5ECF6",
            "gridcolor": "white",
            "gridwidth": 2,
            "linecolor": "white",
            "showbackground": true,
            "ticks": "",
            "zerolinecolor": "white"
           }
          },
          "shapedefaults": {
           "line": {
            "color": "#2a3f5f"
           }
          },
          "ternary": {
           "aaxis": {
            "gridcolor": "white",
            "linecolor": "white",
            "ticks": ""
           },
           "baxis": {
            "gridcolor": "white",
            "linecolor": "white",
            "ticks": ""
           },
           "bgcolor": "#E5ECF6",
           "caxis": {
            "gridcolor": "white",
            "linecolor": "white",
            "ticks": ""
           }
          },
          "title": {
           "x": 0.05
          },
          "xaxis": {
           "automargin": true,
           "gridcolor": "white",
           "linecolor": "white",
           "ticks": "",
           "title": {
            "standoff": 15
           },
           "zerolinecolor": "white",
           "zerolinewidth": 2
          },
          "yaxis": {
           "automargin": true,
           "gridcolor": "white",
           "linecolor": "white",
           "ticks": "",
           "title": {
            "standoff": 15
           },
           "zerolinecolor": "white",
           "zerolinewidth": 2
          }
         }
        },
        "title": {
         "text": "Year-to-Year Changes: Percentage of maximum points"
        },
        "xaxis": {
         "title": {
          "text": "Academic Year"
         }
        },
        "yaxis": {
         "title": {
          "text": "Mean Value"
         }
        }
       }
      }
     },
     "metadata": {},
     "output_type": "display_data"
    },
    {
     "name": "stdout",
     "output_type": "stream",
     "text": [
      "\n",
      "💡 INTERPRETATION:\n",
      "  Significant differences found between:\n",
      "  • 2021 → 2022: increased by 0.318\n",
      "    Effect size: large (d=1.473)\n",
      "  • 2021 → 2023: increased by 0.347\n",
      "    Effect size: large (d=1.929)\n",
      "\n",
      "================================================================================\n",
      "🔍 PAIRWISE COMPARISONS: Defense score (max 30)\n",
      "================================================================================\n",
      "\n",
      "📊 Comparison Results:\n",
      " Year 1  Year 2  Mean 1  Mean 2  Difference  T-test p  Mann-Whitney p  Cohen's d Significant\n",
      "   2021    2022 23.3778 22.3673     -1.0104    0.4594          0.8882     0.1534          No\n",
      "   2021    2023 23.3778 21.1739     -2.2039    0.0198          0.0308     0.4977         Yes\n",
      "   2022    2023 22.3673 21.1739     -1.1934    0.3520          0.0049     0.1920         Yes\n"
     ]
    },
    {
     "data": {
      "application/vnd.plotly.v1+json": {
       "config": {
        "plotlyServerURL": "https://plot.ly"
       },
       "data": [
        {
         "hovertemplate": "%{text}",
         "line": {
          "color": "gray",
          "width": 2
         },
         "marker": {
          "size": 10,
          "symbol": "circle"
         },
         "mode": "lines+markers",
         "name": "2021 vs 2022",
         "text": [
          "Mean: 23.378",
          "Mean: 22.367"
         ],
         "type": "scatter",
         "x": [
          2021,
          2022
         ],
         "y": [
          23.3778,
          22.3673
         ]
        },
        {
         "hovertemplate": "%{text}",
         "line": {
          "color": "green",
          "width": 2
         },
         "marker": {
          "size": 10,
          "symbol": "star"
         },
         "mode": "lines+markers",
         "name": "2021 vs 2023",
         "text": [
          "Mean: 23.378",
          "Mean: 21.174"
         ],
         "type": "scatter",
         "x": [
          2021,
          2023
         ],
         "y": [
          23.3778,
          21.1739
         ]
        },
        {
         "hovertemplate": "%{text}",
         "line": {
          "color": "green",
          "width": 2
         },
         "marker": {
          "size": 10,
          "symbol": "star"
         },
         "mode": "lines+markers",
         "name": "2022 vs 2023",
         "text": [
          "Mean: 22.367",
          "Mean: 21.174"
         ],
         "type": "scatter",
         "x": [
          2022,
          2023
         ],
         "y": [
          22.3673,
          21.1739
         ]
        }
       ],
       "layout": {
        "hovermode": "closest",
        "showlegend": true,
        "template": {
         "data": {
          "bar": [
           {
            "error_x": {
             "color": "#2a3f5f"
            },
            "error_y": {
             "color": "#2a3f5f"
            },
            "marker": {
             "line": {
              "color": "#E5ECF6",
              "width": 0.5
             },
             "pattern": {
              "fillmode": "overlay",
              "size": 10,
              "solidity": 0.2
             }
            },
            "type": "bar"
           }
          ],
          "barpolar": [
           {
            "marker": {
             "line": {
              "color": "#E5ECF6",
              "width": 0.5
             },
             "pattern": {
              "fillmode": "overlay",
              "size": 10,
              "solidity": 0.2
             }
            },
            "type": "barpolar"
           }
          ],
          "carpet": [
           {
            "aaxis": {
             "endlinecolor": "#2a3f5f",
             "gridcolor": "white",
             "linecolor": "white",
             "minorgridcolor": "white",
             "startlinecolor": "#2a3f5f"
            },
            "baxis": {
             "endlinecolor": "#2a3f5f",
             "gridcolor": "white",
             "linecolor": "white",
             "minorgridcolor": "white",
             "startlinecolor": "#2a3f5f"
            },
            "type": "carpet"
           }
          ],
          "choropleth": [
           {
            "colorbar": {
             "outlinewidth": 0,
             "ticks": ""
            },
            "type": "choropleth"
           }
          ],
          "contour": [
           {
            "colorbar": {
             "outlinewidth": 0,
             "ticks": ""
            },
            "colorscale": [
             [
              0,
              "#0d0887"
             ],
             [
              0.1111111111111111,
              "#46039f"
             ],
             [
              0.2222222222222222,
              "#7201a8"
             ],
             [
              0.3333333333333333,
              "#9c179e"
             ],
             [
              0.4444444444444444,
              "#bd3786"
             ],
             [
              0.5555555555555556,
              "#d8576b"
             ],
             [
              0.6666666666666666,
              "#ed7953"
             ],
             [
              0.7777777777777778,
              "#fb9f3a"
             ],
             [
              0.8888888888888888,
              "#fdca26"
             ],
             [
              1,
              "#f0f921"
             ]
            ],
            "type": "contour"
           }
          ],
          "contourcarpet": [
           {
            "colorbar": {
             "outlinewidth": 0,
             "ticks": ""
            },
            "type": "contourcarpet"
           }
          ],
          "heatmap": [
           {
            "colorbar": {
             "outlinewidth": 0,
             "ticks": ""
            },
            "colorscale": [
             [
              0,
              "#0d0887"
             ],
             [
              0.1111111111111111,
              "#46039f"
             ],
             [
              0.2222222222222222,
              "#7201a8"
             ],
             [
              0.3333333333333333,
              "#9c179e"
             ],
             [
              0.4444444444444444,
              "#bd3786"
             ],
             [
              0.5555555555555556,
              "#d8576b"
             ],
             [
              0.6666666666666666,
              "#ed7953"
             ],
             [
              0.7777777777777778,
              "#fb9f3a"
             ],
             [
              0.8888888888888888,
              "#fdca26"
             ],
             [
              1,
              "#f0f921"
             ]
            ],
            "type": "heatmap"
           }
          ],
          "histogram": [
           {
            "marker": {
             "pattern": {
              "fillmode": "overlay",
              "size": 10,
              "solidity": 0.2
             }
            },
            "type": "histogram"
           }
          ],
          "histogram2d": [
           {
            "colorbar": {
             "outlinewidth": 0,
             "ticks": ""
            },
            "colorscale": [
             [
              0,
              "#0d0887"
             ],
             [
              0.1111111111111111,
              "#46039f"
             ],
             [
              0.2222222222222222,
              "#7201a8"
             ],
             [
              0.3333333333333333,
              "#9c179e"
             ],
             [
              0.4444444444444444,
              "#bd3786"
             ],
             [
              0.5555555555555556,
              "#d8576b"
             ],
             [
              0.6666666666666666,
              "#ed7953"
             ],
             [
              0.7777777777777778,
              "#fb9f3a"
             ],
             [
              0.8888888888888888,
              "#fdca26"
             ],
             [
              1,
              "#f0f921"
             ]
            ],
            "type": "histogram2d"
           }
          ],
          "histogram2dcontour": [
           {
            "colorbar": {
             "outlinewidth": 0,
             "ticks": ""
            },
            "colorscale": [
             [
              0,
              "#0d0887"
             ],
             [
              0.1111111111111111,
              "#46039f"
             ],
             [
              0.2222222222222222,
              "#7201a8"
             ],
             [
              0.3333333333333333,
              "#9c179e"
             ],
             [
              0.4444444444444444,
              "#bd3786"
             ],
             [
              0.5555555555555556,
              "#d8576b"
             ],
             [
              0.6666666666666666,
              "#ed7953"
             ],
             [
              0.7777777777777778,
              "#fb9f3a"
             ],
             [
              0.8888888888888888,
              "#fdca26"
             ],
             [
              1,
              "#f0f921"
             ]
            ],
            "type": "histogram2dcontour"
           }
          ],
          "mesh3d": [
           {
            "colorbar": {
             "outlinewidth": 0,
             "ticks": ""
            },
            "type": "mesh3d"
           }
          ],
          "parcoords": [
           {
            "line": {
             "colorbar": {
              "outlinewidth": 0,
              "ticks": ""
             }
            },
            "type": "parcoords"
           }
          ],
          "pie": [
           {
            "automargin": true,
            "type": "pie"
           }
          ],
          "scatter": [
           {
            "fillpattern": {
             "fillmode": "overlay",
             "size": 10,
             "solidity": 0.2
            },
            "type": "scatter"
           }
          ],
          "scatter3d": [
           {
            "line": {
             "colorbar": {
              "outlinewidth": 0,
              "ticks": ""
             }
            },
            "marker": {
             "colorbar": {
              "outlinewidth": 0,
              "ticks": ""
             }
            },
            "type": "scatter3d"
           }
          ],
          "scattercarpet": [
           {
            "marker": {
             "colorbar": {
              "outlinewidth": 0,
              "ticks": ""
             }
            },
            "type": "scattercarpet"
           }
          ],
          "scattergeo": [
           {
            "marker": {
             "colorbar": {
              "outlinewidth": 0,
              "ticks": ""
             }
            },
            "type": "scattergeo"
           }
          ],
          "scattergl": [
           {
            "marker": {
             "colorbar": {
              "outlinewidth": 0,
              "ticks": ""
             }
            },
            "type": "scattergl"
           }
          ],
          "scattermap": [
           {
            "marker": {
             "colorbar": {
              "outlinewidth": 0,
              "ticks": ""
             }
            },
            "type": "scattermap"
           }
          ],
          "scattermapbox": [
           {
            "marker": {
             "colorbar": {
              "outlinewidth": 0,
              "ticks": ""
             }
            },
            "type": "scattermapbox"
           }
          ],
          "scatterpolar": [
           {
            "marker": {
             "colorbar": {
              "outlinewidth": 0,
              "ticks": ""
             }
            },
            "type": "scatterpolar"
           }
          ],
          "scatterpolargl": [
           {
            "marker": {
             "colorbar": {
              "outlinewidth": 0,
              "ticks": ""
             }
            },
            "type": "scatterpolargl"
           }
          ],
          "scatterternary": [
           {
            "marker": {
             "colorbar": {
              "outlinewidth": 0,
              "ticks": ""
             }
            },
            "type": "scatterternary"
           }
          ],
          "surface": [
           {
            "colorbar": {
             "outlinewidth": 0,
             "ticks": ""
            },
            "colorscale": [
             [
              0,
              "#0d0887"
             ],
             [
              0.1111111111111111,
              "#46039f"
             ],
             [
              0.2222222222222222,
              "#7201a8"
             ],
             [
              0.3333333333333333,
              "#9c179e"
             ],
             [
              0.4444444444444444,
              "#bd3786"
             ],
             [
              0.5555555555555556,
              "#d8576b"
             ],
             [
              0.6666666666666666,
              "#ed7953"
             ],
             [
              0.7777777777777778,
              "#fb9f3a"
             ],
             [
              0.8888888888888888,
              "#fdca26"
             ],
             [
              1,
              "#f0f921"
             ]
            ],
            "type": "surface"
           }
          ],
          "table": [
           {
            "cells": {
             "fill": {
              "color": "#EBF0F8"
             },
             "line": {
              "color": "white"
             }
            },
            "header": {
             "fill": {
              "color": "#C8D4E3"
             },
             "line": {
              "color": "white"
             }
            },
            "type": "table"
           }
          ]
         },
         "layout": {
          "annotationdefaults": {
           "arrowcolor": "#2a3f5f",
           "arrowhead": 0,
           "arrowwidth": 1
          },
          "autotypenumbers": "strict",
          "coloraxis": {
           "colorbar": {
            "outlinewidth": 0,
            "ticks": ""
           }
          },
          "colorscale": {
           "diverging": [
            [
             0,
             "#8e0152"
            ],
            [
             0.1,
             "#c51b7d"
            ],
            [
             0.2,
             "#de77ae"
            ],
            [
             0.3,
             "#f1b6da"
            ],
            [
             0.4,
             "#fde0ef"
            ],
            [
             0.5,
             "#f7f7f7"
            ],
            [
             0.6,
             "#e6f5d0"
            ],
            [
             0.7,
             "#b8e186"
            ],
            [
             0.8,
             "#7fbc41"
            ],
            [
             0.9,
             "#4d9221"
            ],
            [
             1,
             "#276419"
            ]
           ],
           "sequential": [
            [
             0,
             "#0d0887"
            ],
            [
             0.1111111111111111,
             "#46039f"
            ],
            [
             0.2222222222222222,
             "#7201a8"
            ],
            [
             0.3333333333333333,
             "#9c179e"
            ],
            [
             0.4444444444444444,
             "#bd3786"
            ],
            [
             0.5555555555555556,
             "#d8576b"
            ],
            [
             0.6666666666666666,
             "#ed7953"
            ],
            [
             0.7777777777777778,
             "#fb9f3a"
            ],
            [
             0.8888888888888888,
             "#fdca26"
            ],
            [
             1,
             "#f0f921"
            ]
           ],
           "sequentialminus": [
            [
             0,
             "#0d0887"
            ],
            [
             0.1111111111111111,
             "#46039f"
            ],
            [
             0.2222222222222222,
             "#7201a8"
            ],
            [
             0.3333333333333333,
             "#9c179e"
            ],
            [
             0.4444444444444444,
             "#bd3786"
            ],
            [
             0.5555555555555556,
             "#d8576b"
            ],
            [
             0.6666666666666666,
             "#ed7953"
            ],
            [
             0.7777777777777778,
             "#fb9f3a"
            ],
            [
             0.8888888888888888,
             "#fdca26"
            ],
            [
             1,
             "#f0f921"
            ]
           ]
          },
          "colorway": [
           "#636efa",
           "#EF553B",
           "#00cc96",
           "#ab63fa",
           "#FFA15A",
           "#19d3f3",
           "#FF6692",
           "#B6E880",
           "#FF97FF",
           "#FECB52"
          ],
          "font": {
           "color": "#2a3f5f"
          },
          "geo": {
           "bgcolor": "white",
           "lakecolor": "white",
           "landcolor": "#E5ECF6",
           "showlakes": true,
           "showland": true,
           "subunitcolor": "white"
          },
          "hoverlabel": {
           "align": "left"
          },
          "hovermode": "closest",
          "mapbox": {
           "style": "light"
          },
          "paper_bgcolor": "white",
          "plot_bgcolor": "#E5ECF6",
          "polar": {
           "angularaxis": {
            "gridcolor": "white",
            "linecolor": "white",
            "ticks": ""
           },
           "bgcolor": "#E5ECF6",
           "radialaxis": {
            "gridcolor": "white",
            "linecolor": "white",
            "ticks": ""
           }
          },
          "scene": {
           "xaxis": {
            "backgroundcolor": "#E5ECF6",
            "gridcolor": "white",
            "gridwidth": 2,
            "linecolor": "white",
            "showbackground": true,
            "ticks": "",
            "zerolinecolor": "white"
           },
           "yaxis": {
            "backgroundcolor": "#E5ECF6",
            "gridcolor": "white",
            "gridwidth": 2,
            "linecolor": "white",
            "showbackground": true,
            "ticks": "",
            "zerolinecolor": "white"
           },
           "zaxis": {
            "backgroundcolor": "#E5ECF6",
            "gridcolor": "white",
            "gridwidth": 2,
            "linecolor": "white",
            "showbackground": true,
            "ticks": "",
            "zerolinecolor": "white"
           }
          },
          "shapedefaults": {
           "line": {
            "color": "#2a3f5f"
           }
          },
          "ternary": {
           "aaxis": {
            "gridcolor": "white",
            "linecolor": "white",
            "ticks": ""
           },
           "baxis": {
            "gridcolor": "white",
            "linecolor": "white",
            "ticks": ""
           },
           "bgcolor": "#E5ECF6",
           "caxis": {
            "gridcolor": "white",
            "linecolor": "white",
            "ticks": ""
           }
          },
          "title": {
           "x": 0.05
          },
          "xaxis": {
           "automargin": true,
           "gridcolor": "white",
           "linecolor": "white",
           "ticks": "",
           "title": {
            "standoff": 15
           },
           "zerolinecolor": "white",
           "zerolinewidth": 2
          },
          "yaxis": {
           "automargin": true,
           "gridcolor": "white",
           "linecolor": "white",
           "ticks": "",
           "title": {
            "standoff": 15
           },
           "zerolinecolor": "white",
           "zerolinewidth": 2
          }
         }
        },
        "title": {
         "text": "Year-to-Year Changes: Defense score (max 30)"
        },
        "xaxis": {
         "title": {
          "text": "Academic Year"
         }
        },
        "yaxis": {
         "title": {
          "text": "Mean Value"
         }
        }
       }
      }
     },
     "metadata": {},
     "output_type": "display_data"
    },
    {
     "name": "stdout",
     "output_type": "stream",
     "text": [
      "\n",
      "💡 INTERPRETATION:\n",
      "  Significant differences found between:\n",
      "  • 2021 → 2023: decreased by 2.204\n",
      "    Effect size: small (d=0.498)\n",
      "  • 2022 → 2023: decreased by 1.193\n",
      "    Effect size: negligible (d=0.192)\n",
      "\n",
      "================================================================================\n",
      "🔍 PAIRWISE COMPARISONS: Final exam score (max 25)\n",
      "================================================================================\n",
      "\n",
      "📊 Comparison Results:\n",
      " Year 1  Year 2  Mean 1  Mean 2  Difference  T-test p  Mann-Whitney p  Cohen's d Significant\n",
      "   2021    2022 12.2750 14.7209      2.4459    0.0156          0.0248     0.5425         Yes\n",
      "   2021    2023 12.2750 14.1591      1.8841    0.1018          0.0244     0.3615         Yes\n",
      "   2022    2023 14.7209 14.1591     -0.5618    0.6055          0.8782     0.1112          No\n"
     ]
    },
    {
     "data": {
      "application/vnd.plotly.v1+json": {
       "config": {
        "plotlyServerURL": "https://plot.ly"
       },
       "data": [
        {
         "hovertemplate": "%{text}",
         "line": {
          "color": "green",
          "width": 2
         },
         "marker": {
          "size": 10,
          "symbol": "star"
         },
         "mode": "lines+markers",
         "name": "2021 vs 2022",
         "text": [
          "Mean: 12.275",
          "Mean: 14.721"
         ],
         "type": "scatter",
         "x": [
          2021,
          2022
         ],
         "y": [
          12.275,
          14.7209
         ]
        },
        {
         "hovertemplate": "%{text}",
         "line": {
          "color": "green",
          "width": 2
         },
         "marker": {
          "size": 10,
          "symbol": "star"
         },
         "mode": "lines+markers",
         "name": "2021 vs 2023",
         "text": [
          "Mean: 12.275",
          "Mean: 14.159"
         ],
         "type": "scatter",
         "x": [
          2021,
          2023
         ],
         "y": [
          12.275,
          14.1591
         ]
        },
        {
         "hovertemplate": "%{text}",
         "line": {
          "color": "gray",
          "width": 2
         },
         "marker": {
          "size": 10,
          "symbol": "circle"
         },
         "mode": "lines+markers",
         "name": "2022 vs 2023",
         "text": [
          "Mean: 14.721",
          "Mean: 14.159"
         ],
         "type": "scatter",
         "x": [
          2022,
          2023
         ],
         "y": [
          14.7209,
          14.1591
         ]
        }
       ],
       "layout": {
        "hovermode": "closest",
        "showlegend": true,
        "template": {
         "data": {
          "bar": [
           {
            "error_x": {
             "color": "#2a3f5f"
            },
            "error_y": {
             "color": "#2a3f5f"
            },
            "marker": {
             "line": {
              "color": "#E5ECF6",
              "width": 0.5
             },
             "pattern": {
              "fillmode": "overlay",
              "size": 10,
              "solidity": 0.2
             }
            },
            "type": "bar"
           }
          ],
          "barpolar": [
           {
            "marker": {
             "line": {
              "color": "#E5ECF6",
              "width": 0.5
             },
             "pattern": {
              "fillmode": "overlay",
              "size": 10,
              "solidity": 0.2
             }
            },
            "type": "barpolar"
           }
          ],
          "carpet": [
           {
            "aaxis": {
             "endlinecolor": "#2a3f5f",
             "gridcolor": "white",
             "linecolor": "white",
             "minorgridcolor": "white",
             "startlinecolor": "#2a3f5f"
            },
            "baxis": {
             "endlinecolor": "#2a3f5f",
             "gridcolor": "white",
             "linecolor": "white",
             "minorgridcolor": "white",
             "startlinecolor": "#2a3f5f"
            },
            "type": "carpet"
           }
          ],
          "choropleth": [
           {
            "colorbar": {
             "outlinewidth": 0,
             "ticks": ""
            },
            "type": "choropleth"
           }
          ],
          "contour": [
           {
            "colorbar": {
             "outlinewidth": 0,
             "ticks": ""
            },
            "colorscale": [
             [
              0,
              "#0d0887"
             ],
             [
              0.1111111111111111,
              "#46039f"
             ],
             [
              0.2222222222222222,
              "#7201a8"
             ],
             [
              0.3333333333333333,
              "#9c179e"
             ],
             [
              0.4444444444444444,
              "#bd3786"
             ],
             [
              0.5555555555555556,
              "#d8576b"
             ],
             [
              0.6666666666666666,
              "#ed7953"
             ],
             [
              0.7777777777777778,
              "#fb9f3a"
             ],
             [
              0.8888888888888888,
              "#fdca26"
             ],
             [
              1,
              "#f0f921"
             ]
            ],
            "type": "contour"
           }
          ],
          "contourcarpet": [
           {
            "colorbar": {
             "outlinewidth": 0,
             "ticks": ""
            },
            "type": "contourcarpet"
           }
          ],
          "heatmap": [
           {
            "colorbar": {
             "outlinewidth": 0,
             "ticks": ""
            },
            "colorscale": [
             [
              0,
              "#0d0887"
             ],
             [
              0.1111111111111111,
              "#46039f"
             ],
             [
              0.2222222222222222,
              "#7201a8"
             ],
             [
              0.3333333333333333,
              "#9c179e"
             ],
             [
              0.4444444444444444,
              "#bd3786"
             ],
             [
              0.5555555555555556,
              "#d8576b"
             ],
             [
              0.6666666666666666,
              "#ed7953"
             ],
             [
              0.7777777777777778,
              "#fb9f3a"
             ],
             [
              0.8888888888888888,
              "#fdca26"
             ],
             [
              1,
              "#f0f921"
             ]
            ],
            "type": "heatmap"
           }
          ],
          "histogram": [
           {
            "marker": {
             "pattern": {
              "fillmode": "overlay",
              "size": 10,
              "solidity": 0.2
             }
            },
            "type": "histogram"
           }
          ],
          "histogram2d": [
           {
            "colorbar": {
             "outlinewidth": 0,
             "ticks": ""
            },
            "colorscale": [
             [
              0,
              "#0d0887"
             ],
             [
              0.1111111111111111,
              "#46039f"
             ],
             [
              0.2222222222222222,
              "#7201a8"
             ],
             [
              0.3333333333333333,
              "#9c179e"
             ],
             [
              0.4444444444444444,
              "#bd3786"
             ],
             [
              0.5555555555555556,
              "#d8576b"
             ],
             [
              0.6666666666666666,
              "#ed7953"
             ],
             [
              0.7777777777777778,
              "#fb9f3a"
             ],
             [
              0.8888888888888888,
              "#fdca26"
             ],
             [
              1,
              "#f0f921"
             ]
            ],
            "type": "histogram2d"
           }
          ],
          "histogram2dcontour": [
           {
            "colorbar": {
             "outlinewidth": 0,
             "ticks": ""
            },
            "colorscale": [
             [
              0,
              "#0d0887"
             ],
             [
              0.1111111111111111,
              "#46039f"
             ],
             [
              0.2222222222222222,
              "#7201a8"
             ],
             [
              0.3333333333333333,
              "#9c179e"
             ],
             [
              0.4444444444444444,
              "#bd3786"
             ],
             [
              0.5555555555555556,
              "#d8576b"
             ],
             [
              0.6666666666666666,
              "#ed7953"
             ],
             [
              0.7777777777777778,
              "#fb9f3a"
             ],
             [
              0.8888888888888888,
              "#fdca26"
             ],
             [
              1,
              "#f0f921"
             ]
            ],
            "type": "histogram2dcontour"
           }
          ],
          "mesh3d": [
           {
            "colorbar": {
             "outlinewidth": 0,
             "ticks": ""
            },
            "type": "mesh3d"
           }
          ],
          "parcoords": [
           {
            "line": {
             "colorbar": {
              "outlinewidth": 0,
              "ticks": ""
             }
            },
            "type": "parcoords"
           }
          ],
          "pie": [
           {
            "automargin": true,
            "type": "pie"
           }
          ],
          "scatter": [
           {
            "fillpattern": {
             "fillmode": "overlay",
             "size": 10,
             "solidity": 0.2
            },
            "type": "scatter"
           }
          ],
          "scatter3d": [
           {
            "line": {
             "colorbar": {
              "outlinewidth": 0,
              "ticks": ""
             }
            },
            "marker": {
             "colorbar": {
              "outlinewidth": 0,
              "ticks": ""
             }
            },
            "type": "scatter3d"
           }
          ],
          "scattercarpet": [
           {
            "marker": {
             "colorbar": {
              "outlinewidth": 0,
              "ticks": ""
             }
            },
            "type": "scattercarpet"
           }
          ],
          "scattergeo": [
           {
            "marker": {
             "colorbar": {
              "outlinewidth": 0,
              "ticks": ""
             }
            },
            "type": "scattergeo"
           }
          ],
          "scattergl": [
           {
            "marker": {
             "colorbar": {
              "outlinewidth": 0,
              "ticks": ""
             }
            },
            "type": "scattergl"
           }
          ],
          "scattermap": [
           {
            "marker": {
             "colorbar": {
              "outlinewidth": 0,
              "ticks": ""
             }
            },
            "type": "scattermap"
           }
          ],
          "scattermapbox": [
           {
            "marker": {
             "colorbar": {
              "outlinewidth": 0,
              "ticks": ""
             }
            },
            "type": "scattermapbox"
           }
          ],
          "scatterpolar": [
           {
            "marker": {
             "colorbar": {
              "outlinewidth": 0,
              "ticks": ""
             }
            },
            "type": "scatterpolar"
           }
          ],
          "scatterpolargl": [
           {
            "marker": {
             "colorbar": {
              "outlinewidth": 0,
              "ticks": ""
             }
            },
            "type": "scatterpolargl"
           }
          ],
          "scatterternary": [
           {
            "marker": {
             "colorbar": {
              "outlinewidth": 0,
              "ticks": ""
             }
            },
            "type": "scatterternary"
           }
          ],
          "surface": [
           {
            "colorbar": {
             "outlinewidth": 0,
             "ticks": ""
            },
            "colorscale": [
             [
              0,
              "#0d0887"
             ],
             [
              0.1111111111111111,
              "#46039f"
             ],
             [
              0.2222222222222222,
              "#7201a8"
             ],
             [
              0.3333333333333333,
              "#9c179e"
             ],
             [
              0.4444444444444444,
              "#bd3786"
             ],
             [
              0.5555555555555556,
              "#d8576b"
             ],
             [
              0.6666666666666666,
              "#ed7953"
             ],
             [
              0.7777777777777778,
              "#fb9f3a"
             ],
             [
              0.8888888888888888,
              "#fdca26"
             ],
             [
              1,
              "#f0f921"
             ]
            ],
            "type": "surface"
           }
          ],
          "table": [
           {
            "cells": {
             "fill": {
              "color": "#EBF0F8"
             },
             "line": {
              "color": "white"
             }
            },
            "header": {
             "fill": {
              "color": "#C8D4E3"
             },
             "line": {
              "color": "white"
             }
            },
            "type": "table"
           }
          ]
         },
         "layout": {
          "annotationdefaults": {
           "arrowcolor": "#2a3f5f",
           "arrowhead": 0,
           "arrowwidth": 1
          },
          "autotypenumbers": "strict",
          "coloraxis": {
           "colorbar": {
            "outlinewidth": 0,
            "ticks": ""
           }
          },
          "colorscale": {
           "diverging": [
            [
             0,
             "#8e0152"
            ],
            [
             0.1,
             "#c51b7d"
            ],
            [
             0.2,
             "#de77ae"
            ],
            [
             0.3,
             "#f1b6da"
            ],
            [
             0.4,
             "#fde0ef"
            ],
            [
             0.5,
             "#f7f7f7"
            ],
            [
             0.6,
             "#e6f5d0"
            ],
            [
             0.7,
             "#b8e186"
            ],
            [
             0.8,
             "#7fbc41"
            ],
            [
             0.9,
             "#4d9221"
            ],
            [
             1,
             "#276419"
            ]
           ],
           "sequential": [
            [
             0,
             "#0d0887"
            ],
            [
             0.1111111111111111,
             "#46039f"
            ],
            [
             0.2222222222222222,
             "#7201a8"
            ],
            [
             0.3333333333333333,
             "#9c179e"
            ],
            [
             0.4444444444444444,
             "#bd3786"
            ],
            [
             0.5555555555555556,
             "#d8576b"
            ],
            [
             0.6666666666666666,
             "#ed7953"
            ],
            [
             0.7777777777777778,
             "#fb9f3a"
            ],
            [
             0.8888888888888888,
             "#fdca26"
            ],
            [
             1,
             "#f0f921"
            ]
           ],
           "sequentialminus": [
            [
             0,
             "#0d0887"
            ],
            [
             0.1111111111111111,
             "#46039f"
            ],
            [
             0.2222222222222222,
             "#7201a8"
            ],
            [
             0.3333333333333333,
             "#9c179e"
            ],
            [
             0.4444444444444444,
             "#bd3786"
            ],
            [
             0.5555555555555556,
             "#d8576b"
            ],
            [
             0.6666666666666666,
             "#ed7953"
            ],
            [
             0.7777777777777778,
             "#fb9f3a"
            ],
            [
             0.8888888888888888,
             "#fdca26"
            ],
            [
             1,
             "#f0f921"
            ]
           ]
          },
          "colorway": [
           "#636efa",
           "#EF553B",
           "#00cc96",
           "#ab63fa",
           "#FFA15A",
           "#19d3f3",
           "#FF6692",
           "#B6E880",
           "#FF97FF",
           "#FECB52"
          ],
          "font": {
           "color": "#2a3f5f"
          },
          "geo": {
           "bgcolor": "white",
           "lakecolor": "white",
           "landcolor": "#E5ECF6",
           "showlakes": true,
           "showland": true,
           "subunitcolor": "white"
          },
          "hoverlabel": {
           "align": "left"
          },
          "hovermode": "closest",
          "mapbox": {
           "style": "light"
          },
          "paper_bgcolor": "white",
          "plot_bgcolor": "#E5ECF6",
          "polar": {
           "angularaxis": {
            "gridcolor": "white",
            "linecolor": "white",
            "ticks": ""
           },
           "bgcolor": "#E5ECF6",
           "radialaxis": {
            "gridcolor": "white",
            "linecolor": "white",
            "ticks": ""
           }
          },
          "scene": {
           "xaxis": {
            "backgroundcolor": "#E5ECF6",
            "gridcolor": "white",
            "gridwidth": 2,
            "linecolor": "white",
            "showbackground": true,
            "ticks": "",
            "zerolinecolor": "white"
           },
           "yaxis": {
            "backgroundcolor": "#E5ECF6",
            "gridcolor": "white",
            "gridwidth": 2,
            "linecolor": "white",
            "showbackground": true,
            "ticks": "",
            "zerolinecolor": "white"
           },
           "zaxis": {
            "backgroundcolor": "#E5ECF6",
            "gridcolor": "white",
            "gridwidth": 2,
            "linecolor": "white",
            "showbackground": true,
            "ticks": "",
            "zerolinecolor": "white"
           }
          },
          "shapedefaults": {
           "line": {
            "color": "#2a3f5f"
           }
          },
          "ternary": {
           "aaxis": {
            "gridcolor": "white",
            "linecolor": "white",
            "ticks": ""
           },
           "baxis": {
            "gridcolor": "white",
            "linecolor": "white",
            "ticks": ""
           },
           "bgcolor": "#E5ECF6",
           "caxis": {
            "gridcolor": "white",
            "linecolor": "white",
            "ticks": ""
           }
          },
          "title": {
           "x": 0.05
          },
          "xaxis": {
           "automargin": true,
           "gridcolor": "white",
           "linecolor": "white",
           "ticks": "",
           "title": {
            "standoff": 15
           },
           "zerolinecolor": "white",
           "zerolinewidth": 2
          },
          "yaxis": {
           "automargin": true,
           "gridcolor": "white",
           "linecolor": "white",
           "ticks": "",
           "title": {
            "standoff": 15
           },
           "zerolinecolor": "white",
           "zerolinewidth": 2
          }
         }
        },
        "title": {
         "text": "Year-to-Year Changes: Final exam score (max 25)"
        },
        "xaxis": {
         "title": {
          "text": "Academic Year"
         }
        },
        "yaxis": {
         "title": {
          "text": "Mean Value"
         }
        }
       }
      }
     },
     "metadata": {},
     "output_type": "display_data"
    },
    {
     "name": "stdout",
     "output_type": "stream",
     "text": [
      "\n",
      "💡 INTERPRETATION:\n",
      "  Significant differences found between:\n",
      "  • 2021 → 2022: increased by 2.446\n",
      "    Effect size: medium (d=0.542)\n",
      "  • 2021 → 2023: increased by 1.884\n",
      "    Effect size: small (d=0.361)\n"
     ]
    }
   ],
   "source": [
    "def perform_pairwise_comparisons(df, variable_name, variable_description):\n",
    "    \"\"\"Perform pairwise comparisons between years\"\"\"\n",
    "    \n",
    "    print(f\"\\n{'='*80}\")\n",
    "    print(f\"🔍 PAIRWISE COMPARISONS: {variable_description}\")\n",
    "    print(f\"{'='*80}\")\n",
    "    \n",
    "    years = sorted(df['academic_year'].unique())\n",
    "    \n",
    "    # Create comparison matrix\n",
    "    comparison_results = []\n",
    "    \n",
    "    for i, year1 in enumerate(years):\n",
    "        for year2 in years[i+1:]:\n",
    "            data1 = df[df['academic_year'] == year1][variable_name].dropna()\n",
    "            data2 = df[df['academic_year'] == year2][variable_name].dropna()\n",
    "            \n",
    "            if len(data1) < 3 or len(data2) < 3:\n",
    "                continue\n",
    "            \n",
    "            # Perform t-test\n",
    "            t_stat, t_p = ttest_ind(data1, data2)\n",
    "            \n",
    "            # Perform Mann-Whitney U test\n",
    "            u_stat, u_p = mannwhitneyu(data1, data2, alternative='two-sided')\n",
    "            \n",
    "            # Calculate effect size (Cohen's d)\n",
    "            pooled_std = np.sqrt(((len(data1)-1)*data1.std()**2 + (len(data2)-1)*data2.std()**2) / (len(data1)+len(data2)-2))\n",
    "            cohens_d = (data1.mean() - data2.mean()) / pooled_std if pooled_std > 0 else 0\n",
    "            \n",
    "            comparison_results.append({\n",
    "                'Year 1': year1,\n",
    "                'Year 2': year2,\n",
    "                'Mean 1': data1.mean(),\n",
    "                'Mean 2': data2.mean(),\n",
    "                'Difference': data2.mean() - data1.mean(),\n",
    "                'T-test p': t_p,\n",
    "                'Mann-Whitney p': u_p,\n",
    "                \"Cohen's d\": abs(cohens_d),\n",
    "                'Significant': 'Yes' if min(t_p, u_p) < 0.05 else 'No'\n",
    "            })\n",
    "    \n",
    "    if comparison_results:\n",
    "        results_df = pd.DataFrame(comparison_results)\n",
    "        results_df = results_df.round(4)\n",
    "        \n",
    "        print(\"\\n📊 Comparison Results:\")\n",
    "        print(results_df.to_string(index=False))\n",
    "        \n",
    "        # Visual representation\n",
    "        fig = go.Figure()\n",
    "        \n",
    "        for _, row in results_df.iterrows():\n",
    "            color = 'green' if row['Significant'] == 'Yes' else 'gray'\n",
    "            symbol = 'star' if row['Significant'] == 'Yes' else 'circle'\n",
    "            \n",
    "            fig.add_trace(go.Scatter(\n",
    "                x=[row['Year 1'], row['Year 2']],\n",
    "                y=[row['Mean 1'], row['Mean 2']],\n",
    "                mode='lines+markers',\n",
    "                line=dict(color=color, width=2),\n",
    "                marker=dict(size=10, symbol=symbol),\n",
    "                name=f\"{row['Year 1']} vs {row['Year 2']}\",\n",
    "                text=[f\"Mean: {row['Mean 1']:.3f}\", f\"Mean: {row['Mean 2']:.3f}\"],\n",
    "                hovertemplate='%{text}'\n",
    "            ))\n",
    "        \n",
    "        fig.update_layout(\n",
    "            title=f\"Year-to-Year Changes: {variable_description}\",\n",
    "            xaxis_title=\"Academic Year\",\n",
    "            yaxis_title=\"Mean Value\",\n",
    "            hovermode='closest',\n",
    "            showlegend=True\n",
    "        )\n",
    "        \n",
    "        fig.show()\n",
    "        \n",
    "        # Interpretation\n",
    "        print(\"\\n💡 INTERPRETATION:\")\n",
    "        significant_pairs = results_df[results_df['Significant'] == 'Yes']\n",
    "        \n",
    "        if len(significant_pairs) > 0:\n",
    "            print(\"  Significant differences found between:\")\n",
    "            for _, row in significant_pairs.iterrows():\n",
    "                direction = \"increased\" if row['Difference'] > 0 else \"decreased\"\n",
    "                print(f\"  • {row['Year 1']} → {row['Year 2']}: {direction} by {abs(row['Difference']):.3f}\")\n",
    "                \n",
    "                # Interpret Cohen's d\n",
    "                d = row[\"Cohen's d\"]\n",
    "                if d < 0.2:\n",
    "                    effect = \"negligible\"\n",
    "                elif d < 0.5:\n",
    "                    effect = \"small\"\n",
    "                elif d < 0.8:\n",
    "                    effect = \"medium\"\n",
    "                else:\n",
    "                    effect = \"large\"\n",
    "                print(f\"    Effect size: {effect} (d={d:.3f})\")\n",
    "        else:\n",
    "            print(\"  No significant pairwise differences found.\")\n",
    "            print(\"  Although overall test showed differences, individual year pairs aren't significantly different.\")\n",
    "            print(\"  This can happen when the overall trend is significant but individual steps are small.\")\n",
    "\n",
    "# Run pairwise comparisons for variables that showed significant differences\n",
    "print(\"\\n🎯 DETAILED YEAR-TO-YEAR COMPARISONS\")\n",
    "print(\"=\"*60)\n",
    "print(\"We'll now examine which specific years differ from each other\\n\")\n",
    "\n",
    "for category, variables in key_variables.items():\n",
    "    for var_name, description in variables:\n",
    "        if var_name in df.columns and var_name in all_results:\n",
    "            # Check if either test was significant\n",
    "            anova_p = all_results[var_name]['anova']['p_value']\n",
    "            kw_p = all_results[var_name]['kruskal']['p_value']\n",
    "            \n",
    "            if min(anova_p, kw_p) < 0.05:\n",
    "                perform_pairwise_comparisons(df, var_name, description)"
   ]
  },
  {
   "cell_type": "markdown",
   "metadata": {},
   "source": [
    "## 6. Summary Dashboard: What Did We Learn?\n",
    "\n",
    "Let's create a comprehensive summary of all our findings."
   ]
  },
  {
   "cell_type": "code",
   "execution_count": 7,
   "metadata": {},
   "outputs": [
    {
     "name": "stdout",
     "output_type": "stream",
     "text": [
      "\n",
      "================================================================================\n",
      "📊 COMPREHENSIVE SUMMARY OF YEAR-WISE CHANGES (2021-2023)\n",
      "================================================================================\n"
     ]
    },
    {
     "data": {
      "application/vnd.plotly.v1+json": {
       "config": {
        "plotlyServerURL": "https://plot.ly"
       },
       "data": [
        {
         "hole": 0.3,
         "hovertemplate": "<b>%{label}</b><br>Count: %{value}<br>Percentage: %{percent}<extra></extra>",
         "labels": [
          "Significant Changes",
          "Non-Significant Changes"
         ],
         "marker": {
          "colors": [
           "#2ECC71",
           "#95A5A6"
          ]
         },
         "textinfo": "label+percent",
         "type": "pie",
         "values": [
          7,
          2
         ]
        }
       ],
       "layout": {
        "font": {
         "size": 12
        },
        "height": 400,
        "template": {
         "data": {
          "bar": [
           {
            "error_x": {
             "color": "#2a3f5f"
            },
            "error_y": {
             "color": "#2a3f5f"
            },
            "marker": {
             "line": {
              "color": "#E5ECF6",
              "width": 0.5
             },
             "pattern": {
              "fillmode": "overlay",
              "size": 10,
              "solidity": 0.2
             }
            },
            "type": "bar"
           }
          ],
          "barpolar": [
           {
            "marker": {
             "line": {
              "color": "#E5ECF6",
              "width": 0.5
             },
             "pattern": {
              "fillmode": "overlay",
              "size": 10,
              "solidity": 0.2
             }
            },
            "type": "barpolar"
           }
          ],
          "carpet": [
           {
            "aaxis": {
             "endlinecolor": "#2a3f5f",
             "gridcolor": "white",
             "linecolor": "white",
             "minorgridcolor": "white",
             "startlinecolor": "#2a3f5f"
            },
            "baxis": {
             "endlinecolor": "#2a3f5f",
             "gridcolor": "white",
             "linecolor": "white",
             "minorgridcolor": "white",
             "startlinecolor": "#2a3f5f"
            },
            "type": "carpet"
           }
          ],
          "choropleth": [
           {
            "colorbar": {
             "outlinewidth": 0,
             "ticks": ""
            },
            "type": "choropleth"
           }
          ],
          "contour": [
           {
            "colorbar": {
             "outlinewidth": 0,
             "ticks": ""
            },
            "colorscale": [
             [
              0,
              "#0d0887"
             ],
             [
              0.1111111111111111,
              "#46039f"
             ],
             [
              0.2222222222222222,
              "#7201a8"
             ],
             [
              0.3333333333333333,
              "#9c179e"
             ],
             [
              0.4444444444444444,
              "#bd3786"
             ],
             [
              0.5555555555555556,
              "#d8576b"
             ],
             [
              0.6666666666666666,
              "#ed7953"
             ],
             [
              0.7777777777777778,
              "#fb9f3a"
             ],
             [
              0.8888888888888888,
              "#fdca26"
             ],
             [
              1,
              "#f0f921"
             ]
            ],
            "type": "contour"
           }
          ],
          "contourcarpet": [
           {
            "colorbar": {
             "outlinewidth": 0,
             "ticks": ""
            },
            "type": "contourcarpet"
           }
          ],
          "heatmap": [
           {
            "colorbar": {
             "outlinewidth": 0,
             "ticks": ""
            },
            "colorscale": [
             [
              0,
              "#0d0887"
             ],
             [
              0.1111111111111111,
              "#46039f"
             ],
             [
              0.2222222222222222,
              "#7201a8"
             ],
             [
              0.3333333333333333,
              "#9c179e"
             ],
             [
              0.4444444444444444,
              "#bd3786"
             ],
             [
              0.5555555555555556,
              "#d8576b"
             ],
             [
              0.6666666666666666,
              "#ed7953"
             ],
             [
              0.7777777777777778,
              "#fb9f3a"
             ],
             [
              0.8888888888888888,
              "#fdca26"
             ],
             [
              1,
              "#f0f921"
             ]
            ],
            "type": "heatmap"
           }
          ],
          "histogram": [
           {
            "marker": {
             "pattern": {
              "fillmode": "overlay",
              "size": 10,
              "solidity": 0.2
             }
            },
            "type": "histogram"
           }
          ],
          "histogram2d": [
           {
            "colorbar": {
             "outlinewidth": 0,
             "ticks": ""
            },
            "colorscale": [
             [
              0,
              "#0d0887"
             ],
             [
              0.1111111111111111,
              "#46039f"
             ],
             [
              0.2222222222222222,
              "#7201a8"
             ],
             [
              0.3333333333333333,
              "#9c179e"
             ],
             [
              0.4444444444444444,
              "#bd3786"
             ],
             [
              0.5555555555555556,
              "#d8576b"
             ],
             [
              0.6666666666666666,
              "#ed7953"
             ],
             [
              0.7777777777777778,
              "#fb9f3a"
             ],
             [
              0.8888888888888888,
              "#fdca26"
             ],
             [
              1,
              "#f0f921"
             ]
            ],
            "type": "histogram2d"
           }
          ],
          "histogram2dcontour": [
           {
            "colorbar": {
             "outlinewidth": 0,
             "ticks": ""
            },
            "colorscale": [
             [
              0,
              "#0d0887"
             ],
             [
              0.1111111111111111,
              "#46039f"
             ],
             [
              0.2222222222222222,
              "#7201a8"
             ],
             [
              0.3333333333333333,
              "#9c179e"
             ],
             [
              0.4444444444444444,
              "#bd3786"
             ],
             [
              0.5555555555555556,
              "#d8576b"
             ],
             [
              0.6666666666666666,
              "#ed7953"
             ],
             [
              0.7777777777777778,
              "#fb9f3a"
             ],
             [
              0.8888888888888888,
              "#fdca26"
             ],
             [
              1,
              "#f0f921"
             ]
            ],
            "type": "histogram2dcontour"
           }
          ],
          "mesh3d": [
           {
            "colorbar": {
             "outlinewidth": 0,
             "ticks": ""
            },
            "type": "mesh3d"
           }
          ],
          "parcoords": [
           {
            "line": {
             "colorbar": {
              "outlinewidth": 0,
              "ticks": ""
             }
            },
            "type": "parcoords"
           }
          ],
          "pie": [
           {
            "automargin": true,
            "type": "pie"
           }
          ],
          "scatter": [
           {
            "fillpattern": {
             "fillmode": "overlay",
             "size": 10,
             "solidity": 0.2
            },
            "type": "scatter"
           }
          ],
          "scatter3d": [
           {
            "line": {
             "colorbar": {
              "outlinewidth": 0,
              "ticks": ""
             }
            },
            "marker": {
             "colorbar": {
              "outlinewidth": 0,
              "ticks": ""
             }
            },
            "type": "scatter3d"
           }
          ],
          "scattercarpet": [
           {
            "marker": {
             "colorbar": {
              "outlinewidth": 0,
              "ticks": ""
             }
            },
            "type": "scattercarpet"
           }
          ],
          "scattergeo": [
           {
            "marker": {
             "colorbar": {
              "outlinewidth": 0,
              "ticks": ""
             }
            },
            "type": "scattergeo"
           }
          ],
          "scattergl": [
           {
            "marker": {
             "colorbar": {
              "outlinewidth": 0,
              "ticks": ""
             }
            },
            "type": "scattergl"
           }
          ],
          "scattermap": [
           {
            "marker": {
             "colorbar": {
              "outlinewidth": 0,
              "ticks": ""
             }
            },
            "type": "scattermap"
           }
          ],
          "scattermapbox": [
           {
            "marker": {
             "colorbar": {
              "outlinewidth": 0,
              "ticks": ""
             }
            },
            "type": "scattermapbox"
           }
          ],
          "scatterpolar": [
           {
            "marker": {
             "colorbar": {
              "outlinewidth": 0,
              "ticks": ""
             }
            },
            "type": "scatterpolar"
           }
          ],
          "scatterpolargl": [
           {
            "marker": {
             "colorbar": {
              "outlinewidth": 0,
              "ticks": ""
             }
            },
            "type": "scatterpolargl"
           }
          ],
          "scatterternary": [
           {
            "marker": {
             "colorbar": {
              "outlinewidth": 0,
              "ticks": ""
             }
            },
            "type": "scatterternary"
           }
          ],
          "surface": [
           {
            "colorbar": {
             "outlinewidth": 0,
             "ticks": ""
            },
            "colorscale": [
             [
              0,
              "#0d0887"
             ],
             [
              0.1111111111111111,
              "#46039f"
             ],
             [
              0.2222222222222222,
              "#7201a8"
             ],
             [
              0.3333333333333333,
              "#9c179e"
             ],
             [
              0.4444444444444444,
              "#bd3786"
             ],
             [
              0.5555555555555556,
              "#d8576b"
             ],
             [
              0.6666666666666666,
              "#ed7953"
             ],
             [
              0.7777777777777778,
              "#fb9f3a"
             ],
             [
              0.8888888888888888,
              "#fdca26"
             ],
             [
              1,
              "#f0f921"
             ]
            ],
            "type": "surface"
           }
          ],
          "table": [
           {
            "cells": {
             "fill": {
              "color": "#EBF0F8"
             },
             "line": {
              "color": "white"
             }
            },
            "header": {
             "fill": {
              "color": "#C8D4E3"
             },
             "line": {
              "color": "white"
             }
            },
            "type": "table"
           }
          ]
         },
         "layout": {
          "annotationdefaults": {
           "arrowcolor": "#2a3f5f",
           "arrowhead": 0,
           "arrowwidth": 1
          },
          "autotypenumbers": "strict",
          "coloraxis": {
           "colorbar": {
            "outlinewidth": 0,
            "ticks": ""
           }
          },
          "colorscale": {
           "diverging": [
            [
             0,
             "#8e0152"
            ],
            [
             0.1,
             "#c51b7d"
            ],
            [
             0.2,
             "#de77ae"
            ],
            [
             0.3,
             "#f1b6da"
            ],
            [
             0.4,
             "#fde0ef"
            ],
            [
             0.5,
             "#f7f7f7"
            ],
            [
             0.6,
             "#e6f5d0"
            ],
            [
             0.7,
             "#b8e186"
            ],
            [
             0.8,
             "#7fbc41"
            ],
            [
             0.9,
             "#4d9221"
            ],
            [
             1,
             "#276419"
            ]
           ],
           "sequential": [
            [
             0,
             "#0d0887"
            ],
            [
             0.1111111111111111,
             "#46039f"
            ],
            [
             0.2222222222222222,
             "#7201a8"
            ],
            [
             0.3333333333333333,
             "#9c179e"
            ],
            [
             0.4444444444444444,
             "#bd3786"
            ],
            [
             0.5555555555555556,
             "#d8576b"
            ],
            [
             0.6666666666666666,
             "#ed7953"
            ],
            [
             0.7777777777777778,
             "#fb9f3a"
            ],
            [
             0.8888888888888888,
             "#fdca26"
            ],
            [
             1,
             "#f0f921"
            ]
           ],
           "sequentialminus": [
            [
             0,
             "#0d0887"
            ],
            [
             0.1111111111111111,
             "#46039f"
            ],
            [
             0.2222222222222222,
             "#7201a8"
            ],
            [
             0.3333333333333333,
             "#9c179e"
            ],
            [
             0.4444444444444444,
             "#bd3786"
            ],
            [
             0.5555555555555556,
             "#d8576b"
            ],
            [
             0.6666666666666666,
             "#ed7953"
            ],
            [
             0.7777777777777778,
             "#fb9f3a"
            ],
            [
             0.8888888888888888,
             "#fdca26"
            ],
            [
             1,
             "#f0f921"
            ]
           ]
          },
          "colorway": [
           "#636efa",
           "#EF553B",
           "#00cc96",
           "#ab63fa",
           "#FFA15A",
           "#19d3f3",
           "#FF6692",
           "#B6E880",
           "#FF97FF",
           "#FECB52"
          ],
          "font": {
           "color": "#2a3f5f"
          },
          "geo": {
           "bgcolor": "white",
           "lakecolor": "white",
           "landcolor": "#E5ECF6",
           "showlakes": true,
           "showland": true,
           "subunitcolor": "white"
          },
          "hoverlabel": {
           "align": "left"
          },
          "hovermode": "closest",
          "mapbox": {
           "style": "light"
          },
          "paper_bgcolor": "white",
          "plot_bgcolor": "#E5ECF6",
          "polar": {
           "angularaxis": {
            "gridcolor": "white",
            "linecolor": "white",
            "ticks": ""
           },
           "bgcolor": "#E5ECF6",
           "radialaxis": {
            "gridcolor": "white",
            "linecolor": "white",
            "ticks": ""
           }
          },
          "scene": {
           "xaxis": {
            "backgroundcolor": "#E5ECF6",
            "gridcolor": "white",
            "gridwidth": 2,
            "linecolor": "white",
            "showbackground": true,
            "ticks": "",
            "zerolinecolor": "white"
           },
           "yaxis": {
            "backgroundcolor": "#E5ECF6",
            "gridcolor": "white",
            "gridwidth": 2,
            "linecolor": "white",
            "showbackground": true,
            "ticks": "",
            "zerolinecolor": "white"
           },
           "zaxis": {
            "backgroundcolor": "#E5ECF6",
            "gridcolor": "white",
            "gridwidth": 2,
            "linecolor": "white",
            "showbackground": true,
            "ticks": "",
            "zerolinecolor": "white"
           }
          },
          "shapedefaults": {
           "line": {
            "color": "#2a3f5f"
           }
          },
          "ternary": {
           "aaxis": {
            "gridcolor": "white",
            "linecolor": "white",
            "ticks": ""
           },
           "baxis": {
            "gridcolor": "white",
            "linecolor": "white",
            "ticks": ""
           },
           "bgcolor": "#E5ECF6",
           "caxis": {
            "gridcolor": "white",
            "linecolor": "white",
            "ticks": ""
           }
          },
          "title": {
           "x": 0.05
          },
          "xaxis": {
           "automargin": true,
           "gridcolor": "white",
           "linecolor": "white",
           "ticks": "",
           "title": {
            "standoff": 15
           },
           "zerolinecolor": "white",
           "zerolinewidth": 2
          },
          "yaxis": {
           "automargin": true,
           "gridcolor": "white",
           "linecolor": "white",
           "ticks": "",
           "title": {
            "standoff": 15
           },
           "zerolinecolor": "white",
           "zerolinewidth": 2
          }
         }
        },
        "title": {
         "text": "<b>Statistical Significance Overview</b><br><sub>How many variables showed real changes?</sub>"
        }
       }
      }
     },
     "metadata": {},
     "output_type": "display_data"
    },
    {
     "data": {
      "application/vnd.plotly.v1+json": {
       "config": {
        "plotlyServerURL": "https://plot.ly"
       },
       "data": [
        {
         "hovertemplate": "<b>%{y}</b><br>Change: %{x:.2f}%<extra></extra>",
         "marker": {
          "color": [
           "#95A5A6",
           "#2ECC71",
           "#95A5A6",
           "#2ECC71",
           "#2ECC71",
           "#2ECC71",
           "#2ECC71",
           "#2ECC71",
           "#2ECC71"
          ]
         },
         "orientation": "h",
         "text": [
          "-6.3%",
          "-9.4%",
          "13.4%",
          "15.3%",
          "30.1%",
          "46.4%",
          "72.7%",
          "139.9%",
          "139.9%"
         ],
         "textposition": "outside",
         "type": "bar",
         "x": {
          "bdata": "yJe0aA5aGcDo6rEUt9oiwApyacgQ5SpASL+cXbGyLkCrpaWlpSU+QNx/pr4tM0dApPi0LnYtUkC7UHkTKX5hQLtQeRMpfmFA",
          "dtype": "f8"
         },
         "y": [
          "presentation_points",
          "defense_points",
          "exam_k2",
          "exam_k3",
          "final_grade",
          "test_completion_rate",
          "avg_success_rate_per_test",
          "fc_total_points",
          "percentage_points"
         ]
        }
       ],
       "layout": {
        "font": {
         "size": 11
        },
        "height": 400,
        "showlegend": false,
        "template": {
         "data": {
          "bar": [
           {
            "error_x": {
             "color": "#2a3f5f"
            },
            "error_y": {
             "color": "#2a3f5f"
            },
            "marker": {
             "line": {
              "color": "#E5ECF6",
              "width": 0.5
             },
             "pattern": {
              "fillmode": "overlay",
              "size": 10,
              "solidity": 0.2
             }
            },
            "type": "bar"
           }
          ],
          "barpolar": [
           {
            "marker": {
             "line": {
              "color": "#E5ECF6",
              "width": 0.5
             },
             "pattern": {
              "fillmode": "overlay",
              "size": 10,
              "solidity": 0.2
             }
            },
            "type": "barpolar"
           }
          ],
          "carpet": [
           {
            "aaxis": {
             "endlinecolor": "#2a3f5f",
             "gridcolor": "white",
             "linecolor": "white",
             "minorgridcolor": "white",
             "startlinecolor": "#2a3f5f"
            },
            "baxis": {
             "endlinecolor": "#2a3f5f",
             "gridcolor": "white",
             "linecolor": "white",
             "minorgridcolor": "white",
             "startlinecolor": "#2a3f5f"
            },
            "type": "carpet"
           }
          ],
          "choropleth": [
           {
            "colorbar": {
             "outlinewidth": 0,
             "ticks": ""
            },
            "type": "choropleth"
           }
          ],
          "contour": [
           {
            "colorbar": {
             "outlinewidth": 0,
             "ticks": ""
            },
            "colorscale": [
             [
              0,
              "#0d0887"
             ],
             [
              0.1111111111111111,
              "#46039f"
             ],
             [
              0.2222222222222222,
              "#7201a8"
             ],
             [
              0.3333333333333333,
              "#9c179e"
             ],
             [
              0.4444444444444444,
              "#bd3786"
             ],
             [
              0.5555555555555556,
              "#d8576b"
             ],
             [
              0.6666666666666666,
              "#ed7953"
             ],
             [
              0.7777777777777778,
              "#fb9f3a"
             ],
             [
              0.8888888888888888,
              "#fdca26"
             ],
             [
              1,
              "#f0f921"
             ]
            ],
            "type": "contour"
           }
          ],
          "contourcarpet": [
           {
            "colorbar": {
             "outlinewidth": 0,
             "ticks": ""
            },
            "type": "contourcarpet"
           }
          ],
          "heatmap": [
           {
            "colorbar": {
             "outlinewidth": 0,
             "ticks": ""
            },
            "colorscale": [
             [
              0,
              "#0d0887"
             ],
             [
              0.1111111111111111,
              "#46039f"
             ],
             [
              0.2222222222222222,
              "#7201a8"
             ],
             [
              0.3333333333333333,
              "#9c179e"
             ],
             [
              0.4444444444444444,
              "#bd3786"
             ],
             [
              0.5555555555555556,
              "#d8576b"
             ],
             [
              0.6666666666666666,
              "#ed7953"
             ],
             [
              0.7777777777777778,
              "#fb9f3a"
             ],
             [
              0.8888888888888888,
              "#fdca26"
             ],
             [
              1,
              "#f0f921"
             ]
            ],
            "type": "heatmap"
           }
          ],
          "histogram": [
           {
            "marker": {
             "pattern": {
              "fillmode": "overlay",
              "size": 10,
              "solidity": 0.2
             }
            },
            "type": "histogram"
           }
          ],
          "histogram2d": [
           {
            "colorbar": {
             "outlinewidth": 0,
             "ticks": ""
            },
            "colorscale": [
             [
              0,
              "#0d0887"
             ],
             [
              0.1111111111111111,
              "#46039f"
             ],
             [
              0.2222222222222222,
              "#7201a8"
             ],
             [
              0.3333333333333333,
              "#9c179e"
             ],
             [
              0.4444444444444444,
              "#bd3786"
             ],
             [
              0.5555555555555556,
              "#d8576b"
             ],
             [
              0.6666666666666666,
              "#ed7953"
             ],
             [
              0.7777777777777778,
              "#fb9f3a"
             ],
             [
              0.8888888888888888,
              "#fdca26"
             ],
             [
              1,
              "#f0f921"
             ]
            ],
            "type": "histogram2d"
           }
          ],
          "histogram2dcontour": [
           {
            "colorbar": {
             "outlinewidth": 0,
             "ticks": ""
            },
            "colorscale": [
             [
              0,
              "#0d0887"
             ],
             [
              0.1111111111111111,
              "#46039f"
             ],
             [
              0.2222222222222222,
              "#7201a8"
             ],
             [
              0.3333333333333333,
              "#9c179e"
             ],
             [
              0.4444444444444444,
              "#bd3786"
             ],
             [
              0.5555555555555556,
              "#d8576b"
             ],
             [
              0.6666666666666666,
              "#ed7953"
             ],
             [
              0.7777777777777778,
              "#fb9f3a"
             ],
             [
              0.8888888888888888,
              "#fdca26"
             ],
             [
              1,
              "#f0f921"
             ]
            ],
            "type": "histogram2dcontour"
           }
          ],
          "mesh3d": [
           {
            "colorbar": {
             "outlinewidth": 0,
             "ticks": ""
            },
            "type": "mesh3d"
           }
          ],
          "parcoords": [
           {
            "line": {
             "colorbar": {
              "outlinewidth": 0,
              "ticks": ""
             }
            },
            "type": "parcoords"
           }
          ],
          "pie": [
           {
            "automargin": true,
            "type": "pie"
           }
          ],
          "scatter": [
           {
            "fillpattern": {
             "fillmode": "overlay",
             "size": 10,
             "solidity": 0.2
            },
            "type": "scatter"
           }
          ],
          "scatter3d": [
           {
            "line": {
             "colorbar": {
              "outlinewidth": 0,
              "ticks": ""
             }
            },
            "marker": {
             "colorbar": {
              "outlinewidth": 0,
              "ticks": ""
             }
            },
            "type": "scatter3d"
           }
          ],
          "scattercarpet": [
           {
            "marker": {
             "colorbar": {
              "outlinewidth": 0,
              "ticks": ""
             }
            },
            "type": "scattercarpet"
           }
          ],
          "scattergeo": [
           {
            "marker": {
             "colorbar": {
              "outlinewidth": 0,
              "ticks": ""
             }
            },
            "type": "scattergeo"
           }
          ],
          "scattergl": [
           {
            "marker": {
             "colorbar": {
              "outlinewidth": 0,
              "ticks": ""
             }
            },
            "type": "scattergl"
           }
          ],
          "scattermap": [
           {
            "marker": {
             "colorbar": {
              "outlinewidth": 0,
              "ticks": ""
             }
            },
            "type": "scattermap"
           }
          ],
          "scattermapbox": [
           {
            "marker": {
             "colorbar": {
              "outlinewidth": 0,
              "ticks": ""
             }
            },
            "type": "scattermapbox"
           }
          ],
          "scatterpolar": [
           {
            "marker": {
             "colorbar": {
              "outlinewidth": 0,
              "ticks": ""
             }
            },
            "type": "scatterpolar"
           }
          ],
          "scatterpolargl": [
           {
            "marker": {
             "colorbar": {
              "outlinewidth": 0,
              "ticks": ""
             }
            },
            "type": "scatterpolargl"
           }
          ],
          "scatterternary": [
           {
            "marker": {
             "colorbar": {
              "outlinewidth": 0,
              "ticks": ""
             }
            },
            "type": "scatterternary"
           }
          ],
          "surface": [
           {
            "colorbar": {
             "outlinewidth": 0,
             "ticks": ""
            },
            "colorscale": [
             [
              0,
              "#0d0887"
             ],
             [
              0.1111111111111111,
              "#46039f"
             ],
             [
              0.2222222222222222,
              "#7201a8"
             ],
             [
              0.3333333333333333,
              "#9c179e"
             ],
             [
              0.4444444444444444,
              "#bd3786"
             ],
             [
              0.5555555555555556,
              "#d8576b"
             ],
             [
              0.6666666666666666,
              "#ed7953"
             ],
             [
              0.7777777777777778,
              "#fb9f3a"
             ],
             [
              0.8888888888888888,
              "#fdca26"
             ],
             [
              1,
              "#f0f921"
             ]
            ],
            "type": "surface"
           }
          ],
          "table": [
           {
            "cells": {
             "fill": {
              "color": "#EBF0F8"
             },
             "line": {
              "color": "white"
             }
            },
            "header": {
             "fill": {
              "color": "#C8D4E3"
             },
             "line": {
              "color": "white"
             }
            },
            "type": "table"
           }
          ]
         },
         "layout": {
          "annotationdefaults": {
           "arrowcolor": "#2a3f5f",
           "arrowhead": 0,
           "arrowwidth": 1
          },
          "autotypenumbers": "strict",
          "coloraxis": {
           "colorbar": {
            "outlinewidth": 0,
            "ticks": ""
           }
          },
          "colorscale": {
           "diverging": [
            [
             0,
             "#8e0152"
            ],
            [
             0.1,
             "#c51b7d"
            ],
            [
             0.2,
             "#de77ae"
            ],
            [
             0.3,
             "#f1b6da"
            ],
            [
             0.4,
             "#fde0ef"
            ],
            [
             0.5,
             "#f7f7f7"
            ],
            [
             0.6,
             "#e6f5d0"
            ],
            [
             0.7,
             "#b8e186"
            ],
            [
             0.8,
             "#7fbc41"
            ],
            [
             0.9,
             "#4d9221"
            ],
            [
             1,
             "#276419"
            ]
           ],
           "sequential": [
            [
             0,
             "#0d0887"
            ],
            [
             0.1111111111111111,
             "#46039f"
            ],
            [
             0.2222222222222222,
             "#7201a8"
            ],
            [
             0.3333333333333333,
             "#9c179e"
            ],
            [
             0.4444444444444444,
             "#bd3786"
            ],
            [
             0.5555555555555556,
             "#d8576b"
            ],
            [
             0.6666666666666666,
             "#ed7953"
            ],
            [
             0.7777777777777778,
             "#fb9f3a"
            ],
            [
             0.8888888888888888,
             "#fdca26"
            ],
            [
             1,
             "#f0f921"
            ]
           ],
           "sequentialminus": [
            [
             0,
             "#0d0887"
            ],
            [
             0.1111111111111111,
             "#46039f"
            ],
            [
             0.2222222222222222,
             "#7201a8"
            ],
            [
             0.3333333333333333,
             "#9c179e"
            ],
            [
             0.4444444444444444,
             "#bd3786"
            ],
            [
             0.5555555555555556,
             "#d8576b"
            ],
            [
             0.6666666666666666,
             "#ed7953"
            ],
            [
             0.7777777777777778,
             "#fb9f3a"
            ],
            [
             0.8888888888888888,
             "#fdca26"
            ],
            [
             1,
             "#f0f921"
            ]
           ]
          },
          "colorway": [
           "#636efa",
           "#EF553B",
           "#00cc96",
           "#ab63fa",
           "#FFA15A",
           "#19d3f3",
           "#FF6692",
           "#B6E880",
           "#FF97FF",
           "#FECB52"
          ],
          "font": {
           "color": "#2a3f5f"
          },
          "geo": {
           "bgcolor": "white",
           "lakecolor": "white",
           "landcolor": "#E5ECF6",
           "showlakes": true,
           "showland": true,
           "subunitcolor": "white"
          },
          "hoverlabel": {
           "align": "left"
          },
          "hovermode": "closest",
          "mapbox": {
           "style": "light"
          },
          "paper_bgcolor": "white",
          "plot_bgcolor": "#E5ECF6",
          "polar": {
           "angularaxis": {
            "gridcolor": "white",
            "linecolor": "white",
            "ticks": ""
           },
           "bgcolor": "#E5ECF6",
           "radialaxis": {
            "gridcolor": "white",
            "linecolor": "white",
            "ticks": ""
           }
          },
          "scene": {
           "xaxis": {
            "backgroundcolor": "#E5ECF6",
            "gridcolor": "white",
            "gridwidth": 2,
            "linecolor": "white",
            "showbackground": true,
            "ticks": "",
            "zerolinecolor": "white"
           },
           "yaxis": {
            "backgroundcolor": "#E5ECF6",
            "gridcolor": "white",
            "gridwidth": 2,
            "linecolor": "white",
            "showbackground": true,
            "ticks": "",
            "zerolinecolor": "white"
           },
           "zaxis": {
            "backgroundcolor": "#E5ECF6",
            "gridcolor": "white",
            "gridwidth": 2,
            "linecolor": "white",
            "showbackground": true,
            "ticks": "",
            "zerolinecolor": "white"
           }
          },
          "shapedefaults": {
           "line": {
            "color": "#2a3f5f"
           }
          },
          "ternary": {
           "aaxis": {
            "gridcolor": "white",
            "linecolor": "white",
            "ticks": ""
           },
           "baxis": {
            "gridcolor": "white",
            "linecolor": "white",
            "ticks": ""
           },
           "bgcolor": "#E5ECF6",
           "caxis": {
            "gridcolor": "white",
            "linecolor": "white",
            "ticks": ""
           }
          },
          "title": {
           "x": 0.05
          },
          "xaxis": {
           "automargin": true,
           "gridcolor": "white",
           "linecolor": "white",
           "ticks": "",
           "title": {
            "standoff": 15
           },
           "zerolinecolor": "white",
           "zerolinewidth": 2
          },
          "yaxis": {
           "automargin": true,
           "gridcolor": "white",
           "linecolor": "white",
           "ticks": "",
           "title": {
            "standoff": 15
           },
           "zerolinecolor": "white",
           "zerolinewidth": 2
          }
         }
        },
        "title": {
         "text": "<b>Magnitude of Changes (2021 → 2023)</b><br><sub>Green = Statistically Significant | Gray = Not Significant</sub>"
        },
        "xaxis": {
         "title": {
          "text": "Percentage Change (%)"
         },
         "zeroline": true,
         "zerolinecolor": "black",
         "zerolinewidth": 2
        },
        "yaxis": {
         "title": {
          "text": ""
         }
        }
       }
      }
     },
     "metadata": {},
     "output_type": "display_data"
    },
    {
     "data": {
      "application/vnd.plotly.v1+json": {
       "config": {
        "plotlyServerURL": "https://plot.ly"
       },
       "data": [
        {
         "hovertemplate": "<b>%{text}</b><br>ANOVA p: %{x:.4f}<br>Kruskal-Wallis p: %{y:.4f}<extra></extra>",
         "marker": {
          "color": [
           "#2ECC71",
           "#2ECC71",
           "#2ECC71",
           "#2ECC71",
           "#2ECC71",
           "#E74C3C",
           "#2ECC71",
           "#E74C3C",
           "#2ECC71"
          ],
          "line": {
           "color": "white",
           "width": 1
          },
          "size": 12
         },
         "mode": "markers+text",
         "text": [
          "test_completion_rate",
          "avg_success_rate_per_test",
          "final_grade",
          "fc_total_points",
          "percentage_points",
          "presentation_points",
          "defense_points",
          "exam_k2",
          "exam_k3"
         ],
         "textfont": {
          "size": 10
         },
         "textposition": "top center",
         "type": "scatter",
         "x": {
          "bdata": "T93DtuvfbD6D9M9OPiKePTP5EUEPMqY/MV5OioQXDj0FX06KhBcOPfCkTuGbZ9w/HvgYwgGgyT+GWHhvIQ7UP57MiVILE7E/",
          "dtype": "f8"
         },
         "y": {
          "bdata": "Lxw61Tpopz6p/BUJIJ3rPRfaKPgOZak/jWQ0aR1Vmz2NZDRpHVWbPSt4XX27WOA/ERZfS79jjj/V+NBUDIzVP4fakDwd7KE/",
          "dtype": "f8"
         }
        }
       ],
       "layout": {
        "annotations": [
         {
          "bgcolor": "white",
          "font": {
           "color": "darkgreen",
           "size": 10
          },
          "opacity": 0.8,
          "showarrow": false,
          "text": "Both Tests<br>Significant",
          "x": 0.025,
          "y": 0.025
         },
         {
          "bgcolor": "white",
          "font": {
           "color": "darkred",
           "size": 10
          },
          "opacity": 0.8,
          "showarrow": false,
          "text": "Neither Test<br>Significant",
          "x": 0.5,
          "y": 0.5
         }
        ],
        "font": {
         "size": 11
        },
        "height": 500,
        "shapes": [
         {
          "fillcolor": "lightgreen",
          "layer": "below",
          "line": {
           "width": 0
          },
          "opacity": 0.2,
          "type": "rect",
          "x0": 0,
          "x1": 0.05,
          "y0": 0,
          "y1": 0.05
         },
         {
          "fillcolor": "lightyellow",
          "layer": "below",
          "line": {
           "width": 0
          },
          "opacity": 0.2,
          "type": "rect",
          "x0": 0.05,
          "x1": 1,
          "y0": 0,
          "y1": 0.05
         },
         {
          "fillcolor": "lightyellow",
          "layer": "below",
          "line": {
           "width": 0
          },
          "opacity": 0.2,
          "type": "rect",
          "x0": 0,
          "x1": 0.05,
          "y0": 0.05,
          "y1": 1
         },
         {
          "fillcolor": "lightcoral",
          "layer": "below",
          "line": {
           "width": 0
          },
          "opacity": 0.2,
          "type": "rect",
          "x0": 0.05,
          "x1": 1,
          "y0": 0.05,
          "y1": 1
         },
         {
          "line": {
           "color": "red",
           "dash": "dash",
           "width": 2
          },
          "type": "line",
          "x0": 0.05,
          "x1": 0.05,
          "y0": 0,
          "y1": 1
         },
         {
          "line": {
           "color": "red",
           "dash": "dash",
           "width": 2
          },
          "type": "line",
          "x0": 0,
          "x1": 1,
          "y0": 0.05,
          "y1": 0.05
         }
        ],
        "showlegend": false,
        "template": {
         "data": {
          "bar": [
           {
            "error_x": {
             "color": "#2a3f5f"
            },
            "error_y": {
             "color": "#2a3f5f"
            },
            "marker": {
             "line": {
              "color": "#E5ECF6",
              "width": 0.5
             },
             "pattern": {
              "fillmode": "overlay",
              "size": 10,
              "solidity": 0.2
             }
            },
            "type": "bar"
           }
          ],
          "barpolar": [
           {
            "marker": {
             "line": {
              "color": "#E5ECF6",
              "width": 0.5
             },
             "pattern": {
              "fillmode": "overlay",
              "size": 10,
              "solidity": 0.2
             }
            },
            "type": "barpolar"
           }
          ],
          "carpet": [
           {
            "aaxis": {
             "endlinecolor": "#2a3f5f",
             "gridcolor": "white",
             "linecolor": "white",
             "minorgridcolor": "white",
             "startlinecolor": "#2a3f5f"
            },
            "baxis": {
             "endlinecolor": "#2a3f5f",
             "gridcolor": "white",
             "linecolor": "white",
             "minorgridcolor": "white",
             "startlinecolor": "#2a3f5f"
            },
            "type": "carpet"
           }
          ],
          "choropleth": [
           {
            "colorbar": {
             "outlinewidth": 0,
             "ticks": ""
            },
            "type": "choropleth"
           }
          ],
          "contour": [
           {
            "colorbar": {
             "outlinewidth": 0,
             "ticks": ""
            },
            "colorscale": [
             [
              0,
              "#0d0887"
             ],
             [
              0.1111111111111111,
              "#46039f"
             ],
             [
              0.2222222222222222,
              "#7201a8"
             ],
             [
              0.3333333333333333,
              "#9c179e"
             ],
             [
              0.4444444444444444,
              "#bd3786"
             ],
             [
              0.5555555555555556,
              "#d8576b"
             ],
             [
              0.6666666666666666,
              "#ed7953"
             ],
             [
              0.7777777777777778,
              "#fb9f3a"
             ],
             [
              0.8888888888888888,
              "#fdca26"
             ],
             [
              1,
              "#f0f921"
             ]
            ],
            "type": "contour"
           }
          ],
          "contourcarpet": [
           {
            "colorbar": {
             "outlinewidth": 0,
             "ticks": ""
            },
            "type": "contourcarpet"
           }
          ],
          "heatmap": [
           {
            "colorbar": {
             "outlinewidth": 0,
             "ticks": ""
            },
            "colorscale": [
             [
              0,
              "#0d0887"
             ],
             [
              0.1111111111111111,
              "#46039f"
             ],
             [
              0.2222222222222222,
              "#7201a8"
             ],
             [
              0.3333333333333333,
              "#9c179e"
             ],
             [
              0.4444444444444444,
              "#bd3786"
             ],
             [
              0.5555555555555556,
              "#d8576b"
             ],
             [
              0.6666666666666666,
              "#ed7953"
             ],
             [
              0.7777777777777778,
              "#fb9f3a"
             ],
             [
              0.8888888888888888,
              "#fdca26"
             ],
             [
              1,
              "#f0f921"
             ]
            ],
            "type": "heatmap"
           }
          ],
          "histogram": [
           {
            "marker": {
             "pattern": {
              "fillmode": "overlay",
              "size": 10,
              "solidity": 0.2
             }
            },
            "type": "histogram"
           }
          ],
          "histogram2d": [
           {
            "colorbar": {
             "outlinewidth": 0,
             "ticks": ""
            },
            "colorscale": [
             [
              0,
              "#0d0887"
             ],
             [
              0.1111111111111111,
              "#46039f"
             ],
             [
              0.2222222222222222,
              "#7201a8"
             ],
             [
              0.3333333333333333,
              "#9c179e"
             ],
             [
              0.4444444444444444,
              "#bd3786"
             ],
             [
              0.5555555555555556,
              "#d8576b"
             ],
             [
              0.6666666666666666,
              "#ed7953"
             ],
             [
              0.7777777777777778,
              "#fb9f3a"
             ],
             [
              0.8888888888888888,
              "#fdca26"
             ],
             [
              1,
              "#f0f921"
             ]
            ],
            "type": "histogram2d"
           }
          ],
          "histogram2dcontour": [
           {
            "colorbar": {
             "outlinewidth": 0,
             "ticks": ""
            },
            "colorscale": [
             [
              0,
              "#0d0887"
             ],
             [
              0.1111111111111111,
              "#46039f"
             ],
             [
              0.2222222222222222,
              "#7201a8"
             ],
             [
              0.3333333333333333,
              "#9c179e"
             ],
             [
              0.4444444444444444,
              "#bd3786"
             ],
             [
              0.5555555555555556,
              "#d8576b"
             ],
             [
              0.6666666666666666,
              "#ed7953"
             ],
             [
              0.7777777777777778,
              "#fb9f3a"
             ],
             [
              0.8888888888888888,
              "#fdca26"
             ],
             [
              1,
              "#f0f921"
             ]
            ],
            "type": "histogram2dcontour"
           }
          ],
          "mesh3d": [
           {
            "colorbar": {
             "outlinewidth": 0,
             "ticks": ""
            },
            "type": "mesh3d"
           }
          ],
          "parcoords": [
           {
            "line": {
             "colorbar": {
              "outlinewidth": 0,
              "ticks": ""
             }
            },
            "type": "parcoords"
           }
          ],
          "pie": [
           {
            "automargin": true,
            "type": "pie"
           }
          ],
          "scatter": [
           {
            "fillpattern": {
             "fillmode": "overlay",
             "size": 10,
             "solidity": 0.2
            },
            "type": "scatter"
           }
          ],
          "scatter3d": [
           {
            "line": {
             "colorbar": {
              "outlinewidth": 0,
              "ticks": ""
             }
            },
            "marker": {
             "colorbar": {
              "outlinewidth": 0,
              "ticks": ""
             }
            },
            "type": "scatter3d"
           }
          ],
          "scattercarpet": [
           {
            "marker": {
             "colorbar": {
              "outlinewidth": 0,
              "ticks": ""
             }
            },
            "type": "scattercarpet"
           }
          ],
          "scattergeo": [
           {
            "marker": {
             "colorbar": {
              "outlinewidth": 0,
              "ticks": ""
             }
            },
            "type": "scattergeo"
           }
          ],
          "scattergl": [
           {
            "marker": {
             "colorbar": {
              "outlinewidth": 0,
              "ticks": ""
             }
            },
            "type": "scattergl"
           }
          ],
          "scattermap": [
           {
            "marker": {
             "colorbar": {
              "outlinewidth": 0,
              "ticks": ""
             }
            },
            "type": "scattermap"
           }
          ],
          "scattermapbox": [
           {
            "marker": {
             "colorbar": {
              "outlinewidth": 0,
              "ticks": ""
             }
            },
            "type": "scattermapbox"
           }
          ],
          "scatterpolar": [
           {
            "marker": {
             "colorbar": {
              "outlinewidth": 0,
              "ticks": ""
             }
            },
            "type": "scatterpolar"
           }
          ],
          "scatterpolargl": [
           {
            "marker": {
             "colorbar": {
              "outlinewidth": 0,
              "ticks": ""
             }
            },
            "type": "scatterpolargl"
           }
          ],
          "scatterternary": [
           {
            "marker": {
             "colorbar": {
              "outlinewidth": 0,
              "ticks": ""
             }
            },
            "type": "scatterternary"
           }
          ],
          "surface": [
           {
            "colorbar": {
             "outlinewidth": 0,
             "ticks": ""
            },
            "colorscale": [
             [
              0,
              "#0d0887"
             ],
             [
              0.1111111111111111,
              "#46039f"
             ],
             [
              0.2222222222222222,
              "#7201a8"
             ],
             [
              0.3333333333333333,
              "#9c179e"
             ],
             [
              0.4444444444444444,
              "#bd3786"
             ],
             [
              0.5555555555555556,
              "#d8576b"
             ],
             [
              0.6666666666666666,
              "#ed7953"
             ],
             [
              0.7777777777777778,
              "#fb9f3a"
             ],
             [
              0.8888888888888888,
              "#fdca26"
             ],
             [
              1,
              "#f0f921"
             ]
            ],
            "type": "surface"
           }
          ],
          "table": [
           {
            "cells": {
             "fill": {
              "color": "#EBF0F8"
             },
             "line": {
              "color": "white"
             }
            },
            "header": {
             "fill": {
              "color": "#C8D4E3"
             },
             "line": {
              "color": "white"
             }
            },
            "type": "table"
           }
          ]
         },
         "layout": {
          "annotationdefaults": {
           "arrowcolor": "#2a3f5f",
           "arrowhead": 0,
           "arrowwidth": 1
          },
          "autotypenumbers": "strict",
          "coloraxis": {
           "colorbar": {
            "outlinewidth": 0,
            "ticks": ""
           }
          },
          "colorscale": {
           "diverging": [
            [
             0,
             "#8e0152"
            ],
            [
             0.1,
             "#c51b7d"
            ],
            [
             0.2,
             "#de77ae"
            ],
            [
             0.3,
             "#f1b6da"
            ],
            [
             0.4,
             "#fde0ef"
            ],
            [
             0.5,
             "#f7f7f7"
            ],
            [
             0.6,
             "#e6f5d0"
            ],
            [
             0.7,
             "#b8e186"
            ],
            [
             0.8,
             "#7fbc41"
            ],
            [
             0.9,
             "#4d9221"
            ],
            [
             1,
             "#276419"
            ]
           ],
           "sequential": [
            [
             0,
             "#0d0887"
            ],
            [
             0.1111111111111111,
             "#46039f"
            ],
            [
             0.2222222222222222,
             "#7201a8"
            ],
            [
             0.3333333333333333,
             "#9c179e"
            ],
            [
             0.4444444444444444,
             "#bd3786"
            ],
            [
             0.5555555555555556,
             "#d8576b"
            ],
            [
             0.6666666666666666,
             "#ed7953"
            ],
            [
             0.7777777777777778,
             "#fb9f3a"
            ],
            [
             0.8888888888888888,
             "#fdca26"
            ],
            [
             1,
             "#f0f921"
            ]
           ],
           "sequentialminus": [
            [
             0,
             "#0d0887"
            ],
            [
             0.1111111111111111,
             "#46039f"
            ],
            [
             0.2222222222222222,
             "#7201a8"
            ],
            [
             0.3333333333333333,
             "#9c179e"
            ],
            [
             0.4444444444444444,
             "#bd3786"
            ],
            [
             0.5555555555555556,
             "#d8576b"
            ],
            [
             0.6666666666666666,
             "#ed7953"
            ],
            [
             0.7777777777777778,
             "#fb9f3a"
            ],
            [
             0.8888888888888888,
             "#fdca26"
            ],
            [
             1,
             "#f0f921"
            ]
           ]
          },
          "colorway": [
           "#636efa",
           "#EF553B",
           "#00cc96",
           "#ab63fa",
           "#FFA15A",
           "#19d3f3",
           "#FF6692",
           "#B6E880",
           "#FF97FF",
           "#FECB52"
          ],
          "font": {
           "color": "#2a3f5f"
          },
          "geo": {
           "bgcolor": "white",
           "lakecolor": "white",
           "landcolor": "#E5ECF6",
           "showlakes": true,
           "showland": true,
           "subunitcolor": "white"
          },
          "hoverlabel": {
           "align": "left"
          },
          "hovermode": "closest",
          "mapbox": {
           "style": "light"
          },
          "paper_bgcolor": "white",
          "plot_bgcolor": "#E5ECF6",
          "polar": {
           "angularaxis": {
            "gridcolor": "white",
            "linecolor": "white",
            "ticks": ""
           },
           "bgcolor": "#E5ECF6",
           "radialaxis": {
            "gridcolor": "white",
            "linecolor": "white",
            "ticks": ""
           }
          },
          "scene": {
           "xaxis": {
            "backgroundcolor": "#E5ECF6",
            "gridcolor": "white",
            "gridwidth": 2,
            "linecolor": "white",
            "showbackground": true,
            "ticks": "",
            "zerolinecolor": "white"
           },
           "yaxis": {
            "backgroundcolor": "#E5ECF6",
            "gridcolor": "white",
            "gridwidth": 2,
            "linecolor": "white",
            "showbackground": true,
            "ticks": "",
            "zerolinecolor": "white"
           },
           "zaxis": {
            "backgroundcolor": "#E5ECF6",
            "gridcolor": "white",
            "gridwidth": 2,
            "linecolor": "white",
            "showbackground": true,
            "ticks": "",
            "zerolinecolor": "white"
           }
          },
          "shapedefaults": {
           "line": {
            "color": "#2a3f5f"
           }
          },
          "ternary": {
           "aaxis": {
            "gridcolor": "white",
            "linecolor": "white",
            "ticks": ""
           },
           "baxis": {
            "gridcolor": "white",
            "linecolor": "white",
            "ticks": ""
           },
           "bgcolor": "#E5ECF6",
           "caxis": {
            "gridcolor": "white",
            "linecolor": "white",
            "ticks": ""
           }
          },
          "title": {
           "x": 0.05
          },
          "xaxis": {
           "automargin": true,
           "gridcolor": "white",
           "linecolor": "white",
           "ticks": "",
           "title": {
            "standoff": 15
           },
           "zerolinecolor": "white",
           "zerolinewidth": 2
          },
          "yaxis": {
           "automargin": true,
           "gridcolor": "white",
           "linecolor": "white",
           "ticks": "",
           "title": {
            "standoff": 15
           },
           "zerolinecolor": "white",
           "zerolinewidth": 2
          }
         }
        },
        "title": {
         "text": "<b>Statistical Test P-values</b><br><sub>Points in green zone = significant changes detected</sub>"
        },
        "xaxis": {
         "dtick": 0.1,
         "range": [
          0,
          1
         ],
         "title": {
          "text": "ANOVA p-value"
         }
        },
        "yaxis": {
         "dtick": 0.1,
         "range": [
          0,
          1
         ],
         "title": {
          "text": "Kruskal-Wallis p-value"
         }
        }
       }
      }
     },
     "metadata": {},
     "output_type": "display_data"
    },
    {
     "data": {
      "application/vnd.plotly.v1+json": {
       "config": {
        "plotlyServerURL": "https://plot.ly"
       },
       "data": [
        {
         "hovertemplate": "<b>%{x}</b><br>Change: %{y:.1f}%<br>Effect: Medium<extra></extra>",
         "marker": {
          "color": "#FF6B6B"
         },
         "name": "Medium Effect",
         "type": "bar",
         "x": [
          "defense_points"
         ],
         "y": {
          "bdata": "6OqxFLfaIsA=",
          "dtype": "f8"
         }
        },
        {
         "hovertemplate": "<b>%{x}</b><br>Change: %{y:.1f}%<br>Effect: Large<extra></extra>",
         "marker": {
          "color": "#FF0000"
         },
         "name": "Large Effect",
         "type": "bar",
         "x": [
          "test_completion_rate",
          "avg_success_rate_per_test",
          "final_grade",
          "fc_total_points",
          "percentage_points",
          "exam_k3"
         ],
         "y": {
          "bdata": "3H+mvi0zR0Ck+LQudi1SQKulpaWlJT5Au1B5Eyl+YUC7UHkTKX5hQEi/nF2xsi5A",
          "dtype": "f8"
         }
        }
       ],
       "layout": {
        "barmode": "group",
        "font": {
         "size": 11
        },
        "height": 400,
        "showlegend": true,
        "template": {
         "data": {
          "bar": [
           {
            "error_x": {
             "color": "#2a3f5f"
            },
            "error_y": {
             "color": "#2a3f5f"
            },
            "marker": {
             "line": {
              "color": "#E5ECF6",
              "width": 0.5
             },
             "pattern": {
              "fillmode": "overlay",
              "size": 10,
              "solidity": 0.2
             }
            },
            "type": "bar"
           }
          ],
          "barpolar": [
           {
            "marker": {
             "line": {
              "color": "#E5ECF6",
              "width": 0.5
             },
             "pattern": {
              "fillmode": "overlay",
              "size": 10,
              "solidity": 0.2
             }
            },
            "type": "barpolar"
           }
          ],
          "carpet": [
           {
            "aaxis": {
             "endlinecolor": "#2a3f5f",
             "gridcolor": "white",
             "linecolor": "white",
             "minorgridcolor": "white",
             "startlinecolor": "#2a3f5f"
            },
            "baxis": {
             "endlinecolor": "#2a3f5f",
             "gridcolor": "white",
             "linecolor": "white",
             "minorgridcolor": "white",
             "startlinecolor": "#2a3f5f"
            },
            "type": "carpet"
           }
          ],
          "choropleth": [
           {
            "colorbar": {
             "outlinewidth": 0,
             "ticks": ""
            },
            "type": "choropleth"
           }
          ],
          "contour": [
           {
            "colorbar": {
             "outlinewidth": 0,
             "ticks": ""
            },
            "colorscale": [
             [
              0,
              "#0d0887"
             ],
             [
              0.1111111111111111,
              "#46039f"
             ],
             [
              0.2222222222222222,
              "#7201a8"
             ],
             [
              0.3333333333333333,
              "#9c179e"
             ],
             [
              0.4444444444444444,
              "#bd3786"
             ],
             [
              0.5555555555555556,
              "#d8576b"
             ],
             [
              0.6666666666666666,
              "#ed7953"
             ],
             [
              0.7777777777777778,
              "#fb9f3a"
             ],
             [
              0.8888888888888888,
              "#fdca26"
             ],
             [
              1,
              "#f0f921"
             ]
            ],
            "type": "contour"
           }
          ],
          "contourcarpet": [
           {
            "colorbar": {
             "outlinewidth": 0,
             "ticks": ""
            },
            "type": "contourcarpet"
           }
          ],
          "heatmap": [
           {
            "colorbar": {
             "outlinewidth": 0,
             "ticks": ""
            },
            "colorscale": [
             [
              0,
              "#0d0887"
             ],
             [
              0.1111111111111111,
              "#46039f"
             ],
             [
              0.2222222222222222,
              "#7201a8"
             ],
             [
              0.3333333333333333,
              "#9c179e"
             ],
             [
              0.4444444444444444,
              "#bd3786"
             ],
             [
              0.5555555555555556,
              "#d8576b"
             ],
             [
              0.6666666666666666,
              "#ed7953"
             ],
             [
              0.7777777777777778,
              "#fb9f3a"
             ],
             [
              0.8888888888888888,
              "#fdca26"
             ],
             [
              1,
              "#f0f921"
             ]
            ],
            "type": "heatmap"
           }
          ],
          "histogram": [
           {
            "marker": {
             "pattern": {
              "fillmode": "overlay",
              "size": 10,
              "solidity": 0.2
             }
            },
            "type": "histogram"
           }
          ],
          "histogram2d": [
           {
            "colorbar": {
             "outlinewidth": 0,
             "ticks": ""
            },
            "colorscale": [
             [
              0,
              "#0d0887"
             ],
             [
              0.1111111111111111,
              "#46039f"
             ],
             [
              0.2222222222222222,
              "#7201a8"
             ],
             [
              0.3333333333333333,
              "#9c179e"
             ],
             [
              0.4444444444444444,
              "#bd3786"
             ],
             [
              0.5555555555555556,
              "#d8576b"
             ],
             [
              0.6666666666666666,
              "#ed7953"
             ],
             [
              0.7777777777777778,
              "#fb9f3a"
             ],
             [
              0.8888888888888888,
              "#fdca26"
             ],
             [
              1,
              "#f0f921"
             ]
            ],
            "type": "histogram2d"
           }
          ],
          "histogram2dcontour": [
           {
            "colorbar": {
             "outlinewidth": 0,
             "ticks": ""
            },
            "colorscale": [
             [
              0,
              "#0d0887"
             ],
             [
              0.1111111111111111,
              "#46039f"
             ],
             [
              0.2222222222222222,
              "#7201a8"
             ],
             [
              0.3333333333333333,
              "#9c179e"
             ],
             [
              0.4444444444444444,
              "#bd3786"
             ],
             [
              0.5555555555555556,
              "#d8576b"
             ],
             [
              0.6666666666666666,
              "#ed7953"
             ],
             [
              0.7777777777777778,
              "#fb9f3a"
             ],
             [
              0.8888888888888888,
              "#fdca26"
             ],
             [
              1,
              "#f0f921"
             ]
            ],
            "type": "histogram2dcontour"
           }
          ],
          "mesh3d": [
           {
            "colorbar": {
             "outlinewidth": 0,
             "ticks": ""
            },
            "type": "mesh3d"
           }
          ],
          "parcoords": [
           {
            "line": {
             "colorbar": {
              "outlinewidth": 0,
              "ticks": ""
             }
            },
            "type": "parcoords"
           }
          ],
          "pie": [
           {
            "automargin": true,
            "type": "pie"
           }
          ],
          "scatter": [
           {
            "fillpattern": {
             "fillmode": "overlay",
             "size": 10,
             "solidity": 0.2
            },
            "type": "scatter"
           }
          ],
          "scatter3d": [
           {
            "line": {
             "colorbar": {
              "outlinewidth": 0,
              "ticks": ""
             }
            },
            "marker": {
             "colorbar": {
              "outlinewidth": 0,
              "ticks": ""
             }
            },
            "type": "scatter3d"
           }
          ],
          "scattercarpet": [
           {
            "marker": {
             "colorbar": {
              "outlinewidth": 0,
              "ticks": ""
             }
            },
            "type": "scattercarpet"
           }
          ],
          "scattergeo": [
           {
            "marker": {
             "colorbar": {
              "outlinewidth": 0,
              "ticks": ""
             }
            },
            "type": "scattergeo"
           }
          ],
          "scattergl": [
           {
            "marker": {
             "colorbar": {
              "outlinewidth": 0,
              "ticks": ""
             }
            },
            "type": "scattergl"
           }
          ],
          "scattermap": [
           {
            "marker": {
             "colorbar": {
              "outlinewidth": 0,
              "ticks": ""
             }
            },
            "type": "scattermap"
           }
          ],
          "scattermapbox": [
           {
            "marker": {
             "colorbar": {
              "outlinewidth": 0,
              "ticks": ""
             }
            },
            "type": "scattermapbox"
           }
          ],
          "scatterpolar": [
           {
            "marker": {
             "colorbar": {
              "outlinewidth": 0,
              "ticks": ""
             }
            },
            "type": "scatterpolar"
           }
          ],
          "scatterpolargl": [
           {
            "marker": {
             "colorbar": {
              "outlinewidth": 0,
              "ticks": ""
             }
            },
            "type": "scatterpolargl"
           }
          ],
          "scatterternary": [
           {
            "marker": {
             "colorbar": {
              "outlinewidth": 0,
              "ticks": ""
             }
            },
            "type": "scatterternary"
           }
          ],
          "surface": [
           {
            "colorbar": {
             "outlinewidth": 0,
             "ticks": ""
            },
            "colorscale": [
             [
              0,
              "#0d0887"
             ],
             [
              0.1111111111111111,
              "#46039f"
             ],
             [
              0.2222222222222222,
              "#7201a8"
             ],
             [
              0.3333333333333333,
              "#9c179e"
             ],
             [
              0.4444444444444444,
              "#bd3786"
             ],
             [
              0.5555555555555556,
              "#d8576b"
             ],
             [
              0.6666666666666666,
              "#ed7953"
             ],
             [
              0.7777777777777778,
              "#fb9f3a"
             ],
             [
              0.8888888888888888,
              "#fdca26"
             ],
             [
              1,
              "#f0f921"
             ]
            ],
            "type": "surface"
           }
          ],
          "table": [
           {
            "cells": {
             "fill": {
              "color": "#EBF0F8"
             },
             "line": {
              "color": "white"
             }
            },
            "header": {
             "fill": {
              "color": "#C8D4E3"
             },
             "line": {
              "color": "white"
             }
            },
            "type": "table"
           }
          ]
         },
         "layout": {
          "annotationdefaults": {
           "arrowcolor": "#2a3f5f",
           "arrowhead": 0,
           "arrowwidth": 1
          },
          "autotypenumbers": "strict",
          "coloraxis": {
           "colorbar": {
            "outlinewidth": 0,
            "ticks": ""
           }
          },
          "colorscale": {
           "diverging": [
            [
             0,
             "#8e0152"
            ],
            [
             0.1,
             "#c51b7d"
            ],
            [
             0.2,
             "#de77ae"
            ],
            [
             0.3,
             "#f1b6da"
            ],
            [
             0.4,
             "#fde0ef"
            ],
            [
             0.5,
             "#f7f7f7"
            ],
            [
             0.6,
             "#e6f5d0"
            ],
            [
             0.7,
             "#b8e186"
            ],
            [
             0.8,
             "#7fbc41"
            ],
            [
             0.9,
             "#4d9221"
            ],
            [
             1,
             "#276419"
            ]
           ],
           "sequential": [
            [
             0,
             "#0d0887"
            ],
            [
             0.1111111111111111,
             "#46039f"
            ],
            [
             0.2222222222222222,
             "#7201a8"
            ],
            [
             0.3333333333333333,
             "#9c179e"
            ],
            [
             0.4444444444444444,
             "#bd3786"
            ],
            [
             0.5555555555555556,
             "#d8576b"
            ],
            [
             0.6666666666666666,
             "#ed7953"
            ],
            [
             0.7777777777777778,
             "#fb9f3a"
            ],
            [
             0.8888888888888888,
             "#fdca26"
            ],
            [
             1,
             "#f0f921"
            ]
           ],
           "sequentialminus": [
            [
             0,
             "#0d0887"
            ],
            [
             0.1111111111111111,
             "#46039f"
            ],
            [
             0.2222222222222222,
             "#7201a8"
            ],
            [
             0.3333333333333333,
             "#9c179e"
            ],
            [
             0.4444444444444444,
             "#bd3786"
            ],
            [
             0.5555555555555556,
             "#d8576b"
            ],
            [
             0.6666666666666666,
             "#ed7953"
            ],
            [
             0.7777777777777778,
             "#fb9f3a"
            ],
            [
             0.8888888888888888,
             "#fdca26"
            ],
            [
             1,
             "#f0f921"
            ]
           ]
          },
          "colorway": [
           "#636efa",
           "#EF553B",
           "#00cc96",
           "#ab63fa",
           "#FFA15A",
           "#19d3f3",
           "#FF6692",
           "#B6E880",
           "#FF97FF",
           "#FECB52"
          ],
          "font": {
           "color": "#2a3f5f"
          },
          "geo": {
           "bgcolor": "white",
           "lakecolor": "white",
           "landcolor": "#E5ECF6",
           "showlakes": true,
           "showland": true,
           "subunitcolor": "white"
          },
          "hoverlabel": {
           "align": "left"
          },
          "hovermode": "closest",
          "mapbox": {
           "style": "light"
          },
          "paper_bgcolor": "white",
          "plot_bgcolor": "#E5ECF6",
          "polar": {
           "angularaxis": {
            "gridcolor": "white",
            "linecolor": "white",
            "ticks": ""
           },
           "bgcolor": "#E5ECF6",
           "radialaxis": {
            "gridcolor": "white",
            "linecolor": "white",
            "ticks": ""
           }
          },
          "scene": {
           "xaxis": {
            "backgroundcolor": "#E5ECF6",
            "gridcolor": "white",
            "gridwidth": 2,
            "linecolor": "white",
            "showbackground": true,
            "ticks": "",
            "zerolinecolor": "white"
           },
           "yaxis": {
            "backgroundcolor": "#E5ECF6",
            "gridcolor": "white",
            "gridwidth": 2,
            "linecolor": "white",
            "showbackground": true,
            "ticks": "",
            "zerolinecolor": "white"
           },
           "zaxis": {
            "backgroundcolor": "#E5ECF6",
            "gridcolor": "white",
            "gridwidth": 2,
            "linecolor": "white",
            "showbackground": true,
            "ticks": "",
            "zerolinecolor": "white"
           }
          },
          "shapedefaults": {
           "line": {
            "color": "#2a3f5f"
           }
          },
          "ternary": {
           "aaxis": {
            "gridcolor": "white",
            "linecolor": "white",
            "ticks": ""
           },
           "baxis": {
            "gridcolor": "white",
            "linecolor": "white",
            "ticks": ""
           },
           "bgcolor": "#E5ECF6",
           "caxis": {
            "gridcolor": "white",
            "linecolor": "white",
            "ticks": ""
           }
          },
          "title": {
           "x": 0.05
          },
          "xaxis": {
           "automargin": true,
           "gridcolor": "white",
           "linecolor": "white",
           "ticks": "",
           "title": {
            "standoff": 15
           },
           "zerolinecolor": "white",
           "zerolinewidth": 2
          },
          "yaxis": {
           "automargin": true,
           "gridcolor": "white",
           "linecolor": "white",
           "ticks": "",
           "title": {
            "standoff": 15
           },
           "zerolinecolor": "white",
           "zerolinewidth": 2
          }
         }
        },
        "title": {
         "text": "<b>Effect Sizes for Significant Changes</b><br><sub>Larger effects = more meaningful changes</sub>"
        },
        "xaxis": {
         "title": {
          "text": "Variable"
         }
        },
        "yaxis": {
         "title": {
          "text": "Percentage Change (%)"
         }
        }
       }
      }
     },
     "metadata": {},
     "output_type": "display_data"
    },
    {
     "name": "stdout",
     "output_type": "stream",
     "text": [
      "\n",
      "📋 DETAILED RESULTS TABLE:\n",
      "============================================================\n",
      "\n",
      "Student Engagement:\n",
      "  ✅ test_completion_rate: ↑ 46.4% (p=0.0000)\n",
      "  ✅ avg_success_rate_per_test: ↑ 72.7% (p=0.0000)\n",
      "\n",
      "Academic Performance:\n",
      "  ✅ final_grade: ↑ 30.1% (p=0.0434)\n",
      "  ✅ fc_total_points: ↑ 139.9% (p=0.0000)\n",
      "  ✅ percentage_points: ↑ 139.9% (p=0.0000)\n",
      "\n",
      "Assessment Components:\n",
      "  ❌ presentation_points: ↓ 6.3% (p=0.4438)\n",
      "  ✅ defense_points: ↓ 9.4% (p=0.0148)\n",
      "  ❌ exam_k2: ↑ 13.4% (p=0.3134)\n",
      "  ✅ exam_k3: ↑ 15.3% (p=0.0350)\n",
      "\n",
      "🎯 KEY FINDINGS:\n",
      "============================================================\n",
      "\n",
      "✅ Variables showing SIGNIFICANT changes over years:\n",
      "  • How many tests students attempted: improved by 46.4%\n",
      "  • Average score on attempted tests: improved by 72.7%\n",
      "  • Final course grade (1-5 scale): improved by 30.1%\n",
      "  • Total points earned (0-100 scale): improved by 139.9%\n",
      "  • Percentage of maximum points: improved by 139.9%\n",
      "  • Defense score (max 30): decreased by 9.4%\n",
      "  • Final exam score (max 25): improved by 15.3%\n",
      "\n",
      "🏆 Biggest improvement: Total points earned (0-100 scale) (+139.9%)\n",
      "\n",
      "⚠️ Areas of concern (significant decreases):\n",
      "  • Defense score (max 30): decreased by 9.4%\n",
      "\n",
      "📈 Variables showing trends (>10% change) but NOT statistically significant:\n",
      "   (These might become significant with more data)\n",
      "  • Midterm exam score (max 25): increased by 13.4% (p=0.313)\n",
      "\n",
      "============================================================\n",
      "💡 LAYMAN'S INTERPRETATION:\n",
      "============================================================\n",
      "\n",
      "Out of 9 variables analyzed:\n",
      "• 7 (78%) showed statistically significant changes\n",
      "• 2 (22%) showed no significant changes\n",
      "\n",
      "What does this mean?\n",
      "→ Variables with ✅ show REAL changes that are unlikely due to chance\n",
      "→ Variables with ❌ might have changed, but we can't be sure it's not random\n",
      "→ Green areas in plots = confident the change is real\n",
      "→ Gray/Red areas in plots = changes might be coincidental\n",
      "\n",
      "Bottom line: The Flipped Classroom implementation shows measurable impact \n",
      "on student performance metrics over the three-year period.\n",
      "        \n"
     ]
    }
   ],
   "source": [
    "# Create summary dashboard\n",
    "def create_summary_dashboard(df, all_results, key_variables):\n",
    "    \"\"\"Create a comprehensive summary of all statistical findings\"\"\"\n",
    "    \n",
    "    print(\"\\n\" + \"=\"*80)\n",
    "    print(\"📊 COMPREHENSIVE SUMMARY OF YEAR-WISE CHANGES (2021-2023)\")\n",
    "    print(\"=\"*80)\n",
    "    \n",
    "    # Collect summary data\n",
    "    summary_data = []\n",
    "    \n",
    "    for category, variables in key_variables.items():\n",
    "        for var_name, description in variables:\n",
    "            if var_name in df.columns and var_name in all_results:\n",
    "                anova_p = all_results[var_name]['anova']['p_value']\n",
    "                kw_p = all_results[var_name]['kruskal']['p_value']\n",
    "                \n",
    "                # Calculate overall change\n",
    "                years = sorted(df['academic_year'].unique())\n",
    "                first_year_mean = df[df['academic_year'] == years[0]][var_name].mean()\n",
    "                last_year_mean = df[df['academic_year'] == years[-1]][var_name].mean()\n",
    "                overall_change = last_year_mean - first_year_mean\n",
    "                pct_change = (overall_change / first_year_mean * 100) if first_year_mean != 0 else 0\n",
    "                \n",
    "                summary_data.append({\n",
    "                    'Category': category,\n",
    "                    'Variable': var_name,\n",
    "                    'Description': description,\n",
    "                    'ANOVA p': anova_p,\n",
    "                    'K-W p': kw_p,\n",
    "                    'Significant': 'Yes' if min(anova_p, kw_p) < 0.05 else 'No',\n",
    "                    f'{years[0]} Mean': first_year_mean,\n",
    "                    f'{years[-1]} Mean': last_year_mean,\n",
    "                    'Change': overall_change,\n",
    "                    '% Change': pct_change\n",
    "                })\n",
    "    \n",
    "    if summary_data:\n",
    "        summary_df = pd.DataFrame(summary_data)\n",
    "        \n",
    "        # Create individual plots (not subplots to avoid the error)\n",
    "        \n",
    "        # 1. Pie chart of significant vs non-significant\n",
    "        sig_counts = summary_df['Significant'].value_counts()\n",
    "        \n",
    "        fig_pie = go.Figure(data=[\n",
    "            go.Pie(\n",
    "                labels=['Significant Changes', 'Non-Significant Changes'],\n",
    "                values=[sig_counts.get('Yes', 0), sig_counts.get('No', 0)],\n",
    "                marker_colors=['#2ECC71', '#95A5A6'],\n",
    "                textinfo='label+percent',\n",
    "                hole=0.3,  # Make it a donut chart for better visibility\n",
    "                hovertemplate='<b>%{label}</b><br>Count: %{value}<br>Percentage: %{percent}<extra></extra>'\n",
    "            )\n",
    "        ])\n",
    "        \n",
    "        fig_pie.update_layout(\n",
    "            title=\"<b>Statistical Significance Overview</b><br><sub>How many variables showed real changes?</sub>\",\n",
    "            height=400,\n",
    "            font=dict(size=12)\n",
    "        )\n",
    "        \n",
    "        fig_pie.show()\n",
    "        \n",
    "        # 2. Bar chart of percentage changes\n",
    "        # Sort by absolute percentage change for better visibility\n",
    "        summary_df_sorted = summary_df.sort_values('% Change', key=abs, ascending=True)\n",
    "        \n",
    "        fig_bar = go.Figure(data=[\n",
    "            go.Bar(\n",
    "                x=summary_df_sorted['% Change'],\n",
    "                y=summary_df_sorted['Variable'],\n",
    "                orientation='h',\n",
    "                marker_color=['#2ECC71' if sig == 'Yes' else '#95A5A6' \n",
    "                             for sig in summary_df_sorted['Significant']],\n",
    "                text=[f\"{pct:.1f}%\" for pct in summary_df_sorted['% Change']],\n",
    "                textposition='outside',\n",
    "                hovertemplate='<b>%{y}</b><br>Change: %{x:.2f}%<extra></extra>'\n",
    "            )\n",
    "        ])\n",
    "        \n",
    "        fig_bar.update_layout(\n",
    "            title=\"<b>Magnitude of Changes (2021 → 2023)</b><br><sub>Green = Statistically Significant | Gray = Not Significant</sub>\",\n",
    "            xaxis_title=\"Percentage Change (%)\",\n",
    "            yaxis_title=\"\",\n",
    "            height=400,\n",
    "            showlegend=False,\n",
    "            font=dict(size=11),\n",
    "            xaxis=dict(zeroline=True, zerolinewidth=2, zerolinecolor='black')\n",
    "        )\n",
    "        \n",
    "        fig_bar.show()\n",
    "        \n",
    "        # 3. Scatter plot of p-values with significance zones\n",
    "        fig_scatter = go.Figure()\n",
    "        \n",
    "        # Add significance threshold zones\n",
    "        fig_scatter.add_shape(\n",
    "            type=\"rect\",\n",
    "            x0=0, y0=0, x1=0.05, y1=0.05,\n",
    "            fillcolor=\"lightgreen\",\n",
    "            opacity=0.2,\n",
    "            layer=\"below\",\n",
    "            line_width=0\n",
    "        )\n",
    "        \n",
    "        fig_scatter.add_shape(\n",
    "            type=\"rect\",\n",
    "            x0=0.05, y0=0, x1=1, y1=0.05,\n",
    "            fillcolor=\"lightyellow\",\n",
    "            opacity=0.2,\n",
    "            layer=\"below\",\n",
    "            line_width=0\n",
    "        )\n",
    "        \n",
    "        fig_scatter.add_shape(\n",
    "            type=\"rect\",\n",
    "            x0=0, y0=0.05, x1=0.05, y1=1,\n",
    "            fillcolor=\"lightyellow\",\n",
    "            opacity=0.2,\n",
    "            layer=\"below\",\n",
    "            line_width=0\n",
    "        )\n",
    "        \n",
    "        fig_scatter.add_shape(\n",
    "            type=\"rect\",\n",
    "            x0=0.05, y0=0.05, x1=1, y1=1,\n",
    "            fillcolor=\"lightcoral\",\n",
    "            opacity=0.2,\n",
    "            layer=\"below\",\n",
    "            line_width=0\n",
    "        )\n",
    "        \n",
    "        # Add the data points\n",
    "        fig_scatter.add_trace(go.Scatter(\n",
    "            x=summary_df['ANOVA p'],\n",
    "            y=summary_df['K-W p'],\n",
    "            mode='markers+text',\n",
    "            marker=dict(\n",
    "                size=12,\n",
    "                color=['#2ECC71' if sig == 'Yes' else '#E74C3C' \n",
    "                      for sig in summary_df['Significant']],\n",
    "                line=dict(color='white', width=1)\n",
    "            ),\n",
    "            text=summary_df['Variable'],\n",
    "            textposition='top center',\n",
    "            textfont=dict(size=10),\n",
    "            hovertemplate='<b>%{text}</b><br>ANOVA p: %{x:.4f}<br>Kruskal-Wallis p: %{y:.4f}<extra></extra>'\n",
    "        ))\n",
    "        \n",
    "        # Add reference lines\n",
    "        fig_scatter.add_shape(\n",
    "            type=\"line\",\n",
    "            x0=0.05, y0=0, x1=0.05, y1=1,\n",
    "            line=dict(color=\"red\", width=2, dash=\"dash\")\n",
    "        )\n",
    "        \n",
    "        fig_scatter.add_shape(\n",
    "            type=\"line\",\n",
    "            x0=0, y0=0.05, x1=1, y1=0.05,\n",
    "            line=dict(color=\"red\", width=2, dash=\"dash\")\n",
    "        )\n",
    "        \n",
    "        # Add annotations for zones\n",
    "        fig_scatter.add_annotation(\n",
    "            x=0.025, y=0.025,\n",
    "            text=\"Both Tests<br>Significant\",\n",
    "            showarrow=False,\n",
    "            font=dict(color=\"darkgreen\", size=10),\n",
    "            bgcolor=\"white\",\n",
    "            opacity=0.8\n",
    "        )\n",
    "        \n",
    "        fig_scatter.add_annotation(\n",
    "            x=0.5, y=0.5,\n",
    "            text=\"Neither Test<br>Significant\",\n",
    "            showarrow=False,\n",
    "            font=dict(color=\"darkred\", size=10),\n",
    "            bgcolor=\"white\",\n",
    "            opacity=0.8\n",
    "        )\n",
    "        \n",
    "        fig_scatter.update_layout(\n",
    "            title=\"<b>Statistical Test P-values</b><br><sub>Points in green zone = significant changes detected</sub>\",\n",
    "            xaxis_title=\"ANOVA p-value\",\n",
    "            yaxis_title=\"Kruskal-Wallis p-value\",\n",
    "            height=500,\n",
    "            showlegend=False,\n",
    "            xaxis=dict(range=[0, 1], dtick=0.1),\n",
    "            yaxis=dict(range=[0, 1], dtick=0.1),\n",
    "            font=dict(size=11)\n",
    "        )\n",
    "        \n",
    "        fig_scatter.show()\n",
    "        \n",
    "        # 4. Effect size visualization\n",
    "        # Calculate effect sizes\n",
    "        effect_sizes = []\n",
    "        for _, row in summary_df.iterrows():\n",
    "            if row['Significant'] == 'Yes':\n",
    "                # Simple effect size calculation based on percentage change\n",
    "                if abs(row['% Change']) < 5:\n",
    "                    effect = 'Small'\n",
    "                elif abs(row['% Change']) < 15:\n",
    "                    effect = 'Medium'\n",
    "                else:\n",
    "                    effect = 'Large'\n",
    "                effect_sizes.append({\n",
    "                    'Variable': row['Variable'],\n",
    "                    'Effect': effect,\n",
    "                    'Change': row['% Change']\n",
    "                })\n",
    "        \n",
    "        if effect_sizes:\n",
    "            effect_df = pd.DataFrame(effect_sizes)\n",
    "            \n",
    "            # Create effect size chart\n",
    "            fig_effect = go.Figure()\n",
    "            \n",
    "            for effect_type in ['Small', 'Medium', 'Large']:\n",
    "                effect_data = effect_df[effect_df['Effect'] == effect_type]\n",
    "                if len(effect_data) > 0:\n",
    "                    color_map = {'Small': '#FFA500', 'Medium': '#FF6B6B', 'Large': '#FF0000'}\n",
    "                    fig_effect.add_trace(go.Bar(\n",
    "                        x=effect_data['Variable'],\n",
    "                        y=effect_data['Change'],\n",
    "                        name=f'{effect_type} Effect',\n",
    "                        marker_color=color_map[effect_type],\n",
    "                        hovertemplate='<b>%{x}</b><br>Change: %{y:.1f}%<br>Effect: ' + effect_type + '<extra></extra>'\n",
    "                    ))\n",
    "            \n",
    "            fig_effect.update_layout(\n",
    "                title=\"<b>Effect Sizes for Significant Changes</b><br><sub>Larger effects = more meaningful changes</sub>\",\n",
    "                xaxis_title=\"Variable\",\n",
    "                yaxis_title=\"Percentage Change (%)\",\n",
    "                barmode='group',\n",
    "                height=400,\n",
    "                showlegend=True,\n",
    "                font=dict(size=11)\n",
    "            )\n",
    "            \n",
    "            fig_effect.show()\n",
    "        \n",
    "        # Print detailed summary\n",
    "        print(\"\\n📋 DETAILED RESULTS TABLE:\")\n",
    "        print(\"=\"*60)\n",
    "        \n",
    "        for category in summary_df['Category'].unique():\n",
    "            cat_data = summary_df[summary_df['Category'] == category]\n",
    "            print(f\"\\n{category}:\")\n",
    "            for _, row in cat_data.iterrows():\n",
    "                sig_symbol = \"✅\" if row['Significant'] == 'Yes' else \"❌\"\n",
    "                direction = \"↑\" if row['Change'] > 0 else \"↓\"\n",
    "                print(f\"  {sig_symbol} {row['Variable']}: {direction} {abs(row['% Change']):.1f}% (p={min(row['ANOVA p'], row['K-W p']):.4f})\")\n",
    "        \n",
    "        # Key findings\n",
    "        print(\"\\n🎯 KEY FINDINGS:\")\n",
    "        print(\"=\"*60)\n",
    "        \n",
    "        significant_vars = summary_df[summary_df['Significant'] == 'Yes']\n",
    "        \n",
    "        if len(significant_vars) > 0:\n",
    "            print(f\"\\n✅ Variables showing SIGNIFICANT changes over years:\")\n",
    "            for _, row in significant_vars.iterrows():\n",
    "                direction = \"improved\" if row['Change'] > 0 else \"decreased\"\n",
    "                print(f\"  • {row['Description']}: {direction} by {abs(row['% Change']):.1f}%\")\n",
    "            \n",
    "            # Find the biggest improvements\n",
    "            if len(significant_vars[significant_vars['Change'] > 0]) > 0:\n",
    "                biggest_improvement = significant_vars[significant_vars['Change'] > 0].nlargest(1, '% Change').iloc[0]\n",
    "                print(f\"\\n🏆 Biggest improvement: {biggest_improvement['Description']} (+{biggest_improvement['% Change']:.1f}%)\")\n",
    "            \n",
    "            # Find any concerning decreases\n",
    "            decreases = significant_vars[significant_vars['Change'] < 0]\n",
    "            if len(decreases) > 0:\n",
    "                print(f\"\\n⚠️ Areas of concern (significant decreases):\")\n",
    "                for _, row in decreases.iterrows():\n",
    "                    print(f\"  • {row['Description']}: decreased by {abs(row['% Change']):.1f}%\")\n",
    "        else:\n",
    "            print(\"\\n❌ No variables showed statistically significant changes over the years.\")\n",
    "            print(\"   This suggests that performance has remained relatively stable.\")\n",
    "        \n",
    "        # Non-significant but trending\n",
    "        non_sig = summary_df[summary_df['Significant'] == 'No']\n",
    "        trending = non_sig[abs(non_sig['% Change']) > 10]  # More than 10% change but not significant\n",
    "        \n",
    "        if len(trending) > 0:\n",
    "            print(f\"\\n📈 Variables showing trends (>10% change) but NOT statistically significant:\")\n",
    "            print(\"   (These might become significant with more data)\")\n",
    "            for _, row in trending.iterrows():\n",
    "                direction = \"increased\" if row['Change'] > 0 else \"decreased\"\n",
    "                print(f\"  • {row['Description']}: {direction} by {abs(row['% Change']):.1f}% (p={min(row['ANOVA p'], row['K-W p']):.3f})\")\n",
    "        \n",
    "        # Create a summary interpretation box\n",
    "        print(\"\\n\" + \"=\"*60)\n",
    "        print(\"💡 LAYMAN'S INTERPRETATION:\")\n",
    "        print(\"=\"*60)\n",
    "        \n",
    "        total_vars = len(summary_df)\n",
    "        sig_count = len(significant_vars)\n",
    "        sig_pct = (sig_count / total_vars * 100) if total_vars > 0 else 0\n",
    "        \n",
    "        print(f\"\"\"\n",
    "Out of {total_vars} variables analyzed:\n",
    "• {sig_count} ({sig_pct:.0f}%) showed statistically significant changes\n",
    "• {total_vars - sig_count} ({100-sig_pct:.0f}%) showed no significant changes\n",
    "\n",
    "What does this mean?\n",
    "→ Variables with ✅ show REAL changes that are unlikely due to chance\n",
    "→ Variables with ❌ might have changed, but we can't be sure it's not random\n",
    "→ Green areas in plots = confident the change is real\n",
    "→ Gray/Red areas in plots = changes might be coincidental\n",
    "\n",
    "Bottom line: The Flipped Classroom implementation shows {\"measurable impact\" if sig_count > total_vars/3 else \"limited measurable impact\"} \n",
    "on student performance metrics over the three-year period.\n",
    "        \"\"\")\n",
    "\n",
    "# Create the summary dashboard\n",
    "create_summary_dashboard(df, all_results, key_variables)"
   ]
  },
  {
   "cell_type": "markdown",
   "metadata": {},
   "source": [
    "## 7. Conclusions and Recommendations\n",
    "\n",
    "### 🎯 What We've Learned:\n",
    "\n",
    "Based on our statistical analysis of student performance data from 2021-2023, we can draw evidence-based conclusions about the effectiveness of the Flipped Classroom methodology.\n",
    "\n",
    "### 📊 Statistical Evidence Interpretation:\n",
    "\n",
    "1. **Significant Changes (p < 0.05)**: These are real improvements/changes, not random chance\n",
    "2. **Non-significant Changes (p ≥ 0.05)**: Could be random variation or need more data\n",
    "3. **Effect Sizes**: Tell us if changes are practically meaningful, not just statistically detectable\n",
    "\n",
    "### 💡 Recommendations:\n",
    "\n",
    "1. **Continue monitoring** variables showing positive trends\n",
    "2. **Investigate** any areas showing significant decreases\n",
    "3. **Collect more data** for variables showing trends but not significance\n",
    "4. **Focus interventions** on areas with largest effect sizes"
   ]
  },
  {
   "cell_type": "code",
   "execution_count": 9,
   "metadata": {},
   "outputs": [
    {
     "name": "stdout",
     "output_type": "stream",
     "text": [
      "\n",
      "================================================================================\n",
      "📚 HOW TO INTERPRET THESE RESULTS\n",
      "================================================================================\n",
      "\n",
      "🎯 Quick Reference Guide:\n",
      "\n",
      "1. P-VALUES:\n",
      "   • p < 0.001: Extremely strong evidence (99.9% confident)\n",
      "   • p < 0.01:  Very strong evidence (99% confident)\n",
      "   • p < 0.05:  Strong evidence (95% confident) ← Standard threshold\n",
      "   • p ≥ 0.05:  Insufficient evidence (need more data or no real difference)\n",
      "\n",
      "2. EFFECT SIZES (Cohen's d):\n",
      "   • d < 0.2:  Negligible (too small to matter)\n",
      "   • d = 0.2-0.5: Small (noticeable but modest)\n",
      "   • d = 0.5-0.8: Medium (clear practical importance)\n",
      "   • d > 0.8:  Large (substantial impact)\n",
      "\n",
      "3. PERCENTAGE CHANGES:\n",
      "   • < 5%:   Minor change\n",
      "   • 5-10%:  Moderate change\n",
      "   • 10-20%: Substantial change\n",
      "   • > 20%:  Major change\n",
      "\n",
      "4. WHAT MAKES A FINDING \"ACTIONABLE\":\n",
      "   ✅ Statistically significant (p < 0.05)\n",
      "   ✅ Meaningful effect size (d > 0.2)\n",
      "   ✅ Consistent direction across multiple measures\n",
      "   ✅ Aligns with educational goals\n",
      "\n",
      "5. LIMITATIONS TO REMEMBER:\n",
      "   ⚠️ Statistical significance ≠ practical importance\n",
      "   ⚠️ Correlation ≠ causation\n",
      "   ⚠️ Small sample sizes reduce statistical power\n",
      "   ⚠️ Multiple comparisons increase false positive risk\n",
      "\n"
     ]
    }
   ],
   "source": [
    "# Final interpretation helper\n",
    "print(\"\\n\" + \"=\"*80)\n",
    "print(\"📚 HOW TO INTERPRET THESE RESULTS\")\n",
    "print(\"=\"*80)\n",
    "\n",
    "print(\"\"\"\n",
    "🎯 Quick Reference Guide:\n",
    "\n",
    "1. P-VALUES:\n",
    "   • p < 0.001: Extremely strong evidence (99.9% confident)\n",
    "   • p < 0.01:  Very strong evidence (99% confident)\n",
    "   • p < 0.05:  Strong evidence (95% confident) ← Standard threshold\n",
    "   • p ≥ 0.05:  Insufficient evidence (need more data or no real difference)\n",
    "\n",
    "2. EFFECT SIZES (Cohen's d):\n",
    "   • d < 0.2:  Negligible (too small to matter)\n",
    "   • d = 0.2-0.5: Small (noticeable but modest)\n",
    "   • d = 0.5-0.8: Medium (clear practical importance)\n",
    "   • d > 0.8:  Large (substantial impact)\n",
    "\n",
    "3. PERCENTAGE CHANGES:\n",
    "   • < 5%:   Minor change\n",
    "   • 5-10%:  Moderate change\n",
    "   • 10-20%: Substantial change\n",
    "   • > 20%:  Major change\n",
    "\n",
    "4. WHAT MAKES A FINDING \"ACTIONABLE\":\n",
    "   ✅ Statistically significant (p < 0.05)\n",
    "   ✅ Meaningful effect size (d > 0.2)\n",
    "   ✅ Consistent direction across multiple measures\n",
    "   ✅ Aligns with educational goals\n",
    "\n",
    "5. LIMITATIONS TO REMEMBER:\n",
    "   ⚠️ Statistical significance ≠ practical importance\n",
    "   ⚠️ Correlation ≠ causation\n",
    "   ⚠️ Small sample sizes reduce statistical power\n",
    "   ⚠️ Multiple comparisons increase false positive risk\n",
    "\"\"\")\n"
   ]
  },
  {
   "cell_type": "code",
   "execution_count": null,
   "metadata": {},
   "outputs": [],
   "source": []
  }
 ],
 "metadata": {
  "kernelspec": {
   "display_name": "Python 3 (ipykernel)",
   "language": "python",
   "name": "python3"
  },
  "language_info": {
   "codemirror_mode": {
    "name": "ipython",
    "version": 3
   },
   "file_extension": ".py",
   "mimetype": "text/x-python",
   "name": "python",
   "nbconvert_exporter": "python",
   "pygments_lexer": "ipython3",
   "version": "3.12.3"
  }
 },
 "nbformat": 4,
 "nbformat_minor": 4
}
